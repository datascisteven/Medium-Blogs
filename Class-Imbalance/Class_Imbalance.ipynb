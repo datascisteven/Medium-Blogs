{
 "metadata": {
  "language_info": {
   "codemirror_mode": {
    "name": "ipython",
    "version": 3
   },
   "file_extension": ".py",
   "mimetype": "text/x-python",
   "name": "python",
   "nbconvert_exporter": "python",
   "pygments_lexer": "ipython3",
   "version": "3.9.2"
  },
  "orig_nbformat": 2,
  "kernelspec": {
   "name": "python3",
   "display_name": "Python 3.9.2 64-bit ('learn-env': conda)"
  },
  "interpreter": {
   "hash": "80773cdecc613a186b9eac051636553d2ff0f99c57590601666ed713bd5d0256"
  }
 },
 "nbformat": 4,
 "nbformat_minor": 2,
 "cells": [
  {
   "source": [
    "# Importing Packages"
   ],
   "cell_type": "markdown",
   "metadata": {}
  },
  {
   "cell_type": "code",
   "execution_count": 10,
   "metadata": {},
   "outputs": [
    {
     "output_type": "stream",
     "name": "stderr",
     "text": [
      "2021-06-29 14:31:53,074:DEBUG:Loaded backend module://ipykernel.pylab.backend_inline version unknown.\n"
     ]
    }
   ],
   "source": [
    "import numpy as np \n",
    "import pandas as pd\n",
    "from matplotlib import pyplot as plt\n",
    "%matplotlib inline\n",
    "plt.style.use('seaborn')\n",
    "import seaborn as sns\n",
    "import warnings\n",
    "warnings.filterwarnings('ignore')\n",
    "from collections import Counter\n",
    "\n",
    "import smote_variants as sv\n",
    "import imbalanced_databases as imbd\n",
    "import xgboost as xgb\n",
    "from xgboost.sklearn import XGBClassifier\n",
    "from sklearn.linear_model import LogisticRegression\n",
    "from sklearn.tree import DecisionTreeClassifier\n",
    "from sklearn.experimental import enable_hist_gradient_boosting\n",
    "from sklearn.ensemble import AdaBoostClassifier, GradientBoostingClassifier, RandomForestClassifier, BaggingClassifier, HistGradientBoostingClassifier\n",
    "from sklearn.model_selection import train_test_split, GridSearchCV\n",
    "from sklearn.metrics import accuracy_score, confusion_matrix, precision_score, recall_score, f1_score, roc_auc_score, plot_confusion_matrix\n",
    "from sklearn.preprocessing import StandardScaler\n",
    "from sklearn.dummy import DummyClassifier\n",
    "\n",
    "from imblearn.under_sampling import CondensedNearestNeighbour, NearMiss, OneSidedSelection, NeighbourhoodCleaningRule, TomekLinks, EditedNearestNeighbours\n",
    "from imblearn.combine import SMOTETomek, SMOTEENN\n",
    "from imblearn.over_sampling import SMOTE, ADASYN, SVMSMOTE, KMeansSMOTE\n",
    "from imblearn.ensemble import BalancedBaggingClassifier, BalancedRandomForestClassifier, EasyEnsembleClassifier, RUSBoostClassifier\n",
    "\n",
    "%reload_ext autoreload\n",
    "%autoreload 2\n",
    "from utils import *\n"
   ]
  },
  {
   "source": [
    "# Importing Datasets"
   ],
   "cell_type": "markdown",
   "metadata": {}
  },
  {
   "cell_type": "code",
   "execution_count": 2,
   "metadata": {},
   "outputs": [
    {
     "output_type": "execute_result",
     "data": {
      "text/plain": [
       "0 LIMIT_BAL SEX EDUCATION MARRIAGE AGE PAY_0 PAY_2 PAY_3 PAY_4 PAY_5  ...  \\\n",
       "1     20000   2         2        1  24     2     2    -1    -1    -2  ...   \n",
       "2    120000   2         2        2  26    -1     2     0     0     0  ...   \n",
       "3     90000   2         2        2  34     0     0     0     0     0  ...   \n",
       "4     50000   2         2        1  37     0     0     0     0     0  ...   \n",
       "5     50000   1         2        1  57    -1     0    -1     0     0  ...   \n",
       "\n",
       "0 BILL_AMT4 BILL_AMT5 BILL_AMT6 PAY_AMT1 PAY_AMT2 PAY_AMT3 PAY_AMT4 PAY_AMT5  \\\n",
       "1         0         0         0        0      689        0        0        0   \n",
       "2      3272      3455      3261        0     1000     1000     1000        0   \n",
       "3     14331     14948     15549     1518     1500     1000     1000     1000   \n",
       "4     28314     28959     29547     2000     2019     1200     1100     1069   \n",
       "5     20940     19146     19131     2000    36681    10000     9000      689   \n",
       "\n",
       "0 PAY_AMT6 default  \n",
       "1        0       1  \n",
       "2     2000       1  \n",
       "3     5000       0  \n",
       "4     1000       0  \n",
       "5      679       0  \n",
       "\n",
       "[5 rows x 24 columns]"
      ],
      "text/html": "<div>\n<style scoped>\n    .dataframe tbody tr th:only-of-type {\n        vertical-align: middle;\n    }\n\n    .dataframe tbody tr th {\n        vertical-align: top;\n    }\n\n    .dataframe thead th {\n        text-align: right;\n    }\n</style>\n<table border=\"1\" class=\"dataframe\">\n  <thead>\n    <tr style=\"text-align: right;\">\n      <th></th>\n      <th>LIMIT_BAL</th>\n      <th>SEX</th>\n      <th>EDUCATION</th>\n      <th>MARRIAGE</th>\n      <th>AGE</th>\n      <th>PAY_0</th>\n      <th>PAY_2</th>\n      <th>PAY_3</th>\n      <th>PAY_4</th>\n      <th>PAY_5</th>\n      <th>...</th>\n      <th>BILL_AMT4</th>\n      <th>BILL_AMT5</th>\n      <th>BILL_AMT6</th>\n      <th>PAY_AMT1</th>\n      <th>PAY_AMT2</th>\n      <th>PAY_AMT3</th>\n      <th>PAY_AMT4</th>\n      <th>PAY_AMT5</th>\n      <th>PAY_AMT6</th>\n      <th>default</th>\n    </tr>\n  </thead>\n  <tbody>\n    <tr>\n      <th>1</th>\n      <td>20000</td>\n      <td>2</td>\n      <td>2</td>\n      <td>1</td>\n      <td>24</td>\n      <td>2</td>\n      <td>2</td>\n      <td>-1</td>\n      <td>-1</td>\n      <td>-2</td>\n      <td>...</td>\n      <td>0</td>\n      <td>0</td>\n      <td>0</td>\n      <td>0</td>\n      <td>689</td>\n      <td>0</td>\n      <td>0</td>\n      <td>0</td>\n      <td>0</td>\n      <td>1</td>\n    </tr>\n    <tr>\n      <th>2</th>\n      <td>120000</td>\n      <td>2</td>\n      <td>2</td>\n      <td>2</td>\n      <td>26</td>\n      <td>-1</td>\n      <td>2</td>\n      <td>0</td>\n      <td>0</td>\n      <td>0</td>\n      <td>...</td>\n      <td>3272</td>\n      <td>3455</td>\n      <td>3261</td>\n      <td>0</td>\n      <td>1000</td>\n      <td>1000</td>\n      <td>1000</td>\n      <td>0</td>\n      <td>2000</td>\n      <td>1</td>\n    </tr>\n    <tr>\n      <th>3</th>\n      <td>90000</td>\n      <td>2</td>\n      <td>2</td>\n      <td>2</td>\n      <td>34</td>\n      <td>0</td>\n      <td>0</td>\n      <td>0</td>\n      <td>0</td>\n      <td>0</td>\n      <td>...</td>\n      <td>14331</td>\n      <td>14948</td>\n      <td>15549</td>\n      <td>1518</td>\n      <td>1500</td>\n      <td>1000</td>\n      <td>1000</td>\n      <td>1000</td>\n      <td>5000</td>\n      <td>0</td>\n    </tr>\n    <tr>\n      <th>4</th>\n      <td>50000</td>\n      <td>2</td>\n      <td>2</td>\n      <td>1</td>\n      <td>37</td>\n      <td>0</td>\n      <td>0</td>\n      <td>0</td>\n      <td>0</td>\n      <td>0</td>\n      <td>...</td>\n      <td>28314</td>\n      <td>28959</td>\n      <td>29547</td>\n      <td>2000</td>\n      <td>2019</td>\n      <td>1200</td>\n      <td>1100</td>\n      <td>1069</td>\n      <td>1000</td>\n      <td>0</td>\n    </tr>\n    <tr>\n      <th>5</th>\n      <td>50000</td>\n      <td>1</td>\n      <td>2</td>\n      <td>1</td>\n      <td>57</td>\n      <td>-1</td>\n      <td>0</td>\n      <td>-1</td>\n      <td>0</td>\n      <td>0</td>\n      <td>...</td>\n      <td>20940</td>\n      <td>19146</td>\n      <td>19131</td>\n      <td>2000</td>\n      <td>36681</td>\n      <td>10000</td>\n      <td>9000</td>\n      <td>689</td>\n      <td>679</td>\n      <td>0</td>\n    </tr>\n  </tbody>\n</table>\n<p>5 rows × 24 columns</p>\n</div>"
     },
     "metadata": {},
     "execution_count": 2
    }
   ],
   "source": [
    "df = pd.read_excel(\"data/default of credit card clients.xls\")\n",
    "new_header = df.iloc[0]\n",
    "df = df[1:] \n",
    "df.columns = new_header\n",
    "df = df.rename(columns={\"default payment next month\": \"default\"}) \n",
    "df = df.drop(columns=[\"ID\"], axis=1)\n",
    "df.head()"
   ]
  },
  {
   "cell_type": "code",
   "execution_count": 3,
   "metadata": {},
   "outputs": [],
   "source": [
    "df = df.rename(columns={\"PAY_0\": \"behind1\", \n",
    "                        \"PAY_2\": \"behind2\", \n",
    "                        \"PAY_3\": \"behind3\", \n",
    "                        \"PAY_4\": \"behind4\",\n",
    "                        \"PAY_5\": \"behind5\", \n",
    "                        \"PAY_6\": \"behind6\", \n",
    "                        \"BILL_AMT1\": \"billed1\", \n",
    "                        \"BILL_AMT2\": \"billed2\", \n",
    "                        \"BILL_AMT3\": \"billed3\", \n",
    "                        \"BILL_AMT4\": \"billed4\", \n",
    "                        \"BILL_AMT5\": \"billed5\", \n",
    "                        \"BILL_AMT6\": \"billed6\", \n",
    "                        \"PAY_AMT1\": \"paid1\", \n",
    "                        \"PAY_AMT2\": \"paid2\", \n",
    "                        \"PAY_AMT3\": \"paid3\", \n",
    "                        \"PAY_AMT4\": \"paid4\", \n",
    "                        \"PAY_AMT5\": \"paid5\", \n",
    "                        \"PAY_AMT6\": \"paid6\",\n",
    "                        \"SEX\": \"gender\",\n",
    "                        \"EDUCATION\": \"education\",\n",
    "                        \"MARRIAGE\": \"marriage\",\n",
    "                        \"AGE\": \"age\",\n",
    "                        \"LIMIT_BAL\": \"limit\"})"
   ]
  },
  {
   "cell_type": "code",
   "execution_count": 4,
   "metadata": {},
   "outputs": [
    {
     "output_type": "execute_result",
     "data": {
      "text/plain": [
       "0   limit gender education marriage age behind1 behind2 behind3 behind4  \\\n",
       "1   20000      2         2        1  24       2       2      -1      -1   \n",
       "2  120000      2         2        2  26      -1       2       0       0   \n",
       "3   90000      2         2        2  34       0       0       0       0   \n",
       "4   50000      2         2        1  37       0       0       0       0   \n",
       "5   50000      1         2        1  57      -1       0      -1       0   \n",
       "\n",
       "0 behind5  ... billed4 billed5 billed6 paid1  paid2  paid3 paid4 paid5 paid6  \\\n",
       "1      -2  ...       0       0       0     0    689      0     0     0     0   \n",
       "2       0  ...    3272    3455    3261     0   1000   1000  1000     0  2000   \n",
       "3       0  ...   14331   14948   15549  1518   1500   1000  1000  1000  5000   \n",
       "4       0  ...   28314   28959   29547  2000   2019   1200  1100  1069  1000   \n",
       "5       0  ...   20940   19146   19131  2000  36681  10000  9000   689   679   \n",
       "\n",
       "0 default  \n",
       "1       1  \n",
       "2       1  \n",
       "3       0  \n",
       "4       0  \n",
       "5       0  \n",
       "\n",
       "[5 rows x 24 columns]"
      ],
      "text/html": "<div>\n<style scoped>\n    .dataframe tbody tr th:only-of-type {\n        vertical-align: middle;\n    }\n\n    .dataframe tbody tr th {\n        vertical-align: top;\n    }\n\n    .dataframe thead th {\n        text-align: right;\n    }\n</style>\n<table border=\"1\" class=\"dataframe\">\n  <thead>\n    <tr style=\"text-align: right;\">\n      <th></th>\n      <th>limit</th>\n      <th>gender</th>\n      <th>education</th>\n      <th>marriage</th>\n      <th>age</th>\n      <th>behind1</th>\n      <th>behind2</th>\n      <th>behind3</th>\n      <th>behind4</th>\n      <th>behind5</th>\n      <th>...</th>\n      <th>billed4</th>\n      <th>billed5</th>\n      <th>billed6</th>\n      <th>paid1</th>\n      <th>paid2</th>\n      <th>paid3</th>\n      <th>paid4</th>\n      <th>paid5</th>\n      <th>paid6</th>\n      <th>default</th>\n    </tr>\n  </thead>\n  <tbody>\n    <tr>\n      <th>1</th>\n      <td>20000</td>\n      <td>2</td>\n      <td>2</td>\n      <td>1</td>\n      <td>24</td>\n      <td>2</td>\n      <td>2</td>\n      <td>-1</td>\n      <td>-1</td>\n      <td>-2</td>\n      <td>...</td>\n      <td>0</td>\n      <td>0</td>\n      <td>0</td>\n      <td>0</td>\n      <td>689</td>\n      <td>0</td>\n      <td>0</td>\n      <td>0</td>\n      <td>0</td>\n      <td>1</td>\n    </tr>\n    <tr>\n      <th>2</th>\n      <td>120000</td>\n      <td>2</td>\n      <td>2</td>\n      <td>2</td>\n      <td>26</td>\n      <td>-1</td>\n      <td>2</td>\n      <td>0</td>\n      <td>0</td>\n      <td>0</td>\n      <td>...</td>\n      <td>3272</td>\n      <td>3455</td>\n      <td>3261</td>\n      <td>0</td>\n      <td>1000</td>\n      <td>1000</td>\n      <td>1000</td>\n      <td>0</td>\n      <td>2000</td>\n      <td>1</td>\n    </tr>\n    <tr>\n      <th>3</th>\n      <td>90000</td>\n      <td>2</td>\n      <td>2</td>\n      <td>2</td>\n      <td>34</td>\n      <td>0</td>\n      <td>0</td>\n      <td>0</td>\n      <td>0</td>\n      <td>0</td>\n      <td>...</td>\n      <td>14331</td>\n      <td>14948</td>\n      <td>15549</td>\n      <td>1518</td>\n      <td>1500</td>\n      <td>1000</td>\n      <td>1000</td>\n      <td>1000</td>\n      <td>5000</td>\n      <td>0</td>\n    </tr>\n    <tr>\n      <th>4</th>\n      <td>50000</td>\n      <td>2</td>\n      <td>2</td>\n      <td>1</td>\n      <td>37</td>\n      <td>0</td>\n      <td>0</td>\n      <td>0</td>\n      <td>0</td>\n      <td>0</td>\n      <td>...</td>\n      <td>28314</td>\n      <td>28959</td>\n      <td>29547</td>\n      <td>2000</td>\n      <td>2019</td>\n      <td>1200</td>\n      <td>1100</td>\n      <td>1069</td>\n      <td>1000</td>\n      <td>0</td>\n    </tr>\n    <tr>\n      <th>5</th>\n      <td>50000</td>\n      <td>1</td>\n      <td>2</td>\n      <td>1</td>\n      <td>57</td>\n      <td>-1</td>\n      <td>0</td>\n      <td>-1</td>\n      <td>0</td>\n      <td>0</td>\n      <td>...</td>\n      <td>20940</td>\n      <td>19146</td>\n      <td>19131</td>\n      <td>2000</td>\n      <td>36681</td>\n      <td>10000</td>\n      <td>9000</td>\n      <td>689</td>\n      <td>679</td>\n      <td>0</td>\n    </tr>\n  </tbody>\n</table>\n<p>5 rows × 24 columns</p>\n</div>"
     },
     "metadata": {},
     "execution_count": 4
    }
   ],
   "source": [
    "df.head()"
   ]
  },
  {
   "cell_type": "code",
   "execution_count": 5,
   "metadata": {},
   "outputs": [],
   "source": [
    "X = df.drop([\"default\"], axis=1)\n",
    "y = df[\"default\"]\n",
    "y = y.astype('int')\n",
    "# split the full data 80:20 into training:validation sets\n",
    "X_train, X_val, y_train, y_val = train_test_split(X, y, train_size=0.8, random_state=42)\n",
    "train = pd.concat([X_train, y_train], axis=1)\n",
    "val = pd.concat([X_val, y_val], axis=1)"
   ]
  },
  {
   "cell_type": "code",
   "execution_count": 6,
   "metadata": {},
   "outputs": [],
   "source": [
    "X_train = train.drop([\"default\"], axis=1)\n",
    "y_train = train[\"default\"]\n",
    "X_valid = val.drop([\"default\"], axis=1)\n",
    "y_valid = val[\"default\"]"
   ]
  },
  {
   "source": [
    "# Target Variable Visualization"
   ],
   "cell_type": "markdown",
   "metadata": {}
  },
  {
   "cell_type": "code",
   "execution_count": 7,
   "metadata": {},
   "outputs": [],
   "source": [
    "#Supress default INFO logging\n",
    "import logging\n",
    "logger = logging.getLogger()\n",
    "logger.setLevel(logging.CRITICAL)"
   ]
  },
  {
   "cell_type": "code",
   "execution_count": 8,
   "metadata": {
    "tags": []
   },
   "outputs": [
    {
     "output_type": "display_data",
     "data": {
      "text/plain": "<Figure size 504x360 with 1 Axes>",
      "image/svg+xml": "<?xml version=\"1.0\" encoding=\"utf-8\" standalone=\"no\"?>\n<!DOCTYPE svg PUBLIC \"-//W3C//DTD SVG 1.1//EN\"\n  \"http://www.w3.org/Graphics/SVG/1.1/DTD/svg11.dtd\">\n<!-- Created with matplotlib (https://matplotlib.org/) -->\n<svg height=\"338.625312pt\" version=\"1.1\" viewBox=\"0 0 458.437187 338.625312\" width=\"458.437187pt\" xmlns=\"http://www.w3.org/2000/svg\" xmlns:xlink=\"http://www.w3.org/1999/xlink\">\n <metadata>\n  <rdf:RDF xmlns:cc=\"http://creativecommons.org/ns#\" xmlns:dc=\"http://purl.org/dc/elements/1.1/\" xmlns:rdf=\"http://www.w3.org/1999/02/22-rdf-syntax-ns#\">\n   <cc:Work>\n    <dc:type rdf:resource=\"http://purl.org/dc/dcmitype/StillImage\"/>\n    <dc:date>2021-06-22T12:03:22.194356</dc:date>\n    <dc:format>image/svg+xml</dc:format>\n    <dc:creator>\n     <cc:Agent>\n      <dc:title>Matplotlib v3.3.4, https://matplotlib.org/</dc:title>\n     </cc:Agent>\n    </dc:creator>\n   </cc:Work>\n  </rdf:RDF>\n </metadata>\n <defs>\n  <style type=\"text/css\">*{stroke-linecap:butt;stroke-linejoin:round;}</style>\n </defs>\n <g id=\"figure_1\">\n  <g id=\"patch_1\">\n   <path d=\"M 0 338.625312 \nL 458.437187 338.625312 \nL 458.437187 0 \nL 0 0 \nz\n\" style=\"fill:#ffffff;\"/>\n  </g>\n  <g id=\"axes_1\">\n   <g id=\"patch_2\">\n    <path d=\"M 60.637188 296.6475 \nL 451.237188 296.6475 \nL 451.237188 24.8475 \nL 60.637188 24.8475 \nz\n\" style=\"fill:#eaeaf2;\"/>\n   </g>\n   <g id=\"matplotlib.axis_1\">\n    <g id=\"xtick_1\">\n     <g id=\"line2d_1\"/>\n     <g id=\"text_1\">\n      <!-- 0 -->\n      <g style=\"fill:#262626;\" transform=\"translate(155.506719 310.805312)scale(0.1 -0.1)\">\n       <defs>\n        <path d=\"M 4.15625 35.296875 \nQ 4.15625 48 6.765625 55.734375 \nQ 9.375 63.484375 14.515625 67.671875 \nQ 19.671875 71.875 27.484375 71.875 \nQ 33.25 71.875 37.59375 69.546875 \nQ 41.9375 67.234375 44.765625 62.859375 \nQ 47.609375 58.5 49.21875 52.21875 \nQ 50.828125 45.953125 50.828125 35.296875 \nQ 50.828125 22.703125 48.234375 14.96875 \nQ 45.65625 7.234375 40.5 3 \nQ 35.359375 -1.21875 27.484375 -1.21875 \nQ 17.140625 -1.21875 11.234375 6.203125 \nQ 4.15625 15.140625 4.15625 35.296875 \nz\nM 13.1875 35.296875 \nQ 13.1875 17.671875 17.3125 11.828125 \nQ 21.4375 6 27.484375 6 \nQ 33.546875 6 37.671875 11.859375 \nQ 41.796875 17.71875 41.796875 35.296875 \nQ 41.796875 52.984375 37.671875 58.78125 \nQ 33.546875 64.59375 27.390625 64.59375 \nQ 21.34375 64.59375 17.71875 59.46875 \nQ 13.1875 52.9375 13.1875 35.296875 \nz\n\" id=\"ArialMT-48\"/>\n       </defs>\n       <use xlink:href=\"#ArialMT-48\"/>\n      </g>\n     </g>\n    </g>\n    <g id=\"xtick_2\">\n     <g id=\"line2d_2\"/>\n     <g id=\"text_2\">\n      <!-- 1 -->\n      <g style=\"fill:#262626;\" transform=\"translate(350.806719 310.805312)scale(0.1 -0.1)\">\n       <defs>\n        <path d=\"M 37.25 0 \nL 28.46875 0 \nL 28.46875 56 \nQ 25.296875 52.984375 20.140625 49.953125 \nQ 14.984375 46.921875 10.890625 45.40625 \nL 10.890625 53.90625 \nQ 18.265625 57.375 23.78125 62.296875 \nQ 29.296875 67.234375 31.59375 71.875 \nL 37.25 71.875 \nz\n\" id=\"ArialMT-49\"/>\n       </defs>\n       <use xlink:href=\"#ArialMT-49\"/>\n      </g>\n     </g>\n    </g>\n    <g id=\"text_3\">\n     <!-- default -->\n     <g style=\"fill:#262626;\" transform=\"translate(231.919688 328.245312)scale(0.16 -0.16)\">\n      <defs>\n       <path d=\"M 40.234375 0 \nL 40.234375 6.546875 \nQ 35.296875 -1.171875 25.734375 -1.171875 \nQ 19.53125 -1.171875 14.328125 2.25 \nQ 9.125 5.671875 6.265625 11.796875 \nQ 3.421875 17.921875 3.421875 25.875 \nQ 3.421875 33.640625 6 39.96875 \nQ 8.59375 46.296875 13.765625 49.65625 \nQ 18.953125 53.03125 25.34375 53.03125 \nQ 30.03125 53.03125 33.6875 51.046875 \nQ 37.359375 49.078125 39.65625 45.90625 \nL 39.65625 71.578125 \nL 48.390625 71.578125 \nL 48.390625 0 \nz\nM 12.453125 25.875 \nQ 12.453125 15.921875 16.640625 10.984375 \nQ 20.84375 6.0625 26.5625 6.0625 \nQ 32.328125 6.0625 36.34375 10.765625 \nQ 40.375 15.484375 40.375 25.140625 \nQ 40.375 35.796875 36.265625 40.765625 \nQ 32.171875 45.75 26.171875 45.75 \nQ 20.3125 45.75 16.375 40.96875 \nQ 12.453125 36.1875 12.453125 25.875 \nz\n\" id=\"ArialMT-100\"/>\n       <path d=\"M 42.09375 16.703125 \nL 51.171875 15.578125 \nQ 49.03125 7.625 43.21875 3.21875 \nQ 37.40625 -1.171875 28.375 -1.171875 \nQ 17 -1.171875 10.328125 5.828125 \nQ 3.65625 12.84375 3.65625 25.484375 \nQ 3.65625 38.578125 10.390625 45.796875 \nQ 17.140625 53.03125 27.875 53.03125 \nQ 38.28125 53.03125 44.875 45.953125 \nQ 51.46875 38.875 51.46875 26.03125 \nQ 51.46875 25.25 51.421875 23.6875 \nL 12.75 23.6875 \nQ 13.234375 15.140625 17.578125 10.59375 \nQ 21.921875 6.0625 28.421875 6.0625 \nQ 33.25 6.0625 36.671875 8.59375 \nQ 40.09375 11.140625 42.09375 16.703125 \nz\nM 13.234375 30.90625 \nL 42.1875 30.90625 \nQ 41.609375 37.453125 38.875 40.71875 \nQ 34.671875 45.796875 27.984375 45.796875 \nQ 21.921875 45.796875 17.796875 41.75 \nQ 13.671875 37.703125 13.234375 30.90625 \nz\n\" id=\"ArialMT-101\"/>\n       <path d=\"M 8.6875 0 \nL 8.6875 45.015625 \nL 0.921875 45.015625 \nL 0.921875 51.859375 \nL 8.6875 51.859375 \nL 8.6875 57.375 \nQ 8.6875 62.59375 9.625 65.140625 \nQ 10.890625 68.5625 14.078125 70.671875 \nQ 17.28125 72.796875 23.046875 72.796875 \nQ 26.765625 72.796875 31.25 71.921875 \nL 29.9375 64.265625 \nQ 27.203125 64.75 24.75 64.75 \nQ 20.75 64.75 19.09375 63.03125 \nQ 17.4375 61.328125 17.4375 56.640625 \nL 17.4375 51.859375 \nL 27.546875 51.859375 \nL 27.546875 45.015625 \nL 17.4375 45.015625 \nL 17.4375 0 \nz\n\" id=\"ArialMT-102\"/>\n       <path d=\"M 40.4375 6.390625 \nQ 35.546875 2.25 31.03125 0.53125 \nQ 26.515625 -1.171875 21.34375 -1.171875 \nQ 12.796875 -1.171875 8.203125 3 \nQ 3.609375 7.171875 3.609375 13.671875 \nQ 3.609375 17.484375 5.34375 20.625 \nQ 7.078125 23.78125 9.890625 25.6875 \nQ 12.703125 27.59375 16.21875 28.5625 \nQ 18.796875 29.25 24.03125 29.890625 \nQ 34.671875 31.15625 39.703125 32.90625 \nQ 39.75 34.71875 39.75 35.203125 \nQ 39.75 40.578125 37.25 42.78125 \nQ 33.890625 45.75 27.25 45.75 \nQ 21.046875 45.75 18.09375 43.578125 \nQ 15.140625 41.40625 13.71875 35.890625 \nL 5.125 37.0625 \nQ 6.296875 42.578125 8.984375 45.96875 \nQ 11.671875 49.359375 16.75 51.1875 \nQ 21.828125 53.03125 28.515625 53.03125 \nQ 35.15625 53.03125 39.296875 51.46875 \nQ 43.453125 49.90625 45.40625 47.53125 \nQ 47.359375 45.171875 48.140625 41.546875 \nQ 48.578125 39.3125 48.578125 33.453125 \nL 48.578125 21.734375 \nQ 48.578125 9.46875 49.140625 6.21875 \nQ 49.703125 2.984375 51.375 0 \nL 42.1875 0 \nQ 40.828125 2.734375 40.4375 6.390625 \nz\nM 39.703125 26.03125 \nQ 34.90625 24.078125 25.34375 22.703125 \nQ 19.921875 21.921875 17.671875 20.9375 \nQ 15.4375 19.96875 14.203125 18.09375 \nQ 12.984375 16.21875 12.984375 13.921875 \nQ 12.984375 10.40625 15.640625 8.0625 \nQ 18.3125 5.71875 23.4375 5.71875 \nQ 28.515625 5.71875 32.46875 7.9375 \nQ 36.421875 10.15625 38.28125 14.015625 \nQ 39.703125 17 39.703125 22.796875 \nz\n\" id=\"ArialMT-97\"/>\n       <path d=\"M 40.578125 0 \nL 40.578125 7.625 \nQ 34.515625 -1.171875 24.125 -1.171875 \nQ 19.53125 -1.171875 15.546875 0.578125 \nQ 11.578125 2.34375 9.640625 5 \nQ 7.71875 7.671875 6.9375 11.53125 \nQ 6.390625 14.109375 6.390625 19.734375 \nL 6.390625 51.859375 \nL 15.1875 51.859375 \nL 15.1875 23.09375 \nQ 15.1875 16.21875 15.71875 13.8125 \nQ 16.546875 10.359375 19.234375 8.375 \nQ 21.921875 6.390625 25.875 6.390625 \nQ 29.828125 6.390625 33.296875 8.421875 \nQ 36.765625 10.453125 38.203125 13.9375 \nQ 39.65625 17.4375 39.65625 24.078125 \nL 39.65625 51.859375 \nL 48.4375 51.859375 \nL 48.4375 0 \nz\n\" id=\"ArialMT-117\"/>\n       <path d=\"M 6.390625 0 \nL 6.390625 71.578125 \nL 15.1875 71.578125 \nL 15.1875 0 \nz\n\" id=\"ArialMT-108\"/>\n       <path d=\"M 25.78125 7.859375 \nL 27.046875 0.09375 \nQ 23.34375 -0.6875 20.40625 -0.6875 \nQ 15.625 -0.6875 12.984375 0.828125 \nQ 10.359375 2.34375 9.28125 4.8125 \nQ 8.203125 7.28125 8.203125 15.1875 \nL 8.203125 45.015625 \nL 1.765625 45.015625 \nL 1.765625 51.859375 \nL 8.203125 51.859375 \nL 8.203125 64.703125 \nL 16.9375 69.96875 \nL 16.9375 51.859375 \nL 25.78125 51.859375 \nL 25.78125 45.015625 \nL 16.9375 45.015625 \nL 16.9375 14.703125 \nQ 16.9375 10.9375 17.40625 9.859375 \nQ 17.875 8.796875 18.921875 8.15625 \nQ 19.96875 7.515625 21.921875 7.515625 \nQ 23.390625 7.515625 25.78125 7.859375 \nz\n\" id=\"ArialMT-116\"/>\n      </defs>\n      <use xlink:href=\"#ArialMT-100\"/>\n      <use x=\"55.615234\" xlink:href=\"#ArialMT-101\"/>\n      <use x=\"111.230469\" xlink:href=\"#ArialMT-102\"/>\n      <use x=\"139.013672\" xlink:href=\"#ArialMT-97\"/>\n      <use x=\"194.628906\" xlink:href=\"#ArialMT-117\"/>\n      <use x=\"250.244141\" xlink:href=\"#ArialMT-108\"/>\n      <use x=\"272.460938\" xlink:href=\"#ArialMT-116\"/>\n     </g>\n    </g>\n   </g>\n   <g id=\"matplotlib.axis_2\">\n    <g id=\"ytick_1\">\n     <g id=\"line2d_3\">\n      <path clip-path=\"url(#pd447217096)\" d=\"M 60.637188 296.6475 \nL 451.237188 296.6475 \n\" style=\"fill:none;stroke:#ffffff;stroke-linecap:round;\"/>\n     </g>\n     <g id=\"line2d_4\"/>\n     <g id=\"text_4\">\n      <!-- 0 -->\n      <g style=\"fill:#262626;\" transform=\"translate(48.07625 300.226406)scale(0.1 -0.1)\">\n       <use xlink:href=\"#ArialMT-48\"/>\n      </g>\n     </g>\n    </g>\n    <g id=\"ytick_2\">\n     <g id=\"line2d_5\">\n      <path clip-path=\"url(#pd447217096)\" d=\"M 60.637188 261.998313 \nL 451.237188 261.998313 \n\" style=\"fill:none;stroke:#ffffff;stroke-linecap:round;\"/>\n     </g>\n     <g id=\"line2d_6\"/>\n     <g id=\"text_5\">\n      <!-- 2500 -->\n      <g style=\"fill:#262626;\" transform=\"translate(31.393438 265.57722)scale(0.1 -0.1)\">\n       <defs>\n        <path d=\"M 50.34375 8.453125 \nL 50.34375 0 \nL 3.03125 0 \nQ 2.9375 3.171875 4.046875 6.109375 \nQ 5.859375 10.9375 9.828125 15.625 \nQ 13.8125 20.3125 21.34375 26.46875 \nQ 33.015625 36.03125 37.109375 41.625 \nQ 41.21875 47.21875 41.21875 52.203125 \nQ 41.21875 57.421875 37.46875 61 \nQ 33.734375 64.59375 27.734375 64.59375 \nQ 21.390625 64.59375 17.578125 60.78125 \nQ 13.765625 56.984375 13.71875 50.25 \nL 4.6875 51.171875 \nQ 5.609375 61.28125 11.65625 66.578125 \nQ 17.71875 71.875 27.9375 71.875 \nQ 38.234375 71.875 44.234375 66.15625 \nQ 50.25 60.453125 50.25 52 \nQ 50.25 47.703125 48.484375 43.546875 \nQ 46.734375 39.40625 42.65625 34.8125 \nQ 38.578125 30.21875 29.109375 22.21875 \nQ 21.1875 15.578125 18.9375 13.203125 \nQ 16.703125 10.84375 15.234375 8.453125 \nz\n\" id=\"ArialMT-50\"/>\n        <path d=\"M 4.15625 18.75 \nL 13.375 19.53125 \nQ 14.40625 12.796875 18.140625 9.390625 \nQ 21.875 6 27.15625 6 \nQ 33.5 6 37.890625 10.78125 \nQ 42.28125 15.578125 42.28125 23.484375 \nQ 42.28125 31 38.0625 35.34375 \nQ 33.84375 39.703125 27 39.703125 \nQ 22.75 39.703125 19.328125 37.765625 \nQ 15.921875 35.84375 13.96875 32.765625 \nL 5.71875 33.84375 \nL 12.640625 70.609375 \nL 48.25 70.609375 \nL 48.25 62.203125 \nL 19.671875 62.203125 \nL 15.828125 42.96875 \nQ 22.265625 47.46875 29.34375 47.46875 \nQ 38.71875 47.46875 45.15625 40.96875 \nQ 51.609375 34.46875 51.609375 24.265625 \nQ 51.609375 14.546875 45.953125 7.46875 \nQ 39.0625 -1.21875 27.15625 -1.21875 \nQ 17.390625 -1.21875 11.203125 4.25 \nQ 5.03125 9.71875 4.15625 18.75 \nz\n\" id=\"ArialMT-53\"/>\n       </defs>\n       <use xlink:href=\"#ArialMT-50\"/>\n       <use x=\"55.615234\" xlink:href=\"#ArialMT-53\"/>\n       <use x=\"111.230469\" xlink:href=\"#ArialMT-48\"/>\n       <use x=\"166.845703\" xlink:href=\"#ArialMT-48\"/>\n      </g>\n     </g>\n    </g>\n    <g id=\"ytick_3\">\n     <g id=\"line2d_7\">\n      <path clip-path=\"url(#pd447217096)\" d=\"M 60.637188 227.349127 \nL 451.237188 227.349127 \n\" style=\"fill:none;stroke:#ffffff;stroke-linecap:round;\"/>\n     </g>\n     <g id=\"line2d_8\"/>\n     <g id=\"text_6\">\n      <!-- 5000 -->\n      <g style=\"fill:#262626;\" transform=\"translate(31.393438 230.928033)scale(0.1 -0.1)\">\n       <use xlink:href=\"#ArialMT-53\"/>\n       <use x=\"55.615234\" xlink:href=\"#ArialMT-48\"/>\n       <use x=\"111.230469\" xlink:href=\"#ArialMT-48\"/>\n       <use x=\"166.845703\" xlink:href=\"#ArialMT-48\"/>\n      </g>\n     </g>\n    </g>\n    <g id=\"ytick_4\">\n     <g id=\"line2d_9\">\n      <path clip-path=\"url(#pd447217096)\" d=\"M 60.637188 192.69994 \nL 451.237188 192.69994 \n\" style=\"fill:none;stroke:#ffffff;stroke-linecap:round;\"/>\n     </g>\n     <g id=\"line2d_10\"/>\n     <g id=\"text_7\">\n      <!-- 7500 -->\n      <g style=\"fill:#262626;\" transform=\"translate(31.393438 196.278847)scale(0.1 -0.1)\">\n       <defs>\n        <path d=\"M 4.734375 62.203125 \nL 4.734375 70.65625 \nL 51.078125 70.65625 \nL 51.078125 63.8125 \nQ 44.234375 56.546875 37.515625 44.484375 \nQ 30.8125 32.421875 27.15625 19.671875 \nQ 24.515625 10.6875 23.78125 0 \nL 14.75 0 \nQ 14.890625 8.453125 18.0625 20.40625 \nQ 21.234375 32.375 27.171875 43.484375 \nQ 33.109375 54.59375 39.796875 62.203125 \nz\n\" id=\"ArialMT-55\"/>\n       </defs>\n       <use xlink:href=\"#ArialMT-55\"/>\n       <use x=\"55.615234\" xlink:href=\"#ArialMT-53\"/>\n       <use x=\"111.230469\" xlink:href=\"#ArialMT-48\"/>\n       <use x=\"166.845703\" xlink:href=\"#ArialMT-48\"/>\n      </g>\n     </g>\n    </g>\n    <g id=\"ytick_5\">\n     <g id=\"line2d_11\">\n      <path clip-path=\"url(#pd447217096)\" d=\"M 60.637188 158.050754 \nL 451.237188 158.050754 \n\" style=\"fill:none;stroke:#ffffff;stroke-linecap:round;\"/>\n     </g>\n     <g id=\"line2d_12\"/>\n     <g id=\"text_8\">\n      <!-- 10000 -->\n      <g style=\"fill:#262626;\" transform=\"translate(25.8325 161.62966)scale(0.1 -0.1)\">\n       <use xlink:href=\"#ArialMT-49\"/>\n       <use x=\"55.615234\" xlink:href=\"#ArialMT-48\"/>\n       <use x=\"111.230469\" xlink:href=\"#ArialMT-48\"/>\n       <use x=\"166.845703\" xlink:href=\"#ArialMT-48\"/>\n       <use x=\"222.460938\" xlink:href=\"#ArialMT-48\"/>\n      </g>\n     </g>\n    </g>\n    <g id=\"ytick_6\">\n     <g id=\"line2d_13\">\n      <path clip-path=\"url(#pd447217096)\" d=\"M 60.637188 123.401567 \nL 451.237188 123.401567 \n\" style=\"fill:none;stroke:#ffffff;stroke-linecap:round;\"/>\n     </g>\n     <g id=\"line2d_14\"/>\n     <g id=\"text_9\">\n      <!-- 12500 -->\n      <g style=\"fill:#262626;\" transform=\"translate(25.8325 126.980474)scale(0.1 -0.1)\">\n       <use xlink:href=\"#ArialMT-49\"/>\n       <use x=\"55.615234\" xlink:href=\"#ArialMT-50\"/>\n       <use x=\"111.230469\" xlink:href=\"#ArialMT-53\"/>\n       <use x=\"166.845703\" xlink:href=\"#ArialMT-48\"/>\n       <use x=\"222.460938\" xlink:href=\"#ArialMT-48\"/>\n      </g>\n     </g>\n    </g>\n    <g id=\"ytick_7\">\n     <g id=\"line2d_15\">\n      <path clip-path=\"url(#pd447217096)\" d=\"M 60.637188 88.752381 \nL 451.237188 88.752381 \n\" style=\"fill:none;stroke:#ffffff;stroke-linecap:round;\"/>\n     </g>\n     <g id=\"line2d_16\"/>\n     <g id=\"text_10\">\n      <!-- 15000 -->\n      <g style=\"fill:#262626;\" transform=\"translate(25.8325 92.331287)scale(0.1 -0.1)\">\n       <use xlink:href=\"#ArialMT-49\"/>\n       <use x=\"55.615234\" xlink:href=\"#ArialMT-53\"/>\n       <use x=\"111.230469\" xlink:href=\"#ArialMT-48\"/>\n       <use x=\"166.845703\" xlink:href=\"#ArialMT-48\"/>\n       <use x=\"222.460938\" xlink:href=\"#ArialMT-48\"/>\n      </g>\n     </g>\n    </g>\n    <g id=\"ytick_8\">\n     <g id=\"line2d_17\">\n      <path clip-path=\"url(#pd447217096)\" d=\"M 60.637188 54.103194 \nL 451.237188 54.103194 \n\" style=\"fill:none;stroke:#ffffff;stroke-linecap:round;\"/>\n     </g>\n     <g id=\"line2d_18\"/>\n     <g id=\"text_11\">\n      <!-- 17500 -->\n      <g style=\"fill:#262626;\" transform=\"translate(25.8325 57.6821)scale(0.1 -0.1)\">\n       <use xlink:href=\"#ArialMT-49\"/>\n       <use x=\"55.615234\" xlink:href=\"#ArialMT-55\"/>\n       <use x=\"111.230469\" xlink:href=\"#ArialMT-53\"/>\n       <use x=\"166.845703\" xlink:href=\"#ArialMT-48\"/>\n       <use x=\"222.460938\" xlink:href=\"#ArialMT-48\"/>\n      </g>\n     </g>\n    </g>\n    <g id=\"text_12\">\n     <!-- count -->\n     <g style=\"fill:#262626;\" transform=\"translate(18.6525 180.31625)rotate(-90)scale(0.16 -0.16)\">\n      <defs>\n       <path d=\"M 40.4375 19 \nL 49.078125 17.875 \nQ 47.65625 8.9375 41.8125 3.875 \nQ 35.984375 -1.171875 27.484375 -1.171875 \nQ 16.84375 -1.171875 10.375 5.78125 \nQ 3.90625 12.75 3.90625 25.734375 \nQ 3.90625 34.125 6.6875 40.421875 \nQ 9.46875 46.734375 15.15625 49.875 \nQ 20.84375 53.03125 27.546875 53.03125 \nQ 35.984375 53.03125 41.359375 48.75 \nQ 46.734375 44.484375 48.25 36.625 \nL 39.703125 35.296875 \nQ 38.484375 40.53125 35.375 43.15625 \nQ 32.28125 45.796875 27.875 45.796875 \nQ 21.234375 45.796875 17.078125 41.03125 \nQ 12.9375 36.28125 12.9375 25.984375 \nQ 12.9375 15.53125 16.9375 10.796875 \nQ 20.953125 6.0625 27.390625 6.0625 \nQ 32.5625 6.0625 36.03125 9.234375 \nQ 39.5 12.40625 40.4375 19 \nz\n\" id=\"ArialMT-99\"/>\n       <path d=\"M 3.328125 25.921875 \nQ 3.328125 40.328125 11.328125 47.265625 \nQ 18.015625 53.03125 27.640625 53.03125 \nQ 38.328125 53.03125 45.109375 46.015625 \nQ 51.90625 39.015625 51.90625 26.65625 \nQ 51.90625 16.65625 48.90625 10.90625 \nQ 45.90625 5.171875 40.15625 2 \nQ 34.421875 -1.171875 27.640625 -1.171875 \nQ 16.75 -1.171875 10.03125 5.8125 \nQ 3.328125 12.796875 3.328125 25.921875 \nz\nM 12.359375 25.921875 \nQ 12.359375 15.96875 16.703125 11.015625 \nQ 21.046875 6.0625 27.640625 6.0625 \nQ 34.1875 6.0625 38.53125 11.03125 \nQ 42.875 16.015625 42.875 26.21875 \nQ 42.875 35.84375 38.5 40.796875 \nQ 34.125 45.75 27.640625 45.75 \nQ 21.046875 45.75 16.703125 40.8125 \nQ 12.359375 35.890625 12.359375 25.921875 \nz\n\" id=\"ArialMT-111\"/>\n       <path d=\"M 6.59375 0 \nL 6.59375 51.859375 \nL 14.5 51.859375 \nL 14.5 44.484375 \nQ 20.21875 53.03125 31 53.03125 \nQ 35.6875 53.03125 39.625 51.34375 \nQ 43.5625 49.65625 45.515625 46.921875 \nQ 47.46875 44.1875 48.25 40.4375 \nQ 48.734375 37.984375 48.734375 31.890625 \nL 48.734375 0 \nL 39.9375 0 \nL 39.9375 31.546875 \nQ 39.9375 36.921875 38.90625 39.578125 \nQ 37.890625 42.234375 35.28125 43.8125 \nQ 32.671875 45.40625 29.15625 45.40625 \nQ 23.53125 45.40625 19.453125 41.84375 \nQ 15.375 38.28125 15.375 28.328125 \nL 15.375 0 \nz\n\" id=\"ArialMT-110\"/>\n      </defs>\n      <use xlink:href=\"#ArialMT-99\"/>\n      <use x=\"50\" xlink:href=\"#ArialMT-111\"/>\n      <use x=\"105.615234\" xlink:href=\"#ArialMT-117\"/>\n      <use x=\"161.230469\" xlink:href=\"#ArialMT-110\"/>\n      <use x=\"216.845703\" xlink:href=\"#ArialMT-116\"/>\n     </g>\n    </g>\n   </g>\n   <g id=\"patch_3\">\n    <path clip-path=\"url(#pd447217096)\" d=\"M 80.167188 296.6475 \nL 236.407188 296.6475 \nL 236.407188 37.790357 \nL 80.167188 37.790357 \nz\n\" style=\"fill:#5875a4;\"/>\n   </g>\n   <g id=\"patch_4\">\n    <path clip-path=\"url(#pd447217096)\" d=\"M 275.467188 296.6475 \nL 431.707188 296.6475 \nL 431.707188 222.872452 \nL 275.467188 222.872452 \nz\n\" style=\"fill:#5f9e6e;\"/>\n   </g>\n   <g id=\"patch_5\">\n    <path d=\"M 60.637188 296.6475 \nL 60.637188 24.8475 \n\" style=\"fill:none;\"/>\n   </g>\n   <g id=\"patch_6\">\n    <path d=\"M 451.237188 296.6475 \nL 451.237188 24.8475 \n\" style=\"fill:none;\"/>\n   </g>\n   <g id=\"patch_7\">\n    <path d=\"M 60.637188 296.6475 \nL 451.237188 296.6475 \n\" style=\"fill:none;\"/>\n   </g>\n   <g id=\"patch_8\">\n    <path d=\"M 60.637188 24.8475 \nL 451.237188 24.8475 \n\" style=\"fill:none;\"/>\n   </g>\n   <g id=\"text_13\">\n    <!-- 77.8% -->\n    <g style=\"fill:#262626;\" transform=\"translate(148.522188 37.790357)scale(0.16 -0.16)\">\n     <defs>\n      <path d=\"M 9.078125 0 \nL 9.078125 10.015625 \nL 19.09375 10.015625 \nL 19.09375 0 \nz\n\" id=\"ArialMT-46\"/>\n      <path d=\"M 17.671875 38.8125 \nQ 12.203125 40.828125 9.5625 44.53125 \nQ 6.9375 48.25 6.9375 53.421875 \nQ 6.9375 61.234375 12.546875 66.546875 \nQ 18.171875 71.875 27.484375 71.875 \nQ 36.859375 71.875 42.578125 66.421875 \nQ 48.296875 60.984375 48.296875 53.171875 \nQ 48.296875 48.1875 45.671875 44.5 \nQ 43.0625 40.828125 37.75 38.8125 \nQ 44.34375 36.671875 47.78125 31.875 \nQ 51.21875 27.09375 51.21875 20.453125 \nQ 51.21875 11.28125 44.71875 5.03125 \nQ 38.234375 -1.21875 27.640625 -1.21875 \nQ 17.046875 -1.21875 10.546875 5.046875 \nQ 4.046875 11.328125 4.046875 20.703125 \nQ 4.046875 27.6875 7.59375 32.390625 \nQ 11.140625 37.109375 17.671875 38.8125 \nz\nM 15.921875 53.71875 \nQ 15.921875 48.640625 19.1875 45.40625 \nQ 22.46875 42.1875 27.6875 42.1875 \nQ 32.765625 42.1875 36.015625 45.375 \nQ 39.265625 48.578125 39.265625 53.21875 \nQ 39.265625 58.0625 35.90625 61.359375 \nQ 32.5625 64.65625 27.59375 64.65625 \nQ 22.5625 64.65625 19.234375 61.421875 \nQ 15.921875 58.203125 15.921875 53.71875 \nz\nM 13.09375 20.65625 \nQ 13.09375 16.890625 14.875 13.375 \nQ 16.65625 9.859375 20.171875 7.921875 \nQ 23.6875 6 27.734375 6 \nQ 34.03125 6 38.125 10.046875 \nQ 42.234375 14.109375 42.234375 20.359375 \nQ 42.234375 26.703125 38.015625 30.859375 \nQ 33.796875 35.015625 27.4375 35.015625 \nQ 21.234375 35.015625 17.15625 30.90625 \nQ 13.09375 26.8125 13.09375 20.65625 \nz\n\" id=\"ArialMT-56\"/>\n      <path d=\"M 5.8125 54.390625 \nQ 5.8125 62.0625 9.671875 67.421875 \nQ 13.53125 72.796875 20.84375 72.796875 \nQ 27.59375 72.796875 32 67.984375 \nQ 36.421875 63.1875 36.421875 53.859375 \nQ 36.421875 44.78125 31.953125 39.875 \nQ 27.484375 34.96875 20.953125 34.96875 \nQ 14.453125 34.96875 10.125 39.796875 \nQ 5.8125 44.625 5.8125 54.390625 \nz\nM 21.09375 66.75 \nQ 17.828125 66.75 15.65625 63.90625 \nQ 13.484375 61.078125 13.484375 53.515625 \nQ 13.484375 46.625 15.671875 43.8125 \nQ 17.875 41.015625 21.09375 41.015625 \nQ 24.421875 41.015625 26.59375 43.84375 \nQ 28.765625 46.6875 28.765625 54.203125 \nQ 28.765625 61.140625 26.5625 63.9375 \nQ 24.359375 66.75 21.09375 66.75 \nz\nM 21.140625 -2.640625 \nL 60.296875 72.796875 \nL 67.4375 72.796875 \nL 28.421875 -2.640625 \nz\nM 52.09375 16.796875 \nQ 52.09375 24.515625 55.953125 29.859375 \nQ 59.8125 35.203125 67.1875 35.203125 \nQ 73.921875 35.203125 78.34375 30.390625 \nQ 82.765625 25.59375 82.765625 16.265625 \nQ 82.765625 7.171875 78.296875 2.265625 \nQ 73.828125 -2.640625 67.234375 -2.640625 \nQ 60.75 -2.640625 56.421875 2.21875 \nQ 52.09375 7.078125 52.09375 16.796875 \nz\nM 67.4375 29.15625 \nQ 64.109375 29.15625 61.9375 26.3125 \nQ 59.765625 23.484375 59.765625 15.921875 \nQ 59.765625 9.078125 61.953125 6.25 \nQ 64.15625 3.421875 67.390625 3.421875 \nQ 70.75 3.421875 72.921875 6.25 \nQ 75.09375 9.078125 75.09375 16.609375 \nQ 75.09375 23.53125 72.890625 26.34375 \nQ 70.703125 29.15625 67.4375 29.15625 \nz\n\" id=\"ArialMT-37\"/>\n     </defs>\n     <use xlink:href=\"#ArialMT-55\"/>\n     <use x=\"55.615234\" xlink:href=\"#ArialMT-55\"/>\n     <use x=\"111.230469\" xlink:href=\"#ArialMT-46\"/>\n     <use x=\"139.013672\" xlink:href=\"#ArialMT-56\"/>\n     <use x=\"194.628906\" xlink:href=\"#ArialMT-37\"/>\n    </g>\n   </g>\n   <g id=\"text_14\">\n    <!-- 22.2% -->\n    <g style=\"fill:#262626;\" transform=\"translate(343.822188 222.872452)scale(0.16 -0.16)\">\n     <use xlink:href=\"#ArialMT-50\"/>\n     <use x=\"55.615234\" xlink:href=\"#ArialMT-50\"/>\n     <use x=\"111.230469\" xlink:href=\"#ArialMT-46\"/>\n     <use x=\"139.013672\" xlink:href=\"#ArialMT-50\"/>\n     <use x=\"194.628906\" xlink:href=\"#ArialMT-37\"/>\n    </g>\n   </g>\n   <g id=\"text_15\">\n    <!-- Distribution of Target Variable -->\n    <g style=\"fill:#262626;\" transform=\"translate(151.735938 18.8475)scale(0.16 -0.16)\">\n     <defs>\n      <path d=\"M 7.71875 0 \nL 7.71875 71.578125 \nL 32.375 71.578125 \nQ 40.71875 71.578125 45.125 70.5625 \nQ 51.265625 69.140625 55.609375 65.4375 \nQ 61.28125 60.640625 64.078125 53.1875 \nQ 66.890625 45.75 66.890625 36.1875 \nQ 66.890625 28.03125 64.984375 21.734375 \nQ 63.09375 15.4375 60.109375 11.296875 \nQ 57.125 7.171875 53.578125 4.796875 \nQ 50.046875 2.4375 45.046875 1.21875 \nQ 40.046875 0 33.546875 0 \nz\nM 17.1875 8.453125 \nL 32.46875 8.453125 \nQ 39.546875 8.453125 43.578125 9.765625 \nQ 47.609375 11.078125 50 13.484375 \nQ 53.375 16.84375 55.25 22.53125 \nQ 57.125 28.21875 57.125 36.328125 \nQ 57.125 47.5625 53.4375 53.59375 \nQ 49.75 59.625 44.484375 61.671875 \nQ 40.671875 63.140625 32.234375 63.140625 \nL 17.1875 63.140625 \nz\n\" id=\"ArialMT-68\"/>\n      <path d=\"M 6.640625 61.46875 \nL 6.640625 71.578125 \nL 15.4375 71.578125 \nL 15.4375 61.46875 \nz\nM 6.640625 0 \nL 6.640625 51.859375 \nL 15.4375 51.859375 \nL 15.4375 0 \nz\n\" id=\"ArialMT-105\"/>\n      <path d=\"M 3.078125 15.484375 \nL 11.765625 16.84375 \nQ 12.5 11.625 15.84375 8.84375 \nQ 19.1875 6.0625 25.203125 6.0625 \nQ 31.25 6.0625 34.171875 8.515625 \nQ 37.109375 10.984375 37.109375 14.3125 \nQ 37.109375 17.28125 34.515625 19 \nQ 32.71875 20.171875 25.53125 21.96875 \nQ 15.875 24.421875 12.140625 26.203125 \nQ 8.40625 27.984375 6.46875 31.125 \nQ 4.546875 34.28125 4.546875 38.09375 \nQ 4.546875 41.546875 6.125 44.5 \nQ 7.71875 47.46875 10.453125 49.421875 \nQ 12.5 50.921875 16.03125 51.96875 \nQ 19.578125 53.03125 23.640625 53.03125 \nQ 29.734375 53.03125 34.34375 51.265625 \nQ 38.96875 49.515625 41.15625 46.5 \nQ 43.359375 43.5 44.1875 38.484375 \nL 35.59375 37.3125 \nQ 35.015625 41.3125 32.203125 43.546875 \nQ 29.390625 45.796875 24.265625 45.796875 \nQ 18.21875 45.796875 15.625 43.796875 \nQ 13.03125 41.796875 13.03125 39.109375 \nQ 13.03125 37.40625 14.109375 36.03125 \nQ 15.1875 34.625 17.484375 33.6875 \nQ 18.796875 33.203125 25.25 31.453125 \nQ 34.578125 28.953125 38.25 27.359375 \nQ 41.9375 25.78125 44.03125 22.75 \nQ 46.140625 19.734375 46.140625 15.234375 \nQ 46.140625 10.84375 43.578125 6.953125 \nQ 41.015625 3.078125 36.171875 0.953125 \nQ 31.34375 -1.171875 25.25 -1.171875 \nQ 15.140625 -1.171875 9.84375 3.03125 \nQ 4.546875 7.234375 3.078125 15.484375 \nz\n\" id=\"ArialMT-115\"/>\n      <path d=\"M 6.5 0 \nL 6.5 51.859375 \nL 14.40625 51.859375 \nL 14.40625 44 \nQ 17.4375 49.515625 20 51.265625 \nQ 22.5625 53.03125 25.640625 53.03125 \nQ 30.078125 53.03125 34.671875 50.203125 \nL 31.640625 42.046875 \nQ 28.421875 43.953125 25.203125 43.953125 \nQ 22.3125 43.953125 20.015625 42.21875 \nQ 17.71875 40.484375 16.75 37.40625 \nQ 15.28125 32.71875 15.28125 27.15625 \nL 15.28125 0 \nz\n\" id=\"ArialMT-114\"/>\n      <path d=\"M 14.703125 0 \nL 6.546875 0 \nL 6.546875 71.578125 \nL 15.328125 71.578125 \nL 15.328125 46.046875 \nQ 20.90625 53.03125 29.546875 53.03125 \nQ 34.328125 53.03125 38.59375 51.09375 \nQ 42.875 49.171875 45.625 45.671875 \nQ 48.390625 42.1875 49.953125 37.25 \nQ 51.515625 32.328125 51.515625 26.703125 \nQ 51.515625 13.375 44.921875 6.09375 \nQ 38.328125 -1.171875 29.109375 -1.171875 \nQ 19.921875 -1.171875 14.703125 6.5 \nz\nM 14.59375 26.3125 \nQ 14.59375 17 17.140625 12.84375 \nQ 21.296875 6.0625 28.375 6.0625 \nQ 34.125 6.0625 38.328125 11.0625 \nQ 42.53125 16.0625 42.53125 25.984375 \nQ 42.53125 36.140625 38.5 40.96875 \nQ 34.46875 45.796875 28.765625 45.796875 \nQ 23 45.796875 18.796875 40.796875 \nQ 14.59375 35.796875 14.59375 26.3125 \nz\n\" id=\"ArialMT-98\"/>\n      <path id=\"ArialMT-32\"/>\n      <path d=\"M 25.921875 0 \nL 25.921875 63.140625 \nL 2.34375 63.140625 \nL 2.34375 71.578125 \nL 59.078125 71.578125 \nL 59.078125 63.140625 \nL 35.40625 63.140625 \nL 35.40625 0 \nz\n\" id=\"ArialMT-84\"/>\n      <path d=\"M 4.984375 -4.296875 \nL 13.53125 -5.5625 \nQ 14.0625 -9.515625 16.5 -11.328125 \nQ 19.78125 -13.765625 25.4375 -13.765625 \nQ 31.546875 -13.765625 34.859375 -11.328125 \nQ 38.1875 -8.890625 39.359375 -4.5 \nQ 40.046875 -1.8125 39.984375 6.78125 \nQ 34.234375 0 25.640625 0 \nQ 14.9375 0 9.078125 7.71875 \nQ 3.21875 15.4375 3.21875 26.21875 \nQ 3.21875 33.640625 5.90625 39.90625 \nQ 8.59375 46.1875 13.6875 49.609375 \nQ 18.796875 53.03125 25.6875 53.03125 \nQ 34.859375 53.03125 40.828125 45.609375 \nL 40.828125 51.859375 \nL 48.921875 51.859375 \nL 48.921875 7.03125 \nQ 48.921875 -5.078125 46.453125 -10.125 \nQ 44 -15.1875 38.640625 -18.109375 \nQ 33.296875 -21.046875 25.484375 -21.046875 \nQ 16.21875 -21.046875 10.5 -16.875 \nQ 4.78125 -12.703125 4.984375 -4.296875 \nz\nM 12.25 26.859375 \nQ 12.25 16.65625 16.296875 11.96875 \nQ 20.359375 7.28125 26.46875 7.28125 \nQ 32.515625 7.28125 36.609375 11.9375 \nQ 40.71875 16.609375 40.71875 26.5625 \nQ 40.71875 36.078125 36.5 40.90625 \nQ 32.28125 45.75 26.3125 45.75 \nQ 20.453125 45.75 16.34375 40.984375 \nQ 12.25 36.234375 12.25 26.859375 \nz\n\" id=\"ArialMT-103\"/>\n      <path d=\"M 28.171875 0 \nL 0.4375 71.578125 \nL 10.6875 71.578125 \nL 29.296875 19.578125 \nQ 31.546875 13.328125 33.0625 7.859375 \nQ 34.71875 13.71875 36.921875 19.578125 \nL 56.25 71.578125 \nL 65.921875 71.578125 \nL 37.890625 0 \nz\n\" id=\"ArialMT-86\"/>\n     </defs>\n     <use xlink:href=\"#ArialMT-68\"/>\n     <use x=\"72.216797\" xlink:href=\"#ArialMT-105\"/>\n     <use x=\"94.433594\" xlink:href=\"#ArialMT-115\"/>\n     <use x=\"144.433594\" xlink:href=\"#ArialMT-116\"/>\n     <use x=\"172.216797\" xlink:href=\"#ArialMT-114\"/>\n     <use x=\"205.517578\" xlink:href=\"#ArialMT-105\"/>\n     <use x=\"227.734375\" xlink:href=\"#ArialMT-98\"/>\n     <use x=\"283.349609\" xlink:href=\"#ArialMT-117\"/>\n     <use x=\"338.964844\" xlink:href=\"#ArialMT-116\"/>\n     <use x=\"366.748047\" xlink:href=\"#ArialMT-105\"/>\n     <use x=\"388.964844\" xlink:href=\"#ArialMT-111\"/>\n     <use x=\"444.580078\" xlink:href=\"#ArialMT-110\"/>\n     <use x=\"500.195312\" xlink:href=\"#ArialMT-32\"/>\n     <use x=\"527.978516\" xlink:href=\"#ArialMT-111\"/>\n     <use x=\"583.59375\" xlink:href=\"#ArialMT-102\"/>\n     <use x=\"611.376953\" xlink:href=\"#ArialMT-32\"/>\n     <use x=\"637.410156\" xlink:href=\"#ArialMT-84\"/>\n     <use x=\"687.369141\" xlink:href=\"#ArialMT-97\"/>\n     <use x=\"742.984375\" xlink:href=\"#ArialMT-114\"/>\n     <use x=\"776.285156\" xlink:href=\"#ArialMT-103\"/>\n     <use x=\"831.900391\" xlink:href=\"#ArialMT-101\"/>\n     <use x=\"887.515625\" xlink:href=\"#ArialMT-116\"/>\n     <use x=\"915.298828\" xlink:href=\"#ArialMT-32\"/>\n     <use x=\"943.082031\" xlink:href=\"#ArialMT-86\"/>\n     <use x=\"1002.40625\" xlink:href=\"#ArialMT-97\"/>\n     <use x=\"1058.021484\" xlink:href=\"#ArialMT-114\"/>\n     <use x=\"1091.322266\" xlink:href=\"#ArialMT-105\"/>\n     <use x=\"1113.539062\" xlink:href=\"#ArialMT-97\"/>\n     <use x=\"1169.154297\" xlink:href=\"#ArialMT-98\"/>\n     <use x=\"1224.769531\" xlink:href=\"#ArialMT-108\"/>\n     <use x=\"1246.986328\" xlink:href=\"#ArialMT-101\"/>\n    </g>\n   </g>\n  </g>\n </g>\n <defs>\n  <clipPath id=\"pd447217096\">\n   <rect height=\"271.8\" width=\"390.6\" x=\"60.637188\" y=\"24.8475\"/>\n  </clipPath>\n </defs>\n</svg>\n",
      "image/png": "[encoded data removed]"
     },
     "metadata": {}
    }
   ],
   "source": [
    "# create visualization for target variable distribution\n",
    "def barplot(df, xlabel, ylabel, title):\n",
    "    plt.figure(figsize = (7,5))\n",
    "    ax = sns.countplot(x = xlabel, data = df)\n",
    "    plt.title(title, fontsize = 16)\n",
    "    plt.xlabel(xlabel, fontsize = 16)\n",
    "    plt.ylabel(ylabel, fontsize = 16)\n",
    "    total = len(df.default)\n",
    "    for p in ax.patches:\n",
    "        percentage = '{:.1f}%'.format(100 * p.get_height()/total)\n",
    "        x = p.get_x() + p.get_width() / 2 - 0.05\n",
    "        y = p.get_y() + p.get_height()\n",
    "        ax.annotate(percentage, (x, y), size = 16)\n",
    "    plt.show()\n",
    "\n",
    "barplot(train, 'default', 'count', 'Distribution of Target Variable')"
   ]
  },
  {
   "cell_type": "code",
   "execution_count": 9,
   "metadata": {},
   "outputs": [
    {
     "output_type": "display_data",
     "data": {
      "text/plain": "<Figure size 576x396 with 0 Axes>"
     },
     "metadata": {}
    }
   ],
   "source": [
    "plt.savefig(\"images/default_distribution.png\")"
   ]
  },
  {
   "source": [
    "# Standardize Datasets"
   ],
   "cell_type": "markdown",
   "metadata": {}
  },
  {
   "cell_type": "code",
   "execution_count": 7,
   "metadata": {},
   "outputs": [],
   "source": [
    "scaler = StandardScaler()\n",
    "scaler.fit(X_train)\n",
    "X_train_ss = scaler.transform(X_train)\n",
    "X_valid_ss = scaler.transform(X_valid)"
   ]
  },
  {
   "source": [
    "# Using Best Model"
   ],
   "cell_type": "markdown",
   "metadata": {}
  },
  {
   "cell_type": "code",
   "execution_count": 8,
   "metadata": {},
   "outputs": [
    {
     "output_type": "stream",
     "name": "stdout",
     "text": [
      "Accuracy Score:  0.8198333333333333\nF1 Score:  0.46245648930880157\nROC-AUC Score:  0.7827684813417417\nRecall Score:  0.3541507996953541\nPrecision Score:  0.666189111747851\nPR-AUC Score:  0.5491782881180063\n"
     ]
    }
   ],
   "source": [
    "gbc = GradientBoostingClassifier(random_state=42).fit(X_train_ss, y_train)\n",
    "y_pred = gbc.predict(X_valid_ss)\n",
    "get_metrics(X_valid_ss, y_valid, y_pred, gbc)"
   ]
  },
  {
   "source": [
    "# Dummy Classifier"
   ],
   "cell_type": "markdown",
   "metadata": {}
  },
  {
   "cell_type": "code",
   "execution_count": 12,
   "metadata": {},
   "outputs": [
    {
     "output_type": "stream",
     "name": "stdout",
     "text": [
      "Baseline:  Counter({0: 18677, 1: 5323})\n"
     ]
    }
   ],
   "source": [
    "# separate minority and majority classes\n",
    "majority = train[train.default==0]\n",
    "minority = train[train.default==1]\n",
    "\n",
    "#baseline counts\n",
    "counter = Counter(y_train)\n",
    "print(\"Baseline: \", counter)"
   ]
  },
  {
   "cell_type": "code",
   "execution_count": 13,
   "metadata": {},
   "outputs": [
    {
     "output_type": "stream",
     "name": "stdout",
     "text": [
      "Accuracy Score:  0.7811666666666667\nF1 Score:  0.0\nROC-AUC Score:  0.5\nRecall Score:  0.0\nPrecision Score:  0.0\nPR-AUC Score:  0.21883333333333332\n"
     ]
    }
   ],
   "source": [
    "dc = DummyClassifier(strategy='most_frequent').fit(X_train_ss, y_train)\n",
    "y_pred_dc = dc.predict(X_valid_ss)\n",
    "get_metrics(X_valid_ss, y_valid, y_pred_dc, dc)"
   ]
  },
  {
   "source": [
    "# Ensemble Methods"
   ],
   "cell_type": "markdown",
   "metadata": {}
  },
  {
   "source": [
    "## Balanced Bagging Classifier\n",
    "\n"
   ],
   "cell_type": "markdown",
   "metadata": {}
  },
  {
   "cell_type": "code",
   "execution_count": 15,
   "metadata": {},
   "outputs": [
    {
     "output_type": "stream",
     "name": "stdout",
     "text": [
      "Accuracy Score:  0.7778333333333334\nF1 Score:  0.5189462287982678\nROC-AUC Score:  0.7617891427586244\nRecall Score:  0.5476009139375476\nPrecision Score:  0.49314128943758573\nPR-AUC Score:  0.5141686465893252\n"
     ]
    }
   ],
   "source": [
    "bbc = BalancedBaggingClassifier(n_estimators=50, random_state=42).fit(X_train_ss, y_train)\n",
    "y_pred_bbc = bbc.predict(X_valid_ss)\n",
    "get_metrics(X_valid_ss, y_valid, y_pred_bbc, bbc)"
   ]
  },
  {
   "source": [
    "## Balanced Random Forest Classifier\n",
    "\n"
   ],
   "cell_type": "markdown",
   "metadata": {}
  },
  {
   "cell_type": "code",
   "execution_count": 17,
   "metadata": {},
   "outputs": [
    {
     "output_type": "stream",
     "name": "stdout",
     "text": [
      "Accuracy Score:  0.7443333333333333\nF1 Score:  0.5170025188916877\nROC-AUC Score:  0.7714385091657809\nRecall Score:  0.6252856054836253\nPrecision Score:  0.4406870638754697\nPR-AUC Score:  0.525055734654262\n"
     ]
    }
   ],
   "source": [
    "brf = BalancedRandomForestClassifier(n_estimators=100, random_state=42).fit(X_train_ss, y_train)\n",
    "y_pred_brf = brf.predict(X_valid_ss)\n",
    "get_metrics(X_valid_ss, y_valid, y_pred_brf, brf)"
   ]
  },
  {
   "source": [
    "## RUSBoost Classifier\n",
    "\n"
   ],
   "cell_type": "markdown",
   "metadata": {}
  },
  {
   "cell_type": "code",
   "execution_count": 18,
   "metadata": {},
   "outputs": [
    {
     "output_type": "stream",
     "name": "stdout",
     "text": [
      "Accuracy Score:  0.7523333333333333\nF1 Score:  0.5212628865979382\nROC-AUC Score:  0.7660350589719161\nRecall Score:  0.6161462300076161\nPrecision Score:  0.4517029592406477\nPR-AUC Score:  0.5181164037053775\n"
     ]
    }
   ],
   "source": [
    "rbc = RUSBoostClassifier(n_estimators=200, algorithm='SAMME.R', random_state=42).fit(X_train_ss, y_train)\n",
    "y_pred_rbc = rbc.predict(X_valid_ss)\n",
    "get_metric(X_valid_ss, y_valid, y_pred_rbc, rbc)"
   ]
  },
  {
   "source": [
    "## Easy Ensemble Classifier\n"
   ],
   "cell_type": "markdown",
   "metadata": {}
  },
  {
   "cell_type": "code",
   "execution_count": 19,
   "metadata": {},
   "outputs": [
    {
     "output_type": "stream",
     "name": "stdout",
     "text": [
      "Accuracy Score:  0.7591666666666667\nF1 Score:  0.5291625936787228\nROC-AUC Score:  0.7768365157731575\nRecall Score:  0.6184310738766184\nPrecision Score:  0.4624145785876993\nPR-AUC Score:  0.5327657543186086\n"
     ]
    }
   ],
   "source": [
    "eec = EasyEnsembleClassifier(random_state=42).fit(X_train_ss, y_train) \n",
    "y_pred_eec = eec.predict(X_valid_ss)\n",
    "get_metrics(X_valid_ss, y_valid, y_pred_eec, eec)"
   ]
  },
  {
   "source": [
    "## Ensemble Metrics Dataframe\n"
   ],
   "cell_type": "markdown",
   "metadata": {}
  },
  {
   "cell_type": "code",
   "execution_count": 61,
   "metadata": {},
   "outputs": [
    {
     "output_type": "execute_result",
     "data": {
      "text/plain": [
       "                                   Accuracy  F1 Score  ROC-AUC Score  \\\n",
       "Gradient Boosting Classifier       0.819833  0.462456       0.769115   \n",
       "Balanced Bagging Classifier        0.777833  0.518946       0.761789   \n",
       "Balanced Random Forest Classifier  0.744333  0.517003       0.771439   \n",
       "RUBoost Classifier                 0.752333  0.521263       0.766035   \n",
       "Easy Ensemble Classifier           0.759167  0.529163       0.776837   \n",
       "\n",
       "                                   PR-AUC Score  \n",
       "Gradient Boosting Classifier           0.527357  \n",
       "Balanced Bagging Classifier            0.514169  \n",
       "Balanced Random Forest Classifier      0.525056  \n",
       "RUBoost Classifier                     0.518116  \n",
       "Easy Ensemble Classifier               0.532766  "
      ],
      "text/html": "<div>\n<style scoped>\n    .dataframe tbody tr th:only-of-type {\n        vertical-align: middle;\n    }\n\n    .dataframe tbody tr th {\n        vertical-align: top;\n    }\n\n    .dataframe thead th {\n        text-align: right;\n    }\n</style>\n<table border=\"1\" class=\"dataframe\">\n  <thead>\n    <tr style=\"text-align: right;\">\n      <th></th>\n      <th>Accuracy</th>\n      <th>F1 Score</th>\n      <th>ROC-AUC Score</th>\n      <th>PR-AUC Score</th>\n    </tr>\n  </thead>\n  <tbody>\n    <tr>\n      <th>Gradient Boosting Classifier</th>\n      <td>0.819833</td>\n      <td>0.462456</td>\n      <td>0.769115</td>\n      <td>0.527357</td>\n    </tr>\n    <tr>\n      <th>Balanced Bagging Classifier</th>\n      <td>0.777833</td>\n      <td>0.518946</td>\n      <td>0.761789</td>\n      <td>0.514169</td>\n    </tr>\n    <tr>\n      <th>Balanced Random Forest Classifier</th>\n      <td>0.744333</td>\n      <td>0.517003</td>\n      <td>0.771439</td>\n      <td>0.525056</td>\n    </tr>\n    <tr>\n      <th>RUBoost Classifier</th>\n      <td>0.752333</td>\n      <td>0.521263</td>\n      <td>0.766035</td>\n      <td>0.518116</td>\n    </tr>\n    <tr>\n      <th>Easy Ensemble Classifier</th>\n      <td>0.759167</td>\n      <td>0.529163</td>\n      <td>0.776837</td>\n      <td>0.532766</td>\n    </tr>\n  </tbody>\n</table>\n</div>"
     },
     "metadata": {},
     "execution_count": 61
    }
   ],
   "source": [
    "data = {'Accuracy': [accuracy_score(y_valid, y_pred),\n",
    "                     accuracy_score(y_valid, y_pred_bbc),\n",
    "                     accuracy_score(y_valid, y_pred_brf),\n",
    "                     accuracy_score(y_valid, y_pred_rbc),\n",
    "                     accuracy_score(y_valid, y_pred_eec)],\n",
    "        'F1 Score': [f1_score(y_valid, y_pred),\n",
    "                     f1_score(y_valid, y_pred_bbc),\n",
    "                     f1_score(y_valid, y_pred_brf),\n",
    "                     f1_score(y_valid, y_pred_rbc),\n",
    "                     f1_score(y_valid, y_pred_eec)],\n",
    "        'ROC-AUC Score': [auc(X_valid_ss, y_valid, gbc),\n",
    "                          auc(X_valid_ss, y_valid, bbc),\n",
    "                          auc(X_valid_ss, y_valid, brf),\n",
    "                          auc(X_valid_ss, y_valid, rbc),\n",
    "                          auc(X_valid_ss, y_valid, eec)],\n",
    "        'PR-AUC Score': [aps(X_valid_ss, y_valid, gbc),\n",
    "                         aps(X_valid_ss, y_valid, bbc),\n",
    "                         aps(X_valid_ss, y_valid, brf),\n",
    "                         aps(X_valid_ss, y_valid, rbc),\n",
    "                         aps(X_valid_ss, y_valid, eec)]}\n",
    "\n",
    "scores = pd.DataFrame(data=data, index = ['Gradient Boosting Classifier',\n",
    "                                          'Balanced Bagging Classifier',\n",
    "                                          'Balanced Random Forest Classifier',\n",
    "                                          'RUBoost Classifier',\n",
    "                                          'Easy Ensemble Classifier'])\n",
    "\n",
    "scores"
   ]
  },
  {
   "cell_type": "code",
   "execution_count": 56,
   "metadata": {},
   "outputs": [],
   "source": [
    "scores.to_csv(\"data/scores.csv\")"
   ]
  },
  {
   "source": [
    "# Undersampling Methods\n"
   ],
   "cell_type": "markdown",
   "metadata": {}
  },
  {
   "source": [
    "## TomekLinks\n",
    "\n"
   ],
   "cell_type": "markdown",
   "metadata": {}
  },
  {
   "cell_type": "code",
   "execution_count": 21,
   "metadata": {},
   "outputs": [
    {
     "output_type": "stream",
     "name": "stdout",
     "text": [
      "Training Count:  Counter({0: 17259, 1: 5323})\n",
      "Accuracy Score:  0.8185\n",
      "F1 Score:  0.48413074372335385\n",
      "ROC-AUC Score:  0.7815206813225348\n",
      "Recall Score:  0.38918507235338917\n",
      "Precision Score:  0.6403508771929824\n",
      "PR-AUC Score:  0.5469931467520384\n"
     ]
    }
   ],
   "source": [
    "tl = TomekLinks()\n",
    "run_resampling(X_train_ss, y_train, X_valid_ss, y_valid, tl, gbc)"
   ]
  },
  {
   "cell_type": "code",
   "execution_count": 22,
   "metadata": {},
   "outputs": [],
   "source": [
    "X_train_tl, y_train_tl = tl.fit_sample(X_train_ss, y_train)\n",
    "tlm = gbc.fit(X_train_tl, y_train_tl)\n",
    "y_pred_tl = tlm.predict(X_valid_ss)"
   ]
  },
  {
   "source": [
    "## Edited Nearest Neighbours\n",
    "\n"
   ],
   "cell_type": "markdown",
   "metadata": {}
  },
  {
   "cell_type": "code",
   "execution_count": 23,
   "metadata": {},
   "outputs": [
    {
     "output_type": "stream",
     "name": "stdout",
     "text": [
      "Training Count:  Counter({0: 11382, 1: 5323})\n",
      "Accuracy Score:  0.7893333333333333\n",
      "F1 Score:  0.5416968817984046\n",
      "ROC-AUC Score:  0.7800101266958193\n",
      "Recall Score:  0.5689261233815689\n",
      "Precision Score:  0.5169550173010381\n",
      "PR-AUC Score:  0.5397934293984156\n"
     ]
    }
   ],
   "source": [
    "enn = EditedNearestNeighbours()\n",
    "run_resampling(X_train_ss, y_train, X_valid_ss, y_valid, enn, gbc)"
   ]
  },
  {
   "cell_type": "code",
   "execution_count": 24,
   "metadata": {},
   "outputs": [],
   "source": [
    "X_train_enn, y_train_enn = enn.fit_sample(X_train_ss, y_train)\n",
    "ennm = gbc.fit(X_train_enn, y_train_enn)\n",
    "y_pred_enn = ennm.predict(X_valid_ss)"
   ]
  },
  {
   "source": [
    "## Near Miss"
   ],
   "cell_type": "markdown",
   "metadata": {}
  },
  {
   "cell_type": "code",
   "execution_count": 11,
   "metadata": {},
   "outputs": [
    {
     "output_type": "stream",
     "name": "stdout",
     "text": [
      "Training Count:  Counter({0: 5323, 1: 5323})\n",
      "Accuracy Score:  0.49333333333333335\n",
      "F1 Score:  0.39345570630486826\n",
      "ROC-AUC Score:  0.6060651953166957\n",
      "Recall Score:  0.7509520182787509\n",
      "Precision Score:  0.26655852933225194\n",
      "PR-AUC Score:  0.26240354411804023\n"
     ]
    }
   ],
   "source": [
    "ns = NearMiss(version=1, n_neighbors=3)\n",
    "run_resampling(X_train_ss, y_train, X_valid_ss, y_valid, ns, gbc)"
   ]
  },
  {
   "cell_type": "code",
   "execution_count": 26,
   "metadata": {},
   "outputs": [],
   "source": [
    "X_train_ns, y_train_ns = ns.fit_sample(X_train_ss, y_train)\n",
    "nsm = gbc.fit(X_train_ns, y_train_ns)\n",
    "y_pred_ns = nsm.predict(X_valid_ss)"
   ]
  },
  {
   "source": [
    "## One Sided Selection"
   ],
   "cell_type": "markdown",
   "metadata": {}
  },
  {
   "cell_type": "code",
   "execution_count": 29,
   "metadata": {},
   "outputs": [
    {
     "output_type": "stream",
     "name": "stdout",
     "text": [
      "Training Count:  Counter({0: 15696, 1: 5323})\n",
      "Accuracy Score:  0.8193333333333334\n",
      "F1 Score:  0.4847908745247148\n",
      "ROC-AUC Score:  0.7801089237282035\n",
      "Recall Score:  0.38842345773038844\n",
      "Precision Score:  0.6447534766118836\n",
      "PR-AUC Score:  0.5421743004221333\n"
     ]
    }
   ],
   "source": [
    "oss = OneSidedSelection(n_neighbors=1, n_seeds_S=200)\n",
    "run_resampling(X_train_ss, y_train, X_valid_ss, y_valid, oss, gbc)"
   ]
  },
  {
   "cell_type": "code",
   "execution_count": 30,
   "metadata": {},
   "outputs": [],
   "source": [
    "X_train_oss, y_train_oss = oss.fit_sample(X_train_ss, y_train)\n",
    "ossm = gbc.fit(X_train_oss, y_train_oss)\n",
    "y_pred_oss = ossm.predict(X_valid_ss)"
   ]
  },
  {
   "source": [
    "## Undersampling Metrics Dataframe"
   ],
   "cell_type": "markdown",
   "metadata": {}
  },
  {
   "cell_type": "code",
   "execution_count": 57,
   "metadata": {},
   "outputs": [
    {
     "output_type": "execute_result",
     "data": {
      "text/plain": [
       "                          Accuracy  F1 Score  ROC-AUC Score  PR-AUC Score\n",
       "Tomek Links               0.818500  0.484131       0.769115      0.527357\n",
       "Edited Nearest Neighbour  0.789333  0.541697       0.769115      0.527357\n",
       "Near Miss                 0.493333  0.393456       0.769115      0.527357\n",
       "One Sided Selection       0.819167  0.486026       0.769115      0.527357"
      ],
      "text/html": "<div>\n<style scoped>\n    .dataframe tbody tr th:only-of-type {\n        vertical-align: middle;\n    }\n\n    .dataframe tbody tr th {\n        vertical-align: top;\n    }\n\n    .dataframe thead th {\n        text-align: right;\n    }\n</style>\n<table border=\"1\" class=\"dataframe\">\n  <thead>\n    <tr style=\"text-align: right;\">\n      <th></th>\n      <th>Accuracy</th>\n      <th>F1 Score</th>\n      <th>ROC-AUC Score</th>\n      <th>PR-AUC Score</th>\n    </tr>\n  </thead>\n  <tbody>\n    <tr>\n      <th>Tomek Links</th>\n      <td>0.818500</td>\n      <td>0.484131</td>\n      <td>0.769115</td>\n      <td>0.527357</td>\n    </tr>\n    <tr>\n      <th>Edited Nearest Neighbour</th>\n      <td>0.789333</td>\n      <td>0.541697</td>\n      <td>0.769115</td>\n      <td>0.527357</td>\n    </tr>\n    <tr>\n      <th>Near Miss</th>\n      <td>0.493333</td>\n      <td>0.393456</td>\n      <td>0.769115</td>\n      <td>0.527357</td>\n    </tr>\n    <tr>\n      <th>One Sided Selection</th>\n      <td>0.819167</td>\n      <td>0.486026</td>\n      <td>0.769115</td>\n      <td>0.527357</td>\n    </tr>\n  </tbody>\n</table>\n</div>"
     },
     "metadata": {},
     "execution_count": 57
    }
   ],
   "source": [
    "data = {'Accuracy': [accuracy_score(y_valid, y_pred_tl),\n",
    "                     accuracy_score(y_valid, y_pred_enn),\n",
    "                     accuracy_score(y_valid, y_pred_ns),\n",
    "                     accuracy_score(y_valid, y_pred_oss)],\n",
    "        'F1 Score': [f1_score(y_valid, y_pred_tl),\n",
    "                     f1_score(y_valid, y_pred_enn),\n",
    "                     f1_score(y_valid, y_pred_ns),\n",
    "                     f1_score(y_valid, y_pred_oss)],\n",
    "        'ROC-AUC Score': [auc(X_valid_ss, y_valid, tlm),\n",
    "                          auc(X_valid_ss, y_valid, ennm),\n",
    "                          auc(X_valid_ss, y_valid, nsm),\n",
    "                          auc(X_valid_ss, y_valid, ossm)],\n",
    "        'PR-AUC Score': [aps(X_valid_ss, y_valid, tlm),\n",
    "                         aps(X_valid_ss, y_valid, ennm),\n",
    "                         aps(X_valid_ss, y_valid, nsm),\n",
    "                         aps(X_valid_ss, y_valid, ossm)]}\n",
    "\n",
    "scores2 = pd.DataFrame(data=data, index = ['Tomek Links',\n",
    "                                           'Edited Nearest Neighbour',\n",
    "                                           'Near Miss',\n",
    "                                           'One Sided Selection'])\n",
    "\n",
    "scores2"
   ]
  },
  {
   "cell_type": "code",
   "execution_count": 58,
   "metadata": {},
   "outputs": [],
   "source": [
    "scores2.to_csv(\"data/scores2.csv\")"
   ]
  },
  {
   "source": [
    "# Oversampling Methods\n"
   ],
   "cell_type": "markdown",
   "metadata": {}
  },
  {
   "source": [
    "## SMOTE"
   ],
   "cell_type": "markdown",
   "metadata": {}
  },
  {
   "cell_type": "code",
   "execution_count": 34,
   "metadata": {},
   "outputs": [
    {
     "output_type": "stream",
     "name": "stdout",
     "text": [
      "Training Count:  Counter({0: 18677, 1: 18677})\n",
      "Accuracy Score:  0.7946666666666666\n",
      "F1 Score:  0.5202492211838006\n",
      "ROC-AUC Score:  0.7689508713882007\n",
      "Recall Score:  0.5087585681645087\n",
      "Precision Score:  0.5322709163346614\n",
      "PR-AUC Score:  0.5294679952321515\n"
     ]
    }
   ],
   "source": [
    "sm = SMOTE(sampling_strategy='minority', random_state=42)\n",
    "run_resampling(X_train_ss, y_train, X_valid_ss, y_valid, sm, gbc)"
   ]
  },
  {
   "cell_type": "code",
   "execution_count": 35,
   "metadata": {},
   "outputs": [],
   "source": [
    "X_train_sm, y_train_sm = sm.fit_sample(X_train_ss, y_train)\n",
    "smm = gbc.fit(X_train_sm, y_train_sm)\n",
    "y_pred_sm = smm.predict(X_valid_ss)"
   ]
  },
  {
   "source": [
    "## SVMSMOTE\n",
    "\n",
    "- Variant of SMOTE algorithm which uses an SVM algorithm to detect sample for generating new synthetic samples"
   ],
   "cell_type": "markdown",
   "metadata": {}
  },
  {
   "cell_type": "code",
   "execution_count": 36,
   "metadata": {},
   "outputs": [
    {
     "output_type": "stream",
     "name": "stdout",
     "text": [
      "Training Count:  Counter({0: 18677, 1: 18677})\n",
      "Accuracy Score:  0.7908333333333334\n",
      "F1 Score:  0.5297864368677407\n",
      "ROC-AUC Score:  0.772568418976115\n",
      "Recall Score:  0.5384615384615384\n",
      "Precision Score:  0.5213864306784661\n",
      "PR-AUC Score:  0.5265412967988327\n"
     ]
    }
   ],
   "source": [
    "svmsm = SVMSMOTE()\n",
    "run_resampling(X_train_ss, y_train, X_valid_ss, y_valid, svmsm, gbc)"
   ]
  },
  {
   "cell_type": "code",
   "execution_count": 37,
   "metadata": {},
   "outputs": [],
   "source": [
    "X_train_svm, y_train_svm = svmsm.fit_sample(X_train_ss, y_train)\n",
    "svmsmote = gbc.fit(X_train_svm, y_train_svm)\n",
    "y_pred_svmsm = svmsmote.predict(X_valid_ss)"
   ]
  },
  {
   "source": [
    "## ADASYN\n",
    "\n",
    "- Oversample using Adaptive Synthetic (ADASYN) algorithm"
   ],
   "cell_type": "markdown",
   "metadata": {}
  },
  {
   "cell_type": "code",
   "execution_count": 42,
   "metadata": {},
   "outputs": [
    {
     "output_type": "stream",
     "name": "stdout",
     "text": [
      "Training Count:  Counter({0: 18677, 1: 18190})\n",
      "Accuracy Score:  0.7851666666666667\n",
      "F1 Score:  0.5044213763936947\n",
      "ROC-AUC Score:  0.7611706050879498\n",
      "Recall Score:  0.49961919268849964\n",
      "Precision Score:  0.5093167701863354\n",
      "PR-AUC Score:  0.526363676038874\n"
     ]
    }
   ],
   "source": [
    "adsn = ADASYN()\n",
    "run_resampling(X_train_ss, y_train, X_valid_ss, y_valid, adsn, gbc)"
   ]
  },
  {
   "cell_type": "code",
   "execution_count": 43,
   "metadata": {},
   "outputs": [],
   "source": [
    "X_train_adsn, y_train_adsn = adsn.fit_sample(X_train_ss, y_train)\n",
    "adsnm = gbc.fit(X_train_adsn, y_train_adsn)\n",
    "y_pred_adsnm = adsnm.predict(X_valid_ss)"
   ]
  },
  {
   "source": [
    "## Oversampling Metrics Dataframe"
   ],
   "cell_type": "markdown",
   "metadata": {}
  },
  {
   "cell_type": "code",
   "execution_count": 44,
   "metadata": {},
   "outputs": [
    {
     "output_type": "execute_result",
     "data": {
      "text/plain": [
       "          Accuracy  F1 Score  ROC-AUC Score  PR-AUC Score\n",
       "SMOTE     0.794667  0.520249        0.76353      0.523697\n",
       "SVMSMOTE  0.794167  0.524817        0.76353      0.523697\n",
       "ADASYN    0.786500  0.505596        0.76353      0.523697"
      ],
      "text/html": "<div>\n<style scoped>\n    .dataframe tbody tr th:only-of-type {\n        vertical-align: middle;\n    }\n\n    .dataframe tbody tr th {\n        vertical-align: top;\n    }\n\n    .dataframe thead th {\n        text-align: right;\n    }\n</style>\n<table border=\"1\" class=\"dataframe\">\n  <thead>\n    <tr style=\"text-align: right;\">\n      <th></th>\n      <th>Accuracy</th>\n      <th>F1 Score</th>\n      <th>ROC-AUC Score</th>\n      <th>PR-AUC Score</th>\n    </tr>\n  </thead>\n  <tbody>\n    <tr>\n      <th>SMOTE</th>\n      <td>0.794667</td>\n      <td>0.520249</td>\n      <td>0.76353</td>\n      <td>0.523697</td>\n    </tr>\n    <tr>\n      <th>SVMSMOTE</th>\n      <td>0.794167</td>\n      <td>0.524817</td>\n      <td>0.76353</td>\n      <td>0.523697</td>\n    </tr>\n    <tr>\n      <th>ADASYN</th>\n      <td>0.786500</td>\n      <td>0.505596</td>\n      <td>0.76353</td>\n      <td>0.523697</td>\n    </tr>\n  </tbody>\n</table>\n</div>"
     },
     "metadata": {},
     "execution_count": 44
    }
   ],
   "source": [
    "data = {'Accuracy': [accuracy_score(y_valid, y_pred_sm),\n",
    "                     accuracy_score(y_valid, y_pred_svmsm),\n",
    "                     accuracy_score(y_valid, y_pred_adsnm)],\n",
    "        'F1 Score': [f1_score(y_valid, y_pred_sm),\n",
    "                     f1_score(y_valid, y_pred_svmsm),\n",
    "                     f1_score(y_valid, y_pred_adsnm)],\n",
    "        'ROC-AUC Score': [auc(X_valid_ss, y_valid, smm),\n",
    "                          auc(X_valid_ss, y_valid, svmsmote),\n",
    "                          auc(X_valid_ss, y_valid, adsnm)],\n",
    "        'PR-AUC Score': [aps(X_valid_ss, y_valid, smm),\n",
    "                         aps(X_valid_ss, y_valid, svmsmote),\n",
    "                         aps(X_valid_ss, y_valid, adsnm)]}\n",
    "\n",
    "scores3 = pd.DataFrame(data=data, index = ['SMOTE',\n",
    "                                           'SVMSMOTE',\n",
    "                                           'ADASYN'])\n",
    "\n",
    "scores3"
   ]
  },
  {
   "cell_type": "code",
   "execution_count": 45,
   "metadata": {},
   "outputs": [],
   "source": [
    "scores3.to_csv(\"data/scores3.csv\")"
   ]
  },
  {
   "source": [
    "# Combined Methods"
   ],
   "cell_type": "markdown",
   "metadata": {}
  },
  {
   "source": [
    "## SMOTE-Tomek\n",
    "\n",
    "- oversampling using SMOTE and cleaning using Tomek Links"
   ],
   "cell_type": "markdown",
   "metadata": {}
  },
  {
   "cell_type": "code",
   "execution_count": 46,
   "metadata": {},
   "outputs": [
    {
     "output_type": "stream",
     "name": "stdout",
     "text": [
      "Training Count:  Counter({0: 18254, 1: 18254})\n",
      "Accuracy Score:  0.7918333333333333\n",
      "F1 Score:  0.517201391573251\n",
      "ROC-AUC Score:  0.7658645203444702\n",
      "Recall Score:  0.5095201827875095\n",
      "Precision Score:  0.5251177394034537\n",
      "PR-AUC Score:  0.527352648141067\n"
     ]
    }
   ],
   "source": [
    "smtk = SMOTETomek()\n",
    "run_resampling(X_train_ss, y_train, X_valid_ss, y_valid, smtk, gbc)"
   ]
  },
  {
   "cell_type": "code",
   "execution_count": 47,
   "metadata": {},
   "outputs": [],
   "source": [
    "X_train_smt, y_train_smt = smtk.fit_sample(X_train_ss, y_train)\n",
    "smtkm = gbc.fit(X_train_smt, y_train_smt)\n",
    "y_pred_smtk = smtkm.predict(X_valid_ss)"
   ]
  },
  {
   "source": [
    "## SMOTE-ENN\n",
    "\n",
    "- Oversampling using SMOTE and cleaning using ENN"
   ],
   "cell_type": "markdown",
   "metadata": {}
  },
  {
   "cell_type": "code",
   "execution_count": 48,
   "metadata": {},
   "outputs": [
    {
     "output_type": "stream",
     "name": "stdout",
     "text": [
      "Training Count:  Counter({1: 14116, 0: 9713})\n",
      "Accuracy Score:  0.7353333333333333\n",
      "F1 Score:  0.5173252279635259\n",
      "ROC-AUC Score:  0.773236842648339\n",
      "Recall Score:  0.6481340441736482\n",
      "Precision Score:  0.430450177035913\n",
      "PR-AUC Score:  0.5315682901573054\n"
     ]
    }
   ],
   "source": [
    "smenn = SMOTEENN(sampling_strategy=\"minority\", n_jobs= -1)\n",
    "run_resampling(X_train_ss, y_train, X_valid_ss, y_valid, smenn, gbc)"
   ]
  },
  {
   "cell_type": "code",
   "execution_count": 49,
   "metadata": {},
   "outputs": [],
   "source": [
    "X_train_sme, y_train_sme = smenn.fit_sample(X_train_ss, y_train)\n",
    "smennm = gbc.fit(X_train_sme, y_train_sme)\n",
    "y_pred_smenn = smennm.predict(X_valid_ss)"
   ]
  },
  {
   "source": [
    "## Combined Metrics Dataframe"
   ],
   "cell_type": "markdown",
   "metadata": {}
  },
  {
   "cell_type": "code",
   "execution_count": 50,
   "metadata": {},
   "outputs": [
    {
     "output_type": "execute_result",
     "data": {
      "text/plain": [
       "             Accuracy  F1 Score  ROC-AUC Score  PR-AUC Score\n",
       "SMOTE-Tomek    0.7925  0.519119       0.769115      0.527357\n",
       "SMOTE-ENN      0.7220  0.506509       0.769115      0.527357"
      ],
      "text/html": "<div>\n<style scoped>\n    .dataframe tbody tr th:only-of-type {\n        vertical-align: middle;\n    }\n\n    .dataframe tbody tr th {\n        vertical-align: top;\n    }\n\n    .dataframe thead th {\n        text-align: right;\n    }\n</style>\n<table border=\"1\" class=\"dataframe\">\n  <thead>\n    <tr style=\"text-align: right;\">\n      <th></th>\n      <th>Accuracy</th>\n      <th>F1 Score</th>\n      <th>ROC-AUC Score</th>\n      <th>PR-AUC Score</th>\n    </tr>\n  </thead>\n  <tbody>\n    <tr>\n      <th>SMOTE-Tomek</th>\n      <td>0.7925</td>\n      <td>0.519119</td>\n      <td>0.769115</td>\n      <td>0.527357</td>\n    </tr>\n    <tr>\n      <th>SMOTE-ENN</th>\n      <td>0.7220</td>\n      <td>0.506509</td>\n      <td>0.769115</td>\n      <td>0.527357</td>\n    </tr>\n  </tbody>\n</table>\n</div>"
     },
     "metadata": {},
     "execution_count": 50
    }
   ],
   "source": [
    "data = {'Accuracy': [accuracy_score(y_valid, y_pred_smtk),\n",
    "                     accuracy_score(y_valid, y_pred_smenn)],\n",
    "        'F1 Score': [f1_score(y_valid, y_pred_smtk),\n",
    "                     f1_score(y_valid, y_pred_smenn)],\n",
    "        'ROC-AUC Score': [auc(X_valid_ss, y_valid, smtkm),\n",
    "                          auc(X_valid_ss, y_valid, smennm)],\n",
    "        'PR-AUC Score': [aps(X_valid_ss, y_valid, smtkm),\n",
    "                         aps(X_valid_ss, y_valid, smennm)]}\n",
    "\n",
    "scores4 = pd.DataFrame(data=data, index = ['SMOTE-Tomek',\n",
    "                                           'SMOTE-ENN'])\n",
    "\n",
    "scores4"
   ]
  },
  {
   "cell_type": "code",
   "execution_count": 51,
   "metadata": {},
   "outputs": [],
   "source": [
    "scores4.to_csv(\"data/scores4.csv\")"
   ]
  },
  {
   "source": [
    "# Metrics Dataframe"
   ],
   "cell_type": "markdown",
   "metadata": {}
  },
  {
   "cell_type": "code",
   "execution_count": 62,
   "metadata": {},
   "outputs": [
    {
     "output_type": "execute_result",
     "data": {
      "text/plain": [
       "                                   Accuracy  F1 Score  ROC-AUC Score  \\\n",
       "Gradient Boosting Classifier       0.819833  0.462456       0.769115   \n",
       "Balanced Bagging Classifier        0.777833  0.518946       0.761789   \n",
       "Balanced Random Forest Classifier  0.744333  0.517003       0.771439   \n",
       "RUBoost Classifier                 0.752333  0.521263       0.766035   \n",
       "Easy Ensemble Classifier           0.759167  0.529163       0.776837   \n",
       "Tomek Links                        0.818500  0.484131       0.769115   \n",
       "Edited Nearest Neighbour           0.789333  0.541697       0.769115   \n",
       "Near Miss                          0.493333  0.393456       0.769115   \n",
       "One Sided Selection                0.819167  0.486026       0.769115   \n",
       "SMOTE                              0.794667  0.520249       0.763530   \n",
       "SVMSMOTE                           0.794167  0.524817       0.763530   \n",
       "ADASYN                             0.786500  0.505596       0.763530   \n",
       "SMOTE-Tomek                        0.792500  0.519119       0.769115   \n",
       "SMOTE-ENN                          0.722000  0.506509       0.769115   \n",
       "\n",
       "                                   PR-AUC Score  \n",
       "Gradient Boosting Classifier           0.527357  \n",
       "Balanced Bagging Classifier            0.514169  \n",
       "Balanced Random Forest Classifier      0.525056  \n",
       "RUBoost Classifier                     0.518116  \n",
       "Easy Ensemble Classifier               0.532766  \n",
       "Tomek Links                            0.527357  \n",
       "Edited Nearest Neighbour               0.527357  \n",
       "Near Miss                              0.527357  \n",
       "One Sided Selection                    0.527357  \n",
       "SMOTE                                  0.523697  \n",
       "SVMSMOTE                               0.523697  \n",
       "ADASYN                                 0.523697  \n",
       "SMOTE-Tomek                            0.527357  \n",
       "SMOTE-ENN                              0.527357  "
      ],
      "text/html": "<div>\n<style scoped>\n    .dataframe tbody tr th:only-of-type {\n        vertical-align: middle;\n    }\n\n    .dataframe tbody tr th {\n        vertical-align: top;\n    }\n\n    .dataframe thead th {\n        text-align: right;\n    }\n</style>\n<table border=\"1\" class=\"dataframe\">\n  <thead>\n    <tr style=\"text-align: right;\">\n      <th></th>\n      <th>Accuracy</th>\n      <th>F1 Score</th>\n      <th>ROC-AUC Score</th>\n      <th>PR-AUC Score</th>\n    </tr>\n  </thead>\n  <tbody>\n    <tr>\n      <th>Gradient Boosting Classifier</th>\n      <td>0.819833</td>\n      <td>0.462456</td>\n      <td>0.769115</td>\n      <td>0.527357</td>\n    </tr>\n    <tr>\n      <th>Balanced Bagging Classifier</th>\n      <td>0.777833</td>\n      <td>0.518946</td>\n      <td>0.761789</td>\n      <td>0.514169</td>\n    </tr>\n    <tr>\n      <th>Balanced Random Forest Classifier</th>\n      <td>0.744333</td>\n      <td>0.517003</td>\n      <td>0.771439</td>\n      <td>0.525056</td>\n    </tr>\n    <tr>\n      <th>RUBoost Classifier</th>\n      <td>0.752333</td>\n      <td>0.521263</td>\n      <td>0.766035</td>\n      <td>0.518116</td>\n    </tr>\n    <tr>\n      <th>Easy Ensemble Classifier</th>\n      <td>0.759167</td>\n      <td>0.529163</td>\n      <td>0.776837</td>\n      <td>0.532766</td>\n    </tr>\n    <tr>\n      <th>Tomek Links</th>\n      <td>0.818500</td>\n      <td>0.484131</td>\n      <td>0.769115</td>\n      <td>0.527357</td>\n    </tr>\n    <tr>\n      <th>Edited Nearest Neighbour</th>\n      <td>0.789333</td>\n      <td>0.541697</td>\n      <td>0.769115</td>\n      <td>0.527357</td>\n    </tr>\n    <tr>\n      <th>Near Miss</th>\n      <td>0.493333</td>\n      <td>0.393456</td>\n      <td>0.769115</td>\n      <td>0.527357</td>\n    </tr>\n    <tr>\n      <th>One Sided Selection</th>\n      <td>0.819167</td>\n      <td>0.486026</td>\n      <td>0.769115</td>\n      <td>0.527357</td>\n    </tr>\n    <tr>\n      <th>SMOTE</th>\n      <td>0.794667</td>\n      <td>0.520249</td>\n      <td>0.763530</td>\n      <td>0.523697</td>\n    </tr>\n    <tr>\n      <th>SVMSMOTE</th>\n      <td>0.794167</td>\n      <td>0.524817</td>\n      <td>0.763530</td>\n      <td>0.523697</td>\n    </tr>\n    <tr>\n      <th>ADASYN</th>\n      <td>0.786500</td>\n      <td>0.505596</td>\n      <td>0.763530</td>\n      <td>0.523697</td>\n    </tr>\n    <tr>\n      <th>SMOTE-Tomek</th>\n      <td>0.792500</td>\n      <td>0.519119</td>\n      <td>0.769115</td>\n      <td>0.527357</td>\n    </tr>\n    <tr>\n      <th>SMOTE-ENN</th>\n      <td>0.722000</td>\n      <td>0.506509</td>\n      <td>0.769115</td>\n      <td>0.527357</td>\n    </tr>\n  </tbody>\n</table>\n</div>"
     },
     "metadata": {},
     "execution_count": 62
    }
   ],
   "source": [
    "scores_comb = pd.concat([scores, scores2, scores3, scores4], axis=0)\n",
    "scores_comb"
   ]
  },
  {
   "cell_type": "code",
   "execution_count": 60,
   "metadata": {},
   "outputs": [],
   "source": [
    "scores_comb.to_csv('data/imbalanced_scores.csv')"
   ]
  },
  {
   "cell_type": "code",
   "execution_count": null,
   "metadata": {},
   "outputs": [],
   "source": []
  }
 ]
}
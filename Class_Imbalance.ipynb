{
 "metadata": {
  "language_info": {
   "codemirror_mode": {
    "name": "ipython",
    "version": 3
   },
   "file_extension": ".py",
   "mimetype": "text/x-python",
   "name": "python",
   "nbconvert_exporter": "python",
   "pygments_lexer": "ipython3",
   "version": "3.9.1-final"
  },
  "orig_nbformat": 2,
  "kernelspec": {
   "name": "python3",
   "display_name": "Python 3",
   "language": "python"
  }
 },
 "nbformat": 4,
 "nbformat_minor": 2,
 "cells": [
  {
   "source": [
    "# Importing Packages"
   ],
   "cell_type": "markdown",
   "metadata": {}
  },
  {
   "cell_type": "code",
   "execution_count": 58,
   "metadata": {},
   "outputs": [
    {
     "output_type": "stream",
     "name": "stderr",
     "text": [
      "2021-02-22 17:22:27,517:DEBUG:Loaded backend module://ipykernel.pylab.backend_inline version unknown.\n"
     ]
    }
   ],
   "source": [
    "import numpy as np \n",
    "import pandas as pd\n",
    "from matplotlib import pyplot as plt\n",
    "%matplotlib inline\n",
    "plt.style.use(\"fivethirtyeight\")\n",
    "import seaborn as sns\n",
    "import warnings\n",
    "warnings.filterwarnings('ignore')\n",
    "from collections import Counter\n",
    "import pickle\n",
    "\n",
    "%reload_ext autoreload\n",
    "%autoreload 2\n",
    "from utils import *\n",
    "\n",
    "import smote_variants as sv\n",
    "import imbalanced_databases as imbd\n",
    "import xgboost as xgb\n",
    "\n",
    "from sklearn.linear_model import LogisticRegression\n",
    "from sklearn.tree import DecisionTreeClassifier\n",
    "from sklearn.experimental import enable_hist_gradient_boosting\n",
    "from sklearn.ensemble import AdaBoostClassifier, GradientBoostingClassifier, RandomForestClassifier, BaggingClassifier, HistGradientBoostingClassifier\n",
    "from sklearn.model_selection import train_test_split, KFold, cross_val_score, cross_val_predict, GridSearchCV,RepeatedStratifiedKFold, cross_validate\n",
    "from sklearn.metrics import accuracy_score, confusion_matrix, precision_score, recall_score, f1_score, precision_recall_curve, roc_curve, roc_auc_score, classification_report, plot_confusion_matrix, auc, mean_squared_error, confusion_matrix, balanced_accuracy_score\n",
    "from sklearn.preprocessing import StandardScaler, MinMaxScaler\n",
    "from sklearn.utils import resample\n",
    "from sklearn.dummy import DummyClassifier\n",
    "\n",
    "from imblearn.under_sampling import CondensedNearestNeighbour, NearMiss, OneSidedSelection, NeighbourhoodCleaningRule, RandomUnderSampler, TomekLinks, EditedNearestNeighbours\n",
    "from imblearn.combine import SMOTETomek, SMOTEENN\n",
    "from imblearn.over_sampling import RandomOverSampler, SMOTE, ADASYN, SVMSMOTE\n",
    "from imblearn.ensemble import BalancedBaggingClassifier, BalancedRandomForestClassifier, EasyEnsembleClassifier, RUSBoostClassifier\n",
    "\n",
    "from xgboost.sklearn import XGBClassifier"
   ]
  },
  {
   "source": [
    "# Importing Training and Validation Datasets"
   ],
   "cell_type": "markdown",
   "metadata": {}
  },
  {
   "cell_type": "code",
   "execution_count": 3,
   "metadata": {},
   "outputs": [],
   "source": [
    "pickle_in = open(\"data/training_model.pickle\",\"rb\")\n",
    "train = pickle.load(pickle_in)\n",
    "pickle_in = open(\"data/validate_model.pickle\",\"rb\")\n",
    "validate = pickle.load(pickle_in)"
   ]
  },
  {
   "cell_type": "code",
   "execution_count": 4,
   "metadata": {},
   "outputs": [],
   "source": [
    "X_train = train.drop([\"default\"], axis=1)\n",
    "y_tr = train[\"default\"]\n",
    "X_validate = validate.drop([\"default\"], axis=1)\n",
    "y_val = validate[\"default\"]"
   ]
  },
  {
   "cell_type": "code",
   "execution_count": 5,
   "metadata": {},
   "outputs": [
    {
     "output_type": "execute_result",
     "data": {
      "text/plain": [
       "     limit  behind1    paid2  delayed  latemths  age  behind2  billed1  \\\n",
       "0  1790.26        0   179.13        0         0   44        0  1631.93   \n",
       "1  5728.83       -1   173.87        0         0   46       -1   891.69   \n",
       "2  3580.52       -1     0.00        0         0   47       -1   238.68   \n",
       "3  6086.88        0    89.26        0         0   29        0  2831.87   \n",
       "4  5370.78       -2  1171.37        0         0   33       -2   873.40   \n",
       "\n",
       "     avg_av    avail1  \n",
       "0  0.344578  0.088440  \n",
       "1  0.957227  0.844350  \n",
       "2  0.968650  0.933339  \n",
       "3  0.650602  0.534758  \n",
       "4  0.836153  0.837379  "
      ],
      "text/html": "<div>\n<style scoped>\n    .dataframe tbody tr th:only-of-type {\n        vertical-align: middle;\n    }\n\n    .dataframe tbody tr th {\n        vertical-align: top;\n    }\n\n    .dataframe thead th {\n        text-align: right;\n    }\n</style>\n<table border=\"1\" class=\"dataframe\">\n  <thead>\n    <tr style=\"text-align: right;\">\n      <th></th>\n      <th>limit</th>\n      <th>behind1</th>\n      <th>paid2</th>\n      <th>delayed</th>\n      <th>latemths</th>\n      <th>age</th>\n      <th>behind2</th>\n      <th>billed1</th>\n      <th>avg_av</th>\n      <th>avail1</th>\n    </tr>\n  </thead>\n  <tbody>\n    <tr>\n      <th>0</th>\n      <td>1790.26</td>\n      <td>0</td>\n      <td>179.13</td>\n      <td>0</td>\n      <td>0</td>\n      <td>44</td>\n      <td>0</td>\n      <td>1631.93</td>\n      <td>0.344578</td>\n      <td>0.088440</td>\n    </tr>\n    <tr>\n      <th>1</th>\n      <td>5728.83</td>\n      <td>-1</td>\n      <td>173.87</td>\n      <td>0</td>\n      <td>0</td>\n      <td>46</td>\n      <td>-1</td>\n      <td>891.69</td>\n      <td>0.957227</td>\n      <td>0.844350</td>\n    </tr>\n    <tr>\n      <th>2</th>\n      <td>3580.52</td>\n      <td>-1</td>\n      <td>0.00</td>\n      <td>0</td>\n      <td>0</td>\n      <td>47</td>\n      <td>-1</td>\n      <td>238.68</td>\n      <td>0.968650</td>\n      <td>0.933339</td>\n    </tr>\n    <tr>\n      <th>3</th>\n      <td>6086.88</td>\n      <td>0</td>\n      <td>89.26</td>\n      <td>0</td>\n      <td>0</td>\n      <td>29</td>\n      <td>0</td>\n      <td>2831.87</td>\n      <td>0.650602</td>\n      <td>0.534758</td>\n    </tr>\n    <tr>\n      <th>4</th>\n      <td>5370.78</td>\n      <td>-2</td>\n      <td>1171.37</td>\n      <td>0</td>\n      <td>0</td>\n      <td>33</td>\n      <td>-2</td>\n      <td>873.40</td>\n      <td>0.836153</td>\n      <td>0.837379</td>\n    </tr>\n  </tbody>\n</table>\n</div>"
     },
     "metadata": {},
     "execution_count": 5
    }
   ],
   "source": [
    "X_train.head()"
   ]
  },
  {
   "cell_type": "code",
   "execution_count": 6,
   "metadata": {},
   "outputs": [
    {
     "output_type": "execute_result",
     "data": {
      "text/plain": [
       "     limit  behind1   paid2  delayed  latemths  age  behind2  billed1  \\\n",
       "0  1074.16        0   71.61        0         0   25        0   317.38   \n",
       "1  5370.78        0  151.64        0         0   26        0  4895.86   \n",
       "2  2506.36        0  111.43        0         0   32        0  2510.73   \n",
       "3  4654.68        0   64.74        0         0   49        0   740.38   \n",
       "4  1790.26        0   53.71        1         1   36        0  3373.85   \n",
       "\n",
       "     avg_av    avail1  \n",
       "0  0.602052  0.704532  \n",
       "1  0.293715  0.088427  \n",
       "2  0.005217 -0.001744  \n",
       "3  0.883482  0.840939  \n",
       "4  0.188227 -0.884559  "
      ],
      "text/html": "<div>\n<style scoped>\n    .dataframe tbody tr th:only-of-type {\n        vertical-align: middle;\n    }\n\n    .dataframe tbody tr th {\n        vertical-align: top;\n    }\n\n    .dataframe thead th {\n        text-align: right;\n    }\n</style>\n<table border=\"1\" class=\"dataframe\">\n  <thead>\n    <tr style=\"text-align: right;\">\n      <th></th>\n      <th>limit</th>\n      <th>behind1</th>\n      <th>paid2</th>\n      <th>delayed</th>\n      <th>latemths</th>\n      <th>age</th>\n      <th>behind2</th>\n      <th>billed1</th>\n      <th>avg_av</th>\n      <th>avail1</th>\n    </tr>\n  </thead>\n  <tbody>\n    <tr>\n      <th>0</th>\n      <td>1074.16</td>\n      <td>0</td>\n      <td>71.61</td>\n      <td>0</td>\n      <td>0</td>\n      <td>25</td>\n      <td>0</td>\n      <td>317.38</td>\n      <td>0.602052</td>\n      <td>0.704532</td>\n    </tr>\n    <tr>\n      <th>1</th>\n      <td>5370.78</td>\n      <td>0</td>\n      <td>151.64</td>\n      <td>0</td>\n      <td>0</td>\n      <td>26</td>\n      <td>0</td>\n      <td>4895.86</td>\n      <td>0.293715</td>\n      <td>0.088427</td>\n    </tr>\n    <tr>\n      <th>2</th>\n      <td>2506.36</td>\n      <td>0</td>\n      <td>111.43</td>\n      <td>0</td>\n      <td>0</td>\n      <td>32</td>\n      <td>0</td>\n      <td>2510.73</td>\n      <td>0.005217</td>\n      <td>-0.001744</td>\n    </tr>\n    <tr>\n      <th>3</th>\n      <td>4654.68</td>\n      <td>0</td>\n      <td>64.74</td>\n      <td>0</td>\n      <td>0</td>\n      <td>49</td>\n      <td>0</td>\n      <td>740.38</td>\n      <td>0.883482</td>\n      <td>0.840939</td>\n    </tr>\n    <tr>\n      <th>4</th>\n      <td>1790.26</td>\n      <td>0</td>\n      <td>53.71</td>\n      <td>1</td>\n      <td>1</td>\n      <td>36</td>\n      <td>0</td>\n      <td>3373.85</td>\n      <td>0.188227</td>\n      <td>-0.884559</td>\n    </tr>\n  </tbody>\n</table>\n</div>"
     },
     "metadata": {},
     "execution_count": 6
    }
   ],
   "source": [
    "X_validate.head()"
   ]
  },
  {
   "source": [
    "# Standardize Datasets"
   ],
   "cell_type": "markdown",
   "metadata": {}
  },
  {
   "cell_type": "code",
   "execution_count": 7,
   "metadata": {},
   "outputs": [],
   "source": [
    "scaler = StandardScaler()\n",
    "scaler.fit(X_train)\n",
    "X_tr_ss = scaler.transform(X_train)\n",
    "X_val_ss = scaler.transform(X_validate)"
   ]
  },
  {
   "cell_type": "code",
   "execution_count": 8,
   "metadata": {},
   "outputs": [],
   "source": [
    "scaled = MinMaxScaler()\n",
    "scaled.fit(X_train)\n",
    "X_tr = scaled.transform(X_train)\n",
    "X_val = scaled.transform(X_validate)"
   ]
  },
  {
   "source": [
    "# Importing Model"
   ],
   "cell_type": "markdown",
   "metadata": {}
  },
  {
   "cell_type": "code",
   "execution_count": 9,
   "metadata": {},
   "outputs": [],
   "source": [
    "pickle_in = open(\"data/best_model.pickle\",\"rb\")\n",
    "rfcb = pickle.load(pickle_in)"
   ]
  },
  {
   "cell_type": "code",
   "execution_count": 10,
   "metadata": {},
   "outputs": [
    {
     "output_type": "execute_result",
     "data": {
      "text/plain": [
       "RandomForestClassifier(max_depth=8, n_estimators=400)"
      ]
     },
     "metadata": {},
     "execution_count": 10
    }
   ],
   "source": [
    "rfcb"
   ]
  },
  {
   "source": [
    "# Dummy Classifier"
   ],
   "cell_type": "markdown",
   "metadata": {}
  },
  {
   "cell_type": "code",
   "execution_count": 11,
   "metadata": {},
   "outputs": [
    {
     "output_type": "stream",
     "name": "stdout",
     "text": [
      "Training Accuracy:  0.7782857142857142\nValidation Accuracy:  0.7811666666666667\nTraining F1 Score:  0.0\nValidation F1 Score:  0.0\nTraining AUC Score:  0.5\nValidation AUC Score:  0.5\nTraining Recall Score:  0.0\nValidation Recall Score:  0.0\nTraining Precision Score:  0.0\nValidation Precision Score:  0.0\nTraining Average Precision Score:  0.22171428571428572\nValidation Average Precision Score:  0.21883333333333332\n"
     ]
    }
   ],
   "source": [
    "dc = DummyClassifier(strategy='most_frequent').fit(X_tr, y_tr)\n",
    "y_pred_dc_tr = dc.predict(X_tr)\n",
    "y_pred_dc_val = dc.predict(X_val)\n",
    "get_metric(X_tr, y_tr, X_val, y_val, y_pred_dc_tr, y_pred_dc_val, dc)"
   ]
  },
  {
   "source": [
    "# Ensemble Methods"
   ],
   "cell_type": "markdown",
   "metadata": {}
  },
  {
   "source": [
    "## Bagging Classifier\n",
    "\n",
    "Instead of using a single tree, we will check if an ensemble of decsion tree can actually alleviate the issue induced by the class imbalancing. First, we will use a bagging classifier and its counter part which internally uses a random under-sampling to balanced each boostrap sample.\n",
    "\n",
    "Balancing each bootstrap sample allows to increase significantly the balanced accuracy and the geometric mean."
   ],
   "cell_type": "markdown",
   "metadata": {}
  },
  {
   "cell_type": "code",
   "execution_count": 61,
   "metadata": {},
   "outputs": [
    {
     "output_type": "stream",
     "name": "stdout",
     "text": [
      "Training Accuracy:  0.996904761904762\nValidation Accuracy:  0.807\nTraining F1 Score:  0.9929964443486693\nValidation F1 Score:  0.44326923076923075\nTraining AUC Score:  0.9998954304300327\nValidation AUC Score:  0.740359286457933\nTraining Recall Score:  0.9896907216494846\nValidation Recall Score:  0.3511043412033511\nTraining Precision Score:  0.9963243243243243\nValidation Precision Score:  0.6010430247718384\nTraining Average Precision Score:  0.9996190235446103\nValidation Average Precision Score:  0.48114820511254575\n\nTraining Balanced Accuracy:  0.9943252922980659\n"
     ]
    },
    {
     "output_type": "error",
     "ename": "NameError",
     "evalue": "name 'geometric_mean_score' is not defined",
     "traceback": [
      "\u001b[0;31m---------------------------------------------------------------------------\u001b[0m",
      "\u001b[0;31mNameError\u001b[0m                                 Traceback (most recent call last)",
      "\u001b[0;32m<ipython-input-61-ac47cc66bd25>\u001b[0m in \u001b[0;36m<module>\u001b[0;34m\u001b[0m\n\u001b[1;32m      5\u001b[0m \u001b[0mprint\u001b[0m\u001b[0;34m(\u001b[0m\u001b[0;34m\"\"\u001b[0m\u001b[0;34m)\u001b[0m\u001b[0;34m\u001b[0m\u001b[0;34m\u001b[0m\u001b[0m\n\u001b[1;32m      6\u001b[0m \u001b[0mprint\u001b[0m\u001b[0;34m(\u001b[0m\u001b[0;34m'Training Balanced Accuracy: '\u001b[0m\u001b[0;34m,\u001b[0m \u001b[0mbalanced_accuracy_score\u001b[0m\u001b[0;34m(\u001b[0m\u001b[0my_tr\u001b[0m\u001b[0;34m,\u001b[0m \u001b[0my_pred_bc_tr\u001b[0m\u001b[0;34m)\u001b[0m\u001b[0;34m)\u001b[0m\u001b[0;34m\u001b[0m\u001b[0;34m\u001b[0m\u001b[0m\n\u001b[0;32m----> 7\u001b[0;31m \u001b[0mprint\u001b[0m\u001b[0;34m(\u001b[0m\u001b[0;34m'Training Geometric Mean: '\u001b[0m\u001b[0;34m,\u001b[0m \u001b[0mgeometric_mean_score\u001b[0m\u001b[0;34m(\u001b[0m\u001b[0my_tr\u001b[0m\u001b[0;34m,\u001b[0m \u001b[0my_pred_bc_tr\u001b[0m\u001b[0;34m)\u001b[0m\u001b[0;34m)\u001b[0m\u001b[0;34m\u001b[0m\u001b[0;34m\u001b[0m\u001b[0m\n\u001b[0m\u001b[1;32m      8\u001b[0m \u001b[0mprint\u001b[0m\u001b[0;34m(\u001b[0m\u001b[0;34m'Validation Balanced Accuracy: '\u001b[0m\u001b[0;34m,\u001b[0m \u001b[0mbalanced_accuracy_score\u001b[0m\u001b[0;34m(\u001b[0m\u001b[0my_val\u001b[0m\u001b[0;34m,\u001b[0m \u001b[0my_pred_bc_val\u001b[0m\u001b[0;34m)\u001b[0m\u001b[0;34m)\u001b[0m\u001b[0;34m\u001b[0m\u001b[0;34m\u001b[0m\u001b[0m\n\u001b[1;32m      9\u001b[0m \u001b[0mprint\u001b[0m\u001b[0;34m(\u001b[0m\u001b[0;34m'Validation Geometric Mean: '\u001b[0m\u001b[0;34m,\u001b[0m \u001b[0mgeometric_mean_score\u001b[0m\u001b[0;34m(\u001b[0m\u001b[0my_val\u001b[0m\u001b[0;34m,\u001b[0m \u001b[0my_pred_bc_val\u001b[0m\u001b[0;34m)\u001b[0m\u001b[0;34m)\u001b[0m\u001b[0;34m\u001b[0m\u001b[0;34m\u001b[0m\u001b[0m\n",
      "\u001b[0;31mNameError\u001b[0m: name 'geometric_mean_score' is not defined"
     ]
    }
   ],
   "source": [
    "bc = BaggingClassifier(n_estimators=50, random_state=42).fit(X_tr_ss, y_tr)\n",
    "y_pred_bc_tr = bc.predict(X_tr_ss)\n",
    "y_pred_bc_val = bc.predict(X_val_ss)\n",
    "get_metric(X_tr_ss, y_tr, X_val_ss, y_val, y_pred_bc_tr, y_pred_bc_val, bc)\n",
    "print(\"\")\n",
    "print('Training Balanced Accuracy: ', balanced_accuracy_score(y_tr, y_pred_bc_tr))\n",
    "print('Training Geometric Mean: ', geometric_mean_score(y_tr, y_pred_bc_tr))\n",
    "print('Validation Balanced Accuracy: ', balanced_accuracy_score(y_val, y_pred_bc_val))\n",
    "print('Validation Geometric Mean: ', geometric_mean_score(y_val, y_pred_bc_val))"
   ]
  },
  {
   "source": [
    "## Balanced Bagging Classifier\n",
    "\n",
    "A Bagging classifier with additional balancing.\n",
    "\n",
    "This implementation of Bagging is similar to the scikit-learn implementation. It includes an additional step to balance the training set at fit time using a given sampler.\n",
    "\n",
    "This classifier can serves as a basis to implement various methods such as Exactly Balanced Bagging [6], Roughly Balanced Bagging [7], Over-Bagging [6], or SMOTE-Bagging [8]."
   ],
   "cell_type": "markdown",
   "metadata": {}
  },
  {
   "cell_type": "code",
   "execution_count": 63,
   "metadata": {},
   "outputs": [
    {
     "output_type": "stream",
     "name": "stdout",
     "text": [
      "Training Accuracy:  0.9383333333333334\nValidation Accuracy:  0.7631666666666667\nTraining F1 Score:  0.8778186621379375\nValidation F1 Score:  0.5111799105607154\nTraining AUC Score:  0.9955504481714446\nValidation AUC Score:  0.7528188434539899\nTraining Recall Score:  0.9991408934707904\nValidation Recall Score:  0.5658796648895659\nTraining Precision Score:  0.7827696449604576\nValidation Precision Score:  0.46612296110414053\nTraining Average Precision Score:  0.9819759873453777\nValidation Average Precision Score:  0.499848233823849\n\nTraining Balanced Accuracy:  0.9600758309742596\n"
     ]
    },
    {
     "output_type": "error",
     "ename": "NameError",
     "evalue": "name 'geometric_mean_score' is not defined",
     "traceback": [
      "\u001b[0;31m---------------------------------------------------------------------------\u001b[0m",
      "\u001b[0;31mNameError\u001b[0m                                 Traceback (most recent call last)",
      "\u001b[0;32m<ipython-input-63-8d4c38438cef>\u001b[0m in \u001b[0;36m<module>\u001b[0;34m\u001b[0m\n\u001b[1;32m      5\u001b[0m \u001b[0mprint\u001b[0m\u001b[0;34m(\u001b[0m\u001b[0;34m\"\"\u001b[0m\u001b[0;34m)\u001b[0m\u001b[0;34m\u001b[0m\u001b[0;34m\u001b[0m\u001b[0m\n\u001b[1;32m      6\u001b[0m \u001b[0mprint\u001b[0m\u001b[0;34m(\u001b[0m\u001b[0;34m'Training Balanced Accuracy: '\u001b[0m\u001b[0;34m,\u001b[0m \u001b[0mbalanced_accuracy_score\u001b[0m\u001b[0;34m(\u001b[0m\u001b[0my_tr\u001b[0m\u001b[0;34m,\u001b[0m \u001b[0my_pred_bbc_tr\u001b[0m\u001b[0;34m)\u001b[0m\u001b[0;34m)\u001b[0m\u001b[0;34m\u001b[0m\u001b[0;34m\u001b[0m\u001b[0m\n\u001b[0;32m----> 7\u001b[0;31m \u001b[0mprint\u001b[0m\u001b[0;34m(\u001b[0m\u001b[0;34m'Training Geometric Mean: '\u001b[0m\u001b[0;34m,\u001b[0m \u001b[0mgeometric_mean_score\u001b[0m\u001b[0;34m(\u001b[0m\u001b[0my_tr\u001b[0m\u001b[0;34m,\u001b[0m \u001b[0my_pred_bbc_tr\u001b[0m\u001b[0;34m)\u001b[0m\u001b[0;34m)\u001b[0m\u001b[0;34m\u001b[0m\u001b[0;34m\u001b[0m\u001b[0m\n\u001b[0m\u001b[1;32m      8\u001b[0m \u001b[0mprint\u001b[0m\u001b[0;34m(\u001b[0m\u001b[0;34m'Validation Balanced Accuracy: '\u001b[0m\u001b[0;34m,\u001b[0m \u001b[0mbalanced_accuracy_score\u001b[0m\u001b[0;34m(\u001b[0m\u001b[0my_val\u001b[0m\u001b[0;34m,\u001b[0m \u001b[0my_pred_bbc_val\u001b[0m\u001b[0;34m)\u001b[0m\u001b[0;34m)\u001b[0m\u001b[0;34m\u001b[0m\u001b[0;34m\u001b[0m\u001b[0m\n\u001b[1;32m      9\u001b[0m \u001b[0mprint\u001b[0m\u001b[0;34m(\u001b[0m\u001b[0;34m'Validation Geometric Mean: '\u001b[0m\u001b[0;34m,\u001b[0m \u001b[0mgeometric_mean_score\u001b[0m\u001b[0;34m(\u001b[0m\u001b[0my_val\u001b[0m\u001b[0;34m,\u001b[0m \u001b[0my_pred_bbc_val\u001b[0m\u001b[0;34m)\u001b[0m\u001b[0;34m)\u001b[0m\u001b[0;34m\u001b[0m\u001b[0;34m\u001b[0m\u001b[0m\n",
      "\u001b[0;31mNameError\u001b[0m: name 'geometric_mean_score' is not defined"
     ]
    }
   ],
   "source": [
    "bbc = BalancedBaggingClassifier(n_estimators=50, random_state=42).fit(X_tr_ss, y_tr)\n",
    "y_pred_bbc_tr = bbc.predict(X_tr_ss)\n",
    "y_pred_bbc_val = bbc.predict(X_val_ss)\n",
    "get_metric(X_tr_ss, y_tr, X_val_ss, y_val, y_pred_bbc_tr, y_pred_bbc_val, bbc)\n",
    "print(\"\")\n",
    "print('Training Balanced Accuracy: ', balanced_accuracy_score(y_tr, y_pred_bbc_tr))\n",
    "print('Training Geometric Mean: ', geometric_mean_score(y_tr, y_pred_bbc_tr))\n",
    "print('Validation Balanced Accuracy: ', balanced_accuracy_score(y_val, y_pred_bbc_val))\n",
    "print('Validation Geometric Mean: ', geometric_mean_score(y_val, y_pred_bbc_val))"
   ]
  },
  {
   "source": [
    "## Balanced Bagging Classifier with Gradient Boosting Classifier"
   ],
   "cell_type": "markdown",
   "metadata": {}
  },
  {
   "cell_type": "code",
   "execution_count": 70,
   "metadata": {},
   "outputs": [
    {
     "output_type": "stream",
     "name": "stdout",
     "text": [
      "Training Accuracy:  0.793\nValidation Accuracy:  0.7533333333333333\nTraining F1 Score:  0.6030499497762761\nValidation F1 Score:  0.5271565495207667\nTraining AUC Score:  0.8560039766792316\nValidation AUC Score:  0.7749874838134551\nTraining Recall Score:  0.709192439862543\nValidation Recall Score:  0.6283320639756284\nTraining Precision Score:  0.5245432883240667\nValidation Precision Score:  0.45404512933406715\nTraining Average Precision Score:  0.680188981227117\nValidation Average Precision Score:  0.5372388529575939\n"
     ]
    }
   ],
   "source": [
    "bbc3 = BalancedBaggingClassifier(\n",
    "        base_estimator=HistGradientBoostingClassifier(random_state=42),\n",
    "        n_estimators=10,\n",
    "        random_state=42,\n",
    "        n_jobs=2).fit(X_tr_ss, y_tr)\n",
    "y_pred_bbc3_tr = bbc3.predict(X_tr_ss)\n",
    "y_pred_bbc3_val = bbc3.predict(X_val_ss)\n",
    "get_metric(X_tr_ss, y_tr, X_val_ss, y_val, y_pred_bbc3_tr, y_pred_bbc3_val, bbc3)"
   ]
  },
  {
   "source": [
    "## Balanced Random Forest Classifier\n",
    "\n",
    "Random forest is another popular ensemble method and it is usually outperforming bagging. Here, we used a vanilla random forest and its balanced counterpart in which each bootstrap sample is balanced.\n",
    "\n",
    "Similarly to the previous experiment, the balanced classifier outperform the classifier which learn from imbalanced bootstrap samples. In addition, random forest outsperforms the bagging classifier."
   ],
   "cell_type": "markdown",
   "metadata": {}
  },
  {
   "cell_type": "code",
   "execution_count": 66,
   "metadata": {},
   "outputs": [
    {
     "output_type": "stream",
     "name": "stdout",
     "text": [
      "Training Accuracy:  0.888\nValidation Accuracy:  0.724\nTraining F1 Score:  0.7983539094650206\nValidation F1 Score:  0.5083135391923991\nTraining AUC Score:  0.9928255616361626\nValidation AUC Score:  0.7643157793647772\nTraining Recall Score:  1.0\nValidation Recall Score:  0.6519421172886519\nTraining Precision Score:  0.6643835616438356\nValidation Precision Score:  0.41654501216545015\nTraining Average Precision Score:  0.973183893912578\nValidation Average Precision Score:  0.5111466083509113\n"
     ]
    }
   ],
   "source": [
    "brf = BalancedRandomForestClassifier(n_estimators=100, random_state=42).fit(X_tr, y_tr)\n",
    "y_pred_brf_tr = brf.predict(X_tr)\n",
    "y_pred_brf_val = brf.predict(X_val)\n",
    "get_metric(X_tr, y_tr, X_val, y_val, y_pred_brf_tr, y_pred_brf_val, brf)"
   ]
  },
  {
   "source": [
    "## RUSBoostClassifier\n",
    "\n",
    "Random under-sampling integrated in the learning of AdaBoost.\n",
    "\n",
    "During learning, the problem of class balancing is alleviated by random under-sampling the sample at each iteration of the boosting algorithm"
   ],
   "cell_type": "markdown",
   "metadata": {}
  },
  {
   "cell_type": "code",
   "execution_count": 67,
   "metadata": {},
   "outputs": [
    {
     "output_type": "stream",
     "name": "stdout",
     "text": [
      "Training Accuracy:  0.7674761904761904\nValidation Accuracy:  0.7566666666666667\nTraining F1 Score:  0.5456406439006235\nValidation F1 Score:  0.5197368421052632\nTraining AUC Score:  0.7936512282426961\nValidation AUC Score:  0.7667346817069983\nTraining Recall Score:  0.6297250859106529\nValidation Recall Score:  0.6016755521706016\nTraining Precision Score:  0.48136594976194386\nValidation Precision Score:  0.45744064852345107\nTraining Average Precision Score:  0.5609306330020786\nValidation Average Precision Score:  0.5244608728332589\n"
     ]
    }
   ],
   "source": [
    "rbc = RUSBoostClassifier(n_estimators=200, algorithm='SAMME.R', random_state=42).fit(X_tr, y_tr)\n",
    "y_pred_rbc_tr = rbc.predict(X_tr)\n",
    "y_pred_rbc_val = rbc.predict(X_val)\n",
    "get_metric(X_tr, y_tr, X_val, y_val, y_pred_rbc_tr, y_pred_rbc_val, rbc)"
   ]
  },
  {
   "source": [
    "## Easy Ensemble Classifier\n",
    "\n",
    "Bag of balanced boosted learners also known as EasyEnsemble.\n",
    "\n",
    "This algorithm is known as EasyEnsemble [1]. The classifier is an ensemble of AdaBoost learners trained on different balanced boostrap samples. The balancing is achieved by random under-sampling."
   ],
   "cell_type": "markdown",
   "metadata": {}
  },
  {
   "cell_type": "code",
   "execution_count": 68,
   "metadata": {},
   "outputs": [
    {
     "output_type": "stream",
     "name": "stdout",
     "text": [
      "Training Accuracy:  0.7592380952380953\nValidation Accuracy:  0.7516666666666667\nTraining F1 Score:  0.5427744619280159\nValidation F1 Score:  0.5278833967046895\nTraining AUC Score:  0.790370227396205\nValidation AUC Score:  0.7749849651391096\nTraining Recall Score:  0.6445446735395189\nValidation Recall Score:  0.6344249809596344\nTraining Precision Score:  0.46875976257419555\nValidation Precision Score:  0.45198046663049374\nTraining Average Precision Score:  0.5504213877594832\nValidation Average Precision Score:  0.5262955379856071\n"
     ]
    }
   ],
   "source": [
    "eec = EasyEnsembleClassifier(random_state=42).fit(X_tr, y_tr) \n",
    "y_pred_eec_tr = eec.predict(X_tr)\n",
    "y_pred_eec_val = eec.predict(X_val)\n",
    "get_metric(X_tr, y_tr, X_val, y_val, y_pred_eec_tr, y_pred_eec_val, eec)"
   ]
  },
  {
   "source": [
    "# Undersampling Methods"
   ],
   "cell_type": "markdown",
   "metadata": {}
  },
  {
   "cell_type": "code",
   "execution_count": 13,
   "metadata": {},
   "outputs": [
    {
     "output_type": "stream",
     "name": "stdout",
     "text": [
      "Training Count:  Counter({0: 14764, 1: 4656})\n",
      "Validation Count:  Counter({0: 4264, 1: 1313})\n",
      "Training Accuracy:  0.8411431513903193\n",
      "Validation Accuracy:  0.8215886677425139\n",
      "Training F1 Score:  0.5731285457312855\n",
      "Validation F1 Score:  0.508641975308642\n",
      "Training AUC Score:  0.8414825383281149\n",
      "Validation AUC Score:  0.7956925906185653\n",
      "Training Recall Score:  0.44480240549828176\n",
      "Validation Recall Score:  0.39223153084539225\n",
      "Training Precision Score:  0.8055231427460132\n",
      "Validation Precision Score:  0.723314606741573\n",
      "Training Average Precision Score:  0.7080315436385418\n",
      "Validation Average Precision Score:  0.5998872931666258\n"
     ]
    }
   ],
   "source": [
    "tl = TomekLinks()\n",
    "sampling(X_tr, y_tr, X_val, y_val, tl, rfcb)"
   ]
  },
  {
   "cell_type": "code",
   "execution_count": 90,
   "metadata": {},
   "outputs": [],
   "source": [
    "X_tr_tl, y_tr_tl = tl.fit_resample(X_tr, y_tr)\n",
    "X_val_tl, y_val_tl = tl.fit_resample(X_val, y_val)\n",
    "tlm = rfcb.fit(X_tr_tl, y_tr_tl)\n",
    "y_pred_tl_tr = tlm.predict(X_tr_tl)\n",
    "y_pred_tl_val = tlm.predict(X_val_tl)"
   ]
  },
  {
   "cell_type": "code",
   "execution_count": 85,
   "metadata": {},
   "outputs": [
    {
     "output_type": "stream",
     "name": "stdout",
     "text": [
      "Training Count:  Counter({0: 9976, 1: 4656})\n",
      "Validation Count:  Counter({0: 2831, 1: 1313})\n",
      "Training Accuracy:  0.8465008201202843\n",
      "Validation Accuracy:  0.8231177606177607\n",
      "Training F1 Score:  0.7056356487549148\n",
      "Validation F1 Score:  0.6614318706697461\n",
      "Training AUC Score:  0.8905078804250476\n",
      "Validation AUC Score:  0.8499670307763868\n",
      "Training Recall Score:  0.5781786941580757\n",
      "Validation Recall Score:  0.5453160700685453\n",
      "Training Precision Score:  0.9051782111634162\n",
      "Validation Precision Score:  0.8403755868544601\n",
      "Training Average Precision Score:  0.8497072990808405\n",
      "Validation Average Precision Score:  0.7954775226193064\n"
     ]
    }
   ],
   "source": [
    "enn = EditedNearestNeighbours()\n",
    "sampling(X_tr, y_tr, X_val, y_val, enn, rfcb)"
   ]
  },
  {
   "cell_type": "code",
   "execution_count": 91,
   "metadata": {},
   "outputs": [],
   "source": [
    "X_tr_enn, y_tr_enn = enn.fit_resample(X_tr, y_tr)\n",
    "X_val_enn, y_val_enn = enn.fit_resample(X_val, y_val)\n",
    "ennm = rfcb.fit(X_tr_enn, y_tr_enn)\n",
    "y_pred_enn_tr = ennm.predict(X_tr_enn)\n",
    "y_pred_enn_val = ennm.predict(X_val_enn)"
   ]
  },
  {
   "source": [
    "# Oversampling Methods"
   ],
   "cell_type": "markdown",
   "metadata": {}
  },
  {
   "cell_type": "code",
   "execution_count": 17,
   "metadata": {},
   "outputs": [
    {
     "output_type": "stream",
     "name": "stdout",
     "text": [
      "Training Count:  Counter({0: 16344, 1: 16344})\n",
      "Validation Count:  Counter({0: 4687, 1: 4687})\n",
      "Training Accuracy:  0.7590553108174254\n",
      "Validation Accuracy:  0.7178365692340516\n",
      "Training F1 Score:  0.7409380961778831\n",
      "Validation F1 Score:  0.6902447593395011\n",
      "Training AUC Score:  0.8421473257507639\n",
      "Validation AUC Score:  0.7994559715556773\n",
      "Training Recall Score:  0.6891213901125796\n",
      "Validation Recall Score:  0.6287604011094516\n",
      "Training Precision Score:  0.8011808223075829\n",
      "Validation Precision Score:  0.7650571131879543\n",
      "Training Average Precision Score:  0.8490450052592535\n",
      "Validation Average Precision Score:  0.8074301196639206\n"
     ]
    }
   ],
   "source": [
    "sm = SMOTE(sampling_strategy='minority', random_state=42)\n",
    "sampling(X_tr, y_tr, X_val, y_val, sm, rfcb)"
   ]
  },
  {
   "cell_type": "code",
   "execution_count": 92,
   "metadata": {},
   "outputs": [],
   "source": [
    "X_tr_sm, y_tr_sm = sm.fit_resample(X_tr, y_tr)\n",
    "X_val_sm, y_val_sm = sm.fit_resample(X_val, y_val)\n",
    "smm = rfcb.fit(X_tr_sm, y_tr_sm)\n",
    "y_pred_sm_tr = smm.predict(X_tr_sm)\n",
    "y_pred_sm_val = smm.predict(X_val_sm)"
   ]
  },
  {
   "cell_type": "code",
   "execution_count": 21,
   "metadata": {},
   "outputs": [
    {
     "output_type": "stream",
     "name": "stdout",
     "text": [
      "Training Count:  Counter({0: 16344, 1: 16344})\n",
      "Validation Count:  Counter({0: 4687, 1: 4687})\n",
      "Training Accuracy:  0.7755445423396965\n",
      "Validation Accuracy:  0.741625773415831\n",
      "Training F1 Score:  0.7640911867785601\n",
      "Validation F1 Score:  0.7242714025500911\n",
      "Training AUC Score:  0.8600198428207393\n",
      "Validation AUC Score:  0.8220743119220535\n",
      "Training Recall Score:  0.7269946157611356\n",
      "Validation Recall Score:  0.6786857264774909\n",
      "Training Precision Score:  0.8051772040387613\n",
      "Validation Precision Score:  0.7764217720283134\n",
      "Training Average Precision Score:  0.8658254608027284\n",
      "Validation Average Precision Score:  0.8272026665023634\n"
     ]
    }
   ],
   "source": [
    "svmsm = SVMSMOTE()\n",
    "sampling(X_tr, y_tr, X_val, y_val, svmsm, rfcb)"
   ]
  },
  {
   "cell_type": "code",
   "execution_count": 93,
   "metadata": {},
   "outputs": [],
   "source": [
    "X_tr_svm, y_tr_svm = svmsm.fit_resample(X_tr, y_tr)\n",
    "X_val_svm, y_val_svm = svmsm.fit_resample(X_val, y_val)\n",
    "svmsmote = rfcb.fit(X_tr_svm, y_tr_svm)\n",
    "y_pred_svmsm_tr = svmsmote.predict(X_tr_svm)\n",
    "y_pred_svmsm_val = svmsmote.predict(X_val_svm)"
   ]
  },
  {
   "cell_type": "code",
   "execution_count": 23,
   "metadata": {},
   "outputs": [
    {
     "output_type": "stream",
     "name": "stdout",
     "text": [
      "Training Count:  Counter({0: 16344, 1: 15798})\n",
      "Validation Count:  Counter({0: 4687, 1: 4539})\n",
      "Training Accuracy:  0.7345218094704747\n",
      "Validation Accuracy:  0.6905484500325167\n",
      "Training F1 Score:  0.7159170356560243\n",
      "Validation F1 Score:  0.6624896559877055\n",
      "Training AUC Score:  0.8095536808720126\n",
      "Validation AUC Score:  0.7637675903025309\n",
      "Training Recall Score:  0.6805924800607672\n",
      "Validation Recall Score:  0.6173165895571712\n",
      "Training Precision Score:  0.7551092071072407\n",
      "Validation Precision Score:  0.7147959183673469\n",
      "Training Average Precision Score:  0.8052866455446316\n",
      "Validation Average Precision Score:  0.7622146521595576\n"
     ]
    }
   ],
   "source": [
    "adsn = ADASYN()\n",
    "sampling(X_tr, y_tr, X_val, y_val, adsn, rfcb)"
   ]
  },
  {
   "cell_type": "code",
   "execution_count": 96,
   "metadata": {},
   "outputs": [],
   "source": [
    "X_tr_adsn, y_tr_adsn = adsn.fit_resample(X_tr, y_tr)\n",
    "X_val_adsn, y_val_adsn = adsn.fit_resample(X_val, y_val)\n",
    "adsnm = rfcb.fit(X_tr_adsn, y_tr_adsn)\n",
    "y_pred_adsnm_tr = adsnm.predict(X_tr_adsn)\n",
    "y_pred_adsnm_val = adsnm.predict(X_val_adsn)"
   ]
  },
  {
   "source": [
    "# Combined Methods"
   ],
   "cell_type": "markdown",
   "metadata": {}
  },
  {
   "cell_type": "code",
   "execution_count": 25,
   "metadata": {},
   "outputs": [
    {
     "output_type": "stream",
     "name": "stdout",
     "text": [
      "Training Count:  Counter({0: 15443, 1: 15443})\n",
      "Validation Count:  Counter({0: 4401, 1: 4401})\n",
      "Training Accuracy:  0.7691510716829631\n",
      "Validation Accuracy:  0.7392638036809815\n",
      "Training F1 Score:  0.7515852553829001\n",
      "Validation F1 Score:  0.7169113112125324\n",
      "Training AUC Score:  0.8541369821284749\n",
      "Validation AUC Score:  0.8198021911629946\n",
      "Training Recall Score:  0.6984394223920223\n",
      "Validation Recall Score:  0.6603044762553965\n",
      "Training Precision Score:  0.8134851798778189\n",
      "Validation Precision Score:  0.784133837021047\n",
      "Training Average Precision Score:  0.8612806550341908\n",
      "Validation Average Precision Score:  0.8263032373452869\n"
     ]
    }
   ],
   "source": [
    "smtk = SMOTETomek()\n",
    "sampling(X_tr, y_tr, X_val, y_val, smtk, rfcb)"
   ]
  },
  {
   "cell_type": "code",
   "execution_count": 97,
   "metadata": {},
   "outputs": [],
   "source": [
    "X_tr_smt, y_tr_smt = smtk.fit_resample(X_tr, y_tr)\n",
    "X_val_smt, y_val_smt = smtk.fit_resample(X_val, y_val)\n",
    "smtkm = rfcb.fit(X_tr_smt, y_tr_smt)\n",
    "y_pred_smtk_tr = smtkm.predict(X_tr_smt)\n",
    "y_pred_smtk_val = smtkm.predict(X_val_smt)"
   ]
  },
  {
   "cell_type": "code",
   "execution_count": 27,
   "metadata": {},
   "outputs": [
    {
     "output_type": "stream",
     "name": "stdout",
     "text": [
      "Training Count:  Counter({1: 10847, 0: 8527})\n",
      "Validation Count:  Counter({1: 3103, 0: 2383})\n",
      "Training Accuracy:  0.8661608341075668\n",
      "Validation Accuracy:  0.8288370397375137\n",
      "Training F1 Score:  0.8734072157398818\n",
      "Validation F1 Score:  0.8379078197824961\n",
      "Training AUC Score:  0.9464115791001093\n",
      "Validation AUC Score:  0.9229596417528879\n",
      "Training Recall Score:  0.8246519775053011\n",
      "Validation Recall Score:  0.7821463100225589\n",
      "Training Precision Score:  0.9282897467828974\n",
      "Validation Precision Score:  0.9022304832713754\n",
      "Training Average Precision Score:  0.963094372266268\n",
      "Validation Average Precision Score:  0.9459880860416121\n"
     ]
    }
   ],
   "source": [
    "smenn = SMOTEENN(sampling_strategy=\"minority\", n_jobs= -1)\n",
    "sampling(X_tr, y_tr, X_val, y_val, smenn, rfcb)"
   ]
  },
  {
   "cell_type": "code",
   "execution_count": 98,
   "metadata": {},
   "outputs": [],
   "source": [
    "X_tr_sme, y_tr_sme = smenn.fit_resample(X_tr, y_tr)\n",
    "X_val_sme, y_val_sme = smenn.fit_resample(X_val, y_val)\n",
    "smennm = rfcb.fit(X_tr_sme, y_tr_sme)\n",
    "y_pred_smenn_tr = smennm.predict(X_tr_sme)\n",
    "y_pred_smenn_val = smennm.predict(X_val_sme)"
   ]
  },
  {
   "source": [
    "# SMOTE Variants"
   ],
   "cell_type": "markdown",
   "metadata": {}
  },
  {
   "cell_type": "code",
   "execution_count": 29,
   "metadata": {},
   "outputs": [
    {
     "output_type": "stream",
     "name": "stderr",
     "text": [
      "2021-02-22 16:48:05,509:INFO:polynom_fit_SMOTE: Running sampling via ('polynom_fit_SMOTE', \"{'proportion': 1.0, 'topology': 'star'}\")\n",
      "2021-02-22 16:48:05,575:INFO:polynom_fit_SMOTE: Running sampling via ('polynom_fit_SMOTE', \"{'proportion': 1.0, 'topology': 'star'}\")\n",
      "Training Count:  Counter({1: 18624, 0: 16344})\n",
      "Validation Count:  Counter({1: 5252, 0: 4687})\n",
      "Training Accuracy:  0.898535804163807\n",
      "Validation Accuracy:  0.8916389978871114\n",
      "Training F1 Score:  0.899221723569846\n",
      "Validation F1 Score:  0.8913109294580686\n",
      "Training AUC Score:  0.9571116893943026\n",
      "Validation AUC Score:  0.9449073704698595\n",
      "Training Recall Score:  0.8499248281786942\n",
      "Validation Recall Score:  0.8408225437928408\n",
      "Training Precision Score:  0.9545893137136654\n",
      "Validation Precision Score:  0.9482499463173717\n",
      "Training Average Precision Score:  0.9705770157564235\n",
      "Validation Average Precision Score:  0.962974770258373\n"
     ]
    }
   ],
   "source": [
    "pfsm = sv.polynom_fit_SMOTE()\n",
    "sampling2(X_tr, y_tr, X_val, y_val, pfsm, rfcb)"
   ]
  },
  {
   "cell_type": "code",
   "execution_count": 99,
   "metadata": {},
   "outputs": [
    {
     "output_type": "stream",
     "name": "stderr",
     "text": [
      "2021-02-22 17:52:01,561:INFO:polynom_fit_SMOTE: Running sampling via ('polynom_fit_SMOTE', \"{'proportion': 1.0, 'topology': 'star'}\")\n",
      "2021-02-22 17:52:01,614:INFO:polynom_fit_SMOTE: Running sampling via ('polynom_fit_SMOTE', \"{'proportion': 1.0, 'topology': 'star'}\")\n"
     ]
    }
   ],
   "source": [
    "X_tr_pfs, y_tr_pfs = pfsm.sample(X_tr, y_tr)\n",
    "X_val_pfs, y_val_pfs = pfsm.sample(X_val, y_val)\n",
    "pfsmm = rfcb.fit(X_tr_pfs, y_tr_pfs)\n",
    "y_pred_pfsm_tr = pfsmm.predict(X_tr_pfs)\n",
    "y_pred_pfsm_val = pfsmm.predict(X_val_pfs)"
   ]
  },
  {
   "cell_type": "code",
   "execution_count": 32,
   "metadata": {},
   "outputs": [
    {
     "output_type": "stream",
     "name": "stderr",
     "text": [
      "2021-02-22 16:49:24,004:INFO:ProWSyn: Running sampling via ('ProWSyn', \"{'proportion': 1.0, 'n_neighbors': 5, 'L': 5, 'theta': 1.0, 'n_jobs': 1}\")\n",
      "2021-02-22 16:49:25,550:INFO:ProWSyn: Running sampling via ('ProWSyn', \"{'proportion': 1.0, 'n_neighbors': 5, 'L': 5, 'theta': 1.0, 'n_jobs': 1}\")\n",
      "Training Count:  Counter({0: 16344, 1: 16344})\n",
      "Validation Count:  Counter({0: 4687, 1: 4687})\n",
      "Training Accuracy:  0.870013460597161\n",
      "Validation Accuracy:  0.8603584382334115\n",
      "Training F1 Score:  0.8612933764241179\n",
      "Validation F1 Score:  0.850074447371435\n",
      "Training AUC Score:  0.934292377296711\n",
      "Validation AUC Score:  0.9168457493726434\n",
      "Training Recall Score:  0.80714635340186\n",
      "Validation Recall Score:  0.7917644548751867\n",
      "Training Precision Score:  0.923227657638743\n",
      "Validation Precision Score:  0.9176557863501483\n",
      "Training Average Precision Score:  0.9477262027185454\n",
      "Validation Average Precision Score:  0.936260964903121\n"
     ]
    }
   ],
   "source": [
    "pws = sv.ProWSyn()\n",
    "sampling2(X_tr, y_tr, X_val, y_val, pws, rfcb)"
   ]
  },
  {
   "cell_type": "code",
   "execution_count": 100,
   "metadata": {},
   "outputs": [
    {
     "output_type": "stream",
     "name": "stderr",
     "text": [
      "2021-02-22 17:52:31,910:INFO:ProWSyn: Running sampling via ('ProWSyn', \"{'proportion': 1.0, 'n_neighbors': 5, 'L': 5, 'theta': 1.0, 'n_jobs': 1}\")\n",
      "2021-02-22 17:52:33,568:INFO:ProWSyn: Running sampling via ('ProWSyn', \"{'proportion': 1.0, 'n_neighbors': 5, 'L': 5, 'theta': 1.0, 'n_jobs': 1}\")\n"
     ]
    }
   ],
   "source": [
    "X_tr_pws, y_tr_pws = pws.sample(X_tr, y_tr)\n",
    "X_val_pws, y_val_pws = pws.sample(X_val, y_val)\n",
    "pwsm = rfcb.fit(X_tr_pws, y_tr_pws)\n",
    "y_pred_pws_tr = pwsm.predict(X_tr_pws)\n",
    "y_pred_pws_val = pwsm.predict(X_val_pws)"
   ]
  },
  {
   "cell_type": "code",
   "execution_count": 36,
   "metadata": {},
   "outputs": [
    {
     "output_type": "stream",
     "name": "stderr",
     "text": [
      "2021-02-22 17:01:12,214:INFO:SMOTE_IPF: Running sampling via ('SMOTE_IPF', \"{'proportion': 1.0, 'n_neighbors': 5, 'n_folds': 9, 'k': 3, 'p': 0.01, 'voting': 'majority', 'n_jobs': 1, 'classifier': DecisionTreeClassifier()}\")\n",
      "2021-02-22 17:01:12,215:INFO:SMOTE: Running sampling via ('SMOTE', \"{'proportion': 1.0, 'n_neighbors': 5, 'n_jobs': 1}\")\n",
      "2021-02-22 17:01:14,398:INFO:SMOTE_IPF: Removing 44 elements\n",
      "2021-02-22 17:01:16,418:INFO:SMOTE_IPF: Removing 0 elements\n",
      "2021-02-22 17:01:18,642:INFO:SMOTE_IPF: Removing 0 elements\n",
      "2021-02-22 17:01:18,654:INFO:SMOTE_IPF: Running sampling via ('SMOTE_IPF', \"{'proportion': 1.0, 'n_neighbors': 5, 'n_folds': 9, 'k': 3, 'p': 0.01, 'voting': 'majority', 'n_jobs': 1, 'classifier': DecisionTreeClassifier()}\")\n",
      "2021-02-22 17:01:18,655:INFO:SMOTE: Running sampling via ('SMOTE', \"{'proportion': 1.0, 'n_neighbors': 5, 'n_jobs': 1}\")\n",
      "Training Count:  Counter({0: 16335, 1: 16309})\n",
      "2021-02-22 17:01:19,355:INFO:SMOTE_IPF: Removing 1 elements\n",
      "2021-02-22 17:01:19,931:INFO:SMOTE_IPF: Removing 0 elements\n",
      "2021-02-22 17:01:20,441:INFO:SMOTE_IPF: Removing 0 elements\n",
      "Validation Count:  Counter({0: 4687, 1: 4686})\n",
      "Training Accuracy:  0.7649185148878814\n",
      "Validation Accuracy:  0.7260215512642697\n",
      "Training F1 Score:  0.746966499604326\n",
      "Validation F1 Score:  0.6992269852424454\n",
      "Training AUC Score:  0.8455762368415171\n",
      "Validation AUC Score:  0.8000216452167759\n",
      "Training Recall Score:  0.6945244956772334\n",
      "Validation Recall Score:  0.6370038412291933\n",
      "Training Precision Score:  0.8079748912190599\n",
      "Validation Precision Score:  0.7749221183800623\n",
      "Training Average Precision Score:  0.8530071040703562\n",
      "Validation Average Precision Score:  0.8100518779512949\n"
     ]
    }
   ],
   "source": [
    "smipf = sv.SMOTE_IPF()\n",
    "sampling2(X_tr, y_tr, X_val, y_val, smipf, rfcb)"
   ]
  },
  {
   "source": [
    "X_tr_smi, y_tr_smi = smipf.sample(X_tr, y_tr)\n",
    "X_val_smi, y_val_smi = smipf.sample(X_val, y_val)\n",
    "smipfm = rfcb.fit(X_tr_smi, y_tr_smi)\n",
    "y_pred_smipf_tr = smipfm.predict(X_tr_smi)\n",
    "y_pred_smipf_val = smipfm.predict(X_val_smi)"
   ],
   "cell_type": "code",
   "metadata": {},
   "execution_count": 101,
   "outputs": [
    {
     "output_type": "stream",
     "name": "stderr",
     "text": [
      "2021-02-22 17:53:06,949:INFO:SMOTE_IPF: Running sampling via ('SMOTE_IPF', \"{'proportion': 1.0, 'n_neighbors': 5, 'n_folds': 9, 'k': 3, 'p': 0.01, 'voting': 'majority', 'n_jobs': 1, 'classifier': DecisionTreeClassifier()}\")\n",
      "2021-02-22 17:53:06,950:INFO:SMOTE: Running sampling via ('SMOTE', \"{'proportion': 1.0, 'n_neighbors': 5, 'n_jobs': 1}\")\n",
      "2021-02-22 17:53:09,441:INFO:SMOTE_IPF: Removing 44 elements\n",
      "2021-02-22 17:53:11,606:INFO:SMOTE_IPF: Removing 0 elements\n",
      "2021-02-22 17:53:13,666:INFO:SMOTE_IPF: Removing 0 elements\n",
      "2021-02-22 17:53:13,669:INFO:SMOTE_IPF: Running sampling via ('SMOTE_IPF', \"{'proportion': 1.0, 'n_neighbors': 5, 'n_folds': 9, 'k': 3, 'p': 0.01, 'voting': 'majority', 'n_jobs': 1, 'classifier': DecisionTreeClassifier()}\")\n",
      "2021-02-22 17:53:13,671:INFO:SMOTE: Running sampling via ('SMOTE', \"{'proportion': 1.0, 'n_neighbors': 5, 'n_jobs': 1}\")\n",
      "2021-02-22 17:53:14,249:INFO:SMOTE_IPF: Removing 1 elements\n",
      "2021-02-22 17:53:14,732:INFO:SMOTE_IPF: Removing 0 elements\n",
      "2021-02-22 17:53:15,204:INFO:SMOTE_IPF: Removing 0 elements\n"
     ]
    }
   ]
  },
  {
   "cell_type": "code",
   "execution_count": 39,
   "metadata": {},
   "outputs": [
    {
     "output_type": "stream",
     "name": "stderr",
     "text": [
      "2021-02-22 17:02:26,559:INFO:SMOBD: Running sampling via ('SMOBD', \"{'proportion': 1.0, 'eta1': 0.5, 't': 1.8, 'min_samples': 5, 'max_eps': 1.0, 'n_jobs': 1}\")\n",
      "2021-02-22 17:02:43,453:INFO:SMOBD: Running sampling via ('SMOBD', \"{'proportion': 1.0, 'eta1': 0.5, 't': 1.8, 'min_samples': 5, 'max_eps': 1.0, 'n_jobs': 1}\")\n",
      "Training Count:  Counter({0: 16344, 1: 16344})\n",
      "Validation Count:  Counter({0: 4687, 1: 4687})\n",
      "Training Accuracy:  0.7822136563876652\n",
      "Validation Accuracy:  0.7500533390228291\n",
      "Training F1 Score:  0.7729693529355488\n",
      "Validation F1 Score:  0.7365935919055648\n",
      "Training AUC Score:  0.8662056780504038\n",
      "Validation AUC Score:  0.8305436428829629\n",
      "Training Recall Score:  0.7414953499755262\n",
      "Validation Recall Score:  0.6989545551525496\n",
      "Training Precision Score:  0.8072337307666689\n",
      "Validation Precision Score:  0.7785171102661597\n",
      "Training Average Precision Score:  0.8731892060278357\n",
      "Validation Average Precision Score:  0.8404365719961142\n"
     ]
    }
   ],
   "source": [
    "smobd = sv.SMOBD()\n",
    "sampling2(X_tr, y_tr, X_val, y_val, smobd, rfcb)"
   ]
  },
  {
   "cell_type": "code",
   "execution_count": 102,
   "metadata": {},
   "outputs": [
    {
     "output_type": "stream",
     "name": "stderr",
     "text": [
      "2021-02-22 17:53:37,721:INFO:SMOBD: Running sampling via ('SMOBD', \"{'proportion': 1.0, 'eta1': 0.5, 't': 1.8, 'min_samples': 5, 'max_eps': 1.0, 'n_jobs': 1}\")\n",
      "2021-02-22 17:53:54,284:INFO:SMOBD: Running sampling via ('SMOBD', \"{'proportion': 1.0, 'eta1': 0.5, 't': 1.8, 'min_samples': 5, 'max_eps': 1.0, 'n_jobs': 1}\")\n"
     ]
    }
   ],
   "source": [
    "X_tr_smo, y_tr_smo = smobd.sample(X_tr, y_tr)\n",
    "X_val_smo, y_val_smo = smobd.sample(X_val, y_val)\n",
    "smobdm = rfcb.fit(X_tr_smo, y_tr_smo)\n",
    "y_pred_smobd_tr = smobdm.predict(X_tr_smo)\n",
    "y_pred_smobd_val = smobdm.predict(X_val_smo)"
   ]
  },
  {
   "cell_type": "code",
   "execution_count": 41,
   "metadata": {},
   "outputs": [
    {
     "output_type": "stream",
     "name": "stderr",
     "text": [
      "2021-02-22 17:03:33,931:INFO:G_SMOTE: Running sampling via ('G_SMOTE', \"{'proportion': 1.0, 'n_neighbors': 5, 'method': 'linear', 'n_jobs': 1}\")\n",
      "2021-02-22 17:03:35,182:INFO:G_SMOTE: Running sampling via ('G_SMOTE', \"{'proportion': 1.0, 'n_neighbors': 5, 'method': 'linear', 'n_jobs': 1}\")\n",
      "Training Count:  Counter({0: 16344, 1: 16344})\n",
      "Validation Count:  Counter({0: 4687, 1: 4687})\n",
      "Training Accuracy:  0.7654185022026432\n",
      "Validation Accuracy:  0.735331768721997\n",
      "Training F1 Score:  0.74726433750824\n",
      "Validation F1 Score:  0.7121475809258614\n",
      "Training AUC Score:  0.8487669351328954\n",
      "Validation AUC Score:  0.8103146449268933\n",
      "Training Recall Score:  0.693587860988742\n",
      "Validation Recall Score:  0.6547898442500534\n",
      "Training Precision Score:  0.8099456987710775\n",
      "Validation Precision Score:  0.7805188199389623\n",
      "Training Average Precision Score:  0.8571132784187702\n",
      "Validation Average Precision Score:  0.8196666342277832\n"
     ]
    }
   ],
   "source": [
    "gsm = sv.G_SMOTE()\n",
    "sampling2(X_tr, y_tr, X_val, y_val, gsm, rfcb)"
   ]
  },
  {
   "cell_type": "code",
   "execution_count": 103,
   "metadata": {},
   "outputs": [
    {
     "output_type": "stream",
     "name": "stderr",
     "text": [
      "2021-02-22 17:54:10,086:INFO:G_SMOTE: Running sampling via ('G_SMOTE', \"{'proportion': 1.0, 'n_neighbors': 5, 'method': 'linear', 'n_jobs': 1}\")\n",
      "2021-02-22 17:54:11,493:INFO:G_SMOTE: Running sampling via ('G_SMOTE', \"{'proportion': 1.0, 'n_neighbors': 5, 'method': 'linear', 'n_jobs': 1}\")\n"
     ]
    }
   ],
   "source": [
    "X_tr_gsm, y_tr_gsm = gsm.sample(X_tr, y_tr)\n",
    "X_val_gsm, y_val_gsm = gsm.sample(X_val, y_val)\n",
    "gsmm = rfcb.fit(X_tr_gsm, y_tr_gsm)\n",
    "y_pred_gsm_tr = gsmm.predict(X_tr_gsm)\n",
    "y_pred_gsm_val = gsmm.predict(X_val_gsm)"
   ]
  },
  {
   "cell_type": "code",
   "execution_count": 43,
   "metadata": {},
   "outputs": [
    {
     "output_type": "stream",
     "name": "stderr",
     "text": [
      "2021-02-22 17:04:07,490:INFO:CCR: Running sampling via ('CCR', \"{'proportion': 1.0, 'energy': 1.0, 'scaling': 0.0, 'n_jobs': 1}\")\n",
      "2021-02-22 17:04:17,401:INFO:CCR: Running sampling via ('CCR', \"{'proportion': 1.0, 'energy': 1.0, 'scaling': 0.0, 'n_jobs': 1}\")\n",
      "Training Count:  Counter({0: 16344, 1: 16326})\n",
      "Validation Count:  Counter({0: 4687, 1: 4677})\n",
      "Training Accuracy:  0.8868380777471686\n",
      "Validation Accuracy:  0.8828492097394276\n",
      "Training F1 Score:  0.8788623480454799\n",
      "Validation F1 Score:  0.874269340974212\n",
      "Training AUC Score:  0.9377075049848568\n",
      "Validation AUC Score:  0.9342001739967507\n",
      "Training Recall Score:  0.8214504471395321\n",
      "Validation Recall Score:  0.8154800085524909\n",
      "Training Precision Score:  0.944902416684281\n",
      "Validation Precision Score:  0.942193675889328\n",
      "Training Average Precision Score:  0.9545213893134362\n",
      "Validation Average Precision Score:  0.9520791123396067\n"
     ]
    }
   ],
   "source": [
    "ccr = sv.CCR()\n",
    "sampling2(X_tr, y_tr, X_val, y_val, ccr, rfcb)"
   ]
  },
  {
   "cell_type": "code",
   "execution_count": null,
   "metadata": {},
   "outputs": [],
   "source": [
    "X_tr_ccr, y_tr_ccr = ccr.sample(X_tr, y_tr)\n",
    "X_val_ccr, y_val_ccr = ccr.sample(X_val, y_val)\n",
    "ccrm = rfcb.fit(X_tr_ccr, y_tr_ccr)\n",
    "y_pred_ccr_tr = crrm.predict(X_tr_ccr)\n",
    "y_pred_ccr_val = crrm.predict(X_val_ccr)"
   ]
  },
  {
   "cell_type": "code",
   "execution_count": 47,
   "metadata": {},
   "outputs": [
    {
     "output_type": "stream",
     "name": "stderr",
     "text": [
      "2021-02-22 17:05:42,380:INFO:LVQ_SMOTE: Running sampling via ('LVQ_SMOTE', \"{'proportion': 1.0, 'n_neighbors': 5, 'n_clusters': 10, 'n_jobs': 1}\")\n",
      "2021-02-22 17:05:49,152:INFO:LVQ_SMOTE: Running sampling via ('LVQ_SMOTE', \"{'proportion': 1.0, 'n_neighbors': 5, 'n_clusters': 10, 'n_jobs': 1}\")\n",
      "Training Count:  Counter({0: 16344, 1: 16344})\n",
      "Validation Count:  Counter({0: 4687, 1: 4687})\n",
      "Training Accuracy:  0.8906938325991189\n",
      "Validation Accuracy:  0.867932579475144\n",
      "Training F1 Score:  0.8842002916869226\n",
      "Validation F1 Score:  0.8573732718894008\n",
      "Training AUC Score:  0.9424935454510932\n",
      "Validation AUC Score:  0.9271898326149313\n",
      "Training Recall Score:  0.834618208516887\n",
      "Validation Recall Score:  0.7938980157883507\n",
      "Training Precision Score:  0.9400454827372339\n",
      "Validation Precision Score:  0.9318807913849236\n",
      "Training Average Precision Score:  0.9577370656480544\n",
      "Validation Average Precision Score:  0.9435478421124348\n"
     ]
    }
   ],
   "source": [
    "lvq = sv.LVQ_SMOTE()\n",
    "sampling2(X_tr, y_tr, X_val, y_val, lvq, rfcb)"
   ]
  },
  {
   "cell_type": "code",
   "execution_count": 106,
   "metadata": {},
   "outputs": [
    {
     "output_type": "stream",
     "name": "stderr",
     "text": [
      "2021-02-22 17:55:19,053:INFO:LVQ_SMOTE: Running sampling via ('LVQ_SMOTE', \"{'proportion': 1.0, 'n_neighbors': 5, 'n_clusters': 10, 'n_jobs': 1}\")\n",
      "2021-02-22 17:55:25,933:INFO:LVQ_SMOTE: Running sampling via ('LVQ_SMOTE', \"{'proportion': 1.0, 'n_neighbors': 5, 'n_clusters': 10, 'n_jobs': 1}\")\n"
     ]
    }
   ],
   "source": [
    "X_tr_lvq, y_tr_lvq = lvq.sample(X_tr, y_tr)\n",
    "X_val_lvq, y_val_lvq = lvq.sample(X_val, y_val)\n",
    "lvqm = rfcb.fit(X_tr_lvq, y_tr_lvq)\n",
    "y_pred_lvq_tr = lvqm.predict(X_tr_lvq)\n",
    "y_pred_lvq_val = lvqm.predict(X_val_lvq)"
   ]
  },
  {
   "cell_type": "code",
   "execution_count": 49,
   "metadata": {},
   "outputs": [
    {
     "output_type": "stream",
     "name": "stderr",
     "text": [
      "2021-02-22 17:06:24,301:INFO:Assembled_SMOTE: Running sampling via ('Assembled_SMOTE', \"{'proportion': 1.0, 'n_neighbors': 5, 'pop': 2, 'thres': 0.3, 'n_jobs': 1}\")\n",
      "2021-02-22 17:11:18,054:INFO:Assembled_SMOTE: Running sampling via ('Assembled_SMOTE', \"{'proportion': 1.0, 'n_neighbors': 5, 'pop': 2, 'thres': 0.3, 'n_jobs': 1}\")\n",
      "Training Count:  Counter({0: 16344, 1: 16344})\n",
      "Validation Count:  Counter({0: 4687, 1: 4687})\n",
      "Training Accuracy:  0.7615026921194322\n",
      "Validation Accuracy:  0.7249839982931513\n",
      "Training F1 Score:  0.7439737274220033\n",
      "Validation F1 Score:  0.6995337995337996\n",
      "Training AUC Score:  0.8441466756014652\n",
      "Validation AUC Score:  0.8001493447118393\n",
      "Training Recall Score:  0.6930372001957905\n",
      "Validation Recall Score:  0.6402816300405376\n",
      "Training Precision Score:  0.8029916347653481\n",
      "Validation Precision Score:  0.7708707937323401\n",
      "Training Average Precision Score:  0.8515566336565037\n",
      "Validation Average Precision Score:  0.8102468817277988\n"
     ]
    }
   ],
   "source": [
    "ass = sv.Assembled_SMOTE()\n",
    "sampling2(X_tr, y_tr, X_val, y_val, ass, rfcb)"
   ]
  },
  {
   "cell_type": "code",
   "execution_count": 107,
   "metadata": {},
   "outputs": [
    {
     "output_type": "stream",
     "name": "stderr",
     "text": [
      "2021-02-22 17:55:45,946:INFO:Assembled_SMOTE: Running sampling via ('Assembled_SMOTE', \"{'proportion': 1.0, 'n_neighbors': 5, 'pop': 2, 'thres': 0.3, 'n_jobs': 1}\")\n"
     ]
    },
    {
     "output_type": "error",
     "ename": "KeyboardInterrupt",
     "evalue": "",
     "traceback": [
      "\u001b[0;31m---------------------------------------------------------------------------\u001b[0m",
      "\u001b[0;31mKeyboardInterrupt\u001b[0m                         Traceback (most recent call last)",
      "\u001b[0;32m<ipython-input-107-88334fb0b753>\u001b[0m in \u001b[0;36m<module>\u001b[0;34m\u001b[0m\n\u001b[0;32m----> 1\u001b[0;31m \u001b[0mX_tr_ass\u001b[0m\u001b[0;34m,\u001b[0m \u001b[0my_tr_ass\u001b[0m \u001b[0;34m=\u001b[0m \u001b[0mass\u001b[0m\u001b[0;34m.\u001b[0m\u001b[0msample\u001b[0m\u001b[0;34m(\u001b[0m\u001b[0mX_tr\u001b[0m\u001b[0;34m,\u001b[0m \u001b[0my_tr\u001b[0m\u001b[0;34m)\u001b[0m\u001b[0;34m\u001b[0m\u001b[0;34m\u001b[0m\u001b[0m\n\u001b[0m\u001b[1;32m      2\u001b[0m \u001b[0mX_val_ass\u001b[0m\u001b[0;34m,\u001b[0m \u001b[0my_val_ass\u001b[0m \u001b[0;34m=\u001b[0m \u001b[0mass\u001b[0m\u001b[0;34m.\u001b[0m\u001b[0msample\u001b[0m\u001b[0;34m(\u001b[0m\u001b[0mX_val\u001b[0m\u001b[0;34m,\u001b[0m \u001b[0my_val\u001b[0m\u001b[0;34m)\u001b[0m\u001b[0;34m\u001b[0m\u001b[0;34m\u001b[0m\u001b[0m\n\u001b[1;32m      3\u001b[0m \u001b[0massm\u001b[0m \u001b[0;34m=\u001b[0m \u001b[0mrfcb\u001b[0m\u001b[0;34m.\u001b[0m\u001b[0mfit\u001b[0m\u001b[0;34m(\u001b[0m\u001b[0mX_tr_ass\u001b[0m\u001b[0;34m,\u001b[0m \u001b[0my_tr_ass\u001b[0m\u001b[0;34m)\u001b[0m\u001b[0;34m\u001b[0m\u001b[0;34m\u001b[0m\u001b[0m\n\u001b[1;32m      4\u001b[0m \u001b[0my_pred_ass_tr\u001b[0m \u001b[0;34m=\u001b[0m \u001b[0massm\u001b[0m\u001b[0;34m.\u001b[0m\u001b[0mpredict\u001b[0m\u001b[0;34m(\u001b[0m\u001b[0mX_tr_ass\u001b[0m\u001b[0;34m)\u001b[0m\u001b[0;34m\u001b[0m\u001b[0;34m\u001b[0m\u001b[0m\n\u001b[1;32m      5\u001b[0m \u001b[0my_pred_ass_val\u001b[0m \u001b[0;34m=\u001b[0m \u001b[0massm\u001b[0m\u001b[0;34m.\u001b[0m\u001b[0mpredict\u001b[0m\u001b[0;34m(\u001b[0m\u001b[0mX_val_ass\u001b[0m\u001b[0;34m)\u001b[0m\u001b[0;34m\u001b[0m\u001b[0;34m\u001b[0m\u001b[0m\n",
      "\u001b[0;32m~/opt/anaconda3/envs/learn-env/lib/python3.9/site-packages/smote_variants/_smote_variants.py\u001b[0m in \u001b[0;36msample\u001b[0;34m(self, X, y)\u001b[0m\n\u001b[1;32m  10439\u001b[0m                     \u001b[0mdm\u001b[0m\u001b[0;34m=\u001b[0m \u001b[0mnp\u001b[0m\u001b[0;34m.\u001b[0m\u001b[0mdelete\u001b[0m\u001b[0;34m(\u001b[0m\u001b[0mdm\u001b[0m\u001b[0;34m,\u001b[0m \u001b[0mmerge_b\u001b[0m\u001b[0;34m,\u001b[0m \u001b[0maxis\u001b[0m\u001b[0;34m=\u001b[0m \u001b[0;36m1\u001b[0m\u001b[0;34m)\u001b[0m\u001b[0;34m\u001b[0m\u001b[0;34m\u001b[0m\u001b[0m\n\u001b[1;32m  10440\u001b[0m                     \u001b[0;31m# fixing the digaonal entries\u001b[0m\u001b[0;34m\u001b[0m\u001b[0;34m\u001b[0m\u001b[0;34m\u001b[0m\u001b[0m\n\u001b[0;32m> 10441\u001b[0;31m                     \u001b[0;32mfor\u001b[0m \u001b[0mi\u001b[0m \u001b[0;32min\u001b[0m \u001b[0mrange\u001b[0m\u001b[0;34m(\u001b[0m\u001b[0mlen\u001b[0m\u001b[0;34m(\u001b[0m\u001b[0mdm\u001b[0m\u001b[0;34m)\u001b[0m\u001b[0;34m)\u001b[0m\u001b[0;34m:\u001b[0m\u001b[0;34m\u001b[0m\u001b[0;34m\u001b[0m\u001b[0m\n\u001b[0m\u001b[1;32m  10442\u001b[0m                         \u001b[0mdm\u001b[0m\u001b[0;34m[\u001b[0m\u001b[0mi\u001b[0m\u001b[0;34m,\u001b[0m\u001b[0mi\u001b[0m\u001b[0;34m]\u001b[0m\u001b[0;34m=\u001b[0m \u001b[0mnp\u001b[0m\u001b[0;34m.\u001b[0m\u001b[0minf\u001b[0m\u001b[0;34m\u001b[0m\u001b[0;34m\u001b[0m\u001b[0m\n\u001b[1;32m  10443\u001b[0m                 \u001b[0;32melse\u001b[0m\u001b[0;34m:\u001b[0m\u001b[0;34m\u001b[0m\u001b[0;34m\u001b[0m\u001b[0m\n",
      "\u001b[0;31mKeyboardInterrupt\u001b[0m: "
     ]
    }
   ],
   "source": [
    "X_tr_ass, y_tr_ass = ass.sample(X_tr, y_tr)\n",
    "X_val_ass, y_val_ass = ass.sample(X_val, y_val)\n",
    "assm = rfcb.fit(X_tr_ass, y_tr_ass)\n",
    "y_pred_ass_tr = assm.predict(X_tr_ass)\n",
    "y_pred_ass_val = assm.predict(X_val_ass)"
   ]
  },
  {
   "cell_type": "code",
   "execution_count": 120,
   "metadata": {},
   "outputs": [],
   "source": [
    "data = {'Accuracy': [\"\",\n",
    "                     accuracy(y_val, y_pred_bc_val),\n",
    "                     accuracy(y_val, y_pred_bbc_val),\n",
    "                     accuracy(y_val, y_pred_bbc3_val),\n",
    "                     accuracy(y_val, y_pred_brf_val),\n",
    "                     accuracy(y_val, y_pred_rbc_val),\n",
    "                     accuracy(y_val, y_pred_eec_val),\n",
    "                     \"\",\n",
    "                     accuracy(y_val_tl, y_pred_tl_val),\n",
    "                     accuracy(y_val_enn, y_pred_enn_val),\n",
    "                     \"\",\n",
    "                     accuracy(y_val_sm, y_pred_sm_val),\n",
    "                     accuracy(y_val_svm, y_pred_svmsm_val),\n",
    "                     accuracy(y_val_adsn, y_pred_adsnm_val),\n",
    "                     \"\",\n",
    "                     accuracy(y_val_smt, y_pred_smtk_val),\n",
    "                     accuracy(y_val_sme, y_pred_smenn_val),\n",
    "                     \"\",\n",
    "                     accuracy(y_val_pfs, y_pred_pfsm_val),\n",
    "                     accuracy(y_val_pws, y_pred_pws_val),\n",
    "                     accuracy(y_val_smi, y_pred_smipf_val),\n",
    "                     accuracy(y_val_smo, y_pred_smobd_val),\n",
    "                     accuracy(y_val_gsm, y_pred_gsm_val),\n",
    "                     accuracy(y_val_ccr, y_pred_ccr_val),\n",
    "                     accuracy(y_val_lvq, y_pred_lvq_val)],\n",
    "                    #  accuracy(y_val_ass, y_pred_ass_val)],\n",
    "    'F1 Score': [\"\",\n",
    "                f1_score(y_val, y_pred_bc_val),\n",
    "                f1_score(y_val, y_pred_bbc_val),\n",
    "                f1_score(y_val, y_pred_bbc3_val),\n",
    "                f1_score(y_val, y_pred_brf_val),\n",
    "                f1_score(y_val, y_pred_rbc_val),\n",
    "                f1_score(y_val, y_pred_eec_val),\n",
    "                \"\",\n",
    "                f1_score(y_val_tl, y_pred_tl_val),\n",
    "                f1_score(y_val_enn, y_pred_enn_val),\n",
    "                \"\",\n",
    "                f1_score(y_val_sm, y_pred_sm_val),\n",
    "                f1_score(y_val_svm, y_pred_svmsm_val),\n",
    "                f1_score(y_val_adsn, y_pred_adsnm_val),\n",
    "                \"\",\n",
    "                f1_score(y_val_smt, y_pred_smtk_val),\n",
    "                f1_score(y_val_sme, y_pred_smenn_val),\n",
    "                \"\",\n",
    "                f1_score(y_val_pfs, y_pred_pfsm_val),\n",
    "                f1_score(y_val_pws, y_pred_pws_val),\n",
    "                f1_score(y_val_smi, y_pred_smipf_val),\n",
    "                f1_score(y_val_smo, y_pred_smobd_val),\n",
    "                f1_score(y_val_gsm, y_pred_gsm_val),\n",
    "                f1_score(y_val_ccr, y_pred_ccr_val),\n",
    "                f1_score(y_val_lvq, y_pred_lvq_val)],\n",
    "                # f1_score(y_val_ass, y_pred_ass_val)],\n",
    "    'PR AUC Score': [\"\",\n",
    "              aps(X_val, y_val, bc),\n",
    "              aps(X_val, y_val, bbc),\n",
    "              aps(X_val, y_val, bbc3),\n",
    "              aps(X_val, y_val, brf),\n",
    "              aps(X_val, y_val, rbc),\n",
    "              aps(X_val, y_val, eec),\n",
    "              \"\",\n",
    "              aps(X_val_tl, y_val_tl, tlm),\n",
    "              aps(X_val_enn, y_val_enn, ennm),\n",
    "              \"\",\n",
    "              aps(X_val_sm, y_val_sm, smm),\n",
    "              aps(X_val_svm, y_val_svm, svmsmote),\n",
    "              aps(X_val_adsn, y_val_adsn, adsnm),\n",
    "              \"\",\n",
    "              aps(X_val_smt, y_val_smt, smtkm),\n",
    "              aps(X_val_sme, y_val_sme, smennm),\n",
    "              \"\",\n",
    "              aps(X_val_pfs, y_val_pfs, pfsmm),\n",
    "              aps(X_val_pws, y_val_pws, pwsm),\n",
    "              aps(X_val_smi, y_val_smi, smipfm),\n",
    "              aps(X_val_smo, y_val_smo, smobdm),\n",
    "              aps(X_val_gsm, y_val_gsm, gsmm),\n",
    "              aps(X_val_ccr, y_val_ccr, ccrm),\n",
    "              aps(X_val_lvq, y_val_lvq, lvqm)]}\n",
    "            #   aps(X_val, y_val_ass, assm)]}\n",
    "scores = pd.DataFrame(data=data, index = [{'ENSEMBLE METHODS':\n",
    "                                          'BaggingClassifier',\n",
    "                                          'BalancedBaggingClassifier',\n",
    "                                          'BBC with GradientBoostingClassifier',\n",
    "                                          'BalancedRandomForestClassifier',\n",
    "                                          'RUBoostClassifier',\n",
    "                                          'EasyEnsembleClassifier',\n",
    "                                          'UNDERSAMPLING METHODS',\n",
    "                                          'TomekLinks',\n",
    "                                          'EditedNearestNeighbours',\n",
    "                                          'OVERSAMPLING METHODS',\n",
    "                                          'SMOTE',\n",
    "                                          'SVMSMOTE',\n",
    "                                          'ADASYN',\n",
    "                                          'COMBINED METHODS',\n",
    "                                          'SMOTETomek',\n",
    "                                          'SMOTEENN',\n",
    "                                          'SMOTE-VARIANTS',\n",
    "                                          'sv.polynom_fit_SMOTE',\n",
    "                                          'sv.ProWSyn',\n",
    "                                          'sv.SMOTE_IPF',\n",
    "                                          'sv.SMOBD'\n",
    "                                          'sv.G_SMOTE',\n",
    "                                          'sv.CCR',\n",
    "                                          'sv.LQV_SMOTE',\n",
    "                                          'sv.Assembled_SMOTE'])"
   ]
  },
  {
   "cell_type": "code",
   "execution_count": 121,
   "metadata": {},
   "outputs": [
    {
     "output_type": "execute_result",
     "data": {
      "text/plain": [
       "                                     Accuracy  F1 Score PR AUC Score\n",
       "ENSEMBLE METHODS                                                    \n",
       "BaggingClassifier                       0.807  0.443269     0.204693\n",
       "BalancedBaggingClassifier            0.763167   0.51118     0.307574\n",
       "BBC with GradientBoostingClassifier  0.753333  0.527157      0.43927\n",
       "BalancedRandomForestClassifier          0.724  0.508314     0.511147\n",
       "RUBoostClassifier                    0.756667  0.519737     0.524461\n",
       "EasyEnsembleClassifier               0.751667  0.527883     0.526296\n",
       "UNDERSAMPLING METHODS                                               \n",
       "TomekLinks                            0.82123  0.508625     0.591199\n",
       "EditedNearestNeighbours              0.821429  0.658041     0.785686\n",
       "OVERSAMPLING METHODS                                                \n",
       "SMOTE                                0.720717   0.69373     0.787819\n",
       "SVMSMOTE                             0.777363  0.761131     0.855903\n",
       "ADASYN                               0.690657  0.660884     0.731072\n",
       "COMBINED METHODS                                                    \n",
       "SMOTETomek                           0.730395  0.706302     0.801434\n",
       "SMOTEENN                             0.818869  0.826478      0.92897\n",
       "SMOTE-VARIANTS                                                      \n",
       "sv.polynom_fit_SMOTE                  0.89184  0.891491     0.961703\n",
       "sv.ProWSyn                           0.858332  0.847811     0.924662\n",
       "sv.SMOTE_IPF                         0.731676  0.708067      0.79373\n",
       "sv.SMOBDsv.G_SMOTE                   0.749093  0.735195     0.824034\n",
       "sv.CCR                               0.740666  0.719316     0.792408\n",
       "sv.LQV_SMOTE                         0.884878  0.876884     0.952629\n",
       "sv.Assembled_SMOTE                   0.876467  0.867748     0.942903"
      ],
      "text/html": "<div>\n<style scoped>\n    .dataframe tbody tr th:only-of-type {\n        vertical-align: middle;\n    }\n\n    .dataframe tbody tr th {\n        vertical-align: top;\n    }\n\n    .dataframe thead th {\n        text-align: right;\n    }\n</style>\n<table border=\"1\" class=\"dataframe\">\n  <thead>\n    <tr style=\"text-align: right;\">\n      <th></th>\n      <th>Accuracy</th>\n      <th>F1 Score</th>\n      <th>PR AUC Score</th>\n    </tr>\n  </thead>\n  <tbody>\n    <tr>\n      <th>ENSEMBLE METHODS</th>\n      <td></td>\n      <td></td>\n      <td></td>\n    </tr>\n    <tr>\n      <th>BaggingClassifier</th>\n      <td>0.807</td>\n      <td>0.443269</td>\n      <td>0.204693</td>\n    </tr>\n    <tr>\n      <th>BalancedBaggingClassifier</th>\n      <td>0.763167</td>\n      <td>0.51118</td>\n      <td>0.307574</td>\n    </tr>\n    <tr>\n      <th>BBC with GradientBoostingClassifier</th>\n      <td>0.753333</td>\n      <td>0.527157</td>\n      <td>0.43927</td>\n    </tr>\n    <tr>\n      <th>BalancedRandomForestClassifier</th>\n      <td>0.724</td>\n      <td>0.508314</td>\n      <td>0.511147</td>\n    </tr>\n    <tr>\n      <th>RUBoostClassifier</th>\n      <td>0.756667</td>\n      <td>0.519737</td>\n      <td>0.524461</td>\n    </tr>\n    <tr>\n      <th>EasyEnsembleClassifier</th>\n      <td>0.751667</td>\n      <td>0.527883</td>\n      <td>0.526296</td>\n    </tr>\n    <tr>\n      <th>UNDERSAMPLING METHODS</th>\n      <td></td>\n      <td></td>\n      <td></td>\n    </tr>\n    <tr>\n      <th>TomekLinks</th>\n      <td>0.82123</td>\n      <td>0.508625</td>\n      <td>0.591199</td>\n    </tr>\n    <tr>\n      <th>EditedNearestNeighbours</th>\n      <td>0.821429</td>\n      <td>0.658041</td>\n      <td>0.785686</td>\n    </tr>\n    <tr>\n      <th>OVERSAMPLING METHODS</th>\n      <td></td>\n      <td></td>\n      <td></td>\n    </tr>\n    <tr>\n      <th>SMOTE</th>\n      <td>0.720717</td>\n      <td>0.69373</td>\n      <td>0.787819</td>\n    </tr>\n    <tr>\n      <th>SVMSMOTE</th>\n      <td>0.777363</td>\n      <td>0.761131</td>\n      <td>0.855903</td>\n    </tr>\n    <tr>\n      <th>ADASYN</th>\n      <td>0.690657</td>\n      <td>0.660884</td>\n      <td>0.731072</td>\n    </tr>\n    <tr>\n      <th>COMBINED METHODS</th>\n      <td></td>\n      <td></td>\n      <td></td>\n    </tr>\n    <tr>\n      <th>SMOTETomek</th>\n      <td>0.730395</td>\n      <td>0.706302</td>\n      <td>0.801434</td>\n    </tr>\n    <tr>\n      <th>SMOTEENN</th>\n      <td>0.818869</td>\n      <td>0.826478</td>\n      <td>0.92897</td>\n    </tr>\n    <tr>\n      <th>SMOTE-VARIANTS</th>\n      <td></td>\n      <td></td>\n      <td></td>\n    </tr>\n    <tr>\n      <th>sv.polynom_fit_SMOTE</th>\n      <td>0.89184</td>\n      <td>0.891491</td>\n      <td>0.961703</td>\n    </tr>\n    <tr>\n      <th>sv.ProWSyn</th>\n      <td>0.858332</td>\n      <td>0.847811</td>\n      <td>0.924662</td>\n    </tr>\n    <tr>\n      <th>sv.SMOTE_IPF</th>\n      <td>0.731676</td>\n      <td>0.708067</td>\n      <td>0.79373</td>\n    </tr>\n    <tr>\n      <th>sv.SMOBDsv.G_SMOTE</th>\n      <td>0.749093</td>\n      <td>0.735195</td>\n      <td>0.824034</td>\n    </tr>\n    <tr>\n      <th>sv.CCR</th>\n      <td>0.740666</td>\n      <td>0.719316</td>\n      <td>0.792408</td>\n    </tr>\n    <tr>\n      <th>sv.LQV_SMOTE</th>\n      <td>0.884878</td>\n      <td>0.876884</td>\n      <td>0.952629</td>\n    </tr>\n    <tr>\n      <th>sv.Assembled_SMOTE</th>\n      <td>0.876467</td>\n      <td>0.867748</td>\n      <td>0.942903</td>\n    </tr>\n  </tbody>\n</table>\n</div>"
     },
     "metadata": {},
     "execution_count": 121
    }
   ],
   "source": [
    "scores"
   ]
  },
  {
   "cell_type": "code",
   "execution_count": null,
   "metadata": {},
   "outputs": [],
   "source": []
  }
 ]
}
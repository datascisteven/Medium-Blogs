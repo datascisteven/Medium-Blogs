{
 "metadata": {
  "language_info": {
   "codemirror_mode": {
    "name": "ipython",
    "version": 3
   },
   "file_extension": ".py",
   "mimetype": "text/x-python",
   "name": "python",
   "nbconvert_exporter": "python",
   "pygments_lexer": "ipython3",
   "version": "3.9.1-final"
  },
  "orig_nbformat": 2,
  "kernelspec": {
   "name": "python3",
   "display_name": "Python 3",
   "language": "python"
  }
 },
 "nbformat": 4,
 "nbformat_minor": 2,
 "cells": [
  {
   "source": [
    "# Importing Packages"
   ],
   "cell_type": "markdown",
   "metadata": {}
  },
  {
   "cell_type": "code",
   "execution_count": 22,
   "metadata": {},
   "outputs": [
    {
     "output_type": "stream",
     "name": "stderr",
     "text": [
      "2021-02-22 04:17:43,557:DEBUG:Loaded backend module://ipykernel.pylab.backend_inline version unknown.\n"
     ]
    }
   ],
   "source": [
    "import numpy as np \n",
    "import pandas as pd\n",
    "from matplotlib import pyplot as plt\n",
    "%matplotlib inline\n",
    "plt.style.use(\"fivethirtyeight\")\n",
    "import seaborn as sns\n",
    "import warnings\n",
    "warnings.filterwarnings('ignore')\n",
    "from collections import Counter\n",
    "import pickle\n",
    "\n",
    "%reload_ext autoreload\n",
    "%autoreload 2\n",
    "from utils import *\n",
    "\n",
    "import smote_variants as sv\n",
    "import imbalanced_databases as imbd\n",
    "import xgboost as xgb\n",
    "\n",
    "from sklearn.linear_model import LogisticRegression\n",
    "from sklearn.tree import DecisionTreeClassifier\n",
    "from sklearn.experimental import enable_hist_gradient_boosting\n",
    "from sklearn.ensemble import AdaBoostClassifier, GradientBoostingClassifier, RandomForestClassifier, BaggingClassifier, HistGradientBoostingClassifier\n",
    "from sklearn.model_selection import train_test_split, KFold, cross_val_score, cross_val_predict, GridSearchCV,RepeatedStratifiedKFold, cross_validate\n",
    "from sklearn.metrics import accuracy_score, confusion_matrix, precision_score, recall_score, f1_score, precision_recall_curve, roc_curve, roc_auc_score, classification_report, plot_confusion_matrix, auc, mean_squared_error, confusion_matrix, balanced_accuracy_score\n",
    "from sklearn.preprocessing import StandardScaler, MinMaxScaler\n",
    "from sklearn.utils import resample\n",
    "from sklearn.dummy import DummyClassifier\n",
    "\n",
    "from imblearn.under_sampling import CondensedNearestNeighbour, NearMiss, OneSidedSelection, NeighbourhoodCleaningRule, RandomUnderSampler, TomekLinks, EditedNearestNeighbours\n",
    "from imblearn.combine import SMOTETomek, SMOTEENN\n",
    "from imblearn.over_sampling import RandomOverSampler, SMOTE, ADASYN\n",
    "from imblearn.ensemble import BalancedBaggingClassifier, BalancedRandomForestClassifier, EasyEnsembleClassifier, RUSBoostClassifier\n",
    "\n",
    "from xgboost.sklearn import XGBClassifier"
   ]
  },
  {
   "source": [
    "# Importing Training and Validation Datasets"
   ],
   "cell_type": "markdown",
   "metadata": {}
  },
  {
   "cell_type": "code",
   "execution_count": 34,
   "metadata": {},
   "outputs": [],
   "source": [
    "pickle_in = open(\"data/training_model.pickle\",\"rb\")\n",
    "train = pickle.load(pickle_in)\n",
    "pickle_in = open(\"data/validate_model.pickle\",\"rb\")\n",
    "validate = pickle.load(pickle_in)"
   ]
  },
  {
   "cell_type": "code",
   "execution_count": 4,
   "metadata": {},
   "outputs": [],
   "source": [
    "X_train = train.drop([\"default\"], axis=1)\n",
    "y_tr = train[\"default\"]\n",
    "X_validate = validate.drop([\"default\"], axis=1)\n",
    "y_val = validate[\"default\"]"
   ]
  },
  {
   "cell_type": "code",
   "execution_count": 35,
   "metadata": {},
   "outputs": [
    {
     "output_type": "execute_result",
     "data": {
      "text/plain": [
       "     limit  behind1    paid2  delayed  latemths  age  behind2  billed1  \\\n",
       "0  1790.26        0   179.13        0         0   44        0  1631.93   \n",
       "1  5728.83       -1   173.87        0         0   46       -1   891.69   \n",
       "2  3580.52       -1     0.00        0         0   47       -1   238.68   \n",
       "3  6086.88        0    89.26        0         0   29        0  2831.87   \n",
       "4  5370.78       -2  1171.37        0         0   33       -2   873.40   \n",
       "\n",
       "     avg_av    avail1  \n",
       "0  0.344578  0.088440  \n",
       "1  0.957227  0.844350  \n",
       "2  0.968650  0.933339  \n",
       "3  0.650602  0.534758  \n",
       "4  0.836153  0.837379  "
      ],
      "text/html": "<div>\n<style scoped>\n    .dataframe tbody tr th:only-of-type {\n        vertical-align: middle;\n    }\n\n    .dataframe tbody tr th {\n        vertical-align: top;\n    }\n\n    .dataframe thead th {\n        text-align: right;\n    }\n</style>\n<table border=\"1\" class=\"dataframe\">\n  <thead>\n    <tr style=\"text-align: right;\">\n      <th></th>\n      <th>limit</th>\n      <th>behind1</th>\n      <th>paid2</th>\n      <th>delayed</th>\n      <th>latemths</th>\n      <th>age</th>\n      <th>behind2</th>\n      <th>billed1</th>\n      <th>avg_av</th>\n      <th>avail1</th>\n    </tr>\n  </thead>\n  <tbody>\n    <tr>\n      <th>0</th>\n      <td>1790.26</td>\n      <td>0</td>\n      <td>179.13</td>\n      <td>0</td>\n      <td>0</td>\n      <td>44</td>\n      <td>0</td>\n      <td>1631.93</td>\n      <td>0.344578</td>\n      <td>0.088440</td>\n    </tr>\n    <tr>\n      <th>1</th>\n      <td>5728.83</td>\n      <td>-1</td>\n      <td>173.87</td>\n      <td>0</td>\n      <td>0</td>\n      <td>46</td>\n      <td>-1</td>\n      <td>891.69</td>\n      <td>0.957227</td>\n      <td>0.844350</td>\n    </tr>\n    <tr>\n      <th>2</th>\n      <td>3580.52</td>\n      <td>-1</td>\n      <td>0.00</td>\n      <td>0</td>\n      <td>0</td>\n      <td>47</td>\n      <td>-1</td>\n      <td>238.68</td>\n      <td>0.968650</td>\n      <td>0.933339</td>\n    </tr>\n    <tr>\n      <th>3</th>\n      <td>6086.88</td>\n      <td>0</td>\n      <td>89.26</td>\n      <td>0</td>\n      <td>0</td>\n      <td>29</td>\n      <td>0</td>\n      <td>2831.87</td>\n      <td>0.650602</td>\n      <td>0.534758</td>\n    </tr>\n    <tr>\n      <th>4</th>\n      <td>5370.78</td>\n      <td>-2</td>\n      <td>1171.37</td>\n      <td>0</td>\n      <td>0</td>\n      <td>33</td>\n      <td>-2</td>\n      <td>873.40</td>\n      <td>0.836153</td>\n      <td>0.837379</td>\n    </tr>\n  </tbody>\n</table>\n</div>"
     },
     "metadata": {},
     "execution_count": 35
    }
   ],
   "source": [
    "X_train.head()"
   ]
  },
  {
   "cell_type": "code",
   "execution_count": 36,
   "metadata": {},
   "outputs": [
    {
     "output_type": "execute_result",
     "data": {
      "text/plain": [
       "     limit  behind1   paid2  delayed  latemths  age  behind2  billed1  \\\n",
       "0  1074.16        0   71.61        0         0   25        0   317.38   \n",
       "1  5370.78        0  151.64        0         0   26        0  4895.86   \n",
       "2  2506.36        0  111.43        0         0   32        0  2510.73   \n",
       "3  4654.68        0   64.74        0         0   49        0   740.38   \n",
       "4  1790.26        0   53.71        1         1   36        0  3373.85   \n",
       "\n",
       "     avg_av    avail1  \n",
       "0  0.602052  0.704532  \n",
       "1  0.293715  0.088427  \n",
       "2  0.005217 -0.001744  \n",
       "3  0.883482  0.840939  \n",
       "4  0.188227 -0.884559  "
      ],
      "text/html": "<div>\n<style scoped>\n    .dataframe tbody tr th:only-of-type {\n        vertical-align: middle;\n    }\n\n    .dataframe tbody tr th {\n        vertical-align: top;\n    }\n\n    .dataframe thead th {\n        text-align: right;\n    }\n</style>\n<table border=\"1\" class=\"dataframe\">\n  <thead>\n    <tr style=\"text-align: right;\">\n      <th></th>\n      <th>limit</th>\n      <th>behind1</th>\n      <th>paid2</th>\n      <th>delayed</th>\n      <th>latemths</th>\n      <th>age</th>\n      <th>behind2</th>\n      <th>billed1</th>\n      <th>avg_av</th>\n      <th>avail1</th>\n    </tr>\n  </thead>\n  <tbody>\n    <tr>\n      <th>0</th>\n      <td>1074.16</td>\n      <td>0</td>\n      <td>71.61</td>\n      <td>0</td>\n      <td>0</td>\n      <td>25</td>\n      <td>0</td>\n      <td>317.38</td>\n      <td>0.602052</td>\n      <td>0.704532</td>\n    </tr>\n    <tr>\n      <th>1</th>\n      <td>5370.78</td>\n      <td>0</td>\n      <td>151.64</td>\n      <td>0</td>\n      <td>0</td>\n      <td>26</td>\n      <td>0</td>\n      <td>4895.86</td>\n      <td>0.293715</td>\n      <td>0.088427</td>\n    </tr>\n    <tr>\n      <th>2</th>\n      <td>2506.36</td>\n      <td>0</td>\n      <td>111.43</td>\n      <td>0</td>\n      <td>0</td>\n      <td>32</td>\n      <td>0</td>\n      <td>2510.73</td>\n      <td>0.005217</td>\n      <td>-0.001744</td>\n    </tr>\n    <tr>\n      <th>3</th>\n      <td>4654.68</td>\n      <td>0</td>\n      <td>64.74</td>\n      <td>0</td>\n      <td>0</td>\n      <td>49</td>\n      <td>0</td>\n      <td>740.38</td>\n      <td>0.883482</td>\n      <td>0.840939</td>\n    </tr>\n    <tr>\n      <th>4</th>\n      <td>1790.26</td>\n      <td>0</td>\n      <td>53.71</td>\n      <td>1</td>\n      <td>1</td>\n      <td>36</td>\n      <td>0</td>\n      <td>3373.85</td>\n      <td>0.188227</td>\n      <td>-0.884559</td>\n    </tr>\n  </tbody>\n</table>\n</div>"
     },
     "metadata": {},
     "execution_count": 36
    }
   ],
   "source": [
    "X_validate.head()"
   ]
  },
  {
   "source": [
    "# Standardize Datasets"
   ],
   "cell_type": "markdown",
   "metadata": {}
  },
  {
   "cell_type": "code",
   "execution_count": 37,
   "metadata": {},
   "outputs": [],
   "source": [
    "scaler = StandardScaler()\n",
    "scaler.fit(X_train)\n",
    "X_tr_ss = scaler.transform(X_train)\n",
    "X_val_ss = scaler.transform(X_validate)"
   ]
  },
  {
   "cell_type": "code",
   "execution_count": 58,
   "metadata": {},
   "outputs": [],
   "source": [
    "scaled = MinMaxScaler()\n",
    "scaled.fit(X_train)\n",
    "X_tr = scaled.transform(X_train)\n",
    "X_val = scaled.transform(X_validate)"
   ]
  },
  {
   "source": [
    "# Importing Model"
   ],
   "cell_type": "markdown",
   "metadata": {}
  },
  {
   "cell_type": "code",
   "execution_count": 52,
   "metadata": {},
   "outputs": [],
   "source": [
    "pickle_in = open(\"data/best_model.pickle\",\"rb\")\n",
    "rfcb = pickle.load(pickle_in)"
   ]
  },
  {
   "cell_type": "code",
   "execution_count": 51,
   "metadata": {},
   "outputs": [
    {
     "output_type": "execute_result",
     "data": {
      "text/plain": [
       "RandomForestClassifier(max_depth=8, n_estimators=400)"
      ]
     },
     "metadata": {},
     "execution_count": 51
    }
   ],
   "source": [
    "rfcb"
   ]
  },
  {
   "source": [
    "# Dummy Classifier"
   ],
   "cell_type": "markdown",
   "metadata": {}
  },
  {
   "cell_type": "code",
   "execution_count": 6,
   "metadata": {},
   "outputs": [
    {
     "output_type": "stream",
     "name": "stdout",
     "text": [
      "Training Accuracy:  0.7782857142857142\nValidation Accuracy:  0.7811666666666667\nTraining F1 Score:  0.0\nValidation F1 Score:  0.0\nTraining AUC Score:  0.5\nValidation AUC Score:  0.5\nTraining Recall Score:  0.0\nValidation Recall Score:  0.0\nTraining Precision Score:  0.0\nValidation Precision Score:  0.0\nTraining Average Precision Score:  0.22171428571428572\nValidation Average Precision Score:  0.21883333333333332\n"
     ]
    }
   ],
   "source": [
    "dc = DummyClassifier(strategy='most_frequent').fit(X_tr, y_tr)\n",
    "y_pred_dc_tr = dc.predict(X_tr)\n",
    "y_pred_dc_val = dc.predict(X_val)\n",
    "get_metric(X_tr, y_tr, X_val, y_val, y_pred_dc_tr, y_pred_dc_val, dc)"
   ]
  },
  {
   "cell_type": "code",
   "execution_count": 39,
   "metadata": {},
   "outputs": [
    {
     "output_type": "stream",
     "name": "stdout",
     "text": [
      "Training Accuracy:  0.7782857142857142\nValidation Accuracy:  0.7811666666666667\nTraining F1 Score:  0.0\nValidation F1 Score:  0.0\nTraining AUC Score:  0.5\nValidation AUC Score:  0.5\nTraining Recall Score:  0.0\nValidation Recall Score:  0.0\nTraining Precision Score:  0.0\nValidation Precision Score:  0.0\nTraining Average Precision Score:  0.22171428571428572\nValidation Average Precision Score:  0.21883333333333332\n"
     ]
    }
   ],
   "source": [
    "dc2 = DummyClassifier(strategy='most_frequent').fit(X_tr_mm, y_tr)\n",
    "y_pred_dc_tr2 = dc2.predict(X_tr_mm)\n",
    "y_pred_dc_val2 = dc2.predict(X_val_mm)\n",
    "get_metric(X_tr_mm, y_tr, X_val_mm, y_val, y_pred_dc_tr2, y_pred_dc_val2, dc2)"
   ]
  },
  {
   "source": [
    "# Ensemble Methods"
   ],
   "cell_type": "markdown",
   "metadata": {}
  },
  {
   "source": [
    "## Bagging Classifier\n",
    "\n",
    "Instead of using a single tree, we will check if an ensemble of decsion tree can actually alleviate the issue induced by the class imbalancing. First, we will use a bagging classifier and its counter part which internally uses a random under-sampling to balanced each boostrap sample.\n",
    "\n",
    "Balancing each bootstrap sample allows to increase significantly the balanced accuracy and the geometric mean."
   ],
   "cell_type": "markdown",
   "metadata": {}
  },
  {
   "cell_type": "code",
   "execution_count": 41,
   "metadata": {},
   "outputs": [
    {
     "output_type": "stream",
     "name": "stdout",
     "text": [
      "Training Accuracy:  0.996904761904762\nValidation Accuracy:  0.807\nTraining F1 Score:  0.9929964443486693\nValidation F1 Score:  0.44326923076923075\nTraining AUC Score:  0.9998954304300327\nValidation AUC Score:  0.740359286457933\nTraining Recall Score:  0.9896907216494846\nValidation Recall Score:  0.3511043412033511\nTraining Precision Score:  0.9963243243243243\nValidation Precision Score:  0.6010430247718384\nTraining Average Precision Score:  0.9996190235446103\nValidation Average Precision Score:  0.48114820511254575\n\nTraining Balanced Accuracy:  0.9943252922980659\nTraining Geometric Mean:  0.9943144913248209\nValidation Balanced Accuracy:  0.6429086886302653\nValidation Geometric Mean:  0.5728715429649479\n"
     ]
    }
   ],
   "source": [
    "bc = BaggingClassifier(n_estimators=50, random_state=42).fit(X_tr_ss, y_tr)\n",
    "y_pred_bc_tr = bc.predict(X_tr_ss)\n",
    "y_pred_bc_val = bc.predict(X_val_ss)\n",
    "get_metric(X_tr_ss, y_tr, X_val_ss, y_val, y_pred_bc_tr, y_pred_bc_val, bc)\n",
    "print(\"\")\n",
    "print('Training Balanced Accuracy: ', balanced_accuracy_score(y_tr, y_pred_bc_tr))\n",
    "print('Training Geometric Mean: ', geometric_mean_score(y_tr, y_pred_bc_tr))\n",
    "print('Validation Balanced Accuracy: ', balanced_accuracy_score(y_val, y_pred_bc_val))\n",
    "print('Validation Geometric Mean: ', geometric_mean_score(y_val, y_pred_bc_val))"
   ]
  },
  {
   "cell_type": "code",
   "execution_count": 42,
   "metadata": {},
   "outputs": [
    {
     "output_type": "stream",
     "name": "stdout",
     "text": [
      "Training Accuracy:  0.9968571428571429\nValidation Accuracy:  0.5756666666666667\nTraining F1 Score:  0.9928879310344828\nValidation F1 Score:  0.24135876042908222\nTraining AUC Score:  0.9998956603976701\nValidation AUC Score:  0.7392445699412303\nTraining Recall Score:  0.9894759450171822\nValidation Recall Score:  0.30845392231530844\nTraining Precision Score:  0.9963235294117647\nValidation Precision Score:  0.19823788546255505\nTraining Average Precision Score:  0.9996187404466341\nValidation Average Precision Score:  0.48062889134622905\n\nTraining Balanced Accuracy:  0.9942179039819146\nTraining Geometric Mean:  0.9942065954435066\nValidation Balanced Accuracy:  0.47948832236951683\nValidation Geometric Mean:  0.44794674380648275\n"
     ]
    }
   ],
   "source": [
    "bc2 = BaggingClassifier(n_estimators=50, random_state=42).fit(X_tr_mm, y_tr)\n",
    "y_pred_bc_tr2 = bc2.predict(X_tr_mm)\n",
    "y_pred_bc_val2 = bc2.predict(X_val_ss)\n",
    "get_metric(X_tr_mm, y_tr, X_val_mm, y_val, y_pred_bc_tr2, y_pred_bc_val2, bc2)\n",
    "print(\"\")\n",
    "print('Training Balanced Accuracy: ', balanced_accuracy_score(y_tr, y_pred_bc_tr2))\n",
    "print('Training Geometric Mean: ', geometric_mean_score(y_tr, y_pred_bc_tr2))\n",
    "print('Validation Balanced Accuracy: ', balanced_accuracy_score(y_val, y_pred_bc_val2))\n",
    "print('Validation Geometric Mean: ', geometric_mean_score(y_val, y_pred_bc_val2))"
   ]
  },
  {
   "source": [
    "## Balanced Bagging Classifier\n",
    "\n",
    "A Bagging classifier with additional balancing.\n",
    "\n",
    "This implementation of Bagging is similar to the scikit-learn implementation. It includes an additional step to balance the training set at fit time using a given sampler.\n",
    "\n",
    "This classifier can serves as a basis to implement various methods such as Exactly Balanced Bagging [6], Roughly Balanced Bagging [7], Over-Bagging [6], or SMOTE-Bagging [8]."
   ],
   "cell_type": "markdown",
   "metadata": {}
  },
  {
   "cell_type": "code",
   "execution_count": 44,
   "metadata": {},
   "outputs": [
    {
     "output_type": "stream",
     "name": "stdout",
     "text": [
      "Training Accuracy:  0.9383333333333334\nValidation Accuracy:  0.7631666666666667\nTraining F1 Score:  0.8778186621379375\nValidation F1 Score:  0.5111799105607154\nTraining AUC Score:  0.9955504481714446\nValidation AUC Score:  0.7528188434539899\nTraining Recall Score:  0.9991408934707904\nValidation Recall Score:  0.5658796648895659\nTraining Precision Score:  0.7827696449604576\nValidation Precision Score:  0.46612296110414053\nTraining Average Precision Score:  0.9819759873453777\nValidation Average Precision Score:  0.499848233823849\n\nTraining Balanced Accuracy:  0.9600758309742596\nTraining Geometric Mean:  0.9592807316490086\nValidation Balanced Accuracy:  0.6921568155896517\nValidation Geometric Mean:  0.680540328399629\n"
     ]
    }
   ],
   "source": [
    "bbc = BalancedBaggingClassifier(n_estimators=50, random_state=42).fit(X_tr_ss, y_tr)\n",
    "y_pred_bbc_tr = bbc.predict(X_tr_ss)\n",
    "y_pred_bbc_val = bbc.predict(X_val_ss)\n",
    "get_metric(X_tr_ss, y_tr, X_val_ss, y_val, y_pred_bbc_tr, y_pred_bbc_val, bbc)\n",
    "print(\"\")\n",
    "print('Training Balanced Accuracy: ', balanced_accuracy_score(y_tr, y_pred_bbc_tr))\n",
    "print('Training Geometric Mean: ', geometric_mean_score(y_tr, y_pred_bbc_tr))\n",
    "print('Validation Balanced Accuracy: ', balanced_accuracy_score(y_val, y_pred_bbc_val))\n",
    "print('Validation Geometric Mean: ', geometric_mean_score(y_val, y_pred_bbc_val))"
   ]
  },
  {
   "cell_type": "code",
   "execution_count": 46,
   "metadata": {},
   "outputs": [
    {
     "output_type": "stream",
     "name": "stdout",
     "text": [
      "Training Accuracy:  0.9377619047619048\nValidation Accuracy:  0.7631666666666667\nTraining F1 Score:  0.8768027146762183\nValidation F1 Score:  0.5098309761986892\nTraining AUC Score:  0.9954806562787525\nValidation AUC Score:  0.7528568673118481\nTraining Recall Score:  0.998926116838488\nValidation Recall Score:  0.5628332063975628\nTraining Precision Score:  0.7812867461783974\nValidation Precision Score:  0.46595208070617905\nTraining Average Precision Score:  0.9817802664689138\nValidation Average Precision Score:  0.49903403558134285\n\nTraining Balanced Accuracy:  0.9596319277290825\nTraining Geometric Mean:  0.9588270977706405\nValidation Balanced Accuracy:  0.691060298526283\nValidation Geometric Mean:  0.6790597536619647\n"
     ]
    }
   ],
   "source": [
    "bbc2 = BalancedBaggingClassifier(n_estimators=50, random_state=42).fit(X_tr_mm, y_tr)\n",
    "y_pred_bbc_tr2 = bbc2.predict(X_tr_mm)\n",
    "y_pred_bbc_val2 = bbc2.predict(X_val_mm)\n",
    "get_metric(X_tr_mm, y_tr, X_val_mm, y_val, y_pred_bbc_tr2, y_pred_bbc_val2, bbc2)\n",
    "print(\"\")\n",
    "print('Training Balanced Accuracy: ', balanced_accuracy_score(y_tr, y_pred_bbc_tr2))\n",
    "print('Training Geometric Mean: ', geometric_mean_score(y_tr, y_pred_bbc_tr2))\n",
    "print('Validation Balanced Accuracy: ', balanced_accuracy_score(y_val, y_pred_bbc_val2))\n",
    "print('Validation Geometric Mean: ', geometric_mean_score(y_val, y_pred_bbc_val2))"
   ]
  },
  {
   "source": [
    "## Balanced Bagging Classifier with Gradient Boosting Classifier"
   ],
   "cell_type": "markdown",
   "metadata": {}
  },
  {
   "cell_type": "code",
   "execution_count": 48,
   "metadata": {},
   "outputs": [
    {
     "output_type": "stream",
     "name": "stdout",
     "text": [
      "Training Accuracy:  0.793\nValidation Accuracy:  0.7533333333333333\nTraining F1 Score:  0.6030499497762761\nValidation F1 Score:  0.5271565495207667\nTraining AUC Score:  0.8560039766792316\nValidation AUC Score:  0.7749874838134551\nTraining Recall Score:  0.709192439862543\nValidation Recall Score:  0.6283320639756284\nTraining Precision Score:  0.5245432883240667\nValidation Precision Score:  0.45404512933406715\nTraining Average Precision Score:  0.680188981227117\nValidation Average Precision Score:  0.5372388529575939\n"
     ]
    }
   ],
   "source": [
    "bbc3 = BalancedBaggingClassifier(\n",
    "        base_estimator=HistGradientBoostingClassifier(random_state=42),\n",
    "        n_estimators=10,\n",
    "        random_state=42,\n",
    "        n_jobs=2).fit(X_tr_ss, y_tr)\n",
    "y_pred_bbc_tr3 = bbc3.predict(X_tr_ss)\n",
    "y_pred_bbc_val3 = bbc3.predict(X_val_ss)\n",
    "get_metric(X_tr_ss, y_tr, X_val_ss, y_val, y_pred_bbc_tr3, y_pred_bbc_val3, bbc3)"
   ]
  },
  {
   "cell_type": "code",
   "execution_count": 49,
   "metadata": {},
   "outputs": [
    {
     "output_type": "stream",
     "name": "stdout",
     "text": [
      "Training Accuracy:  0.793\nValidation Accuracy:  0.7533333333333333\nTraining F1 Score:  0.6030499497762761\nValidation F1 Score:  0.5271565495207667\nTraining AUC Score:  0.8560039766792316\nValidation AUC Score:  0.7749874838134551\nTraining Recall Score:  0.709192439862543\nValidation Recall Score:  0.6283320639756284\nTraining Precision Score:  0.5245432883240667\nValidation Precision Score:  0.45404512933406715\nTraining Average Precision Score:  0.680188981227117\nValidation Average Precision Score:  0.5372388529575939\n"
     ]
    }
   ],
   "source": [
    "bbc4 = BalancedBaggingClassifier(\n",
    "        base_estimator=HistGradientBoostingClassifier(random_state=42),\n",
    "        n_estimators=10,\n",
    "        random_state=42,\n",
    "        n_jobs=2).fit(X_tr_mm, y_tr)\n",
    "y_pred_bbc_tr4 = bbc4.predict(X_tr_mm)\n",
    "y_pred_bbc_val4 = bbc4.predict(X_val_mm)\n",
    "get_metric(X_tr_mm, y_tr, X_val_mm, y_val, y_pred_bbc_tr4, y_pred_bbc_val4, bbc4)"
   ]
  },
  {
   "source": [
    "## Balanced Random Forest Classifier\n",
    "\n",
    "Random forest is another popular ensemble method and it is usually outperforming bagging. Here, we used a vanilla random forest and its balanced counterpart in which each bootstrap sample is balanced.\n",
    "\n",
    "Similarly to the previous experiment, the balanced classifier outperform the classifier which learn from imbalanced bootstrap samples. In addition, random forest outsperforms the bagging classifier."
   ],
   "cell_type": "markdown",
   "metadata": {}
  },
  {
   "cell_type": "code",
   "execution_count": 54,
   "metadata": {},
   "outputs": [
    {
     "output_type": "stream",
     "name": "stdout",
     "text": [
      "Training Accuracy:  0.8858095238095238\nValidation Accuracy:  0.7216666666666667\nTraining F1 Score:  0.7952177625960717\nValidation F1 Score:  0.5056246299585553\nTraining AUC Score:  0.9927690618729111\nValidation AUC Score:  0.7649476416352144\nTraining Recall Score:  1.0\nValidation Recall Score:  0.6504188880426505\nTraining Precision Score:  0.6600510348738304\nValidation Precision Score:  0.4135593220338983\nTraining Average Precision Score:  0.9731060253750823\nValidation Average Precision Score:  0.5095399440624323\n"
     ]
    }
   ],
   "source": [
    "brf = BalancedRandomForestClassifier(n_estimators=100, random_state=42).fit(X_tr, y_tr)\n",
    "y_pred_brf_tr = brf.predict(X_tr)\n",
    "y_pred_brf_val = brf.predict(X_val)\n",
    "get_metric(X_tr, y_tr, X_val, y_val, y_pred_brf_tr, y_pred_brf_val, brf)"
   ]
  },
  {
   "source": [
    "## RUSBoostClassifier\n",
    "\n",
    "Random under-sampling integrated in the learning of AdaBoost.\n",
    "\n",
    "During learning, the problem of class balancing is alleviated by random under-sampling the sample at each iteration of the boosting algorithm"
   ],
   "cell_type": "markdown",
   "metadata": {}
  },
  {
   "cell_type": "code",
   "execution_count": 55,
   "metadata": {},
   "outputs": [
    {
     "output_type": "stream",
     "name": "stdout",
     "text": [
      "Training Accuracy:  0.7674761904761904\nValidation Accuracy:  0.7566666666666667\nTraining F1 Score:  0.5456406439006235\nValidation F1 Score:  0.5197368421052632\nTraining AUC Score:  0.7936512282426961\nValidation AUC Score:  0.7667346817069983\nTraining Recall Score:  0.6297250859106529\nValidation Recall Score:  0.6016755521706016\nTraining Precision Score:  0.48136594976194386\nValidation Precision Score:  0.45744064852345107\nTraining Average Precision Score:  0.5609306330020786\nValidation Average Precision Score:  0.5244608728332589\n"
     ]
    }
   ],
   "source": [
    "rbc = RUSBoostClassifier(n_estimators=200, algorithm='SAMME.R', random_state=42).fit(X_tr, y_tr)\n",
    "y_pred_rbc_tr = rbc.predict(X_tr)\n",
    "y_pred_rbc_val = rbc.predict(X_val)\n",
    "get_metric(X_tr, y_tr, X_val, y_val, y_pred_rbc_tr, y_pred_rbc_val, rbc)"
   ]
  },
  {
   "source": [
    "## Easy Ensemble Classifier\n",
    "\n",
    "Bag of balanced boosted learners also known as EasyEnsemble.\n",
    "\n",
    "This algorithm is known as EasyEnsemble [1]. The classifier is an ensemble of AdaBoost learners trained on different balanced boostrap samples. The balancing is achieved by random under-sampling."
   ],
   "cell_type": "markdown",
   "metadata": {}
  },
  {
   "cell_type": "code",
   "execution_count": 56,
   "metadata": {},
   "outputs": [
    {
     "output_type": "stream",
     "name": "stdout",
     "text": [
      "Training Accuracy:  0.7591428571428571\nValidation Accuracy:  0.7513333333333333\nTraining F1 Score:  0.5426763110307414\nValidation F1 Score:  0.5272496831432193\nTraining AUC Score:  0.7903551875127205\nValidation AUC Score:  0.7749366228411914\nTraining Recall Score:  0.6445446735395189\nValidation Recall Score:  0.6336633663366337\nTraining Precision Score:  0.46861336664584635\nValidation Precision Score:  0.45143787303309824\nTraining Average Precision Score:  0.5503924427172178\nValidation Average Precision Score:  0.5262746690329609\n"
     ]
    }
   ],
   "source": [
    "eec = EasyEnsembleClassifier(random_state=42).fit(X_tr, y_tr) \n",
    "y_pred_eec_tr = eec.predict(X_tr)\n",
    "y_pred_eec_val = eec.predict(X_val)\n",
    "get_metric(X_tr, y_tr, X_val, y_val, y_pred_eec_tr, y_pred_eec_val, eec)"
   ]
  },
  {
   "source": [
    "# Undersampling Methods"
   ],
   "cell_type": "markdown",
   "metadata": {}
  },
  {
   "cell_type": "code",
   "execution_count": 12,
   "metadata": {},
   "outputs": [
    {
     "output_type": "stream",
     "name": "stdout",
     "text": [
      "Training Count:  Counter({0: 14844, 1: 4656})\n",
      "Validation Count:  Counter({0: 4271, 1: 1313})\n",
      "Training Accuracy:  0.839948717948718\n",
      "Validation Accuracy:  0.8216332378223495\n",
      "Training F1 Score:  0.5707605556319626\n",
      "Validation F1 Score:  0.508390918065153\n",
      "Training AUC Score:  0.841091632763096\n",
      "Validation AUC Score:  0.7968306061015121\n",
      "Training Recall Score:  0.44566151202749144\n",
      "Validation Recall Score:  0.39223153084539225\n",
      "Training Precision Score:  0.7934990439770554\n",
      "Validation Precision Score:  0.7223001402524544\n",
      "Training Average Precision Score:  0.7049875136912391\n",
      "Validation Average Precision Score:  0.6050182959215592\n"
     ]
    }
   ],
   "source": [
    "tl = TomekLinks()\n",
    "sampling(X_tr, y_tr, X_val, y_val, tl, rfcb)"
   ]
  },
  {
   "cell_type": "code",
   "execution_count": 13,
   "metadata": {},
   "outputs": [
    {
     "output_type": "stream",
     "name": "stdout",
     "text": [
      "Training Count:  Counter({0: 9921, 1: 4656})\n",
      "Validation Count:  Counter({0: 2811, 1: 1313})\n",
      "Training Accuracy:  0.8493517184605885\n",
      "Validation Accuracy:  0.8208050436469447\n",
      "Training F1 Score:  0.7141369435042958\n",
      "Validation F1 Score:  0.6630186958504332\n",
      "Training AUC Score:  0.893195115986742\n",
      "Validation AUC Score:  0.848395881374526\n",
      "Training Recall Score:  0.5891323024054983\n",
      "Validation Recall Score:  0.5536938309215537\n",
      "Training Precision Score:  0.9064771976206213\n",
      "Validation Precision Score:  0.8261363636363637\n",
      "Training Average Precision Score:  0.8544751985887381\n",
      "Validation Average Precision Score:  0.7911518345139913\n"
     ]
    }
   ],
   "source": [
    "enn = EditedNearestNeighbours()\n",
    "sampling(X_tr, y_tr, X_val, y_val, enn, rfcb)"
   ]
  },
  {
   "source": [
    "# Oversampling Methods"
   ],
   "cell_type": "markdown",
   "metadata": {}
  },
  {
   "cell_type": "code",
   "execution_count": 14,
   "metadata": {},
   "outputs": [
    {
     "output_type": "stream",
     "name": "stdout",
     "text": [
      "Training Count:  Counter({0: 16344, 1: 16344})\n",
      "Validation Count:  Counter({0: 4687, 1: 4687})\n",
      "Training Accuracy:  0.7620533529123837\n",
      "Validation Accuracy:  0.7224237251973544\n",
      "Training F1 Score:  0.7464302014735605\n",
      "Validation F1 Score:  0.6975122064636132\n",
      "Training AUC Score:  0.8463959109595244\n",
      "Validation AUC Score:  0.8030891021377533\n",
      "Training Recall Score:  0.7004405286343612\n",
      "Validation Recall Score:  0.6400682739492213\n",
      "Training Precision Score:  0.7988834612700628\n",
      "Validation Precision Score:  0.7662835249042146\n",
      "Training Average Precision Score:  0.8526563021371741\n",
      "Validation Average Precision Score:  0.810826989470193\n"
     ]
    }
   ],
   "source": [
    "sm = SMOTE(sampling_strategy='minority', random_state=42)\n",
    "sampling(X_tr, y_tr, X_val, y_val, sm, rfcb)"
   ]
  },
  {
   "cell_type": "code",
   "execution_count": 18,
   "metadata": {},
   "outputs": [
    {
     "output_type": "stream",
     "name": "stdout",
     "text": [
      "Training Count:  Counter({0: 16344, 1: 16344})\n",
      "Validation Count:  Counter({0: 4687, 1: 4687})\n",
      "Training Accuracy:  0.781754772393539\n",
      "Validation Accuracy:  0.7906976744186046\n",
      "Training F1 Score:  0.7695736434108527\n",
      "Validation F1 Score:  0.7846322722283205\n",
      "Training AUC Score:  0.8678097486426797\n",
      "Validation AUC Score:  0.8629364644496721\n",
      "Training Recall Score:  0.7288913362701909\n",
      "Validation Recall Score:  0.7625346703648389\n",
      "Training Precision Score:  0.8150656814449918\n",
      "Validation Precision Score:  0.808048835631924\n",
      "Training Average Precision Score:  0.8754784149639834\n",
      "Validation Average Precision Score:  0.8728034854708415\n"
     ]
    }
   ],
   "source": [
    "\n",
    "svmsm = SVMSMOTE()\n",
    "sampling(X_tr, y_tr, X_val, y_val, svmsm, rfcb)"
   ]
  },
  {
   "cell_type": "code",
   "execution_count": 15,
   "metadata": {},
   "outputs": [
    {
     "output_type": "stream",
     "name": "stdout",
     "text": [
      "Training Count:  Counter({1: 16573, 0: 16344})\n",
      "Validation Count:  Counter({0: 4687, 1: 4536})\n",
      "Training Accuracy:  0.7403469331956132\n",
      "Validation Accuracy:  0.6970616935921067\n",
      "Training F1 Score:  0.736374572036643\n",
      "Validation F1 Score:  0.6800274851122309\n",
      "Training AUC Score:  0.8150627820568924\n",
      "Validation AUC Score:  0.7682545985387178\n",
      "Training Recall Score:  0.7202679056296386\n",
      "Validation Recall Score:  0.6545414462081128\n",
      "Training Precision Score:  0.7532180716809692\n",
      "Validation Precision Score:  0.7075786463298379\n",
      "Training Average Precision Score:  0.8167019672323599\n",
      "Validation Average Precision Score:  0.7678434827387284\n"
     ]
    }
   ],
   "source": [
    "adsn = ADASYN()\n",
    "sampling(X_tr, y_tr, X_val, y_val, adsn, rfcb)"
   ]
  },
  {
   "source": [
    "# Combined Methods"
   ],
   "cell_type": "markdown",
   "metadata": {}
  },
  {
   "cell_type": "code",
   "execution_count": 16,
   "metadata": {},
   "outputs": [
    {
     "output_type": "stream",
     "name": "stdout",
     "text": [
      "Training Count:  Counter({0: 15617, 1: 15617})\n",
      "Validation Count:  Counter({0: 4448, 1: 4448})\n",
      "Training Accuracy:  0.7696740731254402\n",
      "Validation Accuracy:  0.7419064748201439\n",
      "Training F1 Score:  0.7534950657894737\n",
      "Validation F1 Score:  0.7223028543783261\n",
      "Training AUC Score:  0.8562297616043882\n",
      "Validation AUC Score:  0.8201241474221702\n",
      "Training Recall Score:  0.7040404687199846\n",
      "Validation Recall Score:  0.6713129496402878\n",
      "Training Precision Score:  0.8104223483452495\n",
      "Validation Precision Score:  0.7816753926701571\n",
      "Training Average Precision Score:  0.8615989775670404\n",
      "Validation Average Precision Score:  0.8256320993928399\n"
     ]
    }
   ],
   "source": [
    "smtk = SMOTETomek()\n",
    "sampling(X_tr, y_tr, X_val, y_val, smtk, rfcb)"
   ]
  },
  {
   "cell_type": "code",
   "execution_count": 17,
   "metadata": {},
   "outputs": [
    {
     "output_type": "stream",
     "name": "stdout",
     "text": [
      "Training Count:  Counter({1: 11465, 0: 8660})\n",
      "Validation Count:  Counter({1: 3249, 0: 2360})\n",
      "Training Accuracy:  0.8723478260869565\n",
      "Validation Accuracy:  0.8111962916740952\n",
      "Training F1 Score:  0.8839918717543463\n",
      "Validation F1 Score:  0.8285575522098108\n",
      "Training AUC Score:  0.9484440797325729\n",
      "Validation AUC Score:  0.905861255875341\n",
      "Training Recall Score:  0.8537287396423899\n",
      "Validation Recall Score:  0.7876269621421976\n",
      "Training Precision Score:  0.9164794007490636\n",
      "Validation Precision Score:  0.8739754098360656\n",
      "Training Average Precision Score:  0.9653497494543584\n",
      "Validation Average Precision Score:  0.9379111317969824\n"
     ]
    }
   ],
   "source": [
    "smenn = SMOTEENN(sampling_strategy=\"minority\", n_jobs= -1)\n",
    "sampling(X_tr, y_tr, X_val, y_val, smenn, rfcb)"
   ]
  },
  {
   "source": [
    "# SMOTE Variants"
   ],
   "cell_type": "markdown",
   "metadata": {}
  },
  {
   "cell_type": "code",
   "execution_count": 23,
   "metadata": {},
   "outputs": [
    {
     "output_type": "stream",
     "name": "stderr",
     "text": [
      "2021-02-22 04:17:59,401:INFO:polynom_fit_SMOTE: Running sampling via ('polynom_fit_SMOTE', \"{'proportion': 1.0, 'topology': 'star'}\")\n",
      "2021-02-22 04:17:59,468:INFO:polynom_fit_SMOTE: Running sampling via ('polynom_fit_SMOTE', \"{'proportion': 1.0, 'topology': 'star'}\")\n",
      "Training Count:  Counter({1: 18624, 0: 16344})\n",
      "Validation Count:  Counter({1: 5252, 0: 4687})\n",
      "Training Accuracy:  0.8983356211393274\n",
      "Validation Accuracy:  0.8917396116309488\n",
      "Training F1 Score:  0.8990372326829684\n",
      "Validation F1 Score:  0.8914228052472251\n",
      "Training AUC Score:  0.9570493303841757\n",
      "Validation AUC Score:  0.9449129156157973\n",
      "Training Recall Score:  0.8498711340206185\n",
      "Validation Recall Score:  0.841012947448591\n",
      "Training Precision Score:  0.9542412732863086\n",
      "Validation Precision Score:  0.9482610562473165\n",
      "Training Average Precision Score:  0.9705263925143566\n",
      "Validation Average Precision Score:  0.9629791009285424\n"
     ]
    }
   ],
   "source": [
    "pfsm = sv.polynom_fit_SMOTE()\n",
    "sampling2(X_tr, y_tr, X_val, y_val, pfsm, rfcb)"
   ]
  },
  {
   "cell_type": "code",
   "execution_count": 24,
   "metadata": {},
   "outputs": [
    {
     "output_type": "stream",
     "name": "stderr",
     "text": [
      "2021-02-22 04:19:27,890:INFO:ProWSyn: Running sampling via ('ProWSyn', \"{'proportion': 1.0, 'n_neighbors': 5, 'L': 5, 'theta': 1.0, 'n_jobs': 1}\")\n",
      "2021-02-22 04:19:29,799:INFO:ProWSyn: Running sampling via ('ProWSyn', \"{'proportion': 1.0, 'n_neighbors': 5, 'L': 5, 'theta': 1.0, 'n_jobs': 1}\")\n",
      "Training Count:  Counter({0: 16344, 1: 16344})\n",
      "Validation Count:  Counter({0: 4687, 1: 4687})\n",
      "Training Accuracy:  0.8706253059226627\n",
      "Validation Accuracy:  0.8590783016855131\n",
      "Training F1 Score:  0.862045343337139\n",
      "Validation F1 Score:  0.848561274790783\n",
      "Training AUC Score:  0.9344885971857152\n",
      "Validation AUC Score:  0.9165062095635695\n",
      "Training Recall Score:  0.8084312285854136\n",
      "Validation Recall Score:  0.7896308939620226\n",
      "Training Precision Score:  0.9232758018307595\n",
      "Validation Precision Score:  0.9169970267591675\n",
      "Training Average Precision Score:  0.9480470972523901\n",
      "Validation Average Precision Score:  0.9361608164415575\n"
     ]
    }
   ],
   "source": [
    "pws = sv.ProWSyn()\n",
    "sampling2(X_tr, y_tr, X_val, y_val, pws, rfcb)"
   ]
  },
  {
   "cell_type": "code",
   "execution_count": 25,
   "metadata": {},
   "outputs": [
    {
     "output_type": "stream",
     "name": "stderr",
     "text": [
      "2021-02-22 04:20:17,554:INFO:SMOTE_IPF: Running sampling via ('SMOTE_IPF', \"{'proportion': 1.0, 'n_neighbors': 5, 'n_folds': 9, 'k': 3, 'p': 0.01, 'voting': 'majority', 'n_jobs': 1, 'classifier': DecisionTreeClassifier()}\")\n",
      "2021-02-22 04:20:17,555:INFO:SMOTE: Running sampling via ('SMOTE', \"{'proportion': 1.0, 'n_neighbors': 5, 'n_jobs': 1}\")\n",
      "2021-02-22 04:20:19,963:INFO:SMOTE_IPF: Removing 44 elements\n",
      "2021-02-22 04:20:22,277:INFO:SMOTE_IPF: Removing 0 elements\n",
      "2021-02-22 04:20:24,347:INFO:SMOTE_IPF: Removing 0 elements\n",
      "2021-02-22 04:20:24,410:INFO:SMOTE_IPF: Running sampling via ('SMOTE_IPF', \"{'proportion': 1.0, 'n_neighbors': 5, 'n_folds': 9, 'k': 3, 'p': 0.01, 'voting': 'majority', 'n_jobs': 1, 'classifier': DecisionTreeClassifier()}\")\n",
      "2021-02-22 04:20:24,418:INFO:SMOTE: Running sampling via ('SMOTE', \"{'proportion': 1.0, 'n_neighbors': 5, 'n_jobs': 1}\")\n",
      "Training Count:  Counter({0: 16335, 1: 16309})\n",
      "2021-02-22 04:20:25,242:INFO:SMOTE_IPF: Removing 1 elements\n",
      "2021-02-22 04:20:25,666:INFO:SMOTE_IPF: Removing 0 elements\n",
      "2021-02-22 04:20:26,117:INFO:SMOTE_IPF: Removing 0 elements\n",
      "Validation Count:  Counter({0: 4687, 1: 4686})\n",
      "Training Accuracy:  0.7666646244332802\n",
      "Validation Accuracy:  0.7308225754827696\n",
      "Training F1 Score:  0.7509400647418502\n",
      "Validation F1 Score:  0.7088286208886324\n",
      "Training AUC Score:  0.8479842826505852\n",
      "Validation AUC Score:  0.8063544874577488\n",
      "Training Recall Score:  0.7040897663866577\n",
      "Validation Recall Score:  0.6553563807084933\n",
      "Training Precision Score:  0.8044696651254029\n",
      "Validation Precision Score:  0.7718019602915306\n",
      "Training Average Precision Score:  0.854409044038132\n",
      "Validation Average Precision Score:  0.8144995424152377\n"
     ]
    }
   ],
   "source": [
    "smipf = sv.SMOTE_IPF()\n",
    "sampling2(X_tr, y_tr, X_val, y_val, smipf, rfcb)"
   ]
  },
  {
   "cell_type": "code",
   "execution_count": 26,
   "metadata": {},
   "outputs": [
    {
     "output_type": "stream",
     "name": "stderr",
     "text": [
      "2021-02-22 04:21:06,588:INFO:SMOBD: Running sampling via ('SMOBD', \"{'proportion': 1.0, 'eta1': 0.5, 't': 1.8, 'min_samples': 5, 'max_eps': 1.0, 'n_jobs': 1}\")\n",
      "2021-02-22 04:21:10,961:INFO:SMOBD: Running sampling via ('SMOBD', \"{'proportion': 1.0, 'eta1': 0.5, 't': 1.8, 'min_samples': 5, 'max_eps': 1.0, 'n_jobs': 1}\")\n",
      "Training Count:  Counter({0: 16344, 1: 16344})\n",
      "Validation Count:  Counter({0: 4687, 1: 4687})\n",
      "Training Accuracy:  0.7566997063142438\n",
      "Validation Accuracy:  0.7087689353531044\n",
      "Training F1 Score:  0.7546657617916526\n",
      "Validation F1 Score:  0.6989413321570357\n",
      "Training AUC Score:  0.8398761288740919\n",
      "Validation AUC Score:  0.7856511223226872\n",
      "Training Recall Score:  0.7484092021536956\n",
      "Validation Recall Score:  0.676125453381694\n",
      "Training Precision Score:  0.7610278106140733\n",
      "Validation Precision Score:  0.723350833143118\n",
      "Training Average Precision Score:  0.8389495634338795\n",
      "Validation Average Precision Score:  0.7805779833045183\n"
     ]
    }
   ],
   "source": [
    "smobd = sv.SMOBD()\n",
    "sampling2(X_tr, y_tr, X_val, y_val, smobd, rfcb)"
   ]
  },
  {
   "cell_type": "code",
   "execution_count": 27,
   "metadata": {},
   "outputs": [
    {
     "output_type": "stream",
     "name": "stderr",
     "text": [
      "2021-02-22 04:21:47,527:INFO:G_SMOTE: Running sampling via ('G_SMOTE', \"{'proportion': 1.0, 'n_neighbors': 5, 'method': 'linear', 'n_jobs': 1}\")\n",
      "2021-02-22 04:21:48,826:INFO:G_SMOTE: Running sampling via ('G_SMOTE', \"{'proportion': 1.0, 'n_neighbors': 5, 'method': 'linear', 'n_jobs': 1}\")\n",
      "Training Count:  Counter({0: 16344, 1: 16344})\n",
      "Validation Count:  Counter({0: 4687, 1: 4687})\n",
      "Training Accuracy:  0.7734030837004405\n",
      "Validation Accuracy:  0.7331982078088329\n",
      "Training F1 Score:  0.75986383530556\n",
      "Validation F1 Score:  0.7113675706866706\n",
      "Training AUC Score:  0.8523388667300853\n",
      "Validation AUC Score:  0.803912300677409\n",
      "Training Recall Score:  0.7170215369554577\n",
      "Validation Recall Score:  0.6575634734371666\n",
      "Training Precision Score:  0.8081511619888283\n",
      "Validation Precision Score:  0.7747611865258924\n",
      "Training Average Precision Score:  0.8579253816727548\n",
      "Validation Average Precision Score:  0.8151392116700581\n"
     ]
    }
   ],
   "source": [
    "gsm = sv.G_SMOTE()\n",
    "sampling2(X_tr, y_tr, X_val, y_val, gsm, rfcb)"
   ]
  },
  {
   "cell_type": "code",
   "execution_count": 28,
   "metadata": {},
   "outputs": [
    {
     "output_type": "stream",
     "name": "stderr",
     "text": [
      "2021-02-22 04:22:15,763:INFO:CCR: Running sampling via ('CCR', \"{'proportion': 1.0, 'energy': 1.0, 'scaling': 0.0, 'n_jobs': 1}\")\n",
      "2021-02-22 04:22:26,310:INFO:CCR: Running sampling via ('CCR', \"{'proportion': 1.0, 'energy': 1.0, 'scaling': 0.0, 'n_jobs': 1}\")\n",
      "Training Count:  Counter({0: 16344, 1: 15925})\n",
      "Validation Count:  Counter({1: 4772, 0: 4687})\n",
      "Training Accuracy:  0.8860206390033779\n",
      "Validation Accuracy:  0.8859287451104768\n",
      "Training F1 Score:  0.8764611043933896\n",
      "Validation F1 Score:  0.8793469752879347\n",
      "Training AUC Score:  0.9385565079979807\n",
      "Validation AUC Score:  0.9380864274586608\n",
      "Training Recall Score:  0.8192778649921507\n",
      "Validation Recall Score:  0.8239731768650461\n",
      "Training Precision Score:  0.9422257528706579\n",
      "Validation Precision Score:  0.9426995924238791\n",
      "Training Average Precision Score:  0.9538726864421355\n",
      "Validation Average Precision Score:  0.9552071688600438\n"
     ]
    }
   ],
   "source": [
    "ccr = sv.CCR()\n",
    "sampling2(X_tr, y_tr, X_val, y_val, ccr, rfcb)"
   ]
  },
  {
   "cell_type": "code",
   "execution_count": 29,
   "metadata": {},
   "outputs": [
    {
     "output_type": "stream",
     "name": "stderr",
     "text": [
      "2021-02-22 04:22:43,598:INFO:LVQ_SMOTE: Running sampling via ('LVQ_SMOTE', \"{'proportion': 1.0, 'n_neighbors': 5, 'n_clusters': 10, 'n_jobs': 1}\")\n",
      "2021-02-22 04:22:50,640:INFO:LVQ_SMOTE: Running sampling via ('LVQ_SMOTE', \"{'proportion': 1.0, 'n_neighbors': 5, 'n_clusters': 10, 'n_jobs': 1}\")\n",
      "Training Count:  Counter({0: 16344, 1: 16344})\n",
      "Validation Count:  Counter({0: 4687, 1: 4687})\n",
      "Training Accuracy:  0.889286588350465\n",
      "Validation Accuracy:  0.8793471303605718\n",
      "Training F1 Score:  0.8832467658160468\n",
      "Validation F1 Score:  0.8721022277507634\n",
      "Training AUC Score:  0.945907340263148\n",
      "Validation AUC Score:  0.9351727508355461\n",
      "Training Recall Score:  0.8375550660792952\n",
      "Validation Recall Score:  0.8227010881160657\n",
      "Training Precision Score:  0.9342114242817171\n",
      "Validation Precision Score:  0.9278152069297402\n",
      "Training Average Precision Score:  0.9595741010147972\n",
      "Validation Average Precision Score:  0.9511208131357277\n"
     ]
    }
   ],
   "source": [
    "lvq = sv.LVQ_SMOTE()\n",
    "sampling2(X_tr, y_tr, X_val, y_val, lvq, rfcb)"
   ]
  },
  {
   "cell_type": "code",
   "execution_count": 30,
   "metadata": {},
   "outputs": [
    {
     "output_type": "stream",
     "name": "stderr",
     "text": [
      "2021-02-22 04:23:07,498:INFO:Assembled_SMOTE: Running sampling via ('Assembled_SMOTE', \"{'proportion': 1.0, 'n_neighbors': 5, 'pop': 2, 'thres': 0.3, 'n_jobs': 1}\")\n",
      "2021-02-22 04:28:09,641:INFO:Assembled_SMOTE: Running sampling via ('Assembled_SMOTE', \"{'proportion': 1.0, 'n_neighbors': 5, 'pop': 2, 'thres': 0.3, 'n_jobs': 1}\")\n",
      "Training Count:  Counter({0: 16344, 1: 16344})\n",
      "Validation Count:  Counter({0: 4687, 1: 4687})\n",
      "Training Accuracy:  0.7632464512971121\n",
      "Validation Accuracy:  0.728504373799872\n",
      "Training F1 Score:  0.7461707501065958\n",
      "Validation F1 Score:  0.7037597485740891\n",
      "Training AUC Score:  0.8479934415751504\n",
      "Validation AUC Score:  0.8084987510679753\n",
      "Training Recall Score:  0.6959740577581988\n",
      "Validation Recall Score:  0.6449754640494986\n",
      "Training Precision Score:  0.8041710851891127\n",
      "Validation Precision Score:  0.7743340163934426\n",
      "Training Average Precision Score:  0.8541575444103704\n",
      "Validation Average Precision Score:  0.8151928258905241\n"
     ]
    }
   ],
   "source": [
    "ass = sv.Assembled_SMOTE()\n",
    "sampling2(X_tr, y_tr, X_val, y_val, ass, rfcb)"
   ]
  },
  {
   "cell_type": "code",
   "execution_count": 31,
   "metadata": {},
   "outputs": [
    {
     "output_type": "stream",
     "name": "stderr",
     "text": [
      "2021-02-22 04:28:31,111:INFO:SMOTE_TomekLinks: Running sampling via ('SMOTE_TomekLinks', \"{'proportion': 1.0, 'n_neighbors': 5, 'n_jobs': 1}\")\n",
      "2021-02-22 04:28:31,113:INFO:SMOTE: Running sampling via ('SMOTE', \"{'proportion': 1.0, 'n_neighbors': 5, 'n_jobs': 1}\")\n",
      "2021-02-22 04:28:31,413:INFO:TomekLinkRemoval: Running noise removal via TomekLinkRemoval\n",
      "2021-02-22 04:28:32,157:INFO:SMOTE_TomekLinks: Running sampling via ('SMOTE_TomekLinks', \"{'proportion': 1.0, 'n_neighbors': 5, 'n_jobs': 1}\")\n",
      "2021-02-22 04:28:32,158:INFO:SMOTE: Running sampling via ('SMOTE', \"{'proportion': 1.0, 'n_neighbors': 5, 'n_jobs': 1}\")\n",
      "2021-02-22 04:28:32,240:INFO:TomekLinkRemoval: Running noise removal via TomekLinkRemoval\n",
      "Training Count:  Counter({0: 15594, 1: 15594})\n",
      "Validation Count:  Counter({0: 4470, 1: 4470})\n",
      "Training Accuracy:  0.7735346928305759\n",
      "Validation Accuracy:  0.7425055928411634\n",
      "Training F1 Score:  0.7578427675112284\n",
      "Validation F1 Score:  0.721172480620155\n",
      "Training AUC Score:  0.8582767176346949\n",
      "Validation AUC Score:  0.817802551436622\n",
      "Training Recall Score:  0.7087341285109657\n",
      "Validation Recall Score:  0.6659955257270693\n",
      "Training Precision Score:  0.8142636115818168\n",
      "Validation Precision Score:  0.7863180137348125\n",
      "Training Average Precision Score:  0.8631069241005377\n",
      "Validation Average Precision Score:  0.8251875759021805\n"
     ]
    }
   ],
   "source": [
    "tomek = sv.SMOTE_TomekLinks()\n",
    "sampling2(X_tr, y_tr, X_val, y_val, tomek, rfcb)"
   ]
  },
  {
   "cell_type": "code",
   "execution_count": 32,
   "metadata": {},
   "outputs": [
    {
     "output_type": "stream",
     "name": "stderr",
     "text": [
      "2021-02-22 04:28:46,497:INFO:SMOTE_ENN: Running sampling via ('SMOTE_ENN', \"{'proportion': 1.0, 'n_neighbors': 5, 'n_jobs': 1}\")\n",
      "2021-02-22 04:28:46,498:INFO:SMOTE: Running sampling via ('SMOTE', \"{'proportion': 1.0, 'n_neighbors': 5, 'n_jobs': 1}\")\n",
      "2021-02-22 04:28:46,797:INFO:EditedNearestNeighbors: Running noise removal via EditedNearestNeighbors\n",
      "2021-02-22 04:28:48,613:INFO:SMOTE_ENN: Running sampling via ('SMOTE_ENN', \"{'proportion': 1.0, 'n_neighbors': 5, 'n_jobs': 1}\")\n",
      "2021-02-22 04:28:48,613:INFO:SMOTE: Running sampling via ('SMOTE', \"{'proportion': 1.0, 'n_neighbors': 5, 'n_jobs': 1}\")\n",
      "2021-02-22 04:28:48,698:INFO:EditedNearestNeighbors: Running noise removal via EditedNearestNeighbors\n",
      "Training Count:  Counter({1: 14953, 0: 11604})\n",
      "Validation Count:  Counter({1: 4257, 0: 3301})\n",
      "Training Accuracy:  0.8214406747750123\n",
      "Validation Accuracy:  0.774675840169357\n",
      "Training F1 Score:  0.8348655801643684\n",
      "Validation F1 Score:  0.788578522656735\n",
      "Training AUC Score:  0.9079434820163733\n",
      "Validation AUC Score:  0.8688099085441681\n",
      "Training Recall Score:  0.8016451548184311\n",
      "Validation Recall Score:  0.7460653042048391\n",
      "Training Precision Score:  0.8709583666351813\n",
      "Validation Precision Score:  0.8362295945234334\n",
      "Training Average Precision Score:  0.9347443531275809\n",
      "Validation Average Precision Score:  0.9066928221985674\n"
     ]
    }
   ],
   "source": [
    "smenn = sv.SMOTE_ENN()\n",
    "sampling2(X_tr, y_tr, X_val, y_val, smenn, rfcb)"
   ]
  },
  {
   "cell_type": "code",
   "execution_count": null,
   "metadata": {},
   "outputs": [],
   "source": []
  }
 ]
}
{
 "metadata": {
  "language_info": {
   "codemirror_mode": {
    "name": "ipython",
    "version": 3
   },
   "file_extension": ".py",
   "mimetype": "text/x-python",
   "name": "python",
   "nbconvert_exporter": "python",
   "pygments_lexer": "ipython3",
   "version": "3.9.1-final"
  },
  "orig_nbformat": 2,
  "kernelspec": {
   "name": "python3",
   "display_name": "Python 3.9.1 64-bit ('learn-env': conda)",
   "metadata": {
    "interpreter": {
     "hash": "80773cdecc613a186b9eac051636553d2ff0f99c57590601666ed713bd5d0256"
    }
   }
  }
 },
 "nbformat": 4,
 "nbformat_minor": 2,
 "cells": [
  {
   "cell_type": "code",
   "execution_count": 2,
   "metadata": {},
   "outputs": [],
   "source": [
    "import numpy as np \n",
    "import pandas as pd\n",
    "from matplotlib import pyplot as plt\n",
    "import seaborn as sns\n",
    "import warnings\n",
    "warnings.filterwarnings('ignore')\n",
    "%matplotlib inline\n",
    "from collections import Counter\n",
    "%reload_ext autoreload\n",
    "%autoreload 2\n",
    "from utils import *\n",
    "plt.style.use(\"fivethirtyeight\")\n",
    "import pickle\n",
    "\n",
    "from sklearn import linear_model\n",
    "from sklearn.linear_model import LogisticRegression\n",
    "from sklearn.tree import DecisionTreeClassifier\n",
    "from sklearn.ensemble import AdaBoostClassifier, GradientBoostingClassifier, RandomForestClassifier, BaggingClassifier\n",
    "from sklearn.model_selection import train_test_split, KFold, cross_val_score, cross_val_predict, GridSearchCV,RepeatedStratifiedKFold, cross_validate\n",
    "from sklearn.metrics import accuracy_score, confusion_matrix, precision_score, recall_score, f1_score, precision_recall_curve, roc_curve, roc_auc_score, classification_report, plot_confusion_matrix, auc, mean_squared_error, confusion_matrix, balanced_accuracy_score\n",
    "from sklearn.preprocessing import StandardScaler, MinMaxScaler\n",
    "from sklearn.pipeline import make_pipeline\n",
    "from sklearn.utils import resample\n",
    "from imblearn.under_sampling import CondensedNearestNeighbour, NearMiss, OneSidedSelection, NeighbourhoodCleaningRule, RandomUnderSampler, TomekLinks\n",
    "from imblearn.over_sampling import RandomOverSampler, SMOTE\n",
    "from imblearn.ensemble import BalancedBaggingClassifier, BalancedRandomForestClassifier, EasyEnsembleClassifier, RUSBoostClassifier\n",
    "from imblearn.metrics import geometric_mean_score\n",
    "from sklearn.dummy import DummyClassifier\n",
    "from imblearn.pipeline import Pipeline\n",
    "import xgboost as xgb\n",
    "from xgboost.sklearn import XGBClassifier"
   ]
  },
  {
   "cell_type": "code",
   "execution_count": 4,
   "metadata": {},
   "outputs": [],
   "source": [
    "pickle_in = open(\"data/training_model.pickle\",\"rb\")\n",
    "train = pickle.load(pickle_in)\n",
    "pickle_in = open(\"data/validate_model.pickle\",\"rb\")\n",
    "validate = pickle.load(pickle_in)"
   ]
  },
  {
   "cell_type": "code",
   "execution_count": 5,
   "metadata": {},
   "outputs": [],
   "source": [
    "X_train = train.drop([\"default\"], axis=1)\n",
    "y_tr = train[\"default\"]\n",
    "X_validate = validate.drop([\"default\"], axis=1)\n",
    "y_val = validate[\"default\"]"
   ]
  },
  {
   "cell_type": "code",
   "execution_count": 6,
   "metadata": {},
   "outputs": [],
   "source": [
    "scaler = StandardScaler()\n",
    "scaler.fit(X_train)\n",
    "X_tr = scaler.transform(X_train)\n",
    "X_val = scaler.transform(X_validate)"
   ]
  },
  {
   "cell_type": "code",
   "execution_count": null,
   "metadata": {},
   "outputs": [],
   "source": []
  },
  {
   "cell_type": "code",
   "execution_count": 7,
   "metadata": {},
   "outputs": [
    {
     "output_type": "stream",
     "name": "stdout",
     "text": [
      "Training Accuracy:  0.7782857142857142\nValidation Accuracy:  0.7811666666666667\nTraining F1 Score:  0.0\nValidation F1 Score:  0.0\nTraining AUC Score:  0.5\nValidation AUC Score:  0.5\nTraining Recall Score:  0.0\nValidation Recall Score:  0.0\nTraining Precision Score:  0.0\nValidation Precision Score:  0.0\nTraining Average Precision Score:  0.22171428571428572\nValidation Average Precision Score:  0.21883333333333332\n"
     ]
    }
   ],
   "source": [
    "dc = DummyClassifier(strategy='most_frequent').fit(X_tr, y_tr)\n",
    "y_pred_dc_tr = dc.predict(X_tr)\n",
    "y_pred_dc_val = dc.predict(X_val)\n",
    "get_metric(X_tr, y_tr, X_val, y_val, y_pred_dc_tr, y_pred_dc_val, dc)"
   ]
  },
  {
   "cell_type": "code",
   "execution_count": 8,
   "metadata": {},
   "outputs": [
    {
     "output_type": "stream",
     "name": "stdout",
     "text": [
      "Training Accuracy:  0.996904761904762\nValidation Accuracy:  0.807\nTraining F1 Score:  0.9929964443486693\nValidation F1 Score:  0.44326923076923075\nTraining AUC Score:  0.9998954304300327\nValidation AUC Score:  0.740359286457933\nTraining Recall Score:  0.9896907216494846\nValidation Recall Score:  0.3511043412033511\nTraining Precision Score:  0.9963243243243243\nValidation Precision Score:  0.6010430247718384\nTraining Average Precision Score:  0.9996190235446103\nValidation Average Precision Score:  0.48114820511254575\n\nBagging Classifier Performance:\nBalanced training accuracy: 0.99 - Geometric mean 0.99\nBalanced validation accuracy: 0.64 - Geometric mean 0.57\n"
     ]
    }
   ],
   "source": [
    "bc = BaggingClassifier(n_estimators=50, random_state=42).fit(X_tr, y_tr)\n",
    "y_pred_bc_tr = bc.predict(X_tr)\n",
    "y_pred_bc_val = bc.predict(X_val)\n",
    "get_metric(X_tr, y_tr, X_val, y_val, y_pred_bc_tr, y_pred_bc_val, bc)\n",
    "print(\"\")\n",
    "print('Bagging Classifier Performance:')\n",
    "print('Balanced training accuracy: {:.2f} - Geometric mean {:.2f}'.format(balanced_accuracy_score(y_tr, y_pred_bc_tr), geometric_mean_score(y_tr, y_pred_bc_tr)))\n",
    "print('Balanced validation accuracy: {:.2f} - Geometric mean {:.2f}'.format(balanced_accuracy_score(y_val, y_pred_bc_val), geometric_mean_score(y_val, y_pred_bc_val)))"
   ]
  },
  {
   "cell_type": "code",
   "execution_count": null,
   "metadata": {},
   "outputs": [],
   "source": [
    "bc = BaggingClassifier(base_estimator)"
   ]
  },
  {
   "cell_type": "code",
   "execution_count": 9,
   "metadata": {},
   "outputs": [
    {
     "output_type": "stream",
     "name": "stdout",
     "text": [
      "Training Accuracy:  0.9383333333333334\nValidation Accuracy:  0.7631666666666667\nTraining F1 Score:  0.8778186621379375\nValidation F1 Score:  0.5111799105607154\nTraining AUC Score:  0.9955504481714446\nValidation AUC Score:  0.7528188434539899\nTraining Recall Score:  0.9991408934707904\nValidation Recall Score:  0.5658796648895659\nTraining Precision Score:  0.7827696449604576\nValidation Precision Score:  0.46612296110414053\nTraining Average Precision Score:  0.9819759873453777\nValidation Average Precision Score:  0.499848233823849\n\nBalanced Bagging Classifier Performance:\nBalanced training accuracy: 0.96 - Geometric mean 0.00\nBalanced validation accuracy: 0.69 - Geometric mean 0.68\n"
     ]
    }
   ],
   "source": [
    "bbc = BalancedBaggingClassifier(n_estimators=50, random_state=42).fit(X_tr, y_tr)\n",
    "y_pred_bbc_tr = bbc.predict(X_tr)\n",
    "y_pred_bbc_val = bbc.predict(X_val)\n",
    "get_metric(X_tr, y_tr, X_val, y_val, y_pred_bbc_tr, y_pred_bbc_val, bbc)\n",
    "print(\"\")\n",
    "print('Balanced Bagging Classifier Performance:')\n",
    "print('Balanced training accuracy: {:.2f} - Geometric mean {:.2f}'.format(balanced_accuracy_score(y_tr, y_pred_bbc_tr), geometric_mean_score(y_val, y_pred_bbc_tr)))\n",
    "print('Balanced validation accuracy: {:.2f} - Geometric mean {:.2f}'.format(balanced_accuracy_score(y_val, y_pred_bbc_val), geometric_mean_score(y_val, y_pred_bbc_val)))"
   ]
  },
  {
   "cell_type": "code",
   "execution_count": 11,
   "metadata": {},
   "outputs": [],
   "source": [
    "pickle_in = open(\"data/best_model.pickle\",\"rb\")\n",
    "rfcb = pickle.load(pickle_in)"
   ]
  },
  {
   "cell_type": "code",
   "execution_count": 12,
   "metadata": {},
   "outputs": [
    {
     "output_type": "stream",
     "name": "stdout",
     "text": [
      "Training Count:  Counter({0: 14844, 1: 4656})\n",
      "Validation Count:  Counter({0: 4271, 1: 1313})\n",
      "Training Accuracy:  0.839948717948718\n",
      "Validation Accuracy:  0.8216332378223495\n",
      "Training F1 Score:  0.5707605556319626\n",
      "Validation F1 Score:  0.508390918065153\n",
      "Training AUC Score:  0.841091632763096\n",
      "Validation AUC Score:  0.7968306061015121\n",
      "Training Recall Score:  0.44566151202749144\n",
      "Validation Recall Score:  0.39223153084539225\n",
      "Training Precision Score:  0.7934990439770554\n",
      "Validation Precision Score:  0.7223001402524544\n",
      "Training Average Precision Score:  0.7049875136912391\n",
      "Validation Average Precision Score:  0.6050182959215592\n"
     ]
    }
   ],
   "source": [
    "tl = TomekLinks()\n",
    "sampling(X_tr, y_tr, X_val, y_val, tl, rfcb)"
   ]
  },
  {
   "cell_type": "code",
   "execution_count": 13,
   "metadata": {},
   "outputs": [
    {
     "output_type": "stream",
     "name": "stdout",
     "text": [
      "Training Count:  Counter({0: 9921, 1: 4656})\n",
      "Validation Count:  Counter({0: 2811, 1: 1313})\n",
      "Training Accuracy:  0.8493517184605885\n",
      "Validation Accuracy:  0.8208050436469447\n",
      "Training F1 Score:  0.7141369435042958\n",
      "Validation F1 Score:  0.6630186958504332\n",
      "Training AUC Score:  0.893195115986742\n",
      "Validation AUC Score:  0.848395881374526\n",
      "Training Recall Score:  0.5891323024054983\n",
      "Validation Recall Score:  0.5536938309215537\n",
      "Training Precision Score:  0.9064771976206213\n",
      "Validation Precision Score:  0.8261363636363637\n",
      "Training Average Precision Score:  0.8544751985887381\n",
      "Validation Average Precision Score:  0.7911518345139913\n"
     ]
    }
   ],
   "source": [
    "from imblearn.under_sampling import EditedNearestNeighbours\n",
    "enn = EditedNearestNeighbours()\n",
    "sampling(X_tr, y_tr, X_val, y_val, enn, rfcb)"
   ]
  },
  {
   "cell_type": "code",
   "execution_count": 14,
   "metadata": {},
   "outputs": [
    {
     "output_type": "stream",
     "name": "stdout",
     "text": [
      "Training Count:  Counter({0: 16344, 1: 16344})\n",
      "Validation Count:  Counter({0: 4687, 1: 4687})\n",
      "Training Accuracy:  0.7620533529123837\n",
      "Validation Accuracy:  0.7224237251973544\n",
      "Training F1 Score:  0.7464302014735605\n",
      "Validation F1 Score:  0.6975122064636132\n",
      "Training AUC Score:  0.8463959109595244\n",
      "Validation AUC Score:  0.8030891021377533\n",
      "Training Recall Score:  0.7004405286343612\n",
      "Validation Recall Score:  0.6400682739492213\n",
      "Training Precision Score:  0.7988834612700628\n",
      "Validation Precision Score:  0.7662835249042146\n",
      "Training Average Precision Score:  0.8526563021371741\n",
      "Validation Average Precision Score:  0.810826989470193\n"
     ]
    }
   ],
   "source": [
    "sm = SMOTE(sampling_strategy='minority', random_state=42)\n",
    "sampling(X_tr, y_tr, X_val, y_val, sm, rfcb)"
   ]
  },
  {
   "cell_type": "code",
   "execution_count": 18,
   "metadata": {},
   "outputs": [
    {
     "output_type": "stream",
     "name": "stdout",
     "text": [
      "Training Count:  Counter({0: 16344, 1: 16344})\n",
      "Validation Count:  Counter({0: 4687, 1: 4687})\n",
      "Training Accuracy:  0.781754772393539\n",
      "Validation Accuracy:  0.7906976744186046\n",
      "Training F1 Score:  0.7695736434108527\n",
      "Validation F1 Score:  0.7846322722283205\n",
      "Training AUC Score:  0.8678097486426797\n",
      "Validation AUC Score:  0.8629364644496721\n",
      "Training Recall Score:  0.7288913362701909\n",
      "Validation Recall Score:  0.7625346703648389\n",
      "Training Precision Score:  0.8150656814449918\n",
      "Validation Precision Score:  0.808048835631924\n",
      "Training Average Precision Score:  0.8754784149639834\n",
      "Validation Average Precision Score:  0.8728034854708415\n"
     ]
    }
   ],
   "source": [
    "from imblearn.over_sampling import SVMSMOTE\n",
    "svmsm = SVMSMOTE()\n",
    "sampling(X_tr, y_tr, X_val, y_val, svmsm, rfcb)"
   ]
  },
  {
   "cell_type": "code",
   "execution_count": 15,
   "metadata": {},
   "outputs": [
    {
     "output_type": "stream",
     "name": "stdout",
     "text": [
      "Training Count:  Counter({1: 16573, 0: 16344})\n",
      "Validation Count:  Counter({0: 4687, 1: 4536})\n",
      "Training Accuracy:  0.7403469331956132\n",
      "Validation Accuracy:  0.6970616935921067\n",
      "Training F1 Score:  0.736374572036643\n",
      "Validation F1 Score:  0.6800274851122309\n",
      "Training AUC Score:  0.8150627820568924\n",
      "Validation AUC Score:  0.7682545985387178\n",
      "Training Recall Score:  0.7202679056296386\n",
      "Validation Recall Score:  0.6545414462081128\n",
      "Training Precision Score:  0.7532180716809692\n",
      "Validation Precision Score:  0.7075786463298379\n",
      "Training Average Precision Score:  0.8167019672323599\n",
      "Validation Average Precision Score:  0.7678434827387284\n"
     ]
    }
   ],
   "source": [
    "from imblearn.over_sampling import ADASYN\n",
    "adsn = ADASYN()\n",
    "sampling(X_tr, y_tr, X_val, y_val, adsn, rfcb)"
   ]
  },
  {
   "cell_type": "code",
   "execution_count": 16,
   "metadata": {},
   "outputs": [
    {
     "output_type": "stream",
     "name": "stdout",
     "text": [
      "Training Count:  Counter({0: 15617, 1: 15617})\n",
      "Validation Count:  Counter({0: 4448, 1: 4448})\n",
      "Training Accuracy:  0.7696740731254402\n",
      "Validation Accuracy:  0.7419064748201439\n",
      "Training F1 Score:  0.7534950657894737\n",
      "Validation F1 Score:  0.7223028543783261\n",
      "Training AUC Score:  0.8562297616043882\n",
      "Validation AUC Score:  0.8201241474221702\n",
      "Training Recall Score:  0.7040404687199846\n",
      "Validation Recall Score:  0.6713129496402878\n",
      "Training Precision Score:  0.8104223483452495\n",
      "Validation Precision Score:  0.7816753926701571\n",
      "Training Average Precision Score:  0.8615989775670404\n",
      "Validation Average Precision Score:  0.8256320993928399\n"
     ]
    }
   ],
   "source": [
    "from imblearn.combine import SMOTETomek\n",
    "smtk = SMOTETomek()\n",
    "sampling(X_tr, y_tr, X_val, y_val, smtk, rfcb)"
   ]
  },
  {
   "cell_type": "code",
   "execution_count": 17,
   "metadata": {},
   "outputs": [
    {
     "output_type": "stream",
     "name": "stdout",
     "text": [
      "Training Count:  Counter({1: 11465, 0: 8660})\n",
      "Validation Count:  Counter({1: 3249, 0: 2360})\n",
      "Training Accuracy:  0.8723478260869565\n",
      "Validation Accuracy:  0.8111962916740952\n",
      "Training F1 Score:  0.8839918717543463\n",
      "Validation F1 Score:  0.8285575522098108\n",
      "Training AUC Score:  0.9484440797325729\n",
      "Validation AUC Score:  0.905861255875341\n",
      "Training Recall Score:  0.8537287396423899\n",
      "Validation Recall Score:  0.7876269621421976\n",
      "Training Precision Score:  0.9164794007490636\n",
      "Validation Precision Score:  0.8739754098360656\n",
      "Training Average Precision Score:  0.9653497494543584\n",
      "Validation Average Precision Score:  0.9379111317969824\n"
     ]
    }
   ],
   "source": [
    "from imblearn.combine import SMOTEENN\n",
    "smenn = SMOTEENN(sampling_strategy=\"minority\", n_jobs= -1)\n",
    "sampling(X_tr, y_tr, X_val, y_val, smenn, rfcb)"
   ]
  },
  {
   "cell_type": "code",
   "execution_count": null,
   "metadata": {},
   "outputs": [],
   "source": []
  }
 ]
}
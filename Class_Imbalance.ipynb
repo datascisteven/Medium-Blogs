{
 "metadata": {
  "language_info": {
   "codemirror_mode": {
    "name": "ipython",
    "version": 3
   },
   "file_extension": ".py",
   "mimetype": "text/x-python",
   "name": "python",
   "nbconvert_exporter": "python",
   "pygments_lexer": "ipython3",
   "version": "3.9.2"
  },
  "orig_nbformat": 2,
  "kernelspec": {
   "name": "python3",
   "display_name": "Python 3.9.2 64-bit ('learn-env': conda)"
  },
  "interpreter": {
   "hash": "80773cdecc613a186b9eac051636553d2ff0f99c57590601666ed713bd5d0256"
  }
 },
 "nbformat": 4,
 "nbformat_minor": 2,
 "cells": [
  {
   "source": [
    "# Importing Packages"
   ],
   "cell_type": "markdown",
   "metadata": {}
  },
  {
   "cell_type": "code",
   "execution_count": 2,
   "metadata": {},
   "outputs": [],
   "source": [
    "import numpy as np \n",
    "import pandas as pd\n",
    "from matplotlib import pyplot as plt\n",
    "%matplotlib inline\n",
    "plt.style.use('seaborn')\n",
    "import seaborn as sns\n",
    "import warnings\n",
    "warnings.filterwarnings('ignore')\n",
    "from collections import Counter\n",
    "import pickle\n",
    "\n",
    "import smote_variants as sv\n",
    "import imbalanced_databases as imbd\n",
    "import xgboost as xgb\n",
    "from xgboost.sklearn import XGBClassifier\n",
    "from sklearn.linear_model import LogisticRegression\n",
    "from sklearn.tree import DecisionTreeClassifier\n",
    "from sklearn.experimental import enable_hist_gradient_boosting\n",
    "from sklearn.ensemble import AdaBoostClassifier, GradientBoostingClassifier, RandomForestClassifier, BaggingClassifier, HistGradientBoostingClassifier\n",
    "from sklearn.model_selection import train_test_split, GridSearchCV\n",
    "from sklearn.metrics import accuracy_score, confusion_matrix, precision_score, recall_score, f1_score, roc_auc_score, plot_confusion_matrix\n",
    "from sklearn.preprocessing import StandardScaler\n",
    "from sklearn.dummy import DummyClassifier\n",
    "\n",
    "from imblearn.under_sampling import CondensedNearestNeighbour, NearMiss, OneSidedSelection, NeighbourhoodCleaningRule, TomekLinks, EditedNearestNeighbours\n",
    "from imblearn.combine import SMOTETomek, SMOTEENN\n",
    "from imblearn.over_sampling import SMOTE, ADASYN, SVMSMOTE, KMeansSMOTE\n",
    "from imblearn.ensemble import BalancedBaggingClassifier, BalancedRandomForestClassifier, EasyEnsembleClassifier, RUSBoostClassifier\n",
    "\n",
    "%reload_ext autoreload\n",
    "%autoreload 2\n",
    "from utils import *\n"
   ]
  },
  {
   "source": [
    "# Importing Datasets"
   ],
   "cell_type": "markdown",
   "metadata": {}
  },
  {
   "cell_type": "code",
   "execution_count": 3,
   "metadata": {},
   "outputs": [],
   "source": [
    "pickle_in = open(\"data/training_cleaned.pickle\", \"rb\")\n",
    "train = pickle.load(pickle_in)\n",
    "pickle_in = open(\"data/validate_cleaned.pickle\", \"rb\")\n",
    "validate = pickle.load(pickle_in)"
   ]
  },
  {
   "cell_type": "code",
   "execution_count": 4,
   "metadata": {},
   "outputs": [],
   "source": [
    "X_train = train.drop([\"default\"], axis=1)\n",
    "y_train = train[\"default\"]\n",
    "X_valid = validate.drop([\"default\"], axis=1)\n",
    "y_valid = validate[\"default\"]"
   ]
  },
  {
   "cell_type": "code",
   "execution_count": 5,
   "metadata": {},
   "outputs": [
    {
     "output_type": "execute_result",
     "data": {
      "text/plain": [
       "     limit  gender  education  marriage  age  behind1  behind2  behind3  \\\n",
       "0  1790.26       2          2         1   44        0        0        0   \n",
       "1  5728.83       2          3         1   46       -1       -1       -1   \n",
       "2  3580.52       2          2         1   47       -1       -1       -1   \n",
       "3  6086.88       2          2         1   29        0        0        0   \n",
       "4  5370.78       2          1         2   33       -2       -2       -2   \n",
       "\n",
       "   behind4  behind5  ...  billed3  billed4  billed5  billed6   paid1    paid2  \\\n",
       "0        0        0  ...  1278.35   800.60   847.12   981.81  107.99   179.13   \n",
       "1        0       -1  ...   173.87   147.77   143.04    30.15   83.89   173.87   \n",
       "2       -1       -1  ...     0.00   224.50   -14.18   -14.18  238.68     0.00   \n",
       "3        0        0  ...  2267.08  2288.06  1557.71  1575.25   80.02    89.26   \n",
       "4       -2       -2  ...  1170.90  1198.01   995.38    80.96  966.99  1171.37   \n",
       "\n",
       "     paid3   paid4   paid5    paid6  \n",
       "0   107.42  107.42  179.03    33.08  \n",
       "1    35.81  143.04   30.15   942.14  \n",
       "2   224.50    0.00    0.00     0.00  \n",
       "3    92.56   60.26   68.07    75.58  \n",
       "4  1198.58  995.67   80.96  6067.73  \n",
       "\n",
       "[5 rows x 23 columns]"
      ],
      "text/html": "<div>\n<style scoped>\n    .dataframe tbody tr th:only-of-type {\n        vertical-align: middle;\n    }\n\n    .dataframe tbody tr th {\n        vertical-align: top;\n    }\n\n    .dataframe thead th {\n        text-align: right;\n    }\n</style>\n<table border=\"1\" class=\"dataframe\">\n  <thead>\n    <tr style=\"text-align: right;\">\n      <th></th>\n      <th>limit</th>\n      <th>gender</th>\n      <th>education</th>\n      <th>marriage</th>\n      <th>age</th>\n      <th>behind1</th>\n      <th>behind2</th>\n      <th>behind3</th>\n      <th>behind4</th>\n      <th>behind5</th>\n      <th>...</th>\n      <th>billed3</th>\n      <th>billed4</th>\n      <th>billed5</th>\n      <th>billed6</th>\n      <th>paid1</th>\n      <th>paid2</th>\n      <th>paid3</th>\n      <th>paid4</th>\n      <th>paid5</th>\n      <th>paid6</th>\n    </tr>\n  </thead>\n  <tbody>\n    <tr>\n      <th>0</th>\n      <td>1790.26</td>\n      <td>2</td>\n      <td>2</td>\n      <td>1</td>\n      <td>44</td>\n      <td>0</td>\n      <td>0</td>\n      <td>0</td>\n      <td>0</td>\n      <td>0</td>\n      <td>...</td>\n      <td>1278.35</td>\n      <td>800.60</td>\n      <td>847.12</td>\n      <td>981.81</td>\n      <td>107.99</td>\n      <td>179.13</td>\n      <td>107.42</td>\n      <td>107.42</td>\n      <td>179.03</td>\n      <td>33.08</td>\n    </tr>\n    <tr>\n      <th>1</th>\n      <td>5728.83</td>\n      <td>2</td>\n      <td>3</td>\n      <td>1</td>\n      <td>46</td>\n      <td>-1</td>\n      <td>-1</td>\n      <td>-1</td>\n      <td>0</td>\n      <td>-1</td>\n      <td>...</td>\n      <td>173.87</td>\n      <td>147.77</td>\n      <td>143.04</td>\n      <td>30.15</td>\n      <td>83.89</td>\n      <td>173.87</td>\n      <td>35.81</td>\n      <td>143.04</td>\n      <td>30.15</td>\n      <td>942.14</td>\n    </tr>\n    <tr>\n      <th>2</th>\n      <td>3580.52</td>\n      <td>2</td>\n      <td>2</td>\n      <td>1</td>\n      <td>47</td>\n      <td>-1</td>\n      <td>-1</td>\n      <td>-1</td>\n      <td>-1</td>\n      <td>-1</td>\n      <td>...</td>\n      <td>0.00</td>\n      <td>224.50</td>\n      <td>-14.18</td>\n      <td>-14.18</td>\n      <td>238.68</td>\n      <td>0.00</td>\n      <td>224.50</td>\n      <td>0.00</td>\n      <td>0.00</td>\n      <td>0.00</td>\n    </tr>\n    <tr>\n      <th>3</th>\n      <td>6086.88</td>\n      <td>2</td>\n      <td>2</td>\n      <td>1</td>\n      <td>29</td>\n      <td>0</td>\n      <td>0</td>\n      <td>0</td>\n      <td>0</td>\n      <td>0</td>\n      <td>...</td>\n      <td>2267.08</td>\n      <td>2288.06</td>\n      <td>1557.71</td>\n      <td>1575.25</td>\n      <td>80.02</td>\n      <td>89.26</td>\n      <td>92.56</td>\n      <td>60.26</td>\n      <td>68.07</td>\n      <td>75.58</td>\n    </tr>\n    <tr>\n      <th>4</th>\n      <td>5370.78</td>\n      <td>2</td>\n      <td>1</td>\n      <td>2</td>\n      <td>33</td>\n      <td>-2</td>\n      <td>-2</td>\n      <td>-2</td>\n      <td>-2</td>\n      <td>-2</td>\n      <td>...</td>\n      <td>1170.90</td>\n      <td>1198.01</td>\n      <td>995.38</td>\n      <td>80.96</td>\n      <td>966.99</td>\n      <td>1171.37</td>\n      <td>1198.58</td>\n      <td>995.67</td>\n      <td>80.96</td>\n      <td>6067.73</td>\n    </tr>\n  </tbody>\n</table>\n<p>5 rows × 23 columns</p>\n</div>"
     },
     "metadata": {},
     "execution_count": 5
    }
   ],
   "source": [
    "X_train.head()"
   ]
  },
  {
   "cell_type": "code",
   "execution_count": 6,
   "metadata": {},
   "outputs": [
    {
     "output_type": "execute_result",
     "data": {
      "text/plain": [
       "     limit  gender  education  marriage  age  behind1  behind2  behind3  \\\n",
       "0  1074.16       1          2         2   25        0        0        0   \n",
       "1  5370.78       2          1         2   26        0        0        0   \n",
       "2  2506.36       2          3         1   32        0        0        0   \n",
       "3  4654.68       1          3         2   49        0        0        0   \n",
       "4  1790.26       2          2         2   36        0        0        0   \n",
       "\n",
       "   behind4  behind5  ...  billed3  billed4  billed5  billed6   paid1   paid2  \\\n",
       "0        0        0  ...   414.66   450.43   491.10   530.92   53.71   71.61   \n",
       "1        0        0  ...  4177.89  3637.13  2783.53  2766.45  160.62  151.64   \n",
       "2        0        0  ...  2453.73  2497.52  2510.34  2513.96   87.04  111.43   \n",
       "3        0        0  ...   579.04   605.04   402.31   248.63   57.65   64.74   \n",
       "4        0        0  ...  1516.74   700.85   726.67   696.02   71.61   53.71   \n",
       "\n",
       "    paid3  paid4   paid5   paid6  \n",
       "0   53.71  53.71   53.71   71.61  \n",
       "1  113.18  94.78   95.56   95.56  \n",
       "2  107.42  87.29   89.51   91.45  \n",
       "3  251.14   0.97  251.03  157.83  \n",
       "4   35.81  64.45    0.00   35.81  \n",
       "\n",
       "[5 rows x 23 columns]"
      ],
      "text/html": "<div>\n<style scoped>\n    .dataframe tbody tr th:only-of-type {\n        vertical-align: middle;\n    }\n\n    .dataframe tbody tr th {\n        vertical-align: top;\n    }\n\n    .dataframe thead th {\n        text-align: right;\n    }\n</style>\n<table border=\"1\" class=\"dataframe\">\n  <thead>\n    <tr style=\"text-align: right;\">\n      <th></th>\n      <th>limit</th>\n      <th>gender</th>\n      <th>education</th>\n      <th>marriage</th>\n      <th>age</th>\n      <th>behind1</th>\n      <th>behind2</th>\n      <th>behind3</th>\n      <th>behind4</th>\n      <th>behind5</th>\n      <th>...</th>\n      <th>billed3</th>\n      <th>billed4</th>\n      <th>billed5</th>\n      <th>billed6</th>\n      <th>paid1</th>\n      <th>paid2</th>\n      <th>paid3</th>\n      <th>paid4</th>\n      <th>paid5</th>\n      <th>paid6</th>\n    </tr>\n  </thead>\n  <tbody>\n    <tr>\n      <th>0</th>\n      <td>1074.16</td>\n      <td>1</td>\n      <td>2</td>\n      <td>2</td>\n      <td>25</td>\n      <td>0</td>\n      <td>0</td>\n      <td>0</td>\n      <td>0</td>\n      <td>0</td>\n      <td>...</td>\n      <td>414.66</td>\n      <td>450.43</td>\n      <td>491.10</td>\n      <td>530.92</td>\n      <td>53.71</td>\n      <td>71.61</td>\n      <td>53.71</td>\n      <td>53.71</td>\n      <td>53.71</td>\n      <td>71.61</td>\n    </tr>\n    <tr>\n      <th>1</th>\n      <td>5370.78</td>\n      <td>2</td>\n      <td>1</td>\n      <td>2</td>\n      <td>26</td>\n      <td>0</td>\n      <td>0</td>\n      <td>0</td>\n      <td>0</td>\n      <td>0</td>\n      <td>...</td>\n      <td>4177.89</td>\n      <td>3637.13</td>\n      <td>2783.53</td>\n      <td>2766.45</td>\n      <td>160.62</td>\n      <td>151.64</td>\n      <td>113.18</td>\n      <td>94.78</td>\n      <td>95.56</td>\n      <td>95.56</td>\n    </tr>\n    <tr>\n      <th>2</th>\n      <td>2506.36</td>\n      <td>2</td>\n      <td>3</td>\n      <td>1</td>\n      <td>32</td>\n      <td>0</td>\n      <td>0</td>\n      <td>0</td>\n      <td>0</td>\n      <td>0</td>\n      <td>...</td>\n      <td>2453.73</td>\n      <td>2497.52</td>\n      <td>2510.34</td>\n      <td>2513.96</td>\n      <td>87.04</td>\n      <td>111.43</td>\n      <td>107.42</td>\n      <td>87.29</td>\n      <td>89.51</td>\n      <td>91.45</td>\n    </tr>\n    <tr>\n      <th>3</th>\n      <td>4654.68</td>\n      <td>1</td>\n      <td>3</td>\n      <td>2</td>\n      <td>49</td>\n      <td>0</td>\n      <td>0</td>\n      <td>0</td>\n      <td>0</td>\n      <td>0</td>\n      <td>...</td>\n      <td>579.04</td>\n      <td>605.04</td>\n      <td>402.31</td>\n      <td>248.63</td>\n      <td>57.65</td>\n      <td>64.74</td>\n      <td>251.14</td>\n      <td>0.97</td>\n      <td>251.03</td>\n      <td>157.83</td>\n    </tr>\n    <tr>\n      <th>4</th>\n      <td>1790.26</td>\n      <td>2</td>\n      <td>2</td>\n      <td>2</td>\n      <td>36</td>\n      <td>0</td>\n      <td>0</td>\n      <td>0</td>\n      <td>0</td>\n      <td>0</td>\n      <td>...</td>\n      <td>1516.74</td>\n      <td>700.85</td>\n      <td>726.67</td>\n      <td>696.02</td>\n      <td>71.61</td>\n      <td>53.71</td>\n      <td>35.81</td>\n      <td>64.45</td>\n      <td>0.00</td>\n      <td>35.81</td>\n    </tr>\n  </tbody>\n</table>\n<p>5 rows × 23 columns</p>\n</div>"
     },
     "metadata": {},
     "execution_count": 6
    }
   ],
   "source": [
    "X_valid.head()"
   ]
  },
  {
   "cell_type": "code",
   "execution_count": 9,
   "metadata": {},
   "outputs": [
    {
     "output_type": "execute_result",
     "data": {
      "text/plain": [
       "     limit  gender  education  marriage  age  behind1  behind2  behind3  \\\n",
       "0  1790.26       2          2         1   44        0        0        0   \n",
       "1  5728.83       2          3         1   46       -1       -1       -1   \n",
       "2  3580.52       2          2         1   47       -1       -1       -1   \n",
       "3  6086.88       2          2         1   29        0        0        0   \n",
       "4  5370.78       2          1         2   33       -2       -2       -2   \n",
       "\n",
       "   behind4  behind5  ...  billed4  billed5  billed6   paid1    paid2    paid3  \\\n",
       "0        0        0  ...   800.60   847.12   981.81  107.99   179.13   107.42   \n",
       "1        0       -1  ...   147.77   143.04    30.15   83.89   173.87    35.81   \n",
       "2       -1       -1  ...   224.50   -14.18   -14.18  238.68     0.00   224.50   \n",
       "3        0        0  ...  2288.06  1557.71  1575.25   80.02    89.26    92.56   \n",
       "4       -2       -2  ...  1198.01   995.38    80.96  966.99  1171.37  1198.58   \n",
       "\n",
       "    paid4   paid5    paid6  default  \n",
       "0  107.42  179.03    33.08        0  \n",
       "1  143.04   30.15   942.14        0  \n",
       "2    0.00    0.00     0.00        1  \n",
       "3   60.26   68.07    75.58        0  \n",
       "4  995.67   80.96  6067.73        0  \n",
       "\n",
       "[5 rows x 24 columns]"
      ],
      "text/html": "<div>\n<style scoped>\n    .dataframe tbody tr th:only-of-type {\n        vertical-align: middle;\n    }\n\n    .dataframe tbody tr th {\n        vertical-align: top;\n    }\n\n    .dataframe thead th {\n        text-align: right;\n    }\n</style>\n<table border=\"1\" class=\"dataframe\">\n  <thead>\n    <tr style=\"text-align: right;\">\n      <th></th>\n      <th>limit</th>\n      <th>gender</th>\n      <th>education</th>\n      <th>marriage</th>\n      <th>age</th>\n      <th>behind1</th>\n      <th>behind2</th>\n      <th>behind3</th>\n      <th>behind4</th>\n      <th>behind5</th>\n      <th>...</th>\n      <th>billed4</th>\n      <th>billed5</th>\n      <th>billed6</th>\n      <th>paid1</th>\n      <th>paid2</th>\n      <th>paid3</th>\n      <th>paid4</th>\n      <th>paid5</th>\n      <th>paid6</th>\n      <th>default</th>\n    </tr>\n  </thead>\n  <tbody>\n    <tr>\n      <th>0</th>\n      <td>1790.26</td>\n      <td>2</td>\n      <td>2</td>\n      <td>1</td>\n      <td>44</td>\n      <td>0</td>\n      <td>0</td>\n      <td>0</td>\n      <td>0</td>\n      <td>0</td>\n      <td>...</td>\n      <td>800.60</td>\n      <td>847.12</td>\n      <td>981.81</td>\n      <td>107.99</td>\n      <td>179.13</td>\n      <td>107.42</td>\n      <td>107.42</td>\n      <td>179.03</td>\n      <td>33.08</td>\n      <td>0</td>\n    </tr>\n    <tr>\n      <th>1</th>\n      <td>5728.83</td>\n      <td>2</td>\n      <td>3</td>\n      <td>1</td>\n      <td>46</td>\n      <td>-1</td>\n      <td>-1</td>\n      <td>-1</td>\n      <td>0</td>\n      <td>-1</td>\n      <td>...</td>\n      <td>147.77</td>\n      <td>143.04</td>\n      <td>30.15</td>\n      <td>83.89</td>\n      <td>173.87</td>\n      <td>35.81</td>\n      <td>143.04</td>\n      <td>30.15</td>\n      <td>942.14</td>\n      <td>0</td>\n    </tr>\n    <tr>\n      <th>2</th>\n      <td>3580.52</td>\n      <td>2</td>\n      <td>2</td>\n      <td>1</td>\n      <td>47</td>\n      <td>-1</td>\n      <td>-1</td>\n      <td>-1</td>\n      <td>-1</td>\n      <td>-1</td>\n      <td>...</td>\n      <td>224.50</td>\n      <td>-14.18</td>\n      <td>-14.18</td>\n      <td>238.68</td>\n      <td>0.00</td>\n      <td>224.50</td>\n      <td>0.00</td>\n      <td>0.00</td>\n      <td>0.00</td>\n      <td>1</td>\n    </tr>\n    <tr>\n      <th>3</th>\n      <td>6086.88</td>\n      <td>2</td>\n      <td>2</td>\n      <td>1</td>\n      <td>29</td>\n      <td>0</td>\n      <td>0</td>\n      <td>0</td>\n      <td>0</td>\n      <td>0</td>\n      <td>...</td>\n      <td>2288.06</td>\n      <td>1557.71</td>\n      <td>1575.25</td>\n      <td>80.02</td>\n      <td>89.26</td>\n      <td>92.56</td>\n      <td>60.26</td>\n      <td>68.07</td>\n      <td>75.58</td>\n      <td>0</td>\n    </tr>\n    <tr>\n      <th>4</th>\n      <td>5370.78</td>\n      <td>2</td>\n      <td>1</td>\n      <td>2</td>\n      <td>33</td>\n      <td>-2</td>\n      <td>-2</td>\n      <td>-2</td>\n      <td>-2</td>\n      <td>-2</td>\n      <td>...</td>\n      <td>1198.01</td>\n      <td>995.38</td>\n      <td>80.96</td>\n      <td>966.99</td>\n      <td>1171.37</td>\n      <td>1198.58</td>\n      <td>995.67</td>\n      <td>80.96</td>\n      <td>6067.73</td>\n      <td>0</td>\n    </tr>\n  </tbody>\n</table>\n<p>5 rows × 24 columns</p>\n</div>"
     },
     "metadata": {},
     "execution_count": 9
    }
   ],
   "source": [
    "training = pd.concat([X_train, y_train], axis=1)\n",
    "validate = pd.concat([X_valid, y_valid], axis=1)\n",
    "train = pd.concat([training, validate], axis=0)\n",
    "train.head()"
   ]
  },
  {
   "cell_type": "code",
   "execution_count": 20,
   "metadata": {},
   "outputs": [],
   "source": [
    "train_y = train.default\n",
    "train_X = train.drop(['default'], axis=1)"
   ]
  },
  {
   "source": [
    "# Target Variable Visualization"
   ],
   "cell_type": "markdown",
   "metadata": {}
  },
  {
   "cell_type": "code",
   "execution_count": 18,
   "metadata": {
    "tags": []
   },
   "outputs": [
    {
     "output_type": "display_data",
     "data": {
      "text/plain": "<Figure size 504x360 with 1 Axes>",
      "image/svg+xml": "<?xml version=\"1.0\" encoding=\"utf-8\" standalone=\"no\"?>\n<!DOCTYPE svg PUBLIC \"-//W3C//DTD SVG 1.1//EN\"\n  \"http://www.w3.org/Graphics/SVG/1.1/DTD/svg11.dtd\">\n<!-- Created with matplotlib (https://matplotlib.org/) -->\n<svg height=\"358.425312pt\" version=\"1.1\" viewBox=\"0 0 506.317187 358.425312\" width=\"506.317187pt\" xmlns=\"http://www.w3.org/2000/svg\" xmlns:xlink=\"http://www.w3.org/1999/xlink\">\n <metadata>\n  <rdf:RDF xmlns:cc=\"http://creativecommons.org/ns#\" xmlns:dc=\"http://purl.org/dc/elements/1.1/\" xmlns:rdf=\"http://www.w3.org/1999/02/22-rdf-syntax-ns#\">\n   <cc:Work>\n    <dc:type rdf:resource=\"http://purl.org/dc/dcmitype/StillImage\"/>\n    <dc:date>2021-06-17T04:24:04.919100</dc:date>\n    <dc:format>image/svg+xml</dc:format>\n    <dc:creator>\n     <cc:Agent>\n      <dc:title>Matplotlib v3.3.4, https://matplotlib.org/</dc:title>\n     </cc:Agent>\n    </dc:creator>\n   </cc:Work>\n  </rdf:RDF>\n </metadata>\n <defs>\n  <style type=\"text/css\">*{stroke-linecap:butt;stroke-linejoin:round;}</style>\n </defs>\n <g id=\"figure_1\">\n  <g id=\"patch_1\">\n   <path d=\"M -0 358.425312 \nL 506.317187 358.425312 \nL 506.317187 0 \nL -0 0 \nz\n\" style=\"fill:#ffffff;\"/>\n  </g>\n  <g id=\"axes_1\">\n   <g id=\"patch_2\">\n    <path d=\"M 60.637188 316.4475 \nL 499.117188 316.4475 \nL 499.117188 24.8475 \nL 60.637188 24.8475 \nz\n\" style=\"fill:#eaeaf2;\"/>\n   </g>\n   <g id=\"matplotlib.axis_1\">\n    <g id=\"xtick_1\">\n     <g id=\"text_1\">\n      <!-- 0 -->\n      <g style=\"fill:#262626;\" transform=\"translate(167.476719 330.605312)scale(0.1 -0.1)\">\n       <defs>\n        <path d=\"M 4.15625 35.296875 \nQ 4.15625 48 6.765625 55.734375 \nQ 9.375 63.484375 14.515625 67.671875 \nQ 19.671875 71.875 27.484375 71.875 \nQ 33.25 71.875 37.59375 69.546875 \nQ 41.9375 67.234375 44.765625 62.859375 \nQ 47.609375 58.5 49.21875 52.21875 \nQ 50.828125 45.953125 50.828125 35.296875 \nQ 50.828125 22.703125 48.234375 14.96875 \nQ 45.65625 7.234375 40.5 3 \nQ 35.359375 -1.21875 27.484375 -1.21875 \nQ 17.140625 -1.21875 11.234375 6.203125 \nQ 4.15625 15.140625 4.15625 35.296875 \nz\nM 13.1875 35.296875 \nQ 13.1875 17.671875 17.3125 11.828125 \nQ 21.4375 6 27.484375 6 \nQ 33.546875 6 37.671875 11.859375 \nQ 41.796875 17.71875 41.796875 35.296875 \nQ 41.796875 52.984375 37.671875 58.78125 \nQ 33.546875 64.59375 27.390625 64.59375 \nQ 21.34375 64.59375 17.71875 59.46875 \nQ 13.1875 52.9375 13.1875 35.296875 \nz\n\" id=\"ArialMT-48\"/>\n       </defs>\n       <use xlink:href=\"#ArialMT-48\"/>\n      </g>\n     </g>\n    </g>\n    <g id=\"xtick_2\">\n     <g id=\"text_2\">\n      <!-- 1 -->\n      <g style=\"fill:#262626;\" transform=\"translate(386.716719 330.605312)scale(0.1 -0.1)\">\n       <defs>\n        <path d=\"M 37.25 0 \nL 28.46875 0 \nL 28.46875 56 \nQ 25.296875 52.984375 20.140625 49.953125 \nQ 14.984375 46.921875 10.890625 45.40625 \nL 10.890625 53.90625 \nQ 18.265625 57.375 23.78125 62.296875 \nQ 29.296875 67.234375 31.59375 71.875 \nL 37.25 71.875 \nz\n\" id=\"ArialMT-49\"/>\n       </defs>\n       <use xlink:href=\"#ArialMT-49\"/>\n      </g>\n     </g>\n    </g>\n    <g id=\"text_3\">\n     <!-- default -->\n     <g style=\"fill:#262626;\" transform=\"translate(255.859687 348.045312)scale(0.16 -0.16)\">\n      <defs>\n       <path d=\"M 40.234375 0 \nL 40.234375 6.546875 \nQ 35.296875 -1.171875 25.734375 -1.171875 \nQ 19.53125 -1.171875 14.328125 2.25 \nQ 9.125 5.671875 6.265625 11.796875 \nQ 3.421875 17.921875 3.421875 25.875 \nQ 3.421875 33.640625 6 39.96875 \nQ 8.59375 46.296875 13.765625 49.65625 \nQ 18.953125 53.03125 25.34375 53.03125 \nQ 30.03125 53.03125 33.6875 51.046875 \nQ 37.359375 49.078125 39.65625 45.90625 \nL 39.65625 71.578125 \nL 48.390625 71.578125 \nL 48.390625 0 \nz\nM 12.453125 25.875 \nQ 12.453125 15.921875 16.640625 10.984375 \nQ 20.84375 6.0625 26.5625 6.0625 \nQ 32.328125 6.0625 36.34375 10.765625 \nQ 40.375 15.484375 40.375 25.140625 \nQ 40.375 35.796875 36.265625 40.765625 \nQ 32.171875 45.75 26.171875 45.75 \nQ 20.3125 45.75 16.375 40.96875 \nQ 12.453125 36.1875 12.453125 25.875 \nz\n\" id=\"ArialMT-100\"/>\n       <path d=\"M 42.09375 16.703125 \nL 51.171875 15.578125 \nQ 49.03125 7.625 43.21875 3.21875 \nQ 37.40625 -1.171875 28.375 -1.171875 \nQ 17 -1.171875 10.328125 5.828125 \nQ 3.65625 12.84375 3.65625 25.484375 \nQ 3.65625 38.578125 10.390625 45.796875 \nQ 17.140625 53.03125 27.875 53.03125 \nQ 38.28125 53.03125 44.875 45.953125 \nQ 51.46875 38.875 51.46875 26.03125 \nQ 51.46875 25.25 51.421875 23.6875 \nL 12.75 23.6875 \nQ 13.234375 15.140625 17.578125 10.59375 \nQ 21.921875 6.0625 28.421875 6.0625 \nQ 33.25 6.0625 36.671875 8.59375 \nQ 40.09375 11.140625 42.09375 16.703125 \nz\nM 13.234375 30.90625 \nL 42.1875 30.90625 \nQ 41.609375 37.453125 38.875 40.71875 \nQ 34.671875 45.796875 27.984375 45.796875 \nQ 21.921875 45.796875 17.796875 41.75 \nQ 13.671875 37.703125 13.234375 30.90625 \nz\n\" id=\"ArialMT-101\"/>\n       <path d=\"M 8.6875 0 \nL 8.6875 45.015625 \nL 0.921875 45.015625 \nL 0.921875 51.859375 \nL 8.6875 51.859375 \nL 8.6875 57.375 \nQ 8.6875 62.59375 9.625 65.140625 \nQ 10.890625 68.5625 14.078125 70.671875 \nQ 17.28125 72.796875 23.046875 72.796875 \nQ 26.765625 72.796875 31.25 71.921875 \nL 29.9375 64.265625 \nQ 27.203125 64.75 24.75 64.75 \nQ 20.75 64.75 19.09375 63.03125 \nQ 17.4375 61.328125 17.4375 56.640625 \nL 17.4375 51.859375 \nL 27.546875 51.859375 \nL 27.546875 45.015625 \nL 17.4375 45.015625 \nL 17.4375 0 \nz\n\" id=\"ArialMT-102\"/>\n       <path d=\"M 40.4375 6.390625 \nQ 35.546875 2.25 31.03125 0.53125 \nQ 26.515625 -1.171875 21.34375 -1.171875 \nQ 12.796875 -1.171875 8.203125 3 \nQ 3.609375 7.171875 3.609375 13.671875 \nQ 3.609375 17.484375 5.34375 20.625 \nQ 7.078125 23.78125 9.890625 25.6875 \nQ 12.703125 27.59375 16.21875 28.5625 \nQ 18.796875 29.25 24.03125 29.890625 \nQ 34.671875 31.15625 39.703125 32.90625 \nQ 39.75 34.71875 39.75 35.203125 \nQ 39.75 40.578125 37.25 42.78125 \nQ 33.890625 45.75 27.25 45.75 \nQ 21.046875 45.75 18.09375 43.578125 \nQ 15.140625 41.40625 13.71875 35.890625 \nL 5.125 37.0625 \nQ 6.296875 42.578125 8.984375 45.96875 \nQ 11.671875 49.359375 16.75 51.1875 \nQ 21.828125 53.03125 28.515625 53.03125 \nQ 35.15625 53.03125 39.296875 51.46875 \nQ 43.453125 49.90625 45.40625 47.53125 \nQ 47.359375 45.171875 48.140625 41.546875 \nQ 48.578125 39.3125 48.578125 33.453125 \nL 48.578125 21.734375 \nQ 48.578125 9.46875 49.140625 6.21875 \nQ 49.703125 2.984375 51.375 0 \nL 42.1875 0 \nQ 40.828125 2.734375 40.4375 6.390625 \nz\nM 39.703125 26.03125 \nQ 34.90625 24.078125 25.34375 22.703125 \nQ 19.921875 21.921875 17.671875 20.9375 \nQ 15.4375 19.96875 14.203125 18.09375 \nQ 12.984375 16.21875 12.984375 13.921875 \nQ 12.984375 10.40625 15.640625 8.0625 \nQ 18.3125 5.71875 23.4375 5.71875 \nQ 28.515625 5.71875 32.46875 7.9375 \nQ 36.421875 10.15625 38.28125 14.015625 \nQ 39.703125 17 39.703125 22.796875 \nz\n\" id=\"ArialMT-97\"/>\n       <path d=\"M 40.578125 0 \nL 40.578125 7.625 \nQ 34.515625 -1.171875 24.125 -1.171875 \nQ 19.53125 -1.171875 15.546875 0.578125 \nQ 11.578125 2.34375 9.640625 5 \nQ 7.71875 7.671875 6.9375 11.53125 \nQ 6.390625 14.109375 6.390625 19.734375 \nL 6.390625 51.859375 \nL 15.1875 51.859375 \nL 15.1875 23.09375 \nQ 15.1875 16.21875 15.71875 13.8125 \nQ 16.546875 10.359375 19.234375 8.375 \nQ 21.921875 6.390625 25.875 6.390625 \nQ 29.828125 6.390625 33.296875 8.421875 \nQ 36.765625 10.453125 38.203125 13.9375 \nQ 39.65625 17.4375 39.65625 24.078125 \nL 39.65625 51.859375 \nL 48.4375 51.859375 \nL 48.4375 0 \nz\n\" id=\"ArialMT-117\"/>\n       <path d=\"M 6.390625 0 \nL 6.390625 71.578125 \nL 15.1875 71.578125 \nL 15.1875 0 \nz\n\" id=\"ArialMT-108\"/>\n       <path d=\"M 25.78125 7.859375 \nL 27.046875 0.09375 \nQ 23.34375 -0.6875 20.40625 -0.6875 \nQ 15.625 -0.6875 12.984375 0.828125 \nQ 10.359375 2.34375 9.28125 4.8125 \nQ 8.203125 7.28125 8.203125 15.1875 \nL 8.203125 45.015625 \nL 1.765625 45.015625 \nL 1.765625 51.859375 \nL 8.203125 51.859375 \nL 8.203125 64.703125 \nL 16.9375 69.96875 \nL 16.9375 51.859375 \nL 25.78125 51.859375 \nL 25.78125 45.015625 \nL 16.9375 45.015625 \nL 16.9375 14.703125 \nQ 16.9375 10.9375 17.40625 9.859375 \nQ 17.875 8.796875 18.921875 8.15625 \nQ 19.96875 7.515625 21.921875 7.515625 \nQ 23.390625 7.515625 25.78125 7.859375 \nz\n\" id=\"ArialMT-116\"/>\n      </defs>\n      <use xlink:href=\"#ArialMT-100\"/>\n      <use x=\"55.615234\" xlink:href=\"#ArialMT-101\"/>\n      <use x=\"111.230469\" xlink:href=\"#ArialMT-102\"/>\n      <use x=\"139.013672\" xlink:href=\"#ArialMT-97\"/>\n      <use x=\"194.628906\" xlink:href=\"#ArialMT-117\"/>\n      <use x=\"250.244141\" xlink:href=\"#ArialMT-108\"/>\n      <use x=\"272.460938\" xlink:href=\"#ArialMT-116\"/>\n     </g>\n    </g>\n   </g>\n   <g id=\"matplotlib.axis_2\">\n    <g id=\"ytick_1\">\n     <g id=\"line2d_1\">\n      <path clip-path=\"url(#p92ec6e5a84)\" d=\"M 60.637188 316.4475 \nL 499.117188 316.4475 \n\" style=\"fill:none;stroke:#ffffff;stroke-linecap:round;\"/>\n     </g>\n     <g id=\"text_4\">\n      <!-- 0 -->\n      <g style=\"fill:#262626;\" transform=\"translate(48.07625 320.026406)scale(0.1 -0.1)\">\n       <use xlink:href=\"#ArialMT-48\"/>\n      </g>\n     </g>\n    </g>\n    <g id=\"ytick_2\">\n     <g id=\"line2d_2\">\n      <path clip-path=\"url(#p92ec6e5a84)\" d=\"M 60.637188 283.435008 \nL 499.117188 283.435008 \n\" style=\"fill:none;stroke:#ffffff;stroke-linecap:round;\"/>\n     </g>\n     <g id=\"text_5\">\n      <!-- 2500 -->\n      <g style=\"fill:#262626;\" transform=\"translate(31.393438 287.013914)scale(0.1 -0.1)\">\n       <defs>\n        <path d=\"M 50.34375 8.453125 \nL 50.34375 0 \nL 3.03125 0 \nQ 2.9375 3.171875 4.046875 6.109375 \nQ 5.859375 10.9375 9.828125 15.625 \nQ 13.8125 20.3125 21.34375 26.46875 \nQ 33.015625 36.03125 37.109375 41.625 \nQ 41.21875 47.21875 41.21875 52.203125 \nQ 41.21875 57.421875 37.46875 61 \nQ 33.734375 64.59375 27.734375 64.59375 \nQ 21.390625 64.59375 17.578125 60.78125 \nQ 13.765625 56.984375 13.71875 50.25 \nL 4.6875 51.171875 \nQ 5.609375 61.28125 11.65625 66.578125 \nQ 17.71875 71.875 27.9375 71.875 \nQ 38.234375 71.875 44.234375 66.15625 \nQ 50.25 60.453125 50.25 52 \nQ 50.25 47.703125 48.484375 43.546875 \nQ 46.734375 39.40625 42.65625 34.8125 \nQ 38.578125 30.21875 29.109375 22.21875 \nQ 21.1875 15.578125 18.9375 13.203125 \nQ 16.703125 10.84375 15.234375 8.453125 \nz\n\" id=\"ArialMT-50\"/>\n        <path d=\"M 4.15625 18.75 \nL 13.375 19.53125 \nQ 14.40625 12.796875 18.140625 9.390625 \nQ 21.875 6 27.15625 6 \nQ 33.5 6 37.890625 10.78125 \nQ 42.28125 15.578125 42.28125 23.484375 \nQ 42.28125 31 38.0625 35.34375 \nQ 33.84375 39.703125 27 39.703125 \nQ 22.75 39.703125 19.328125 37.765625 \nQ 15.921875 35.84375 13.96875 32.765625 \nL 5.71875 33.84375 \nL 12.640625 70.609375 \nL 48.25 70.609375 \nL 48.25 62.203125 \nL 19.671875 62.203125 \nL 15.828125 42.96875 \nQ 22.265625 47.46875 29.34375 47.46875 \nQ 38.71875 47.46875 45.15625 40.96875 \nQ 51.609375 34.46875 51.609375 24.265625 \nQ 51.609375 14.546875 45.953125 7.46875 \nQ 39.0625 -1.21875 27.15625 -1.21875 \nQ 17.390625 -1.21875 11.203125 4.25 \nQ 5.03125 9.71875 4.15625 18.75 \nz\n\" id=\"ArialMT-53\"/>\n       </defs>\n       <use xlink:href=\"#ArialMT-50\"/>\n       <use x=\"55.615234\" xlink:href=\"#ArialMT-53\"/>\n       <use x=\"111.230469\" xlink:href=\"#ArialMT-48\"/>\n       <use x=\"166.845703\" xlink:href=\"#ArialMT-48\"/>\n      </g>\n     </g>\n    </g>\n    <g id=\"ytick_3\">\n     <g id=\"line2d_3\">\n      <path clip-path=\"url(#p92ec6e5a84)\" d=\"M 60.637188 250.422516 \nL 499.117188 250.422516 \n\" style=\"fill:none;stroke:#ffffff;stroke-linecap:round;\"/>\n     </g>\n     <g id=\"text_6\">\n      <!-- 5000 -->\n      <g style=\"fill:#262626;\" transform=\"translate(31.393438 254.001423)scale(0.1 -0.1)\">\n       <use xlink:href=\"#ArialMT-53\"/>\n       <use x=\"55.615234\" xlink:href=\"#ArialMT-48\"/>\n       <use x=\"111.230469\" xlink:href=\"#ArialMT-48\"/>\n       <use x=\"166.845703\" xlink:href=\"#ArialMT-48\"/>\n      </g>\n     </g>\n    </g>\n    <g id=\"ytick_4\">\n     <g id=\"line2d_4\">\n      <path clip-path=\"url(#p92ec6e5a84)\" d=\"M 60.637188 217.410025 \nL 499.117188 217.410025 \n\" style=\"fill:none;stroke:#ffffff;stroke-linecap:round;\"/>\n     </g>\n     <g id=\"text_7\">\n      <!-- 7500 -->\n      <g style=\"fill:#262626;\" transform=\"translate(31.393438 220.988931)scale(0.1 -0.1)\">\n       <defs>\n        <path d=\"M 4.734375 62.203125 \nL 4.734375 70.65625 \nL 51.078125 70.65625 \nL 51.078125 63.8125 \nQ 44.234375 56.546875 37.515625 44.484375 \nQ 30.8125 32.421875 27.15625 19.671875 \nQ 24.515625 10.6875 23.78125 0 \nL 14.75 0 \nQ 14.890625 8.453125 18.0625 20.40625 \nQ 21.234375 32.375 27.171875 43.484375 \nQ 33.109375 54.59375 39.796875 62.203125 \nz\n\" id=\"ArialMT-55\"/>\n       </defs>\n       <use xlink:href=\"#ArialMT-55\"/>\n       <use x=\"55.615234\" xlink:href=\"#ArialMT-53\"/>\n       <use x=\"111.230469\" xlink:href=\"#ArialMT-48\"/>\n       <use x=\"166.845703\" xlink:href=\"#ArialMT-48\"/>\n      </g>\n     </g>\n    </g>\n    <g id=\"ytick_5\">\n     <g id=\"line2d_5\">\n      <path clip-path=\"url(#p92ec6e5a84)\" d=\"M 60.637188 184.397533 \nL 499.117188 184.397533 \n\" style=\"fill:none;stroke:#ffffff;stroke-linecap:round;\"/>\n     </g>\n     <g id=\"text_8\">\n      <!-- 10000 -->\n      <g style=\"fill:#262626;\" transform=\"translate(25.8325 187.976439)scale(0.1 -0.1)\">\n       <use xlink:href=\"#ArialMT-49\"/>\n       <use x=\"55.615234\" xlink:href=\"#ArialMT-48\"/>\n       <use x=\"111.230469\" xlink:href=\"#ArialMT-48\"/>\n       <use x=\"166.845703\" xlink:href=\"#ArialMT-48\"/>\n       <use x=\"222.460938\" xlink:href=\"#ArialMT-48\"/>\n      </g>\n     </g>\n    </g>\n    <g id=\"ytick_6\">\n     <g id=\"line2d_6\">\n      <path clip-path=\"url(#p92ec6e5a84)\" d=\"M 60.637188 151.385041 \nL 499.117188 151.385041 \n\" style=\"fill:none;stroke:#ffffff;stroke-linecap:round;\"/>\n     </g>\n     <g id=\"text_9\">\n      <!-- 12500 -->\n      <g style=\"fill:#262626;\" transform=\"translate(25.8325 154.963947)scale(0.1 -0.1)\">\n       <use xlink:href=\"#ArialMT-49\"/>\n       <use x=\"55.615234\" xlink:href=\"#ArialMT-50\"/>\n       <use x=\"111.230469\" xlink:href=\"#ArialMT-53\"/>\n       <use x=\"166.845703\" xlink:href=\"#ArialMT-48\"/>\n       <use x=\"222.460938\" xlink:href=\"#ArialMT-48\"/>\n      </g>\n     </g>\n    </g>\n    <g id=\"ytick_7\">\n     <g id=\"line2d_7\">\n      <path clip-path=\"url(#p92ec6e5a84)\" d=\"M 60.637188 118.372549 \nL 499.117188 118.372549 \n\" style=\"fill:none;stroke:#ffffff;stroke-linecap:round;\"/>\n     </g>\n     <g id=\"text_10\">\n      <!-- 15000 -->\n      <g style=\"fill:#262626;\" transform=\"translate(25.8325 121.951456)scale(0.1 -0.1)\">\n       <use xlink:href=\"#ArialMT-49\"/>\n       <use x=\"55.615234\" xlink:href=\"#ArialMT-53\"/>\n       <use x=\"111.230469\" xlink:href=\"#ArialMT-48\"/>\n       <use x=\"166.845703\" xlink:href=\"#ArialMT-48\"/>\n       <use x=\"222.460938\" xlink:href=\"#ArialMT-48\"/>\n      </g>\n     </g>\n    </g>\n    <g id=\"ytick_8\">\n     <g id=\"line2d_8\">\n      <path clip-path=\"url(#p92ec6e5a84)\" d=\"M 60.637188 85.360058 \nL 499.117188 85.360058 \n\" style=\"fill:none;stroke:#ffffff;stroke-linecap:round;\"/>\n     </g>\n     <g id=\"text_11\">\n      <!-- 17500 -->\n      <g style=\"fill:#262626;\" transform=\"translate(25.8325 88.938964)scale(0.1 -0.1)\">\n       <use xlink:href=\"#ArialMT-49\"/>\n       <use x=\"55.615234\" xlink:href=\"#ArialMT-55\"/>\n       <use x=\"111.230469\" xlink:href=\"#ArialMT-53\"/>\n       <use x=\"166.845703\" xlink:href=\"#ArialMT-48\"/>\n       <use x=\"222.460938\" xlink:href=\"#ArialMT-48\"/>\n      </g>\n     </g>\n    </g>\n    <g id=\"ytick_9\">\n     <g id=\"line2d_9\">\n      <path clip-path=\"url(#p92ec6e5a84)\" d=\"M 60.637188 52.347566 \nL 499.117188 52.347566 \n\" style=\"fill:none;stroke:#ffffff;stroke-linecap:round;\"/>\n     </g>\n     <g id=\"text_12\">\n      <!-- 20000 -->\n      <g style=\"fill:#262626;\" transform=\"translate(25.8325 55.926472)scale(0.1 -0.1)\">\n       <use xlink:href=\"#ArialMT-50\"/>\n       <use x=\"55.615234\" xlink:href=\"#ArialMT-48\"/>\n       <use x=\"111.230469\" xlink:href=\"#ArialMT-48\"/>\n       <use x=\"166.845703\" xlink:href=\"#ArialMT-48\"/>\n       <use x=\"222.460938\" xlink:href=\"#ArialMT-48\"/>\n      </g>\n     </g>\n    </g>\n    <g id=\"text_13\">\n     <!-- count -->\n     <g style=\"fill:#262626;\" transform=\"translate(18.6525 190.21625)rotate(-90)scale(0.16 -0.16)\">\n      <defs>\n       <path d=\"M 40.4375 19 \nL 49.078125 17.875 \nQ 47.65625 8.9375 41.8125 3.875 \nQ 35.984375 -1.171875 27.484375 -1.171875 \nQ 16.84375 -1.171875 10.375 5.78125 \nQ 3.90625 12.75 3.90625 25.734375 \nQ 3.90625 34.125 6.6875 40.421875 \nQ 9.46875 46.734375 15.15625 49.875 \nQ 20.84375 53.03125 27.546875 53.03125 \nQ 35.984375 53.03125 41.359375 48.75 \nQ 46.734375 44.484375 48.25 36.625 \nL 39.703125 35.296875 \nQ 38.484375 40.53125 35.375 43.15625 \nQ 32.28125 45.796875 27.875 45.796875 \nQ 21.234375 45.796875 17.078125 41.03125 \nQ 12.9375 36.28125 12.9375 25.984375 \nQ 12.9375 15.53125 16.9375 10.796875 \nQ 20.953125 6.0625 27.390625 6.0625 \nQ 32.5625 6.0625 36.03125 9.234375 \nQ 39.5 12.40625 40.4375 19 \nz\n\" id=\"ArialMT-99\"/>\n       <path d=\"M 3.328125 25.921875 \nQ 3.328125 40.328125 11.328125 47.265625 \nQ 18.015625 53.03125 27.640625 53.03125 \nQ 38.328125 53.03125 45.109375 46.015625 \nQ 51.90625 39.015625 51.90625 26.65625 \nQ 51.90625 16.65625 48.90625 10.90625 \nQ 45.90625 5.171875 40.15625 2 \nQ 34.421875 -1.171875 27.640625 -1.171875 \nQ 16.75 -1.171875 10.03125 5.8125 \nQ 3.328125 12.796875 3.328125 25.921875 \nz\nM 12.359375 25.921875 \nQ 12.359375 15.96875 16.703125 11.015625 \nQ 21.046875 6.0625 27.640625 6.0625 \nQ 34.1875 6.0625 38.53125 11.03125 \nQ 42.875 16.015625 42.875 26.21875 \nQ 42.875 35.84375 38.5 40.796875 \nQ 34.125 45.75 27.640625 45.75 \nQ 21.046875 45.75 16.703125 40.8125 \nQ 12.359375 35.890625 12.359375 25.921875 \nz\n\" id=\"ArialMT-111\"/>\n       <path d=\"M 6.59375 0 \nL 6.59375 51.859375 \nL 14.5 51.859375 \nL 14.5 44.484375 \nQ 20.21875 53.03125 31 53.03125 \nQ 35.6875 53.03125 39.625 51.34375 \nQ 43.5625 49.65625 45.515625 46.921875 \nQ 47.46875 44.1875 48.25 40.4375 \nQ 48.734375 37.984375 48.734375 31.890625 \nL 48.734375 0 \nL 39.9375 0 \nL 39.9375 31.546875 \nQ 39.9375 36.921875 38.90625 39.578125 \nQ 37.890625 42.234375 35.28125 43.8125 \nQ 32.671875 45.40625 29.15625 45.40625 \nQ 23.53125 45.40625 19.453125 41.84375 \nQ 15.375 38.28125 15.375 28.328125 \nL 15.375 0 \nz\n\" id=\"ArialMT-110\"/>\n      </defs>\n      <use xlink:href=\"#ArialMT-99\"/>\n      <use x=\"50\" xlink:href=\"#ArialMT-111\"/>\n      <use x=\"105.615234\" xlink:href=\"#ArialMT-117\"/>\n      <use x=\"161.230469\" xlink:href=\"#ArialMT-110\"/>\n      <use x=\"216.845703\" xlink:href=\"#ArialMT-116\"/>\n     </g>\n    </g>\n   </g>\n   <g id=\"patch_3\">\n    <path clip-path=\"url(#p92ec6e5a84)\" d=\"M 82.561188 316.4475 \nL 257.953188 316.4475 \nL 257.953188 38.733214 \nL 82.561188 38.733214 \nz\n\" style=\"fill:#5875a4;stroke:#ffffff;stroke-linejoin:miter;stroke-width:0.3;\"/>\n   </g>\n   <g id=\"patch_4\">\n    <path clip-path=\"url(#p92ec6e5a84)\" d=\"M 301.801188 316.4475 \nL 477.193188 316.4475 \nL 477.193188 237.626875 \nL 301.801188 237.626875 \nz\n\" style=\"fill:#5f9e6e;stroke:#ffffff;stroke-linejoin:miter;stroke-width:0.3;\"/>\n   </g>\n   <g id=\"patch_5\">\n    <path d=\"M 60.637188 316.4475 \nL 60.637188 24.8475 \n\" style=\"fill:none;\"/>\n   </g>\n   <g id=\"patch_6\">\n    <path d=\"M 499.117188 316.4475 \nL 499.117188 24.8475 \n\" style=\"fill:none;\"/>\n   </g>\n   <g id=\"patch_7\">\n    <path d=\"M 60.637188 316.4475 \nL 499.117188 316.4475 \n\" style=\"fill:none;\"/>\n   </g>\n   <g id=\"patch_8\">\n    <path d=\"M 60.637188 24.8475 \nL 499.117188 24.8475 \n\" style=\"fill:none;\"/>\n   </g>\n   <g id=\"text_14\">\n    <!-- 77.9% -->\n    <g style=\"fill:#262626;\" transform=\"translate(159.295188 38.733214)scale(0.16 -0.16)\">\n     <defs>\n      <path d=\"M 9.078125 0 \nL 9.078125 10.015625 \nL 19.09375 10.015625 \nL 19.09375 0 \nz\n\" id=\"ArialMT-46\"/>\n      <path d=\"M 5.46875 16.546875 \nL 13.921875 17.328125 \nQ 14.984375 11.375 18.015625 8.6875 \nQ 21.046875 6 25.78125 6 \nQ 29.828125 6 32.875 7.859375 \nQ 35.9375 9.71875 37.890625 12.8125 \nQ 39.84375 15.921875 41.15625 21.1875 \nQ 42.484375 26.46875 42.484375 31.9375 \nQ 42.484375 32.515625 42.4375 33.6875 \nQ 39.796875 29.5 35.234375 26.875 \nQ 30.671875 24.265625 25.34375 24.265625 \nQ 16.453125 24.265625 10.296875 30.703125 \nQ 4.15625 37.15625 4.15625 47.703125 \nQ 4.15625 58.59375 10.578125 65.234375 \nQ 17 71.875 26.65625 71.875 \nQ 33.640625 71.875 39.421875 68.109375 \nQ 45.21875 64.359375 48.21875 57.390625 \nQ 51.21875 50.4375 51.21875 37.25 \nQ 51.21875 23.53125 48.234375 15.40625 \nQ 45.265625 7.28125 39.375 3.03125 \nQ 33.5 -1.21875 25.59375 -1.21875 \nQ 17.1875 -1.21875 11.859375 3.4375 \nQ 6.546875 8.109375 5.46875 16.546875 \nz\nM 41.453125 48.140625 \nQ 41.453125 55.71875 37.421875 60.15625 \nQ 33.40625 64.59375 27.734375 64.59375 \nQ 21.875 64.59375 17.53125 59.8125 \nQ 13.1875 55.03125 13.1875 47.40625 \nQ 13.1875 40.578125 17.3125 36.296875 \nQ 21.4375 32.03125 27.484375 32.03125 \nQ 33.59375 32.03125 37.515625 36.296875 \nQ 41.453125 40.578125 41.453125 48.140625 \nz\n\" id=\"ArialMT-57\"/>\n      <path d=\"M 5.8125 54.390625 \nQ 5.8125 62.0625 9.671875 67.421875 \nQ 13.53125 72.796875 20.84375 72.796875 \nQ 27.59375 72.796875 32 67.984375 \nQ 36.421875 63.1875 36.421875 53.859375 \nQ 36.421875 44.78125 31.953125 39.875 \nQ 27.484375 34.96875 20.953125 34.96875 \nQ 14.453125 34.96875 10.125 39.796875 \nQ 5.8125 44.625 5.8125 54.390625 \nz\nM 21.09375 66.75 \nQ 17.828125 66.75 15.65625 63.90625 \nQ 13.484375 61.078125 13.484375 53.515625 \nQ 13.484375 46.625 15.671875 43.8125 \nQ 17.875 41.015625 21.09375 41.015625 \nQ 24.421875 41.015625 26.59375 43.84375 \nQ 28.765625 46.6875 28.765625 54.203125 \nQ 28.765625 61.140625 26.5625 63.9375 \nQ 24.359375 66.75 21.09375 66.75 \nz\nM 21.140625 -2.640625 \nL 60.296875 72.796875 \nL 67.4375 72.796875 \nL 28.421875 -2.640625 \nz\nM 52.09375 16.796875 \nQ 52.09375 24.515625 55.953125 29.859375 \nQ 59.8125 35.203125 67.1875 35.203125 \nQ 73.921875 35.203125 78.34375 30.390625 \nQ 82.765625 25.59375 82.765625 16.265625 \nQ 82.765625 7.171875 78.296875 2.265625 \nQ 73.828125 -2.640625 67.234375 -2.640625 \nQ 60.75 -2.640625 56.421875 2.21875 \nQ 52.09375 7.078125 52.09375 16.796875 \nz\nM 67.4375 29.15625 \nQ 64.109375 29.15625 61.9375 26.3125 \nQ 59.765625 23.484375 59.765625 15.921875 \nQ 59.765625 9.078125 61.953125 6.25 \nQ 64.15625 3.421875 67.390625 3.421875 \nQ 70.75 3.421875 72.921875 6.25 \nQ 75.09375 9.078125 75.09375 16.609375 \nQ 75.09375 23.53125 72.890625 26.34375 \nQ 70.703125 29.15625 67.4375 29.15625 \nz\n\" id=\"ArialMT-37\"/>\n     </defs>\n     <use xlink:href=\"#ArialMT-55\"/>\n     <use x=\"55.615234\" xlink:href=\"#ArialMT-55\"/>\n     <use x=\"111.230469\" xlink:href=\"#ArialMT-46\"/>\n     <use x=\"139.013672\" xlink:href=\"#ArialMT-57\"/>\n     <use x=\"194.628906\" xlink:href=\"#ArialMT-37\"/>\n    </g>\n   </g>\n   <g id=\"text_15\">\n    <!-- 22.1% -->\n    <g style=\"fill:#262626;\" transform=\"translate(378.535188 237.626875)scale(0.16 -0.16)\">\n     <use xlink:href=\"#ArialMT-50\"/>\n     <use x=\"55.615234\" xlink:href=\"#ArialMT-50\"/>\n     <use x=\"111.230469\" xlink:href=\"#ArialMT-46\"/>\n     <use x=\"139.013672\" xlink:href=\"#ArialMT-49\"/>\n     <use x=\"194.628906\" xlink:href=\"#ArialMT-37\"/>\n    </g>\n   </g>\n   <g id=\"text_16\">\n    <!-- Distribution of Target Variable -->\n    <g style=\"fill:#262626;\" transform=\"translate(175.675937 18.8475)scale(0.16 -0.16)\">\n     <defs>\n      <path d=\"M 7.71875 0 \nL 7.71875 71.578125 \nL 32.375 71.578125 \nQ 40.71875 71.578125 45.125 70.5625 \nQ 51.265625 69.140625 55.609375 65.4375 \nQ 61.28125 60.640625 64.078125 53.1875 \nQ 66.890625 45.75 66.890625 36.1875 \nQ 66.890625 28.03125 64.984375 21.734375 \nQ 63.09375 15.4375 60.109375 11.296875 \nQ 57.125 7.171875 53.578125 4.796875 \nQ 50.046875 2.4375 45.046875 1.21875 \nQ 40.046875 0 33.546875 0 \nz\nM 17.1875 8.453125 \nL 32.46875 8.453125 \nQ 39.546875 8.453125 43.578125 9.765625 \nQ 47.609375 11.078125 50 13.484375 \nQ 53.375 16.84375 55.25 22.53125 \nQ 57.125 28.21875 57.125 36.328125 \nQ 57.125 47.5625 53.4375 53.59375 \nQ 49.75 59.625 44.484375 61.671875 \nQ 40.671875 63.140625 32.234375 63.140625 \nL 17.1875 63.140625 \nz\n\" id=\"ArialMT-68\"/>\n      <path d=\"M 6.640625 61.46875 \nL 6.640625 71.578125 \nL 15.4375 71.578125 \nL 15.4375 61.46875 \nz\nM 6.640625 0 \nL 6.640625 51.859375 \nL 15.4375 51.859375 \nL 15.4375 0 \nz\n\" id=\"ArialMT-105\"/>\n      <path d=\"M 3.078125 15.484375 \nL 11.765625 16.84375 \nQ 12.5 11.625 15.84375 8.84375 \nQ 19.1875 6.0625 25.203125 6.0625 \nQ 31.25 6.0625 34.171875 8.515625 \nQ 37.109375 10.984375 37.109375 14.3125 \nQ 37.109375 17.28125 34.515625 19 \nQ 32.71875 20.171875 25.53125 21.96875 \nQ 15.875 24.421875 12.140625 26.203125 \nQ 8.40625 27.984375 6.46875 31.125 \nQ 4.546875 34.28125 4.546875 38.09375 \nQ 4.546875 41.546875 6.125 44.5 \nQ 7.71875 47.46875 10.453125 49.421875 \nQ 12.5 50.921875 16.03125 51.96875 \nQ 19.578125 53.03125 23.640625 53.03125 \nQ 29.734375 53.03125 34.34375 51.265625 \nQ 38.96875 49.515625 41.15625 46.5 \nQ 43.359375 43.5 44.1875 38.484375 \nL 35.59375 37.3125 \nQ 35.015625 41.3125 32.203125 43.546875 \nQ 29.390625 45.796875 24.265625 45.796875 \nQ 18.21875 45.796875 15.625 43.796875 \nQ 13.03125 41.796875 13.03125 39.109375 \nQ 13.03125 37.40625 14.109375 36.03125 \nQ 15.1875 34.625 17.484375 33.6875 \nQ 18.796875 33.203125 25.25 31.453125 \nQ 34.578125 28.953125 38.25 27.359375 \nQ 41.9375 25.78125 44.03125 22.75 \nQ 46.140625 19.734375 46.140625 15.234375 \nQ 46.140625 10.84375 43.578125 6.953125 \nQ 41.015625 3.078125 36.171875 0.953125 \nQ 31.34375 -1.171875 25.25 -1.171875 \nQ 15.140625 -1.171875 9.84375 3.03125 \nQ 4.546875 7.234375 3.078125 15.484375 \nz\n\" id=\"ArialMT-115\"/>\n      <path d=\"M 6.5 0 \nL 6.5 51.859375 \nL 14.40625 51.859375 \nL 14.40625 44 \nQ 17.4375 49.515625 20 51.265625 \nQ 22.5625 53.03125 25.640625 53.03125 \nQ 30.078125 53.03125 34.671875 50.203125 \nL 31.640625 42.046875 \nQ 28.421875 43.953125 25.203125 43.953125 \nQ 22.3125 43.953125 20.015625 42.21875 \nQ 17.71875 40.484375 16.75 37.40625 \nQ 15.28125 32.71875 15.28125 27.15625 \nL 15.28125 0 \nz\n\" id=\"ArialMT-114\"/>\n      <path d=\"M 14.703125 0 \nL 6.546875 0 \nL 6.546875 71.578125 \nL 15.328125 71.578125 \nL 15.328125 46.046875 \nQ 20.90625 53.03125 29.546875 53.03125 \nQ 34.328125 53.03125 38.59375 51.09375 \nQ 42.875 49.171875 45.625 45.671875 \nQ 48.390625 42.1875 49.953125 37.25 \nQ 51.515625 32.328125 51.515625 26.703125 \nQ 51.515625 13.375 44.921875 6.09375 \nQ 38.328125 -1.171875 29.109375 -1.171875 \nQ 19.921875 -1.171875 14.703125 6.5 \nz\nM 14.59375 26.3125 \nQ 14.59375 17 17.140625 12.84375 \nQ 21.296875 6.0625 28.375 6.0625 \nQ 34.125 6.0625 38.328125 11.0625 \nQ 42.53125 16.0625 42.53125 25.984375 \nQ 42.53125 36.140625 38.5 40.96875 \nQ 34.46875 45.796875 28.765625 45.796875 \nQ 23 45.796875 18.796875 40.796875 \nQ 14.59375 35.796875 14.59375 26.3125 \nz\n\" id=\"ArialMT-98\"/>\n      <path id=\"ArialMT-32\"/>\n      <path d=\"M 25.921875 0 \nL 25.921875 63.140625 \nL 2.34375 63.140625 \nL 2.34375 71.578125 \nL 59.078125 71.578125 \nL 59.078125 63.140625 \nL 35.40625 63.140625 \nL 35.40625 0 \nz\n\" id=\"ArialMT-84\"/>\n      <path d=\"M 4.984375 -4.296875 \nL 13.53125 -5.5625 \nQ 14.0625 -9.515625 16.5 -11.328125 \nQ 19.78125 -13.765625 25.4375 -13.765625 \nQ 31.546875 -13.765625 34.859375 -11.328125 \nQ 38.1875 -8.890625 39.359375 -4.5 \nQ 40.046875 -1.8125 39.984375 6.78125 \nQ 34.234375 0 25.640625 0 \nQ 14.9375 0 9.078125 7.71875 \nQ 3.21875 15.4375 3.21875 26.21875 \nQ 3.21875 33.640625 5.90625 39.90625 \nQ 8.59375 46.1875 13.6875 49.609375 \nQ 18.796875 53.03125 25.6875 53.03125 \nQ 34.859375 53.03125 40.828125 45.609375 \nL 40.828125 51.859375 \nL 48.921875 51.859375 \nL 48.921875 7.03125 \nQ 48.921875 -5.078125 46.453125 -10.125 \nQ 44 -15.1875 38.640625 -18.109375 \nQ 33.296875 -21.046875 25.484375 -21.046875 \nQ 16.21875 -21.046875 10.5 -16.875 \nQ 4.78125 -12.703125 4.984375 -4.296875 \nz\nM 12.25 26.859375 \nQ 12.25 16.65625 16.296875 11.96875 \nQ 20.359375 7.28125 26.46875 7.28125 \nQ 32.515625 7.28125 36.609375 11.9375 \nQ 40.71875 16.609375 40.71875 26.5625 \nQ 40.71875 36.078125 36.5 40.90625 \nQ 32.28125 45.75 26.3125 45.75 \nQ 20.453125 45.75 16.34375 40.984375 \nQ 12.25 36.234375 12.25 26.859375 \nz\n\" id=\"ArialMT-103\"/>\n      <path d=\"M 28.171875 0 \nL 0.4375 71.578125 \nL 10.6875 71.578125 \nL 29.296875 19.578125 \nQ 31.546875 13.328125 33.0625 7.859375 \nQ 34.71875 13.71875 36.921875 19.578125 \nL 56.25 71.578125 \nL 65.921875 71.578125 \nL 37.890625 0 \nz\n\" id=\"ArialMT-86\"/>\n     </defs>\n     <use xlink:href=\"#ArialMT-68\"/>\n     <use x=\"72.216797\" xlink:href=\"#ArialMT-105\"/>\n     <use x=\"94.433594\" xlink:href=\"#ArialMT-115\"/>\n     <use x=\"144.433594\" xlink:href=\"#ArialMT-116\"/>\n     <use x=\"172.216797\" xlink:href=\"#ArialMT-114\"/>\n     <use x=\"205.517578\" xlink:href=\"#ArialMT-105\"/>\n     <use x=\"227.734375\" xlink:href=\"#ArialMT-98\"/>\n     <use x=\"283.349609\" xlink:href=\"#ArialMT-117\"/>\n     <use x=\"338.964844\" xlink:href=\"#ArialMT-116\"/>\n     <use x=\"366.748047\" xlink:href=\"#ArialMT-105\"/>\n     <use x=\"388.964844\" xlink:href=\"#ArialMT-111\"/>\n     <use x=\"444.580078\" xlink:href=\"#ArialMT-110\"/>\n     <use x=\"500.195312\" xlink:href=\"#ArialMT-32\"/>\n     <use x=\"527.978516\" xlink:href=\"#ArialMT-111\"/>\n     <use x=\"583.59375\" xlink:href=\"#ArialMT-102\"/>\n     <use x=\"611.376953\" xlink:href=\"#ArialMT-32\"/>\n     <use x=\"637.410156\" xlink:href=\"#ArialMT-84\"/>\n     <use x=\"687.369141\" xlink:href=\"#ArialMT-97\"/>\n     <use x=\"742.984375\" xlink:href=\"#ArialMT-114\"/>\n     <use x=\"776.285156\" xlink:href=\"#ArialMT-103\"/>\n     <use x=\"831.900391\" xlink:href=\"#ArialMT-101\"/>\n     <use x=\"887.515625\" xlink:href=\"#ArialMT-116\"/>\n     <use x=\"915.298828\" xlink:href=\"#ArialMT-32\"/>\n     <use x=\"943.082031\" xlink:href=\"#ArialMT-86\"/>\n     <use x=\"1002.40625\" xlink:href=\"#ArialMT-97\"/>\n     <use x=\"1058.021484\" xlink:href=\"#ArialMT-114\"/>\n     <use x=\"1091.322266\" xlink:href=\"#ArialMT-105\"/>\n     <use x=\"1113.539062\" xlink:href=\"#ArialMT-97\"/>\n     <use x=\"1169.154297\" xlink:href=\"#ArialMT-98\"/>\n     <use x=\"1224.769531\" xlink:href=\"#ArialMT-108\"/>\n     <use x=\"1246.986328\" xlink:href=\"#ArialMT-101\"/>\n    </g>\n   </g>\n  </g>\n </g>\n <defs>\n  <clipPath id=\"p92ec6e5a84\">\n   <rect height=\"291.6\" width=\"438.48\" x=\"60.637188\" y=\"24.8475\"/>\n  </clipPath>\n </defs>\n</svg>\n",
      "image/png": "[encoded data removed]"
     },
     "metadata": {}
    }
   ],
   "source": [
    "# create visualization for target variable distribution\n",
    "def barplot(df, xlabel, ylabel, title):\n",
    "    plt.figure(figsize = (7,5))\n",
    "    ax = sns.countplot(x = xlabel, data = df)\n",
    "    plt.title(title, fontsize = 16)\n",
    "    plt.xlabel(xlabel, fontsize = 16)\n",
    "    plt.ylabel(ylabel, fontsize = 16)\n",
    "    total = len(df.default)\n",
    "    for p in ax.patches:\n",
    "        percentage = '{:.1f}%'.format(100 * p.get_height()/total)\n",
    "        x = p.get_x() + p.get_width() / 2 - 0.05\n",
    "        y = p.get_y() + p.get_height()\n",
    "        ax.annotate(percentage, (x, y), size = 16)\n",
    "    plt.show()\n",
    "\n",
    "barplot(train, 'default', 'count', 'Distribution of Target Variable')"
   ]
  },
  {
   "source": [
    "# Standardize Datasets"
   ],
   "cell_type": "markdown",
   "metadata": {}
  },
  {
   "cell_type": "code",
   "execution_count": 24,
   "metadata": {},
   "outputs": [],
   "source": [
    "scaler = StandardScaler()\n",
    "scaler.fit(X_train)\n",
    "X_train_ss = scaler.transform(X_train)\n",
    "X_valid_ss = scaler.transform(X_valid)"
   ]
  },
  {
   "source": [
    "# Using Best Model and "
   ],
   "cell_type": "markdown",
   "metadata": {}
  },
  {
   "cell_type": "code",
   "execution_count": 26,
   "metadata": {},
   "outputs": [
    {
     "output_type": "stream",
     "name": "stdout",
     "text": [
      "Accuracy Score:  0.8208333333333333\nF1 Score:  0.4680851063829787\nROC-AUC Score:  0.7809014124238243\nRecall Score:  0.3602437166793602\nPrecision Score:  0.6680790960451978\nPR-AUC Score:  0.5454831454113677\n"
     ]
    }
   ],
   "source": [
    "gbc = GradientBoostingClassifier(random_state=42).fit(X_train_ss, y_train)\n",
    "y_pred = gbc.predict(X_valid_ss)\n",
    "get_metric(X_valid_ss, y_valid, y_pred, gbc)"
   ]
  },
  {
   "source": [
    "# Running GridSearchCV for Hyperparameters"
   ],
   "cell_type": "markdown",
   "metadata": {}
  },
  {
   "cell_type": "code",
   "execution_count": 8,
   "metadata": {},
   "outputs": [
    {
     "output_type": "stream",
     "name": "stdout",
     "text": [
      "Fitting 5 folds for each of 7 candidates, totalling 35 fits\n",
      "[Parallel(n_jobs=4)]: Using backend LokyBackend with 4 concurrent workers.\n",
      "[Parallel(n_jobs=4)]: Done  35 out of  35 | elapsed:   30.5s finished\n",
      "Best: 0.780421 using {'n_estimators': 70}\n"
     ]
    }
   ],
   "source": [
    "params = {'n_estimators': range(20, 81, 10)}\n",
    "gs_gbc = GridSearchCV(estimator = GradientBoostingClassifier(random_state=42),\n",
    "                      param_grid = params, \n",
    "                      n_jobs = 4,\n",
    "                      iid = False, \n",
    "                      cv = 5, \n",
    "                      scoring = 'roc_auc',\n",
    "                      verbose = 1).fit(X_train_ss, y_train)\n",
    "print(\"Best: %f using %s\" % (gs_gbc.best_score_, gs_gbc.best_params_))"
   ]
  },
  {
   "cell_type": "code",
   "execution_count": 9,
   "metadata": {},
   "outputs": [
    {
     "output_type": "stream",
     "name": "stdout",
     "text": [
      "Accuracy Score:  0.8213333333333334\nF1 Score:  0.46719681908548716\nROC-AUC Score:  0.7803374731131514\nRecall Score:  0.357958872810358\nPrecision Score:  0.6723891273247496\nPR-AUC Score:  0.5442969677371212\n"
     ]
    }
   ],
   "source": [
    "y_pred_gsgbc = gs_gbc.predict(X_valid_ss)\n",
    "get_metric(X_valid_ss, y_valid, y_pred_gsgbc, gs_gbc)"
   ]
  },
  {
   "cell_type": "code",
   "execution_count": 10,
   "metadata": {},
   "outputs": [
    {
     "output_type": "stream",
     "name": "stdout",
     "text": [
      "Fitting 5 folds for each of 30 candidates, totalling 150 fits\n",
      "[Parallel(n_jobs=4)]: Using backend LokyBackend with 4 concurrent workers.\n",
      "[Parallel(n_jobs=4)]: Done  42 tasks      | elapsed:  1.5min\n",
      "[Parallel(n_jobs=4)]: Done 150 out of 150 | elapsed:  9.1min finished\n",
      "Best: 0.781568 using {'max_depth': 5, 'min_samples_split': 1000}\n"
     ]
    }
   ],
   "source": [
    "params_2 = {'max_depth': range(5, 16, 2), 'min_samples_split': range(200, 1001, 200)}\n",
    "gs_gbc_2 = GridSearchCV(estimator = GradientBoostingClassifier(random_state=42, n_estimators=70),\n",
    "                        param_grid = params_2, \n",
    "                        n_jobs = 4,\n",
    "                        iid = False, \n",
    "                        cv = 5, \n",
    "                        scoring = 'roc_auc',\n",
    "                        verbose = 1).fit(X_train_ss, y_train)\n",
    "print(\"Best: %f using %s\" % (gs_gbc_2.best_score_, gs_gbc_2.best_params_))"
   ]
  },
  {
   "cell_type": "code",
   "execution_count": 11,
   "metadata": {},
   "outputs": [
    {
     "output_type": "stream",
     "name": "stdout",
     "text": [
      "Accuracy Score:  0.8201666666666667\nF1 Score:  0.46504709965294994\nROC-AUC Score:  0.7815831606958106\nRecall Score:  0.3571972581873572\nPrecision Score:  0.6661931818181818\nPR-AUC Score:  0.5468047052839891\n"
     ]
    }
   ],
   "source": [
    "y_pred_gsgbc_2 = gs_gbc_2.predict(X_valid_ss)\n",
    "get_metric(X_valid_ss, y_valid, y_pred_gsgbc_2, gs_gbc_2)"
   ]
  },
  {
   "cell_type": "code",
   "execution_count": 12,
   "metadata": {},
   "outputs": [
    {
     "output_type": "stream",
     "name": "stdout",
     "text": [
      "Fitting 5 folds for each of 42 candidates, totalling 210 fits\n",
      "[Parallel(n_jobs=4)]: Using backend LokyBackend with 4 concurrent workers.\n",
      "[Parallel(n_jobs=4)]: Done  42 tasks      | elapsed:  1.5min\n",
      "[Parallel(n_jobs=4)]: Done 192 tasks      | elapsed:  6.6min\n",
      "[Parallel(n_jobs=4)]: Done 210 out of 210 | elapsed:  7.3min finished\n",
      "Best: 0.783317 using {'min_samples_leaf': 30, 'min_samples_split': 1800}\n"
     ]
    }
   ],
   "source": [
    "params_3 = {'min_samples_split': range(1000, 2001, 200), 'min_samples_leaf': range(10, 71, 10)}\n",
    "gs_gbc_3 = GridSearchCV(estimator = GradientBoostingClassifier(random_state=42, n_estimators=70, max_depth=5),\n",
    "                        param_grid = params_3, \n",
    "                        n_jobs = 4,\n",
    "                        iid = False, \n",
    "                        cv = 5, \n",
    "                        scoring = 'roc_auc',\n",
    "                        verbose = 1).fit(X_train_ss, y_train)\n",
    "print(\"Best: %f using %s\" % (gs_gbc_3.best_score_, gs_gbc_3.best_params_))"
   ]
  },
  {
   "cell_type": "code",
   "execution_count": 13,
   "metadata": {},
   "outputs": [
    {
     "output_type": "stream",
     "name": "stdout",
     "text": [
      "Accuracy Score:  0.8205\nF1 Score:  0.46603867129400095\nROC-AUC Score:  0.7830263610956786\nRecall Score:  0.357958872810358\nPrecision Score:  0.6676136363636364\nPR-AUC Score:  0.5485997794238602\n"
     ]
    }
   ],
   "source": [
    "y_pred_gsgbc_3 = gs_gbc_3.predict(X_valid_ss)\n",
    "get_metric(X_valid_ss, y_valid, y_pred_gsgbc_3, gs_gbc_3)"
   ]
  },
  {
   "cell_type": "code",
   "execution_count": 14,
   "metadata": {},
   "outputs": [
    {
     "output_type": "stream",
     "name": "stdout",
     "text": [
      "Fitting 5 folds for each of 7 candidates, totalling 35 fits\n",
      "[Parallel(n_jobs=4)]: Using backend LokyBackend with 4 concurrent workers.\n",
      "[Parallel(n_jobs=4)]: Done  35 out of  35 | elapsed:   26.1s finished\n",
      "Best: 0.781619 using {'max_features': 9}\n"
     ]
    }
   ],
   "source": [
    "params_4 = {'max_features': range(7, 20, 2)}\n",
    "gs_gbc_4 = GridSearchCV(estimator = GradientBoostingClassifier(random_state=42, n_estimators=70, min_samples_split=1800, min_samples_leaf=30),\n",
    "                        param_grid = params_4, \n",
    "                        n_jobs = 4,\n",
    "                        iid = False, \n",
    "                        cv = 5, \n",
    "                        scoring = 'roc_auc',\n",
    "                        verbose = 1).fit(X_train_ss, y_train)\n",
    "print(\"Best: %f using %s\" % (gs_gbc_4.best_score_, gs_gbc_4.best_params_))"
   ]
  },
  {
   "cell_type": "code",
   "execution_count": 15,
   "metadata": {},
   "outputs": [
    {
     "output_type": "stream",
     "name": "stdout",
     "text": [
      "Accuracy Score:  0.8201666666666667\nF1 Score:  0.46504709965294994\nROC-AUC Score:  0.7804782751338107\nRecall Score:  0.3571972581873572\nPrecision Score:  0.6661931818181818\nPR-AUC Score:  0.5437970926408667\n"
     ]
    }
   ],
   "source": [
    "y_pred_gsgbc_4 = gs_gbc_4.predict(X_valid_ss)\n",
    "get_metric(X_valid_ss, y_valid, y_pred_gsgbc_4, gs_gbc_4)"
   ]
  },
  {
   "cell_type": "code",
   "execution_count": 16,
   "metadata": {},
   "outputs": [
    {
     "output_type": "stream",
     "name": "stdout",
     "text": [
      "Fitting 5 folds for each of 7 candidates, totalling 35 fits\n",
      "[Parallel(n_jobs=4)]: Using backend LokyBackend with 4 concurrent workers.\n",
      "[Parallel(n_jobs=4)]: Done  35 out of  35 | elapsed:   15.4s finished\n",
      "Best: 0.781776 using {'subsample': 0.7}\n"
     ]
    }
   ],
   "source": [
    "params_5 = {'subsample': [0.6, 0.65, 0.7, 0.75, 0.8, 0.85, 0.9]}\n",
    "gs_gbc_5 = GridSearchCV(estimator = GradientBoostingClassifier(random_state=42, n_estimators=70, min_samples_split=1800, \n",
    "                                                               min_samples_leaf=30, max_features=9),\n",
    "                        param_grid = params_5, \n",
    "                        n_jobs = 4,\n",
    "                        iid = False, \n",
    "                        cv = 5, \n",
    "                        scoring = 'roc_auc',\n",
    "                        verbose = 1).fit(X_train_ss, y_train)\n",
    "print(\"Best: %f using %s\" % (gs_gbc_5.best_score_, gs_gbc_5.best_params_))"
   ]
  },
  {
   "cell_type": "code",
   "execution_count": 17,
   "metadata": {},
   "outputs": [
    {
     "output_type": "stream",
     "name": "stdout",
     "text": [
      "Accuracy Score:  0.8195\nF1 Score:  0.4672897196261682\nROC-AUC Score:  0.7789054036289385\nRecall Score:  0.3617669459253618\nPrecision Score:  0.6597222222222222\nPR-AUC Score:  0.5372269413921732\n"
     ]
    }
   ],
   "source": [
    "y_pred_gsgbc_5 = gs_gbc_5.predict(X_valid_ss)\n",
    "get_metric(X_valid_ss, y_valid, y_pred_gsgbc_5, gs_gbc_5)"
   ]
  },
  {
   "cell_type": "code",
   "execution_count": 18,
   "metadata": {},
   "outputs": [
    {
     "output_type": "stream",
     "name": "stdout",
     "text": [
      "Accuracy Score:  0.8191666666666667\nF1 Score:  0.4678764100049043\nROC-AUC Score:  0.7805194676464905\nRecall Score:  0.3632901751713633\nPrecision Score:  0.6570247933884298\nPR-AUC Score:  0.5413461845711439\n"
     ]
    }
   ],
   "source": [
    "gbc_tuned = GradientBoostingClassifier(random_state=42, n_estimators=140, min_samples_split=1800, \n",
    "                                       min_samples_leaf=30, max_features=9, subsample=0.7, learning_rate=0.05).fit(X_train_ss, y_train)\n",
    "y_pred_gbc_tuned = gbc_tuned.predict(X_valid_ss)\n",
    "get_metric(X_valid_ss, y_valid, y_pred_gbc_tuned, gbc_tuned)"
   ]
  },
  {
   "cell_type": "code",
   "execution_count": 19,
   "metadata": {},
   "outputs": [
    {
     "output_type": "stream",
     "name": "stdout",
     "text": [
      "Accuracy Score:  0.82\nF1 Score:  0.46745562130177515\nROC-AUC Score:  0.7811059937787119\nRecall Score:  0.361005331302361\nPrecision Score:  0.6629370629370629\nPR-AUC Score:  0.5410529462314562\n"
     ]
    }
   ],
   "source": [
    "gbc_tuned_2 = GradientBoostingClassifier(random_state=42, n_estimators=800, min_samples_split=1800, \n",
    "                                       min_samples_leaf=30, max_features=9, subsample=0.7, learning_rate=0.01).fit(X_train_ss, y_train)\n",
    "y_pred_gbc_tuned_2 = gbc_tuned_2.predict(X_valid_ss)\n",
    "get_metric(X_valid_ss, y_valid, y_pred_gbc_tuned_2, gbc_tuned_2)"
   ]
  },
  {
   "cell_type": "code",
   "execution_count": 20,
   "metadata": {},
   "outputs": [
    {
     "output_type": "stream",
     "name": "stdout",
     "text": [
      "Accuracy Score:  0.8201666666666667\nF1 Score:  0.46925725528775203\nROC-AUC Score:  0.781126386916153\nRecall Score:  0.3632901751713633\nPrecision Score:  0.6625\nPR-AUC Score:  0.5417112302681786\n"
     ]
    }
   ],
   "source": [
    "gbc_tuned_3 = GradientBoostingClassifier(random_state=42, n_estimators=1600, min_samples_split=1800, \n",
    "                                       min_samples_leaf=30, max_features=9, subsample=0.7, learning_rate=0.005).fit(X_train_ss, y_train)\n",
    "y_pred_gbc_tuned_3 = gbc_tuned_3.predict(X_valid_ss)\n",
    "get_metric(X_valid_ss, y_valid, y_pred_gbc_tuned_3, gbc_tuned_3)"
   ]
  },
  {
   "cell_type": "code",
   "execution_count": 21,
   "metadata": {},
   "outputs": [
    {
     "output_type": "stream",
     "name": "stdout",
     "text": [
      "Accuracy Score:  0.8201666666666667\nF1 Score:  0.46925725528775203\nROC-AUC Score:  0.781126386916153\nRecall Score:  0.3632901751713633\nPrecision Score:  0.6625\nPR-AUC Score:  0.5417112302681786\n"
     ]
    }
   ],
   "source": [
    "gbc_tuned_4 = GradientBoostingClassifier(random_state=42, n_estimators=1600, min_samples_split=1800, \n",
    "                                       min_samples_leaf=30, max_features=9, subsample=0.7, learning_rate=0.005).fit(X_train_ss, y_train)\n",
    "y_pred_gbc_tuned_4 = gbc_tuned_4.predict(X_valid_ss)\n",
    "get_metric(X_valid_ss, y_valid, y_pred_gbc_tuned_4, gbc_tuned_4)"
   ]
  },
  {
   "source": [
    "# Dummy Classifier"
   ],
   "cell_type": "markdown",
   "metadata": {}
  },
  {
   "cell_type": "code",
   "execution_count": 21,
   "metadata": {},
   "outputs": [
    {
     "output_type": "stream",
     "name": "stdout",
     "text": [
      "Baseline:  Counter({0: 16344, 1: 4656})\n"
     ]
    }
   ],
   "source": [
    "# separate minority and majority classes\n",
    "majority = train[train.default==0]\n",
    "minority = train[train.default==1]\n",
    "\n",
    "#baseline counts\n",
    "counter = Counter(y_train)\n",
    "print(\"Baseline: \", counter)"
   ]
  },
  {
   "cell_type": "code",
   "execution_count": 22,
   "metadata": {},
   "outputs": [
    {
     "output_type": "stream",
     "name": "stdout",
     "text": [
      "Accuracy Score:  0.7811666666666667\nF1 Score:  0.0\nROC-AUC Score:  0.5\nRecall Score:  0.0\nPrecision Score:  0.0\nPR-AUC Score:  0.21883333333333332\n"
     ]
    }
   ],
   "source": [
    "dc = DummyClassifier(strategy='most_frequent').fit(X_train_ss, y_train)\n",
    "y_pred_dc = dc.predict(X_valid_ss)\n",
    "get_metric(X_valid_ss, y_valid, y_pred_dc, dc)"
   ]
  },
  {
   "source": [
    "# Ensemble Methods\n",
    "\n",
    "- Bagging and boosting algorithms\n",
    "- Easy Ensemble Classifier: bag of balanced boosted learners known as EasyEnsemble\n",
    "- classifier is ensemble of Adaboost learners trained on different balanced bootstrap samples\n",
    "- balancing achieved by random under-sampling"
   ],
   "cell_type": "markdown",
   "metadata": {}
  },
  {
   "source": [
    "## Bagging Classifier\n",
    "\n",
    "Instead of using a single tree, we will check if an ensemble of decsion tree can actually alleviate the issue induced by the class imbalancing. First, we will use a bagging classifier and its counter part which internally uses a random under-sampling to balanced each boostrap sample.\n",
    "\n",
    "Balancing each bootstrap sample allows to increase significantly the balanced accuracy and the geometric mean."
   ],
   "cell_type": "markdown",
   "metadata": {}
  },
  {
   "cell_type": "code",
   "execution_count": 55,
   "metadata": {},
   "outputs": [
    {
     "output_type": "stream",
     "name": "stdout",
     "text": [
      "Accuracy Score:  0.8118333333333333\nF1 Score:  0.457993278924628\nROC-AUC Score:  0.7488929613776726\nRecall Score:  0.3632901751713633\nPrecision Score:  0.6194805194805195\nPR-AUC Score:  0.5017609097848447\n"
     ]
    }
   ],
   "source": [
    "bc = BaggingClassifier(n_estimators=50, random_state=42).fit(X_train_ss, y_train)\n",
    "y_pred_bc = bc.predict(X_valid_ss)\n",
    "get_metric(X_valid_ss, y_valid, y_pred_bc, bc)"
   ]
  },
  {
   "source": [
    "## Balanced Bagging Classifier\n",
    "\n",
    "A Bagging classifier with additional balancing.\n",
    "\n",
    "This implementation of Bagging is similar to the scikit-learn implementation. It includes an additional step to balance the training set at fit time using a given sampler.\n",
    "\n",
    "This classifier can serves as a basis to implement various methods such as Exactly Balanced Bagging, Roughly Balanced Bagging, Over-Bagging, or SMOTE-Bagging."
   ],
   "cell_type": "markdown",
   "metadata": {}
  },
  {
   "cell_type": "code",
   "execution_count": 56,
   "metadata": {},
   "outputs": [
    {
     "output_type": "stream",
     "name": "stdout",
     "text": [
      "Accuracy Score:  0.783\nF1 Score:  0.5244704163623083\nROC-AUC Score:  0.7652801066487965\nRecall Score:  0.5468392993145469\nPrecision Score:  0.503859649122807\nPR-AUC Score:  0.5141101768863308\n"
     ]
    }
   ],
   "source": [
    "bbc = BalancedBaggingClassifier(n_estimators=50, random_state=42).fit(X_train_ss, y_train)\n",
    "y_pred_bbc = bbc.predict(X_valid_ss)\n",
    "get_metric(X_valid_ss, y_valid, y_pred_bbc, bbc)"
   ]
  },
  {
   "source": [
    "## Balanced Bagging Classifier with Gradient Boosting Classifier"
   ],
   "cell_type": "markdown",
   "metadata": {}
  },
  {
   "cell_type": "code",
   "execution_count": 57,
   "metadata": {},
   "outputs": [
    {
     "output_type": "stream",
     "name": "stdout",
     "text": [
      "Accuracy Score:  0.7618333333333334\nF1 Score:  0.5331590983338778\nROC-AUC Score:  0.7816608333627179\nRecall Score:  0.6214775323686215\nPrecision Score:  0.4668192219679634\nPR-AUC Score:  0.541759943308943\n"
     ]
    }
   ],
   "source": [
    "bbc3 = BalancedBaggingClassifier(\n",
    "        base_estimator=HistGradientBoostingClassifier(random_state=42),\n",
    "        n_estimators=10,\n",
    "        random_state=42,\n",
    "        n_jobs=2).fit(X_train_ss, y_train)\n",
    "y_pred_bbc3 = bbc3.predict(X_valid_ss)\n",
    "get_metric(X_valid_ss, y_valid, y_pred_bbc3, bbc3)"
   ]
  },
  {
   "source": [
    "## Balanced Random Forest Classifier\n",
    "\n",
    "Random forest is another popular ensemble method and it is usually outperforming bagging. Here, we used a vanilla random forest and its balanced counterpart in which each bootstrap sample is balanced.\n",
    "\n",
    "Similarly to the previous experiment, the balanced classifier outperform the classifier which learn from imbalanced bootstrap samples. In addition, random forest outsperforms the bagging classifier."
   ],
   "cell_type": "markdown",
   "metadata": {}
  },
  {
   "cell_type": "code",
   "execution_count": 58,
   "metadata": {},
   "outputs": [
    {
     "output_type": "stream",
     "name": "stdout",
     "text": [
      "Accuracy Score:  0.7426666666666667\nF1 Score:  0.5199004975124378\nROC-AUC Score:  0.7718711524202592\nRecall Score:  0.6367098248286367\nPrecision Score:  0.4393063583815029\nPR-AUC Score:  0.5237137210202338\n"
     ]
    }
   ],
   "source": [
    "brf = BalancedRandomForestClassifier(n_estimators=100, random_state=42).fit(X_train_ss, y_train)\n",
    "y_pred_brf = brf.predict(X_valid_ss)\n",
    "get_metric(X_valid_ss, y_valid, y_pred_brf, brf)"
   ]
  },
  {
   "source": [
    "## RUSBoostClassifier\n",
    "\n",
    "Random under-sampling integrated in the learning of AdaBoost.\n",
    "\n",
    "During learning, the problem of class balancing is alleviated by random under-sampling the sample at each iteration of the boosting algorithm"
   ],
   "cell_type": "markdown",
   "metadata": {}
  },
  {
   "cell_type": "code",
   "execution_count": 59,
   "metadata": {},
   "outputs": [
    {
     "output_type": "stream",
     "name": "stdout",
     "text": [
      "Accuracy Score:  0.7511666666666666\nF1 Score:  0.5200900032144005\nROC-AUC Score:  0.7648475446418779\nRecall Score:  0.6161462300076161\nPrecision Score:  0.449944382647386\nPR-AUC Score:  0.5211050914562826\n"
     ]
    }
   ],
   "source": [
    "rbc = RUSBoostClassifier(n_estimators=200, algorithm='SAMME.R', random_state=42).fit(X_train_ss, y_train)\n",
    "y_pred_rbc = rbc.predict(X_valid_ss)\n",
    "get_metric(X_valid_ss, y_valid, y_pred_rbc, rbc)"
   ]
  },
  {
   "source": [
    "## Easy Ensemble Classifier\n",
    "\n",
    "Bag of balanced boosted learners also known as EasyEnsemble.\n",
    "\n",
    "This algorithm is known as EasyEnsemble. The classifier is an ensemble of AdaBoost learners trained on different balanced boostrap samples. The balancing is achieved by random under-sampling."
   ],
   "cell_type": "markdown",
   "metadata": {}
  },
  {
   "cell_type": "code",
   "execution_count": 60,
   "metadata": {},
   "outputs": [
    {
     "output_type": "stream",
     "name": "stdout",
     "text": [
      "Accuracy Score:  0.759\nF1 Score:  0.5271419228253761\nROC-AUC Score:  0.7765765235826728\nRecall Score:  0.6138613861386139\nPrecision Score:  0.46189111747851\nPR-AUC Score:  0.5280535859382768\n"
     ]
    }
   ],
   "source": [
    "eec = EasyEnsembleClassifier(random_state=42).fit(X_train_ss, y_train) \n",
    "y_pred_eec = eec.predict(X_valid_ss)\n",
    "get_metric(X_valid_ss, y_valid, y_pred_eec, eec)"
   ]
  },
  {
   "cell_type": "code",
   "execution_count": 61,
   "metadata": {},
   "outputs": [
    {
     "output_type": "execute_result",
     "data": {
      "text/plain": [
       "                                     Accuracy  F1 Score  ROC-AUC Score  \\\n",
       "BaggingClassifier                    0.811833  0.457993       0.748893   \n",
       "BalancedBaggingClassifier            0.783000  0.524470       0.765280   \n",
       "BBC with GradientBoostingClassifier  0.761833  0.533159       0.781661   \n",
       "BalancedRandomForestClassifier       0.742667  0.519900       0.771871   \n",
       "RUBoostClassifier                    0.751167  0.520090       0.764848   \n",
       "EasyEnsembleClassifier               0.759000  0.527142       0.776577   \n",
       "\n",
       "                                     PR-AUC Score  \n",
       "BaggingClassifier                        0.501761  \n",
       "BalancedBaggingClassifier                0.514110  \n",
       "BBC with GradientBoostingClassifier      0.541760  \n",
       "BalancedRandomForestClassifier           0.523714  \n",
       "RUBoostClassifier                        0.521105  \n",
       "EasyEnsembleClassifier                   0.528054  "
      ],
      "text/html": "<div>\n<style scoped>\n    .dataframe tbody tr th:only-of-type {\n        vertical-align: middle;\n    }\n\n    .dataframe tbody tr th {\n        vertical-align: top;\n    }\n\n    .dataframe thead th {\n        text-align: right;\n    }\n</style>\n<table border=\"1\" class=\"dataframe\">\n  <thead>\n    <tr style=\"text-align: right;\">\n      <th></th>\n      <th>Accuracy</th>\n      <th>F1 Score</th>\n      <th>ROC-AUC Score</th>\n      <th>PR-AUC Score</th>\n    </tr>\n  </thead>\n  <tbody>\n    <tr>\n      <th>BaggingClassifier</th>\n      <td>0.811833</td>\n      <td>0.457993</td>\n      <td>0.748893</td>\n      <td>0.501761</td>\n    </tr>\n    <tr>\n      <th>BalancedBaggingClassifier</th>\n      <td>0.783000</td>\n      <td>0.524470</td>\n      <td>0.765280</td>\n      <td>0.514110</td>\n    </tr>\n    <tr>\n      <th>BBC with GradientBoostingClassifier</th>\n      <td>0.761833</td>\n      <td>0.533159</td>\n      <td>0.781661</td>\n      <td>0.541760</td>\n    </tr>\n    <tr>\n      <th>BalancedRandomForestClassifier</th>\n      <td>0.742667</td>\n      <td>0.519900</td>\n      <td>0.771871</td>\n      <td>0.523714</td>\n    </tr>\n    <tr>\n      <th>RUBoostClassifier</th>\n      <td>0.751167</td>\n      <td>0.520090</td>\n      <td>0.764848</td>\n      <td>0.521105</td>\n    </tr>\n    <tr>\n      <th>EasyEnsembleClassifier</th>\n      <td>0.759000</td>\n      <td>0.527142</td>\n      <td>0.776577</td>\n      <td>0.528054</td>\n    </tr>\n  </tbody>\n</table>\n</div>"
     },
     "metadata": {},
     "execution_count": 61
    }
   ],
   "source": [
    "data = {'Accuracy': [accuracy_score(y_valid, y_pred_bc),\n",
    "                     accuracy_score(y_valid, y_pred_bbc),\n",
    "                     accuracy_score(y_valid, y_pred_bbc3),\n",
    "                     accuracy_score(y_valid, y_pred_brf),\n",
    "                     accuracy_score(y_valid, y_pred_rbc),\n",
    "                     accuracy_score(y_valid, y_pred_eec)],\n",
    "        'F1 Score': [f1_score(y_valid, y_pred_bc),\n",
    "                     f1_score(y_valid, y_pred_bbc),\n",
    "                     f1_score(y_valid, y_pred_bbc3),\n",
    "                     f1_score(y_valid, y_pred_brf),\n",
    "                     f1_score(y_valid, y_pred_rbc),\n",
    "                     f1_score(y_valid, y_pred_eec)],\n",
    "        'ROC-AUC Score': [auc(X_valid_ss, y_valid, bc),\n",
    "                          auc(X_valid_ss, y_valid, bbc),\n",
    "                          auc(X_valid_ss, y_valid, bbc3),\n",
    "                          auc(X_valid_ss, y_valid, brf),\n",
    "                          auc(X_valid_ss, y_valid, rbc),\n",
    "                          auc(X_valid_ss, y_valid, eec)],\n",
    "        'PR-AUC Score': [aps(X_valid_ss, y_valid, bc),\n",
    "                         aps(X_valid_ss, y_valid, bbc),\n",
    "                         aps(X_valid_ss, y_valid, bbc3),\n",
    "                         aps(X_valid_ss, y_valid, brf),\n",
    "                         aps(X_valid_ss, y_valid, rbc),\n",
    "                         aps(X_valid_ss, y_valid, eec)]}\n",
    "\n",
    "scores = pd.DataFrame(data=data, index = ['BaggingClassifier',\n",
    "                                          'BalancedBaggingClassifier',\n",
    "                                          'BBC with GradientBoostingClassifier',\n",
    "                                          'BalancedRandomForestClassifier',\n",
    "                                          'RUBoostClassifier',\n",
    "                                          'EasyEnsembleClassifier'])\n",
    "\n",
    "scores"
   ]
  },
  {
   "source": [
    "# Undersampling Methods\n",
    "\n",
    "- Methods that select samples to keep\n",
    "    - Condensed Nearest Neighbors\n",
    "    - Near Miss\n",
    "- Methods that select samples to delete\n",
    "    - TomekLinks\n",
    "    - Edited Nearest Neighbors\n",
    "- Methods that use combination of both techniques\n",
    "    - Neighborhood Cleaning Rule\n",
    "    - One Sided Selection"
   ],
   "cell_type": "markdown",
   "metadata": {}
  },
  {
   "source": [
    "## TomekLinks\n",
    "\n",
    "- Detects Tomek's links, which exists if two samples from different categories are nearest neighbors\n",
    "- using `sampling_strategy` controls which of the sample will be removed, majority or minority, where `auto` is removing majority class\n",
    "- setting to `all` removes both samples"
   ],
   "cell_type": "markdown",
   "metadata": {}
  },
  {
   "cell_type": "code",
   "execution_count": 41,
   "metadata": {},
   "outputs": [
    {
     "output_type": "stream",
     "name": "stdout",
     "text": [
      "Training Count:  Counter({0: 15100, 1: 4656})\n",
      "Accuracy Score:  0.819\n",
      "F1 Score:  0.4843304843304843\n",
      "ROC-AUC Score:  0.7827721374819203\n",
      "Recall Score:  0.38842345773038844\n",
      "Precision Score:  0.6431273644388399\n",
      "PR-AUC Score:  0.5455259661067252\n"
     ]
    }
   ],
   "source": [
    "tl = TomekLinks()\n",
    "sampling(X_train_ss, y_train, X_valid_ss, y_valid, tl, gbc)"
   ]
  },
  {
   "cell_type": "code",
   "execution_count": 42,
   "metadata": {},
   "outputs": [],
   "source": [
    "X_train_tl, y_train_tl = tl.fit_sample(X_train_ss, y_train)\n",
    "tlm = gbc.fit(X_train_tl, y_train_tl)\n",
    "y_pred_tl = tlm.predict(X_valid_ss)"
   ]
  },
  {
   "source": [
    "## Edited Nearest Neighbours\n",
    "\n",
    "- applies nearest-neighbors algorithm and removes samples which do not agree enough with neighborhood or not in the same class as the neighbors\n",
    "- two selection criteria:  `mode` and `all`, majority vs. all, so that more samples will be excluded with `all`\n",
    "- `RepeatedEditedNearestNeighbours()` repeat algorithm muliple times resulting in more samples removed\n",
    "- `AllKNN()` repeats algorithm but increase the number of nearest neighbors at each iteration"
   ],
   "cell_type": "markdown",
   "metadata": {}
  },
  {
   "cell_type": "code",
   "execution_count": 43,
   "metadata": {},
   "outputs": [
    {
     "output_type": "stream",
     "name": "stdout",
     "text": [
      "Training Count:  Counter({0: 9974, 1: 4656})\n",
      "Accuracy Score:  0.791\n",
      "F1 Score:  0.5399853264856933\n",
      "ROC-AUC Score:  0.780784090947868\n",
      "Recall Score:  0.5605483625285606\n",
      "Precision Score:  0.5208775654635527\n",
      "PR-AUC Score:  0.5374739636281236\n"
     ]
    }
   ],
   "source": [
    "enn = EditedNearestNeighbours()\n",
    "sampling(X_train_ss, y_train, X_valid_ss, y_valid, enn, gbc)"
   ]
  },
  {
   "cell_type": "code",
   "execution_count": 44,
   "metadata": {},
   "outputs": [],
   "source": [
    "X_train_enn, y_train_enn = enn.fit_sample(X_train_ss, y_train)\n",
    "ennm = gbc.fit(X_train_enn, y_train_enn)\n",
    "y_pred_enn = ennm.predict(X_valid_ss)"
   ]
  },
  {
   "source": [
    "## Near Miss"
   ],
   "cell_type": "markdown",
   "metadata": {}
  },
  {
   "cell_type": "code",
   "execution_count": 45,
   "metadata": {},
   "outputs": [
    {
     "output_type": "stream",
     "name": "stdout",
     "text": [
      "Training Count:  Counter({0: 4656, 1: 4656})\n",
      "Accuracy Score:  0.49316666666666664\n",
      "F1 Score:  0.39386087303169226\n",
      "ROC-AUC Score:  0.6087854448572001\n",
      "Recall Score:  0.7524752475247525\n",
      "Precision Score:  0.26673866090712745\n",
      "PR-AUC Score:  0.2642847850921968\n"
     ]
    }
   ],
   "source": [
    "ns = NearMiss(version=1, n_neighbors=3)\n",
    "sampling(X_train_ss, y_train, X_valid_ss, y_valid, ns, gbc)"
   ]
  },
  {
   "cell_type": "code",
   "execution_count": 46,
   "metadata": {},
   "outputs": [],
   "source": [
    "X_train_ns, y_train_ns = ns.fit_sample(X_train_ss, y_train)\n",
    "nsm = gbc.fit(X_train_ns, y_train_ns)\n",
    "y_pred_ns = nsm.predict(X_valid_ss)"
   ]
  },
  {
   "source": [
    "## Neighborhood Cleaning Rule"
   ],
   "cell_type": "markdown",
   "metadata": {}
  },
  {
   "cell_type": "code",
   "execution_count": 47,
   "metadata": {},
   "outputs": [
    {
     "output_type": "stream",
     "name": "stdout",
     "text": [
      "Training Count:  Counter({0: 10218, 1: 4656})\n",
      "Accuracy Score:  0.7936666666666666\n",
      "F1 Score:  0.5411415863602669\n",
      "ROC-AUC Score:  0.7786266432522033\n",
      "Recall Score:  0.555978674790556\n",
      "Precision Score:  0.5270758122743683\n",
      "PR-AUC Score:  0.5377045139607715\n"
     ]
    }
   ],
   "source": [
    "ncr = NeighbourhoodCleaningRule(n_neighbors=3, threshold_cleaning=0.5)\n",
    "sampling(X_train_ss, y_train, X_valid_ss, y_valid, ncr, gbc)"
   ]
  },
  {
   "cell_type": "code",
   "execution_count": 48,
   "metadata": {},
   "outputs": [],
   "source": [
    "X_train_ncr, y_train_ncr = ncr.fit_sample(X_train_ss, y_train)\n",
    "ncrm = gbc.fit(X_train_ncr, y_train_ncr)\n",
    "y_pred_ncr = ncrm.predict(X_valid_ss)"
   ]
  },
  {
   "source": [
    "## One Sided Selection"
   ],
   "cell_type": "markdown",
   "metadata": {}
  },
  {
   "cell_type": "code",
   "execution_count": 49,
   "metadata": {},
   "outputs": [
    {
     "output_type": "stream",
     "name": "stdout",
     "text": [
      "Training Count:  Counter({0: 13593, 1: 4656})\n",
      "Accuracy Score:  0.8186666666666667\n",
      "F1 Score:  0.48387096774193544\n",
      "ROC-AUC Score:  0.7795077730352674\n",
      "Recall Score:  0.38842345773038844\n",
      "Precision Score:  0.6415094339622641\n",
      "PR-AUC Score:  0.5419495006583693\n"
     ]
    }
   ],
   "source": [
    "oss = OneSidedSelection(n_neighbors=1, n_seeds_S=200)\n",
    "sampling(X_train_ss, y_train, X_valid_ss, y_valid, oss, gbc)"
   ]
  },
  {
   "cell_type": "code",
   "execution_count": 50,
   "metadata": {},
   "outputs": [],
   "source": [
    "X_train_oss, y_train_oss = oss.fit_sample(X_train_ss, y_train)\n",
    "ossm = gbc.fit(X_train_oss, y_train_oss)\n",
    "y_pred_oss = ossm.predict(X_valid_ss)"
   ]
  },
  {
   "cell_type": "code",
   "execution_count": 51,
   "metadata": {},
   "outputs": [
    {
     "output_type": "execute_result",
     "data": {
      "text/plain": [
       "                          Accuracy  F1 Score  ROC-AUC Score  PR-AUC Score\n",
       "TomekLinks                0.819000  0.484330       0.781221      0.542721\n",
       "EditedNearestNeighbour    0.791000  0.539985       0.781221      0.542721\n",
       "NearMiss                  0.493167  0.393861       0.781221      0.542721\n",
       "NeighborhoodCleaningRule  0.793667  0.541142       0.781221      0.542721\n",
       "OenSidedSelection         0.819500  0.486486       0.781221      0.542721"
      ],
      "text/html": "<div>\n<style scoped>\n    .dataframe tbody tr th:only-of-type {\n        vertical-align: middle;\n    }\n\n    .dataframe tbody tr th {\n        vertical-align: top;\n    }\n\n    .dataframe thead th {\n        text-align: right;\n    }\n</style>\n<table border=\"1\" class=\"dataframe\">\n  <thead>\n    <tr style=\"text-align: right;\">\n      <th></th>\n      <th>Accuracy</th>\n      <th>F1 Score</th>\n      <th>ROC-AUC Score</th>\n      <th>PR-AUC Score</th>\n    </tr>\n  </thead>\n  <tbody>\n    <tr>\n      <th>TomekLinks</th>\n      <td>0.819000</td>\n      <td>0.484330</td>\n      <td>0.781221</td>\n      <td>0.542721</td>\n    </tr>\n    <tr>\n      <th>EditedNearestNeighbour</th>\n      <td>0.791000</td>\n      <td>0.539985</td>\n      <td>0.781221</td>\n      <td>0.542721</td>\n    </tr>\n    <tr>\n      <th>NearMiss</th>\n      <td>0.493167</td>\n      <td>0.393861</td>\n      <td>0.781221</td>\n      <td>0.542721</td>\n    </tr>\n    <tr>\n      <th>NeighborhoodCleaningRule</th>\n      <td>0.793667</td>\n      <td>0.541142</td>\n      <td>0.781221</td>\n      <td>0.542721</td>\n    </tr>\n    <tr>\n      <th>OenSidedSelection</th>\n      <td>0.819500</td>\n      <td>0.486486</td>\n      <td>0.781221</td>\n      <td>0.542721</td>\n    </tr>\n  </tbody>\n</table>\n</div>"
     },
     "metadata": {},
     "execution_count": 51
    }
   ],
   "source": [
    "data = {'Accuracy': [accuracy_score(y_valid, y_pred_tl),\n",
    "                     accuracy_score(y_valid, y_pred_enn),\n",
    "                     accuracy_score(y_valid, y_pred_ns),\n",
    "                     accuracy_score(y_valid, y_pred_ncr),\n",
    "                     accuracy_score(y_valid, y_pred_oss)],\n",
    "        'F1 Score': [f1_score(y_valid, y_pred_tl),\n",
    "                     f1_score(y_valid, y_pred_enn),\n",
    "                     f1_score(y_valid, y_pred_ns),\n",
    "                     f1_score(y_valid, y_pred_ncr),\n",
    "                     f1_score(y_valid, y_pred_oss)],\n",
    "        'ROC-AUC Score': [auc(X_valid_ss, y_valid, tlm),\n",
    "                          auc(X_valid_ss, y_valid, ennm),\n",
    "                          auc(X_valid_ss, y_valid, nsm),\n",
    "                          auc(X_valid_ss, y_valid, ncrm),\n",
    "                          auc(X_valid_ss, y_valid, ossm)],\n",
    "        'PR-AUC Score': [aps(X_valid_ss, y_valid, tlm),\n",
    "                         aps(X_valid_ss, y_valid, ennm),\n",
    "                         aps(X_valid_ss, y_valid, nsm),\n",
    "                         aps(X_valid_ss, y_valid, ncrm),\n",
    "                         aps(X_valid_ss, y_valid, ossm)]}\n",
    "\n",
    "scores2 = pd.DataFrame(data=data, index = ['TomekLinks',\n",
    "                                           'EditedNearestNeighbour',\n",
    "                                           'NearMiss',                                                                'NeighborhoodCleaningRule',\n",
    "                                           'OenSidedSelection'])\n",
    "\n",
    "scores2"
   ]
  },
  {
   "source": [
    "# Oversampling Methods"
   ],
   "cell_type": "markdown",
   "metadata": {}
  },
  {
   "source": [
    "## SMOTE"
   ],
   "cell_type": "markdown",
   "metadata": {}
  },
  {
   "cell_type": "code",
   "execution_count": 32,
   "metadata": {},
   "outputs": [
    {
     "output_type": "stream",
     "name": "stdout",
     "text": [
      "Training Count:  Counter({0: 16344, 1: 16344})\n",
      "Accuracy Score:  0.7935\n",
      "F1 Score:  0.516582130316036\n",
      "ROC-AUC Score:  0.7640743928654243\n",
      "Recall Score:  0.5041888804265042\n",
      "Precision Score:  0.5296\n",
      "PR-AUC Score:  0.5268566190077079\n"
     ]
    }
   ],
   "source": [
    "sm = SMOTE(sampling_strategy='minority', random_state=42)\n",
    "sampling(X_train_ss, y_train, X_valid_ss, y_valid, sm, gbc)"
   ]
  },
  {
   "cell_type": "code",
   "execution_count": 33,
   "metadata": {},
   "outputs": [],
   "source": [
    "X_train_sm, y_train_sm = sm.fit_sample(X_train_ss, y_train)\n",
    "smm = gbc.fit(X_train_sm, y_train_sm)\n",
    "y_pred_sm = smm.predict(X_valid_ss)"
   ]
  },
  {
   "source": [
    "## SVMSMOTE\n",
    "\n",
    "- Variant of SMOTE algorithm which uses an SVM algorithm to detect sample for generating new synthetic samples"
   ],
   "cell_type": "markdown",
   "metadata": {}
  },
  {
   "cell_type": "code",
   "execution_count": 34,
   "metadata": {},
   "outputs": [
    {
     "output_type": "stream",
     "name": "stdout",
     "text": [
      "Training Count:  Counter({0: 16344, 1: 16344})\n",
      "Accuracy Score:  0.7883333333333333\n",
      "F1 Score:  0.5261194029850748\n",
      "ROC-AUC Score:  0.7729490637924964\n",
      "Recall Score:  0.536938309215537\n",
      "Precision Score:  0.5157278712509145\n",
      "PR-AUC Score:  0.5236224852867296\n"
     ]
    }
   ],
   "source": [
    "svmsm = SVMSMOTE()\n",
    "sampling(X_train_ss, y_train, X_valid_ss, y_valid, svmsm, gbc)"
   ]
  },
  {
   "cell_type": "code",
   "execution_count": 35,
   "metadata": {},
   "outputs": [],
   "source": [
    "X_train_svm, y_train_svm = svmsm.fit_sample(X_train_ss, y_train)\n",
    "svmsmote = gbc.fit(X_train_svm, y_train_svm)\n",
    "y_pred_svmsm = svmsmote.predict(X_valid_ss)"
   ]
  },
  {
   "source": [
    "## KMeans SMOTE"
   ],
   "cell_type": "markdown",
   "metadata": {}
  },
  {
   "cell_type": "code",
   "execution_count": 36,
   "metadata": {},
   "outputs": [
    {
     "output_type": "stream",
     "name": "stdout",
     "text": [
      "Training Count:  Counter({0: 16344, 1: 16344})\n",
      "Accuracy Score:  0.8168333333333333\n",
      "F1 Score:  0.5073957866427612\n",
      "ROC-AUC Score:  0.7745015421599274\n",
      "Recall Score:  0.43107387661843105\n",
      "Precision Score:  0.616557734204793\n",
      "PR-AUC Score:  0.5282471598003755\n"
     ]
    }
   ],
   "source": [
    "ksm = KMeansSMOTE(random_state=42)\n",
    "sampling(X_train_ss, y_train, X_valid_ss, y_valid, ksm, gbc)"
   ]
  },
  {
   "cell_type": "code",
   "execution_count": 37,
   "metadata": {},
   "outputs": [],
   "source": [
    "X_train_ksm, y_train_ksm = ksm.fit_sample(X_train_ss, y_train)\n",
    "kms_smote = gbc.fit(X_train_ksm, y_train_ksm)\n",
    "y_pred_ksm = kms_smote.predict(X_valid_ss)"
   ]
  },
  {
   "source": [
    "## ADASYN\n",
    "\n",
    "- Oversample using Adaptive Synthetic (ADASYN) algorithm"
   ],
   "cell_type": "markdown",
   "metadata": {}
  },
  {
   "cell_type": "code",
   "execution_count": 38,
   "metadata": {},
   "outputs": [
    {
     "output_type": "stream",
     "name": "stdout",
     "text": [
      "Training Count:  Counter({0: 16344, 1: 15923})\n",
      "Accuracy Score:  0.79\n",
      "F1 Score:  0.5074276778733385\n",
      "ROC-AUC Score:  0.7601663852522029\n",
      "Recall Score:  0.49428789032749426\n",
      "Precision Score:  0.521285140562249\n",
      "PR-AUC Score:  0.5193548854833809\n"
     ]
    }
   ],
   "source": [
    "adsn = ADASYN()\n",
    "sampling(X_train_ss, y_train, X_valid_ss, y_valid, adsn, gbc)"
   ]
  },
  {
   "cell_type": "code",
   "execution_count": 39,
   "metadata": {},
   "outputs": [],
   "source": [
    "X_train_adsn, y_train_adsn = adsn.fit_sample(X_train_ss, y_train)\n",
    "adsnm = gbc.fit(X_train_adsn, y_train_adsn)\n",
    "y_pred_adsnm = adsnm.predict(X_valid_ss)"
   ]
  },
  {
   "cell_type": "code",
   "execution_count": 40,
   "metadata": {},
   "outputs": [
    {
     "output_type": "execute_result",
     "data": {
      "text/plain": [
       "              Accuracy  F1 Score  ROC-AUC Score  PR-AUC Score\n",
       "SMOTE         0.793500  0.516582        0.76088      0.522925\n",
       "SVMSMOTE      0.797000  0.529002        0.76088      0.522925\n",
       "KMeans-SMOTE  0.816833  0.507396        0.76088      0.522925\n",
       "ADASYN        0.788833  0.508343        0.76088      0.522925"
      ],
      "text/html": "<div>\n<style scoped>\n    .dataframe tbody tr th:only-of-type {\n        vertical-align: middle;\n    }\n\n    .dataframe tbody tr th {\n        vertical-align: top;\n    }\n\n    .dataframe thead th {\n        text-align: right;\n    }\n</style>\n<table border=\"1\" class=\"dataframe\">\n  <thead>\n    <tr style=\"text-align: right;\">\n      <th></th>\n      <th>Accuracy</th>\n      <th>F1 Score</th>\n      <th>ROC-AUC Score</th>\n      <th>PR-AUC Score</th>\n    </tr>\n  </thead>\n  <tbody>\n    <tr>\n      <th>SMOTE</th>\n      <td>0.793500</td>\n      <td>0.516582</td>\n      <td>0.76088</td>\n      <td>0.522925</td>\n    </tr>\n    <tr>\n      <th>SVMSMOTE</th>\n      <td>0.797000</td>\n      <td>0.529002</td>\n      <td>0.76088</td>\n      <td>0.522925</td>\n    </tr>\n    <tr>\n      <th>KMeans-SMOTE</th>\n      <td>0.816833</td>\n      <td>0.507396</td>\n      <td>0.76088</td>\n      <td>0.522925</td>\n    </tr>\n    <tr>\n      <th>ADASYN</th>\n      <td>0.788833</td>\n      <td>0.508343</td>\n      <td>0.76088</td>\n      <td>0.522925</td>\n    </tr>\n  </tbody>\n</table>\n</div>"
     },
     "metadata": {},
     "execution_count": 40
    }
   ],
   "source": [
    "data = {'Accuracy': [accuracy_score(y_valid, y_pred_sm),\n",
    "                     accuracy_score(y_valid, y_pred_svmsm),\n",
    "                     accuracy_score(y_valid, y_pred_ksm),\n",
    "                     accuracy_score(y_valid, y_pred_adsnm)],\n",
    "        'F1 Score': [f1_score(y_valid, y_pred_sm),\n",
    "                     f1_score(y_valid, y_pred_svmsm),\n",
    "                     f1_score(y_valid, y_pred_ksm),\n",
    "                     f1_score(y_valid, y_pred_adsnm)],\n",
    "        'ROC-AUC Score': [auc(X_valid_ss, y_valid, smm),\n",
    "                          auc(X_valid_ss, y_valid, svmsmote),\n",
    "                          auc(X_valid_ss, y_valid, kms_smote),\n",
    "                          auc(X_valid_ss, y_valid, adsnm)],\n",
    "        'PR-AUC Score': [aps(X_valid_ss, y_valid, smm),\n",
    "                         aps(X_valid_ss, y_valid, svmsmote),\n",
    "                         aps(X_valid_ss, y_valid, kms_smote),\n",
    "                         aps(X_valid_ss, y_valid, adsnm)]}\n",
    "\n",
    "scores3 = pd.DataFrame(data=data, index = ['SMOTE',\n",
    "                                           'SVMSMOTE',\n",
    "                                           'KMeans-SMOTE',\n",
    "                                           'ADASYN'])\n",
    "\n",
    "scores3"
   ]
  },
  {
   "source": [
    "# Combined Methods"
   ],
   "cell_type": "markdown",
   "metadata": {}
  },
  {
   "source": [
    "## SMOTE-Tomek\n",
    "\n",
    "- oversampling using SMOTE and cleaning using Tomek Links"
   ],
   "cell_type": "markdown",
   "metadata": {}
  },
  {
   "cell_type": "code",
   "execution_count": 29,
   "metadata": {},
   "outputs": [
    {
     "output_type": "stream",
     "name": "stdout",
     "text": [
      "Training Count:  Counter({0: 15934, 1: 15934})\n",
      "Accuracy Score:  0.7956666666666666\n",
      "F1 Score:  0.5233281493001555\n",
      "ROC-AUC Score:  0.7677168834541133\n",
      "Recall Score:  0.5125666412795126\n",
      "Precision Score:  0.534551231135822\n",
      "PR-AUC Score:  0.5300901766231029\n"
     ]
    }
   ],
   "source": [
    "smtk = SMOTETomek()\n",
    "sampling(X_train_ss, y_train, X_valid_ss, y_valid, smtk, gbc)"
   ]
  },
  {
   "cell_type": "code",
   "execution_count": 30,
   "metadata": {},
   "outputs": [],
   "source": [
    "X_train_smt, y_train_smt = smtk.fit_sample(X_train_ss, y_train)\n",
    "smtkm = gbc.fit(X_train_smt, y_train_smt)\n",
    "y_pred_smtk = smtkm.predict(X_valid_ss)"
   ]
  },
  {
   "source": [
    "## SMOTE-ENN\n",
    "\n",
    "- Oversampling using SMOTE and cleaning using ENN"
   ],
   "cell_type": "markdown",
   "metadata": {}
  },
  {
   "cell_type": "code",
   "execution_count": 27,
   "metadata": {},
   "outputs": [
    {
     "output_type": "stream",
     "name": "stdout",
     "text": [
      "Training Count:  Counter({1: 12456, 0: 8496})\n",
      "Accuracy Score:  0.7278333333333333\n",
      "F1 Score:  0.5123917587339505\n",
      "ROC-AUC Score:  0.7718542529278778\n",
      "Recall Score:  0.6534653465346535\n",
      "Precision Score:  0.4214145383104126\n",
      "PR-AUC Score:  0.5307484484173421\n"
     ]
    }
   ],
   "source": [
    "smenn = SMOTEENN(sampling_strategy=\"minority\", n_jobs= -1)\n",
    "sampling(X_train_ss, y_train, X_valid_ss, y_valid, smenn, gbc)"
   ]
  },
  {
   "cell_type": "code",
   "execution_count": 28,
   "metadata": {},
   "outputs": [],
   "source": [
    "X_train_sme, y_train_sme = smenn.fit_sample(X_train_ss, y_train)\n",
    "smennm = gbc.fit(X_train_sme, y_train_sme)\n",
    "y_pred_smenn = smennm.predict(X_valid_ss)"
   ]
  },
  {
   "cell_type": "code",
   "execution_count": 31,
   "metadata": {},
   "outputs": [
    {
     "output_type": "execute_result",
     "data": {
      "text/plain": [
       "             Accuracy  F1 Score  ROC-AUC Score  PR-AUC Score\n",
       "SMOTE-Tomek  0.794000  0.516810       0.765443      0.529162\n",
       "SMOTE-ENN    0.730833  0.517766       0.765443      0.529162"
      ],
      "text/html": "<div>\n<style scoped>\n    .dataframe tbody tr th:only-of-type {\n        vertical-align: middle;\n    }\n\n    .dataframe tbody tr th {\n        vertical-align: top;\n    }\n\n    .dataframe thead th {\n        text-align: right;\n    }\n</style>\n<table border=\"1\" class=\"dataframe\">\n  <thead>\n    <tr style=\"text-align: right;\">\n      <th></th>\n      <th>Accuracy</th>\n      <th>F1 Score</th>\n      <th>ROC-AUC Score</th>\n      <th>PR-AUC Score</th>\n    </tr>\n  </thead>\n  <tbody>\n    <tr>\n      <th>SMOTE-Tomek</th>\n      <td>0.794000</td>\n      <td>0.516810</td>\n      <td>0.765443</td>\n      <td>0.529162</td>\n    </tr>\n    <tr>\n      <th>SMOTE-ENN</th>\n      <td>0.730833</td>\n      <td>0.517766</td>\n      <td>0.765443</td>\n      <td>0.529162</td>\n    </tr>\n  </tbody>\n</table>\n</div>"
     },
     "metadata": {},
     "execution_count": 31
    }
   ],
   "source": [
    "data = {'Accuracy': [accuracy_score(y_valid, y_pred_smtk),\n",
    "                     accuracy_score(y_valid, y_pred_smenn)],\n",
    "        'F1 Score': [f1_score(y_valid, y_pred_smtk),\n",
    "                     f1_score(y_valid, y_pred_smenn)],\n",
    "        'ROC-AUC Score': [auc(X_valid_ss, y_valid, smtkm),\n",
    "                          auc(X_valid_ss, y_valid, smennm)],\n",
    "        'PR-AUC Score': [aps(X_valid_ss, y_valid, smtkm),\n",
    "                         aps(X_valid_ss, y_valid, smennm)]}\n",
    "\n",
    "scores4 = pd.DataFrame(data=data, index = ['SMOTE-Tomek',\n",
    "                                           'SMOTE-ENN'])\n",
    "\n",
    "scores4"
   ]
  },
  {
   "cell_type": "code",
   "execution_count": 80,
   "metadata": {},
   "outputs": [
    {
     "output_type": "execute_result",
     "data": {
      "text/plain": [
       "                                     Accuracy  F1 Score  ROC-AUC Score  \\\n",
       "BaggingClassifier                    0.811833  0.457993       0.748893   \n",
       "BalancedBaggingClassifier            0.783000  0.524470       0.765280   \n",
       "BBC with GradientBoostingClassifier  0.761833  0.533159       0.781661   \n",
       "BalancedRandomForestClassifier       0.742667  0.519900       0.771871   \n",
       "RUBoostClassifier                    0.751167  0.520090       0.764848   \n",
       "EasyEnsembleClassifier               0.759000  0.527142       0.776577   \n",
       "TomekLinks                           0.819000  0.484330       0.780808   \n",
       "EditedNearestNeighbour               0.791000  0.539985       0.780808   \n",
       "NearMiss                             0.493167  0.393861       0.780808   \n",
       "NeighborhoodCleaningRule             0.793667  0.541142       0.780808   \n",
       "OenSidedSelection                    0.818667  0.484848       0.780808   \n",
       "SMOTE                                0.793500  0.516582       0.758623   \n",
       "SVMSMOTE                             0.795000  0.535147       0.758623   \n",
       "KMeans-SMOTE                         0.816833  0.507396       0.758623   \n",
       "ADASYN                               0.787833  0.509819       0.758623   \n",
       "SMOTE-Tomek                          0.792667  0.508689       0.607456   \n",
       "SMOTE-ENN                            0.220500  0.359403       0.607456   \n",
       "\n",
       "                                     PR-AUC Score  \n",
       "BaggingClassifier                        0.501761  \n",
       "BalancedBaggingClassifier                0.514110  \n",
       "BBC with GradientBoostingClassifier      0.541760  \n",
       "BalancedRandomForestClassifier           0.523714  \n",
       "RUBoostClassifier                        0.521105  \n",
       "EasyEnsembleClassifier                   0.528054  \n",
       "TomekLinks                               0.544681  \n",
       "EditedNearestNeighbour                   0.544681  \n",
       "NearMiss                                 0.544681  \n",
       "NeighborhoodCleaningRule                 0.544681  \n",
       "OenSidedSelection                        0.544681  \n",
       "SMOTE                                    0.517599  \n",
       "SVMSMOTE                                 0.517599  \n",
       "KMeans-SMOTE                             0.517599  \n",
       "ADASYN                                   0.517599  \n",
       "SMOTE-Tomek                              0.338908  \n",
       "SMOTE-ENN                                0.338908  "
      ],
      "text/html": "<div>\n<style scoped>\n    .dataframe tbody tr th:only-of-type {\n        vertical-align: middle;\n    }\n\n    .dataframe tbody tr th {\n        vertical-align: top;\n    }\n\n    .dataframe thead th {\n        text-align: right;\n    }\n</style>\n<table border=\"1\" class=\"dataframe\">\n  <thead>\n    <tr style=\"text-align: right;\">\n      <th></th>\n      <th>Accuracy</th>\n      <th>F1 Score</th>\n      <th>ROC-AUC Score</th>\n      <th>PR-AUC Score</th>\n    </tr>\n  </thead>\n  <tbody>\n    <tr>\n      <th>BaggingClassifier</th>\n      <td>0.811833</td>\n      <td>0.457993</td>\n      <td>0.748893</td>\n      <td>0.501761</td>\n    </tr>\n    <tr>\n      <th>BalancedBaggingClassifier</th>\n      <td>0.783000</td>\n      <td>0.524470</td>\n      <td>0.765280</td>\n      <td>0.514110</td>\n    </tr>\n    <tr>\n      <th>BBC with GradientBoostingClassifier</th>\n      <td>0.761833</td>\n      <td>0.533159</td>\n      <td>0.781661</td>\n      <td>0.541760</td>\n    </tr>\n    <tr>\n      <th>BalancedRandomForestClassifier</th>\n      <td>0.742667</td>\n      <td>0.519900</td>\n      <td>0.771871</td>\n      <td>0.523714</td>\n    </tr>\n    <tr>\n      <th>RUBoostClassifier</th>\n      <td>0.751167</td>\n      <td>0.520090</td>\n      <td>0.764848</td>\n      <td>0.521105</td>\n    </tr>\n    <tr>\n      <th>EasyEnsembleClassifier</th>\n      <td>0.759000</td>\n      <td>0.527142</td>\n      <td>0.776577</td>\n      <td>0.528054</td>\n    </tr>\n    <tr>\n      <th>TomekLinks</th>\n      <td>0.819000</td>\n      <td>0.484330</td>\n      <td>0.780808</td>\n      <td>0.544681</td>\n    </tr>\n    <tr>\n      <th>EditedNearestNeighbour</th>\n      <td>0.791000</td>\n      <td>0.539985</td>\n      <td>0.780808</td>\n      <td>0.544681</td>\n    </tr>\n    <tr>\n      <th>NearMiss</th>\n      <td>0.493167</td>\n      <td>0.393861</td>\n      <td>0.780808</td>\n      <td>0.544681</td>\n    </tr>\n    <tr>\n      <th>NeighborhoodCleaningRule</th>\n      <td>0.793667</td>\n      <td>0.541142</td>\n      <td>0.780808</td>\n      <td>0.544681</td>\n    </tr>\n    <tr>\n      <th>OenSidedSelection</th>\n      <td>0.818667</td>\n      <td>0.484848</td>\n      <td>0.780808</td>\n      <td>0.544681</td>\n    </tr>\n    <tr>\n      <th>SMOTE</th>\n      <td>0.793500</td>\n      <td>0.516582</td>\n      <td>0.758623</td>\n      <td>0.517599</td>\n    </tr>\n    <tr>\n      <th>SVMSMOTE</th>\n      <td>0.795000</td>\n      <td>0.535147</td>\n      <td>0.758623</td>\n      <td>0.517599</td>\n    </tr>\n    <tr>\n      <th>KMeans-SMOTE</th>\n      <td>0.816833</td>\n      <td>0.507396</td>\n      <td>0.758623</td>\n      <td>0.517599</td>\n    </tr>\n    <tr>\n      <th>ADASYN</th>\n      <td>0.787833</td>\n      <td>0.509819</td>\n      <td>0.758623</td>\n      <td>0.517599</td>\n    </tr>\n    <tr>\n      <th>SMOTE-Tomek</th>\n      <td>0.792667</td>\n      <td>0.508689</td>\n      <td>0.607456</td>\n      <td>0.338908</td>\n    </tr>\n    <tr>\n      <th>SMOTE-ENN</th>\n      <td>0.220500</td>\n      <td>0.359403</td>\n      <td>0.607456</td>\n      <td>0.338908</td>\n    </tr>\n  </tbody>\n</table>\n</div>"
     },
     "metadata": {},
     "execution_count": 80
    }
   ],
   "source": [
    "scores_comb = pd.concat([scores, scores2, scores3, scores4], axis=0)\n",
    "scores_comb"
   ]
  },
  {
   "cell_type": "code",
   "execution_count": null,
   "metadata": {},
   "outputs": [],
   "source": []
  },
  {
   "cell_type": "code",
   "execution_count": 82,
   "metadata": {},
   "outputs": [],
   "source": [
    "scores_comb.to_csv('data/imbalanced_scores.csv')"
   ]
  },
  {
   "cell_type": "code",
   "execution_count": null,
   "metadata": {},
   "outputs": [],
   "source": []
  }
 ]
}
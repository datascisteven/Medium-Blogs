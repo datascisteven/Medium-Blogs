{
 "metadata": {
  "language_info": {
   "codemirror_mode": {
    "name": "ipython",
    "version": 3
   },
   "file_extension": ".py",
   "mimetype": "text/x-python",
   "name": "python",
   "nbconvert_exporter": "python",
   "pygments_lexer": "ipython3",
   "version": "3.9.1-final"
  },
  "orig_nbformat": 2,
  "kernelspec": {
   "name": "python3",
   "display_name": "Python 3.9.1 64-bit",
   "metadata": {
    "interpreter": {
     "hash": "80773cdecc613a186b9eac051636553d2ff0f99c57590601666ed713bd5d0256"
    }
   }
  }
 },
 "nbformat": 4,
 "nbformat_minor": 2,
 "cells": [
  {
   "source": [
    "# RegEx Workbook"
   ],
   "cell_type": "markdown",
   "metadata": {}
  },
  {
   "cell_type": "code",
   "execution_count": 46,
   "metadata": {},
   "outputs": [],
   "source": [
    "# import modules\n",
    "import json\n",
    "import pandas as pd\n",
    "import re\n",
    "import regex\n",
    "from datetime import datetime\n",
    "pd.set_option(\"display.max_rows\", 999)\n",
    "pd.set_option(\"display.max_columns\", 999)"
   ]
  },
  {
   "cell_type": "code",
   "execution_count": 47,
   "metadata": {},
   "outputs": [
    {
     "output_type": "execute_result",
     "data": {
      "text/plain": [
       "                      id      screen_name     user_id  \\\n",
       "0     936472671302414336         RoKhanna   771152516   \n",
       "1     936470481011707904       jaredpolis    15361570   \n",
       "2     936467554813521920          tedlieu    21059255   \n",
       "3     936466979573190656       RepAlGreen   156333623   \n",
       "4     936465730538819584          tedlieu    21059255   \n",
       "...                  ...              ...         ...   \n",
       "3089  936808302633033728   RepDwightEvans    90639372   \n",
       "3090  936808273109323776   RepDwightEvans    90639372   \n",
       "3091  936807981210988544         RepAdams  2916086925   \n",
       "3092  936807771512565760         RepAdams  2916086925   \n",
       "3093  936667449579229184  BLeeForCongress   414436134   \n",
       "\n",
       "                           time  \\\n",
       "0     2017-12-01T00:50:58-05:00   \n",
       "1     2017-12-01T00:42:16-05:00   \n",
       "2     2017-12-01T00:30:38-05:00   \n",
       "3     2017-12-01T00:28:21-05:00   \n",
       "4     2017-12-01T00:23:23-05:00   \n",
       "...                         ...   \n",
       "3089  2017-12-01T23:04:39-05:00   \n",
       "3090  2017-12-01T23:04:32-05:00   \n",
       "3091  2017-12-01T23:03:22-05:00   \n",
       "3092  2017-12-01T23:02:32-05:00   \n",
       "3093  2017-12-01T13:44:57-05:00   \n",
       "\n",
       "                                                   link  \\\n",
       "0     https://www.twitter.com/RoKhanna/statuses/9364...   \n",
       "1     https://www.twitter.com/jaredpolis/statuses/93...   \n",
       "2     https://www.twitter.com/tedlieu/statuses/93646...   \n",
       "3     https://www.twitter.com/RepAlGreen/statuses/93...   \n",
       "4     https://www.twitter.com/tedlieu/statuses/93646...   \n",
       "...                                                 ...   \n",
       "3089  https://www.twitter.com/nytimes/statuses/93680...   \n",
       "3090  https://www.twitter.com/SenWarren/statuses/936...   \n",
       "3091  https://www.twitter.com/KamalaHarris/statuses/...   \n",
       "3092  https://www.twitter.com/SenSchumer/statuses/93...   \n",
       "3093  https://www.twitter.com/BLeeForCongress/status...   \n",
       "\n",
       "                                                   text               source  \n",
       "0     Central problem for America’s economy. Stock m...   Twitter for iPhone  \n",
       "1     If @JosephEStiglitz is so sure #bitcoin is a b...   Twitter for iPhone  \n",
       "2     @TheViKingDebate @TheJusticeDept Help us take ...  Twitter for Android  \n",
       "3     RT @RepAlGreen Next week, there will be a vote...   Twitter for iPhone  \n",
       "4     Dear @TheJusticeDept Sessions: If you have age...  Twitter for Android  \n",
       "...                                                 ...                  ...  \n",
       "3089  RT @nytimes Republicans are on the verge of pa...   Twitter for iPhone  \n",
       "3090  RT @SenWarren Well there you have it: The @Sen...   Twitter for iPhone  \n",
       "3091  RT @KamalaHarris Senate Republicans are trying...   Twitter for iPhone  \n",
       "3092  RT @SenSchumer In my long career in politics, ...   Twitter for iPhone  \n",
       "3093  Nearly 16 million HIV infections have been ave...            TweetDeck  \n",
       "\n",
       "[3094 rows x 7 columns]"
      ],
      "text/html": "<div>\n<style scoped>\n    .dataframe tbody tr th:only-of-type {\n        vertical-align: middle;\n    }\n\n    .dataframe tbody tr th {\n        vertical-align: top;\n    }\n\n    .dataframe thead th {\n        text-align: right;\n    }\n</style>\n<table border=\"1\" class=\"dataframe\">\n  <thead>\n    <tr style=\"text-align: right;\">\n      <th></th>\n      <th>id</th>\n      <th>screen_name</th>\n      <th>user_id</th>\n      <th>time</th>\n      <th>link</th>\n      <th>text</th>\n      <th>source</th>\n    </tr>\n  </thead>\n  <tbody>\n    <tr>\n      <th>0</th>\n      <td>936472671302414336</td>\n      <td>RoKhanna</td>\n      <td>771152516</td>\n      <td>2017-12-01T00:50:58-05:00</td>\n      <td>https://www.twitter.com/RoKhanna/statuses/9364...</td>\n      <td>Central problem for America’s economy. Stock m...</td>\n      <td>Twitter for iPhone</td>\n    </tr>\n    <tr>\n      <th>1</th>\n      <td>936470481011707904</td>\n      <td>jaredpolis</td>\n      <td>15361570</td>\n      <td>2017-12-01T00:42:16-05:00</td>\n      <td>https://www.twitter.com/jaredpolis/statuses/93...</td>\n      <td>If @JosephEStiglitz is so sure #bitcoin is a b...</td>\n      <td>Twitter for iPhone</td>\n    </tr>\n    <tr>\n      <th>2</th>\n      <td>936467554813521920</td>\n      <td>tedlieu</td>\n      <td>21059255</td>\n      <td>2017-12-01T00:30:38-05:00</td>\n      <td>https://www.twitter.com/tedlieu/statuses/93646...</td>\n      <td>@TheViKingDebate @TheJusticeDept Help us take ...</td>\n      <td>Twitter for Android</td>\n    </tr>\n    <tr>\n      <th>3</th>\n      <td>936466979573190656</td>\n      <td>RepAlGreen</td>\n      <td>156333623</td>\n      <td>2017-12-01T00:28:21-05:00</td>\n      <td>https://www.twitter.com/RepAlGreen/statuses/93...</td>\n      <td>RT @RepAlGreen Next week, there will be a vote...</td>\n      <td>Twitter for iPhone</td>\n    </tr>\n    <tr>\n      <th>4</th>\n      <td>936465730538819584</td>\n      <td>tedlieu</td>\n      <td>21059255</td>\n      <td>2017-12-01T00:23:23-05:00</td>\n      <td>https://www.twitter.com/tedlieu/statuses/93646...</td>\n      <td>Dear @TheJusticeDept Sessions: If you have age...</td>\n      <td>Twitter for Android</td>\n    </tr>\n    <tr>\n      <th>...</th>\n      <td>...</td>\n      <td>...</td>\n      <td>...</td>\n      <td>...</td>\n      <td>...</td>\n      <td>...</td>\n      <td>...</td>\n    </tr>\n    <tr>\n      <th>3089</th>\n      <td>936808302633033728</td>\n      <td>RepDwightEvans</td>\n      <td>90639372</td>\n      <td>2017-12-01T23:04:39-05:00</td>\n      <td>https://www.twitter.com/nytimes/statuses/93680...</td>\n      <td>RT @nytimes Republicans are on the verge of pa...</td>\n      <td>Twitter for iPhone</td>\n    </tr>\n    <tr>\n      <th>3090</th>\n      <td>936808273109323776</td>\n      <td>RepDwightEvans</td>\n      <td>90639372</td>\n      <td>2017-12-01T23:04:32-05:00</td>\n      <td>https://www.twitter.com/SenWarren/statuses/936...</td>\n      <td>RT @SenWarren Well there you have it: The @Sen...</td>\n      <td>Twitter for iPhone</td>\n    </tr>\n    <tr>\n      <th>3091</th>\n      <td>936807981210988544</td>\n      <td>RepAdams</td>\n      <td>2916086925</td>\n      <td>2017-12-01T23:03:22-05:00</td>\n      <td>https://www.twitter.com/KamalaHarris/statuses/...</td>\n      <td>RT @KamalaHarris Senate Republicans are trying...</td>\n      <td>Twitter for iPhone</td>\n    </tr>\n    <tr>\n      <th>3092</th>\n      <td>936807771512565760</td>\n      <td>RepAdams</td>\n      <td>2916086925</td>\n      <td>2017-12-01T23:02:32-05:00</td>\n      <td>https://www.twitter.com/SenSchumer/statuses/93...</td>\n      <td>RT @SenSchumer In my long career in politics, ...</td>\n      <td>Twitter for iPhone</td>\n    </tr>\n    <tr>\n      <th>3093</th>\n      <td>936667449579229184</td>\n      <td>BLeeForCongress</td>\n      <td>414436134</td>\n      <td>2017-12-01T13:44:57-05:00</td>\n      <td>https://www.twitter.com/BLeeForCongress/status...</td>\n      <td>Nearly 16 million HIV infections have been ave...</td>\n      <td>TweetDeck</td>\n    </tr>\n  </tbody>\n</table>\n<p>3094 rows × 7 columns</p>\n</div>"
     },
     "metadata": {},
     "execution_count": 47
    }
   ],
   "source": [
    "# import twitter data\n",
    "data_json = open('data/tweets/2017-12-01.json', mode='r').read()  \n",
    "df = pd.read_json('data/tweets/2017-12-01.json')\n",
    "df"
   ]
  },
  {
   "cell_type": "code",
   "execution_count": 48,
   "metadata": {},
   "outputs": [
    {
     "output_type": "execute_result",
     "data": {
      "text/plain": [
       "id              int64\n",
       "screen_name    object\n",
       "user_id         int64\n",
       "time           object\n",
       "link           object\n",
       "text           object\n",
       "source         object\n",
       "dtype: object"
      ]
     },
     "metadata": {},
     "execution_count": 48
    }
   ],
   "source": [
    "df.dtypes"
   ]
  },
  {
   "source": [
    "# Data Preprocessing"
   ],
   "cell_type": "markdown",
   "metadata": {}
  },
  {
   "cell_type": "code",
   "execution_count": 49,
   "metadata": {},
   "outputs": [
    {
     "output_type": "execute_result",
     "data": {
      "text/plain": [
       "0                          []\n",
       "1                  [#bitcoin]\n",
       "2                          []\n",
       "3    [#RepealandReplaceTrump]\n",
       "4                          []\n",
       "Name: hashtags, dtype: object"
      ]
     },
     "metadata": {},
     "execution_count": 49
    }
   ],
   "source": [
    "# extract all hashtags into new column\n",
    "df['hashtags'] = df.text.apply(lambda x: re.findall(r'#[\\S]+', str(x)))\n",
    "df.hashtags.head()"
   ]
  },
  {
   "cell_type": "code",
   "execution_count": 50,
   "metadata": {},
   "outputs": [
    {
     "output_type": "execute_result",
     "data": {
      "text/plain": [
       "'Dear @TheJusticeDept Sessions: If you have agents &amp; prosecutors with nothing to do, here are crimes more important than the stupid federal law against marijuana:\\n\\nChild pornography \\nKidnapping \\nBank Robbery \\nIdentity Theft \\n\\nAnd are you ready for this ... here it comes\\n\\nPERJURY https://twitter.com/intelligencer/status/936347100501151744 QT @intelligencer Jeff Sessions on Wednesday suggested that the federal government is preparing to crack down on recreational marijuana http://nym.ag/2BxCAtQ'"
      ]
     },
     "metadata": {},
     "execution_count": 50
    }
   ],
   "source": [
    "df.text[4]"
   ]
  },
  {
   "cell_type": "code",
   "execution_count": 51,
   "metadata": {},
   "outputs": [
    {
     "output_type": "execute_result",
     "data": {
      "text/plain": [
       "'RT @StephenAtHome Non-hypothetical question: are you insane? https://twitter.com/DonaldJTrumpJr/status/144505633981468672 QT @DonaldJTrumpJr Hypothetical question? Can my 2 year old get in trouble 4 sexual harassment for asking his teacher to come to his place naked after school?'"
      ]
     },
     "metadata": {},
     "execution_count": 51
    }
   ],
   "source": [
    "df.text[6]"
   ]
  },
  {
   "cell_type": "code",
   "execution_count": 52,
   "metadata": {},
   "outputs": [
    {
     "output_type": "execute_result",
     "data": {
      "text/plain": [
       "0                                     []\n",
       "1                     [@JosephEStiglitz]\n",
       "2    [@TheViKingDebate, @TheJusticeDept]\n",
       "3                          [@RepAlGreen]\n",
       "4      [@TheJusticeDept, @intelligencer]\n",
       "Name: callouts, dtype: object"
      ]
     },
     "metadata": {},
     "execution_count": 52
    }
   ],
   "source": [
    "# extract all callouts\n",
    "df['callouts'] = df.text.apply(lambda x: re.findall(r'@[\\S]+', str(x)))\n",
    "df['callouts'].head()"
   ]
  },
  {
   "cell_type": "code",
   "execution_count": 53,
   "metadata": {},
   "outputs": [
    {
     "output_type": "execute_result",
     "data": {
      "text/plain": [
       "582"
      ]
     },
     "metadata": {},
     "execution_count": 53
    }
   ],
   "source": [
    "charref = [x for x in df.text.apply(lambda x: re.findall(r'&[\\S]+', str(x)))]\n",
    "charref\n",
    "flat_list = [item for sublist in charref for item in sublist]\n",
    "len(flat_list)"
   ]
  },
  {
   "cell_type": "code",
   "execution_count": 54,
   "metadata": {},
   "outputs": [
    {
     "output_type": "execute_result",
     "data": {
      "text/plain": [
       "0    Central problem for America’s economy. Stock m...\n",
       "1    If  is so sure  is a bubble, he should make a ...\n",
       "2                         Help us take back the House.\n",
       "3    RT  Next week, there will be a vote to impeach...\n",
       "4    Dear  Sessions: If you have agents  prosecutor...\n",
       "Name: text, dtype: object"
      ]
     },
     "metadata": {},
     "execution_count": 54
    }
   ],
   "source": [
    "# replace all hashtags, ampersands, and callouts with no space\n",
    "df.text = df.text.apply(lambda x: re.sub(r'[#@&][\\S]+', '', str(x)))\n",
    "df.text.head()"
   ]
  },
  {
   "cell_type": "code",
   "execution_count": 55,
   "metadata": {},
   "outputs": [
    {
     "output_type": "execute_result",
     "data": {
      "text/plain": [
       "0    Central problem for America’s economy. Stock m...\n",
       "1    If  is so sure  is a bubble, he should make a ...\n",
       "2                         Help us take back the House.\n",
       "3      Next week, there will be a vote to impeach t...\n",
       "4    Dear  Sessions: If you have agents  prosecutor...\n",
       "Name: text, dtype: object"
      ]
     },
     "metadata": {},
     "execution_count": 55
    }
   ],
   "source": [
    "# remove twitter RT and QT\n",
    "df.text = df.text.apply(lambda x: re.sub(r'(\\bRT\\b|\\bQT\\b)', '', str(x)))\n",
    "df.text.head()"
   ]
  },
  {
   "cell_type": "code",
   "execution_count": 56,
   "metadata": {},
   "outputs": [
    {
     "output_type": "execute_result",
     "data": {
      "text/plain": [
       "0    Central problem for America’s economy. Stock m...\n",
       "1    If  is so sure  is a bubble, he should make a ...\n",
       "2                         Help us take back the House.\n",
       "3      Next week, there will be a vote to impeach t...\n",
       "4    Dear  Sessions: If you have agents  prosecutor...\n",
       "Name: text, dtype: object"
      ]
     },
     "metadata": {},
     "execution_count": 56
    }
   ],
   "source": [
    "# remove emoji\n",
    "df.text = df.text.apply(lambda x: re.sub(r'\\B[^\\w\\s]{2,}\\B', ' ', str(x)))\n",
    "df.text.head()"
   ]
  },
  {
   "cell_type": "code",
   "execution_count": 58,
   "metadata": {},
   "outputs": [
    {
     "output_type": "execute_result",
     "data": {
      "text/plain": [
       "0    Central problem for America’s economy. Stock m...\n",
       "1    If  is so sure  is a bubble, he should make a ...\n",
       "2                         Help us take back the House.\n",
       "3      Next week, there will be a vote to impeach t...\n",
       "4    Dear  Sessions: If you have agents  prosecutor...\n",
       "Name: text, dtype: object"
      ]
     },
     "metadata": {},
     "execution_count": 58
    }
   ],
   "source": [
    "# remove html links\n",
    "df.text = df.text.apply(lambda x:re.sub(r'(http|ftp|https)://([\\w_-]+(?:(?:\\.[\\w_-]+)+))([\\w.,@?^=%&:/~+#-]*[\\w@?^=%&/~+#-])?', '', str(x)))\n",
    "df.text.head()"
   ]
  },
  {
   "cell_type": "code",
   "execution_count": 59,
   "metadata": {},
   "outputs": [
    {
     "output_type": "execute_result",
     "data": {
      "text/plain": [
       "0    Central problem for Americas economy Stock mar...\n",
       "1    If  is so sure  is a bubble he should make a f...\n",
       "2                          Help us take back the House\n",
       "3      Next week there will be a vote to impeach th...\n",
       "4    Dear  Sessions If you have agents  prosecutors...\n",
       "Name: text, dtype: object"
      ]
     },
     "metadata": {},
     "execution_count": 59
    }
   ],
   "source": [
    "# remove punctuation\n",
    "df.text = df.text.apply(lambda x: re.sub(r'[^\\w\\s]', r'', str(x)))\n",
    "df.text.head()"
   ]
  },
  {
   "cell_type": "code",
   "execution_count": 60,
   "metadata": {},
   "outputs": [
    {
     "output_type": "execute_result",
     "data": {
      "text/plain": [
       "0    central problem for americas economy stock mar...\n",
       "1    if is so sure is a bubble he should make a for...\n",
       "2                          help us take back the house\n",
       "3    next week there will be a vote to impeach the ...\n",
       "4    dear sessions if you have agents prosecutors w...\n",
       "Name: text, dtype: object"
      ]
     },
     "metadata": {},
     "execution_count": 60
    }
   ],
   "source": [
    "# lower casing\n",
    "df.text = df.text.apply(lambda x: \" \".join(x.lower() for x in x.split()))\n",
    "df.text.head()"
   ]
  },
  {
   "cell_type": "code",
   "execution_count": 61,
   "metadata": {},
   "outputs": [
    {
     "output_type": "execute_result",
     "data": {
      "text/plain": [
       "0    central problem for americas economy stock mar...\n",
       "1    if is so sure is a bubble he should make a for...\n",
       "2                          help us take back the house\n",
       "3    next week there will be a vote to impeach the ...\n",
       "4    dear sessions if you have agents prosecutors w...\n",
       "Name: text, dtype: object"
      ]
     },
     "metadata": {},
     "execution_count": 61
    }
   ],
   "source": [
    "# remove numbers or words with digits  \n",
    "df.text = df.text.apply(lambda x: re.sub(r'\\w*\\d\\w*', r'', str(x)))\n",
    "df.text.head()"
   ]
  },
  {
   "cell_type": "code",
   "execution_count": 62,
   "metadata": {},
   "outputs": [
    {
     "output_type": "execute_result",
     "data": {
      "text/plain": [
       "0    central problem for americas economy stock mar...\n",
       "1    if is so sure is a bubble he should make a for...\n",
       "2                          help us take back the house\n",
       "3    next week there will be a vote to impeach the ...\n",
       "4    dear sessions if you have agents prosecutors w...\n",
       "Name: text, dtype: object"
      ]
     },
     "metadata": {},
     "execution_count": 62
    }
   ],
   "source": [
    "# remove any double or more whitespaces to single whitespaces\n",
    "df.text = df.text.apply(lambda x: re.sub(r'\\s\\s+', ' ', str(x)))\n",
    "df.text.head()"
   ]
  },
  {
   "cell_type": "code",
   "execution_count": 63,
   "metadata": {},
   "outputs": [
    {
     "output_type": "execute_result",
     "data": {
      "text/plain": [
       "0    central problem for americas economy stock mar...\n",
       "1    if is so sure is a bubble he should make a for...\n",
       "2                          help us take back the house\n",
       "3    next week there will be a vote to impeach the ...\n",
       "4    dear sessions if you have agents prosecutors w...\n",
       "Name: text, dtype: object"
      ]
     },
     "metadata": {},
     "execution_count": 63
    }
   ],
   "source": [
    "# remove any leading and trailing whitespace\n",
    "df.text = df.text.apply(lambda x: re.sub(r'(\\A\\s+|\\s+\\Z)', '', str(x)))\n",
    "df.text.head()"
   ]
  },
  {
   "cell_type": "code",
   "execution_count": 64,
   "metadata": {},
   "outputs": [
    {
     "output_type": "execute_result",
     "data": {
      "text/plain": [
       "3089    republicans are on the verge of passing tax bi...\n",
       "3090    well there you have it the wont even give demo...\n",
       "3091    senate republicans are trying to force a vote ...\n",
       "3092    in my long career in politics i have not seen ...\n",
       "3093    nearly million hiv infections have been averte...\n",
       "Name: text, dtype: object"
      ]
     },
     "metadata": {},
     "execution_count": 64
    }
   ],
   "source": [
    "df.text.tail()"
   ]
  },
  {
   "source": [
    "# Time Column"
   ],
   "cell_type": "markdown",
   "metadata": {}
  },
  {
   "cell_type": "code",
   "execution_count": 44,
   "metadata": {},
   "outputs": [
    {
     "output_type": "execute_result",
     "data": {
      "text/plain": [
       "0    2017-12-01T00:50:58-05:00\n",
       "1    2017-12-01T00:42:16-05:00\n",
       "2    2017-12-01T00:30:38-05:00\n",
       "3    2017-12-01T00:28:21-05:00\n",
       "4    2017-12-01T00:23:23-05:00\n",
       "Name: time, dtype: object"
      ]
     },
     "metadata": {},
     "execution_count": 44
    }
   ],
   "source": [
    "df.time.head()"
   ]
  },
  {
   "cell_type": "code",
   "execution_count": 21,
   "metadata": {},
   "outputs": [
    {
     "output_type": "execute_result",
     "data": {
      "text/plain": [
       "0    {'year': '2017', 'month': '12', 'day': '01', '...\n",
       "1    {'year': '2017', 'month': '12', 'day': '01', '...\n",
       "2    {'year': '2017', 'month': '12', 'day': '01', '...\n",
       "3    {'year': '2017', 'month': '12', 'day': '01', '...\n",
       "4    {'year': '2017', 'month': '12', 'day': '01', '...\n",
       "Name: tdmatch, dtype: object"
      ]
     },
     "metadata": {},
     "execution_count": 21
    }
   ],
   "source": [
    "import regex\n",
    "df['tdmatch'] = [x for x in df.time.apply(lambda x: regex.match(r'^(?P<year>\\d{4})-(?P<month>\\d{2})-(?P<day>\\d{2})T(?P<time>\\d{2}:\\d{2}:\\d{2})-\\d{2}:\\d{2}$', str(x)))]\n",
    "df.tdmatch = df.tdmatch.apply(lambda x: x.groupdict())\n",
    "df.tdmatch.head()"
   ]
  },
  {
   "cell_type": "code",
   "execution_count": 22,
   "metadata": {},
   "outputs": [],
   "source": [
    "df['year'] = df.tdmatch.apply(lambda x: x['year'])\n",
    "df['month'] = df.tdmatch.apply(lambda x: x['month'])\n",
    "df['time_hms'] = df.tdmatch.apply(lambda x: x['time'])\n",
    "df['day'] = df.tdmatch.apply(lambda x: x['day'])"
   ]
  },
  {
   "cell_type": "code",
   "execution_count": 23,
   "metadata": {},
   "outputs": [],
   "source": [
    "pd.set_option(\"display.max_rows\", 20)\n",
    "pd.set_option(\"display.max_columns\", 20)"
   ]
  },
  {
   "cell_type": "code",
   "execution_count": 24,
   "metadata": {},
   "outputs": [
    {
     "output_type": "execute_result",
     "data": {
      "text/plain": [
       "                   id screen_name    user_id                       time  \\\n",
       "0  936472671302414336    RoKhanna  771152516  2017-12-01T00:50:58-05:00   \n",
       "1  936470481011707904  jaredpolis   15361570  2017-12-01T00:42:16-05:00   \n",
       "2  936467554813521920     tedlieu   21059255  2017-12-01T00:30:38-05:00   \n",
       "3  936466979573190656  RepAlGreen  156333623  2017-12-01T00:28:21-05:00   \n",
       "4  936465730538819584     tedlieu   21059255  2017-12-01T00:23:23-05:00   \n",
       "\n",
       "                                                link  \\\n",
       "0  https://www.twitter.com/RoKhanna/statuses/9364...   \n",
       "1  https://www.twitter.com/jaredpolis/statuses/93...   \n",
       "2  https://www.twitter.com/tedlieu/statuses/93646...   \n",
       "3  https://www.twitter.com/RepAlGreen/statuses/93...   \n",
       "4  https://www.twitter.com/tedlieu/statuses/93646...   \n",
       "\n",
       "                                                text               source  \\\n",
       "0  central problem americas economy stock market ...   Twitter for iPhone   \n",
       "1  sure bubble should make fortune shorting matte...   Twitter for iPhone   \n",
       "2                               help take back house  Twitter for Android   \n",
       "3  next week there will vote impeach bigotinchief...   Twitter for iPhone   \n",
       "4  dear sessions have agents prosecutors with not...  Twitter for Android   \n",
       "\n",
       "                   hashtags                             callouts  \\\n",
       "0                        []                                   []   \n",
       "1                [#bitcoin]                   [@JosephEStiglitz]   \n",
       "2                        []  [@TheViKingDebate, @TheJusticeDept]   \n",
       "3  [#RepealandReplaceTrump]                        [@RepAlGreen]   \n",
       "4                        []    [@TheJusticeDept, @intelligencer]   \n",
       "\n",
       "                                                html  \\\n",
       "0                                                 []   \n",
       "1  [(https, www.coindesk.com, /bitcoin-outlawed-e...   \n",
       "2                                                 []   \n",
       "3                  [(https, youtu.be, /ItfXf3e5Ozo)]   \n",
       "4  [(https, twitter.com, /intelligencer/status/93...   \n",
       "\n",
       "                                             tdmatch  year month  time_hms day  \n",
       "0  {'year': '2017', 'month': '12', 'day': '01', '...  2017    12  00:50:58  01  \n",
       "1  {'year': '2017', 'month': '12', 'day': '01', '...  2017    12  00:42:16  01  \n",
       "2  {'year': '2017', 'month': '12', 'day': '01', '...  2017    12  00:30:38  01  \n",
       "3  {'year': '2017', 'month': '12', 'day': '01', '...  2017    12  00:28:21  01  \n",
       "4  {'year': '2017', 'month': '12', 'day': '01', '...  2017    12  00:23:23  01  "
      ],
      "text/html": "<div>\n<style scoped>\n    .dataframe tbody tr th:only-of-type {\n        vertical-align: middle;\n    }\n\n    .dataframe tbody tr th {\n        vertical-align: top;\n    }\n\n    .dataframe thead th {\n        text-align: right;\n    }\n</style>\n<table border=\"1\" class=\"dataframe\">\n  <thead>\n    <tr style=\"text-align: right;\">\n      <th></th>\n      <th>id</th>\n      <th>screen_name</th>\n      <th>user_id</th>\n      <th>time</th>\n      <th>link</th>\n      <th>text</th>\n      <th>source</th>\n      <th>hashtags</th>\n      <th>callouts</th>\n      <th>html</th>\n      <th>tdmatch</th>\n      <th>year</th>\n      <th>month</th>\n      <th>time_hms</th>\n      <th>day</th>\n    </tr>\n  </thead>\n  <tbody>\n    <tr>\n      <th>0</th>\n      <td>936472671302414336</td>\n      <td>RoKhanna</td>\n      <td>771152516</td>\n      <td>2017-12-01T00:50:58-05:00</td>\n      <td>https://www.twitter.com/RoKhanna/statuses/9364...</td>\n      <td>central problem americas economy stock market ...</td>\n      <td>Twitter for iPhone</td>\n      <td>[]</td>\n      <td>[]</td>\n      <td>[]</td>\n      <td>{'year': '2017', 'month': '12', 'day': '01', '...</td>\n      <td>2017</td>\n      <td>12</td>\n      <td>00:50:58</td>\n      <td>01</td>\n    </tr>\n    <tr>\n      <th>1</th>\n      <td>936470481011707904</td>\n      <td>jaredpolis</td>\n      <td>15361570</td>\n      <td>2017-12-01T00:42:16-05:00</td>\n      <td>https://www.twitter.com/jaredpolis/statuses/93...</td>\n      <td>sure bubble should make fortune shorting matte...</td>\n      <td>Twitter for iPhone</td>\n      <td>[#bitcoin]</td>\n      <td>[@JosephEStiglitz]</td>\n      <td>[(https, www.coindesk.com, /bitcoin-outlawed-e...</td>\n      <td>{'year': '2017', 'month': '12', 'day': '01', '...</td>\n      <td>2017</td>\n      <td>12</td>\n      <td>00:42:16</td>\n      <td>01</td>\n    </tr>\n    <tr>\n      <th>2</th>\n      <td>936467554813521920</td>\n      <td>tedlieu</td>\n      <td>21059255</td>\n      <td>2017-12-01T00:30:38-05:00</td>\n      <td>https://www.twitter.com/tedlieu/statuses/93646...</td>\n      <td>help take back house</td>\n      <td>Twitter for Android</td>\n      <td>[]</td>\n      <td>[@TheViKingDebate, @TheJusticeDept]</td>\n      <td>[]</td>\n      <td>{'year': '2017', 'month': '12', 'day': '01', '...</td>\n      <td>2017</td>\n      <td>12</td>\n      <td>00:30:38</td>\n      <td>01</td>\n    </tr>\n    <tr>\n      <th>3</th>\n      <td>936466979573190656</td>\n      <td>RepAlGreen</td>\n      <td>156333623</td>\n      <td>2017-12-01T00:28:21-05:00</td>\n      <td>https://www.twitter.com/RepAlGreen/statuses/93...</td>\n      <td>next week there will vote impeach bigotinchief...</td>\n      <td>Twitter for iPhone</td>\n      <td>[#RepealandReplaceTrump]</td>\n      <td>[@RepAlGreen]</td>\n      <td>[(https, youtu.be, /ItfXf3e5Ozo)]</td>\n      <td>{'year': '2017', 'month': '12', 'day': '01', '...</td>\n      <td>2017</td>\n      <td>12</td>\n      <td>00:28:21</td>\n      <td>01</td>\n    </tr>\n    <tr>\n      <th>4</th>\n      <td>936465730538819584</td>\n      <td>tedlieu</td>\n      <td>21059255</td>\n      <td>2017-12-01T00:23:23-05:00</td>\n      <td>https://www.twitter.com/tedlieu/statuses/93646...</td>\n      <td>dear sessions have agents prosecutors with not...</td>\n      <td>Twitter for Android</td>\n      <td>[]</td>\n      <td>[@TheJusticeDept, @intelligencer]</td>\n      <td>[(https, twitter.com, /intelligencer/status/93...</td>\n      <td>{'year': '2017', 'month': '12', 'day': '01', '...</td>\n      <td>2017</td>\n      <td>12</td>\n      <td>00:23:23</td>\n      <td>01</td>\n    </tr>\n  </tbody>\n</table>\n</div>"
     },
     "metadata": {},
     "execution_count": 24
    }
   ],
   "source": [
    "df.head()"
   ]
  },
  {
   "cell_type": "code",
   "execution_count": 25,
   "metadata": {},
   "outputs": [
    {
     "output_type": "execute_result",
     "data": {
      "text/plain": [
       "0   2017-12-01 00:50:58-05:00\n",
       "1   2017-12-01 00:42:16-05:00\n",
       "2   2017-12-01 00:30:38-05:00\n",
       "3   2017-12-01 00:28:21-05:00\n",
       "4   2017-12-01 00:23:23-05:00\n",
       "Name: datetime, dtype: datetime64[ns, UTC-05:00]"
      ]
     },
     "metadata": {},
     "execution_count": 25
    }
   ],
   "source": [
    "format = \"%Y-%m-%dT%H:%M:%S%z\"\n",
    "df['datetime'] = df.time.apply(lambda x: datetime.strptime(x, format))\n",
    "df.datetime.head()"
   ]
  },
  {
   "cell_type": "code",
   "execution_count": 26,
   "metadata": {},
   "outputs": [
    {
     "output_type": "execute_result",
     "data": {
      "text/plain": [
       "                   id screen_name    user_id                       time  \\\n",
       "0  936472671302414336    RoKhanna  771152516  2017-12-01T00:50:58-05:00   \n",
       "1  936470481011707904  jaredpolis   15361570  2017-12-01T00:42:16-05:00   \n",
       "2  936467554813521920     tedlieu   21059255  2017-12-01T00:30:38-05:00   \n",
       "3  936466979573190656  RepAlGreen  156333623  2017-12-01T00:28:21-05:00   \n",
       "4  936465730538819584     tedlieu   21059255  2017-12-01T00:23:23-05:00   \n",
       "\n",
       "                                                link  \\\n",
       "0  https://www.twitter.com/RoKhanna/statuses/9364...   \n",
       "1  https://www.twitter.com/jaredpolis/statuses/93...   \n",
       "2  https://www.twitter.com/tedlieu/statuses/93646...   \n",
       "3  https://www.twitter.com/RepAlGreen/statuses/93...   \n",
       "4  https://www.twitter.com/tedlieu/statuses/93646...   \n",
       "\n",
       "                                                text               source  \\\n",
       "0  central problem americas economy stock market ...   Twitter for iPhone   \n",
       "1  sure bubble should make fortune shorting matte...   Twitter for iPhone   \n",
       "2                               help take back house  Twitter for Android   \n",
       "3  next week there will vote impeach bigotinchief...   Twitter for iPhone   \n",
       "4  dear sessions have agents prosecutors with not...  Twitter for Android   \n",
       "\n",
       "                   hashtags                             callouts  \\\n",
       "0                        []                                   []   \n",
       "1                [#bitcoin]                   [@JosephEStiglitz]   \n",
       "2                        []  [@TheViKingDebate, @TheJusticeDept]   \n",
       "3  [#RepealandReplaceTrump]                        [@RepAlGreen]   \n",
       "4                        []    [@TheJusticeDept, @intelligencer]   \n",
       "\n",
       "                                                html  \\\n",
       "0                                                 []   \n",
       "1  [(https, www.coindesk.com, /bitcoin-outlawed-e...   \n",
       "2                                                 []   \n",
       "3                  [(https, youtu.be, /ItfXf3e5Ozo)]   \n",
       "4  [(https, twitter.com, /intelligencer/status/93...   \n",
       "\n",
       "                                             tdmatch  year month  time_hms  \\\n",
       "0  {'year': '2017', 'month': '12', 'day': '01', '...  2017    12  00:50:58   \n",
       "1  {'year': '2017', 'month': '12', 'day': '01', '...  2017    12  00:42:16   \n",
       "2  {'year': '2017', 'month': '12', 'day': '01', '...  2017    12  00:30:38   \n",
       "3  {'year': '2017', 'month': '12', 'day': '01', '...  2017    12  00:28:21   \n",
       "4  {'year': '2017', 'month': '12', 'day': '01', '...  2017    12  00:23:23   \n",
       "\n",
       "  day                  datetime  \n",
       "0  01 2017-12-01 00:50:58-05:00  \n",
       "1  01 2017-12-01 00:42:16-05:00  \n",
       "2  01 2017-12-01 00:30:38-05:00  \n",
       "3  01 2017-12-01 00:28:21-05:00  \n",
       "4  01 2017-12-01 00:23:23-05:00  "
      ],
      "text/html": "<div>\n<style scoped>\n    .dataframe tbody tr th:only-of-type {\n        vertical-align: middle;\n    }\n\n    .dataframe tbody tr th {\n        vertical-align: top;\n    }\n\n    .dataframe thead th {\n        text-align: right;\n    }\n</style>\n<table border=\"1\" class=\"dataframe\">\n  <thead>\n    <tr style=\"text-align: right;\">\n      <th></th>\n      <th>id</th>\n      <th>screen_name</th>\n      <th>user_id</th>\n      <th>time</th>\n      <th>link</th>\n      <th>text</th>\n      <th>source</th>\n      <th>hashtags</th>\n      <th>callouts</th>\n      <th>html</th>\n      <th>tdmatch</th>\n      <th>year</th>\n      <th>month</th>\n      <th>time_hms</th>\n      <th>day</th>\n      <th>datetime</th>\n    </tr>\n  </thead>\n  <tbody>\n    <tr>\n      <th>0</th>\n      <td>936472671302414336</td>\n      <td>RoKhanna</td>\n      <td>771152516</td>\n      <td>2017-12-01T00:50:58-05:00</td>\n      <td>https://www.twitter.com/RoKhanna/statuses/9364...</td>\n      <td>central problem americas economy stock market ...</td>\n      <td>Twitter for iPhone</td>\n      <td>[]</td>\n      <td>[]</td>\n      <td>[]</td>\n      <td>{'year': '2017', 'month': '12', 'day': '01', '...</td>\n      <td>2017</td>\n      <td>12</td>\n      <td>00:50:58</td>\n      <td>01</td>\n      <td>2017-12-01 00:50:58-05:00</td>\n    </tr>\n    <tr>\n      <th>1</th>\n      <td>936470481011707904</td>\n      <td>jaredpolis</td>\n      <td>15361570</td>\n      <td>2017-12-01T00:42:16-05:00</td>\n      <td>https://www.twitter.com/jaredpolis/statuses/93...</td>\n      <td>sure bubble should make fortune shorting matte...</td>\n      <td>Twitter for iPhone</td>\n      <td>[#bitcoin]</td>\n      <td>[@JosephEStiglitz]</td>\n      <td>[(https, www.coindesk.com, /bitcoin-outlawed-e...</td>\n      <td>{'year': '2017', 'month': '12', 'day': '01', '...</td>\n      <td>2017</td>\n      <td>12</td>\n      <td>00:42:16</td>\n      <td>01</td>\n      <td>2017-12-01 00:42:16-05:00</td>\n    </tr>\n    <tr>\n      <th>2</th>\n      <td>936467554813521920</td>\n      <td>tedlieu</td>\n      <td>21059255</td>\n      <td>2017-12-01T00:30:38-05:00</td>\n      <td>https://www.twitter.com/tedlieu/statuses/93646...</td>\n      <td>help take back house</td>\n      <td>Twitter for Android</td>\n      <td>[]</td>\n      <td>[@TheViKingDebate, @TheJusticeDept]</td>\n      <td>[]</td>\n      <td>{'year': '2017', 'month': '12', 'day': '01', '...</td>\n      <td>2017</td>\n      <td>12</td>\n      <td>00:30:38</td>\n      <td>01</td>\n      <td>2017-12-01 00:30:38-05:00</td>\n    </tr>\n    <tr>\n      <th>3</th>\n      <td>936466979573190656</td>\n      <td>RepAlGreen</td>\n      <td>156333623</td>\n      <td>2017-12-01T00:28:21-05:00</td>\n      <td>https://www.twitter.com/RepAlGreen/statuses/93...</td>\n      <td>next week there will vote impeach bigotinchief...</td>\n      <td>Twitter for iPhone</td>\n      <td>[#RepealandReplaceTrump]</td>\n      <td>[@RepAlGreen]</td>\n      <td>[(https, youtu.be, /ItfXf3e5Ozo)]</td>\n      <td>{'year': '2017', 'month': '12', 'day': '01', '...</td>\n      <td>2017</td>\n      <td>12</td>\n      <td>00:28:21</td>\n      <td>01</td>\n      <td>2017-12-01 00:28:21-05:00</td>\n    </tr>\n    <tr>\n      <th>4</th>\n      <td>936465730538819584</td>\n      <td>tedlieu</td>\n      <td>21059255</td>\n      <td>2017-12-01T00:23:23-05:00</td>\n      <td>https://www.twitter.com/tedlieu/statuses/93646...</td>\n      <td>dear sessions have agents prosecutors with not...</td>\n      <td>Twitter for Android</td>\n      <td>[]</td>\n      <td>[@TheJusticeDept, @intelligencer]</td>\n      <td>[(https, twitter.com, /intelligencer/status/93...</td>\n      <td>{'year': '2017', 'month': '12', 'day': '01', '...</td>\n      <td>2017</td>\n      <td>12</td>\n      <td>00:23:23</td>\n      <td>01</td>\n      <td>2017-12-01 00:23:23-05:00</td>\n    </tr>\n  </tbody>\n</table>\n</div>"
     },
     "metadata": {},
     "execution_count": 26
    }
   ],
   "source": [
    "df.head()"
   ]
  },
  {
   "cell_type": "code",
   "execution_count": null,
   "metadata": {},
   "outputs": [],
   "source": []
  }
 ]
}
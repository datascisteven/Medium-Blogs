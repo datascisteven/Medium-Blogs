{
 "metadata": {
  "language_info": {
   "codemirror_mode": {
    "name": "ipython",
    "version": 3
   },
   "file_extension": ".py",
   "mimetype": "text/x-python",
   "name": "python",
   "nbconvert_exporter": "python",
   "pygments_lexer": "ipython3",
   "version": "3.9.1-final"
  },
  "orig_nbformat": 2,
  "kernelspec": {
   "name": "python3",
   "display_name": "Python 3.9.1 64-bit ('learn-env': conda)",
   "metadata": {
    "interpreter": {
     "hash": "80773cdecc613a186b9eac051636553d2ff0f99c57590601666ed713bd5d0256"
    }
   }
  }
 },
 "nbformat": 4,
 "nbformat_minor": 2,
 "cells": [
  {
   "source": [
    "# RegEx Workbook"
   ],
   "cell_type": "markdown",
   "metadata": {}
  },
  {
   "cell_type": "code",
   "execution_count": 129,
   "metadata": {},
   "outputs": [],
   "source": [
    "# import modules\n",
    "import json\n",
    "import pandas as pd\n",
    "import re\n",
    "import regex\n",
    "from datetime import datetime\n",
    "pd.set_option(\"display.max_rows\", 999)\n",
    "pd.set_option(\"display.max_columns\", 999)"
   ]
  },
  {
   "cell_type": "code",
   "execution_count": 188,
   "metadata": {},
   "outputs": [
    {
     "output_type": "execute_result",
     "data": {
      "text/plain": [
       "                      id      screen_name     user_id  \\\n",
       "0     936472671302414336         RoKhanna   771152516   \n",
       "1     936470481011707904       jaredpolis    15361570   \n",
       "2     936467554813521920          tedlieu    21059255   \n",
       "3     936466979573190656       RepAlGreen   156333623   \n",
       "4     936465730538819584          tedlieu    21059255   \n",
       "...                  ...              ...         ...   \n",
       "3089  936808302633033728   RepDwightEvans    90639372   \n",
       "3090  936808273109323776   RepDwightEvans    90639372   \n",
       "3091  936807981210988544         RepAdams  2916086925   \n",
       "3092  936807771512565760         RepAdams  2916086925   \n",
       "3093  936667449579229184  BLeeForCongress   414436134   \n",
       "\n",
       "                           time  \\\n",
       "0     2017-12-01T00:50:58-05:00   \n",
       "1     2017-12-01T00:42:16-05:00   \n",
       "2     2017-12-01T00:30:38-05:00   \n",
       "3     2017-12-01T00:28:21-05:00   \n",
       "4     2017-12-01T00:23:23-05:00   \n",
       "...                         ...   \n",
       "3089  2017-12-01T23:04:39-05:00   \n",
       "3090  2017-12-01T23:04:32-05:00   \n",
       "3091  2017-12-01T23:03:22-05:00   \n",
       "3092  2017-12-01T23:02:32-05:00   \n",
       "3093  2017-12-01T13:44:57-05:00   \n",
       "\n",
       "                                                   link  \\\n",
       "0     https://www.twitter.com/RoKhanna/statuses/9364...   \n",
       "1     https://www.twitter.com/jaredpolis/statuses/93...   \n",
       "2     https://www.twitter.com/tedlieu/statuses/93646...   \n",
       "3     https://www.twitter.com/RepAlGreen/statuses/93...   \n",
       "4     https://www.twitter.com/tedlieu/statuses/93646...   \n",
       "...                                                 ...   \n",
       "3089  https://www.twitter.com/nytimes/statuses/93680...   \n",
       "3090  https://www.twitter.com/SenWarren/statuses/936...   \n",
       "3091  https://www.twitter.com/KamalaHarris/statuses/...   \n",
       "3092  https://www.twitter.com/SenSchumer/statuses/93...   \n",
       "3093  https://www.twitter.com/BLeeForCongress/status...   \n",
       "\n",
       "                                                   text               source  \n",
       "0     Central problem for America’s economy. Stock m...   Twitter for iPhone  \n",
       "1     If @JosephEStiglitz is so sure #bitcoin is a b...   Twitter for iPhone  \n",
       "2     @TheViKingDebate @TheJusticeDept Help us take ...  Twitter for Android  \n",
       "3     RT @RepAlGreen Next week, there will be a vote...   Twitter for iPhone  \n",
       "4     Dear @TheJusticeDept Sessions: If you have age...  Twitter for Android  \n",
       "...                                                 ...                  ...  \n",
       "3089  RT @nytimes Republicans are on the verge of pa...   Twitter for iPhone  \n",
       "3090  RT @SenWarren Well there you have it: The @Sen...   Twitter for iPhone  \n",
       "3091  RT @KamalaHarris Senate Republicans are trying...   Twitter for iPhone  \n",
       "3092  RT @SenSchumer In my long career in politics, ...   Twitter for iPhone  \n",
       "3093  Nearly 16 million HIV infections have been ave...            TweetDeck  \n",
       "\n",
       "[3094 rows x 7 columns]"
      ],
      "text/html": "<div>\n<style scoped>\n    .dataframe tbody tr th:only-of-type {\n        vertical-align: middle;\n    }\n\n    .dataframe tbody tr th {\n        vertical-align: top;\n    }\n\n    .dataframe thead th {\n        text-align: right;\n    }\n</style>\n<table border=\"1\" class=\"dataframe\">\n  <thead>\n    <tr style=\"text-align: right;\">\n      <th></th>\n      <th>id</th>\n      <th>screen_name</th>\n      <th>user_id</th>\n      <th>time</th>\n      <th>link</th>\n      <th>text</th>\n      <th>source</th>\n    </tr>\n  </thead>\n  <tbody>\n    <tr>\n      <th>0</th>\n      <td>936472671302414336</td>\n      <td>RoKhanna</td>\n      <td>771152516</td>\n      <td>2017-12-01T00:50:58-05:00</td>\n      <td>https://www.twitter.com/RoKhanna/statuses/9364...</td>\n      <td>Central problem for America’s economy. Stock m...</td>\n      <td>Twitter for iPhone</td>\n    </tr>\n    <tr>\n      <th>1</th>\n      <td>936470481011707904</td>\n      <td>jaredpolis</td>\n      <td>15361570</td>\n      <td>2017-12-01T00:42:16-05:00</td>\n      <td>https://www.twitter.com/jaredpolis/statuses/93...</td>\n      <td>If @JosephEStiglitz is so sure #bitcoin is a b...</td>\n      <td>Twitter for iPhone</td>\n    </tr>\n    <tr>\n      <th>2</th>\n      <td>936467554813521920</td>\n      <td>tedlieu</td>\n      <td>21059255</td>\n      <td>2017-12-01T00:30:38-05:00</td>\n      <td>https://www.twitter.com/tedlieu/statuses/93646...</td>\n      <td>@TheViKingDebate @TheJusticeDept Help us take ...</td>\n      <td>Twitter for Android</td>\n    </tr>\n    <tr>\n      <th>3</th>\n      <td>936466979573190656</td>\n      <td>RepAlGreen</td>\n      <td>156333623</td>\n      <td>2017-12-01T00:28:21-05:00</td>\n      <td>https://www.twitter.com/RepAlGreen/statuses/93...</td>\n      <td>RT @RepAlGreen Next week, there will be a vote...</td>\n      <td>Twitter for iPhone</td>\n    </tr>\n    <tr>\n      <th>4</th>\n      <td>936465730538819584</td>\n      <td>tedlieu</td>\n      <td>21059255</td>\n      <td>2017-12-01T00:23:23-05:00</td>\n      <td>https://www.twitter.com/tedlieu/statuses/93646...</td>\n      <td>Dear @TheJusticeDept Sessions: If you have age...</td>\n      <td>Twitter for Android</td>\n    </tr>\n    <tr>\n      <th>...</th>\n      <td>...</td>\n      <td>...</td>\n      <td>...</td>\n      <td>...</td>\n      <td>...</td>\n      <td>...</td>\n      <td>...</td>\n    </tr>\n    <tr>\n      <th>3089</th>\n      <td>936808302633033728</td>\n      <td>RepDwightEvans</td>\n      <td>90639372</td>\n      <td>2017-12-01T23:04:39-05:00</td>\n      <td>https://www.twitter.com/nytimes/statuses/93680...</td>\n      <td>RT @nytimes Republicans are on the verge of pa...</td>\n      <td>Twitter for iPhone</td>\n    </tr>\n    <tr>\n      <th>3090</th>\n      <td>936808273109323776</td>\n      <td>RepDwightEvans</td>\n      <td>90639372</td>\n      <td>2017-12-01T23:04:32-05:00</td>\n      <td>https://www.twitter.com/SenWarren/statuses/936...</td>\n      <td>RT @SenWarren Well there you have it: The @Sen...</td>\n      <td>Twitter for iPhone</td>\n    </tr>\n    <tr>\n      <th>3091</th>\n      <td>936807981210988544</td>\n      <td>RepAdams</td>\n      <td>2916086925</td>\n      <td>2017-12-01T23:03:22-05:00</td>\n      <td>https://www.twitter.com/KamalaHarris/statuses/...</td>\n      <td>RT @KamalaHarris Senate Republicans are trying...</td>\n      <td>Twitter for iPhone</td>\n    </tr>\n    <tr>\n      <th>3092</th>\n      <td>936807771512565760</td>\n      <td>RepAdams</td>\n      <td>2916086925</td>\n      <td>2017-12-01T23:02:32-05:00</td>\n      <td>https://www.twitter.com/SenSchumer/statuses/93...</td>\n      <td>RT @SenSchumer In my long career in politics, ...</td>\n      <td>Twitter for iPhone</td>\n    </tr>\n    <tr>\n      <th>3093</th>\n      <td>936667449579229184</td>\n      <td>BLeeForCongress</td>\n      <td>414436134</td>\n      <td>2017-12-01T13:44:57-05:00</td>\n      <td>https://www.twitter.com/BLeeForCongress/status...</td>\n      <td>Nearly 16 million HIV infections have been ave...</td>\n      <td>TweetDeck</td>\n    </tr>\n  </tbody>\n</table>\n<p>3094 rows × 7 columns</p>\n</div>"
     },
     "metadata": {},
     "execution_count": 188
    }
   ],
   "source": [
    "# import twitter data\n",
    "data_json = open('data/tweets/2017-12-01.json', mode='r').read()  \n",
    "df = pd.read_json('data/tweets/2017-12-01.json')\n",
    "df"
   ]
  },
  {
   "cell_type": "code",
   "execution_count": 189,
   "metadata": {},
   "outputs": [
    {
     "output_type": "execute_result",
     "data": {
      "text/plain": [
       "id              int64\n",
       "screen_name    object\n",
       "user_id         int64\n",
       "time           object\n",
       "link           object\n",
       "text           object\n",
       "source         object\n",
       "dtype: object"
      ]
     },
     "metadata": {},
     "execution_count": 189
    }
   ],
   "source": [
    "df.dtypes"
   ]
  },
  {
   "source": [
    "# Data Preprocessing"
   ],
   "cell_type": "markdown",
   "metadata": {}
  },
  {
   "cell_type": "code",
   "execution_count": 190,
   "metadata": {},
   "outputs": [
    {
     "output_type": "execute_result",
     "data": {
      "text/plain": [
       "0                             []\n",
       "1                     [#bitcoin]\n",
       "2                             []\n",
       "3       [#RepealandReplaceTrump]\n",
       "4                             []\n",
       "                  ...           \n",
       "3089                          []\n",
       "3090               [#GOPTaxScam]\n",
       "3091                          []\n",
       "3092                          []\n",
       "3093    [#WAD2017, #EndAIDS2030]\n",
       "Name: hashtags, Length: 3094, dtype: object"
      ]
     },
     "metadata": {},
     "execution_count": 190
    }
   ],
   "source": [
    "# extract all hashtags into new column\n",
    "df['hashtags'] = df.text.apply(lambda x: re.findall(r'#[\\S]+', str(x)))\n",
    "df.hashtags"
   ]
  },
  {
   "cell_type": "code",
   "execution_count": 191,
   "metadata": {},
   "outputs": [
    {
     "output_type": "execute_result",
     "data": {
      "text/plain": [
       "'Dear @TheJusticeDept Sessions: If you have agents &amp; prosecutors with nothing to do, here are crimes more important than the stupid federal law against marijuana:\\n\\nChild pornography \\nKidnapping \\nBank Robbery \\nIdentity Theft \\n\\nAnd are you ready for this ... here it comes\\n\\nPERJURY https://twitter.com/intelligencer/status/936347100501151744 QT @intelligencer Jeff Sessions on Wednesday suggested that the federal government is preparing to crack down on recreational marijuana http://nym.ag/2BxCAtQ'"
      ]
     },
     "metadata": {},
     "execution_count": 191
    }
   ],
   "source": [
    "df.text[4]"
   ]
  },
  {
   "cell_type": "code",
   "execution_count": 192,
   "metadata": {},
   "outputs": [
    {
     "output_type": "execute_result",
     "data": {
      "text/plain": [
       "'RT @StephenAtHome Non-hypothetical question: are you insane? https://twitter.com/DonaldJTrumpJr/status/144505633981468672 QT @DonaldJTrumpJr Hypothetical question? Can my 2 year old get in trouble 4 sexual harassment for asking his teacher to come to his place naked after school?'"
      ]
     },
     "metadata": {},
     "execution_count": 192
    }
   ],
   "source": [
    "df.text[6]"
   ]
  },
  {
   "cell_type": "code",
   "execution_count": null,
   "metadata": {},
   "outputs": [],
   "source": [
    "wrappedpattern = \"(\" + pattern \")\"\n",
    "regex = re.compile(wrappedpattern)\n",
    "matches "
   ]
  },
  {
   "cell_type": "code",
   "execution_count": 250,
   "metadata": {},
   "outputs": [
    {
     "output_type": "error",
     "ename": "IndexError",
     "evalue": "list index out of range",
     "traceback": [
      "\u001b[0;31m---------------------------------------------------------------------------\u001b[0m",
      "\u001b[0;31mIndexError\u001b[0m                                Traceback (most recent call last)",
      "\u001b[0;32m<ipython-input-250-4523af5dfb77>\u001b[0m in \u001b[0;36m<module>\u001b[0;34m\u001b[0m\n\u001b[1;32m      1\u001b[0m \u001b[0;31m# extract all callouts\u001b[0m\u001b[0;34m\u001b[0m\u001b[0;34m\u001b[0m\u001b[0;34m\u001b[0m\u001b[0m\n\u001b[1;32m      2\u001b[0m \u001b[0mdf\u001b[0m\u001b[0;34m[\u001b[0m\u001b[0;34m'callouts'\u001b[0m\u001b[0;34m]\u001b[0m \u001b[0;34m=\u001b[0m \u001b[0mdf\u001b[0m\u001b[0;34m.\u001b[0m\u001b[0mtext\u001b[0m\u001b[0;34m.\u001b[0m\u001b[0mapply\u001b[0m\u001b[0;34m(\u001b[0m\u001b[0;32mlambda\u001b[0m \u001b[0mx\u001b[0m\u001b[0;34m:\u001b[0m \u001b[0mre\u001b[0m\u001b[0;34m.\u001b[0m\u001b[0mfindall\u001b[0m\u001b[0;34m(\u001b[0m\u001b[0;34mr'@[\\S]+'\u001b[0m\u001b[0;34m,\u001b[0m \u001b[0mstr\u001b[0m\u001b[0;34m(\u001b[0m\u001b[0mx\u001b[0m\u001b[0;34m)\u001b[0m\u001b[0;34m)\u001b[0m\u001b[0;34m)\u001b[0m\u001b[0;34m\u001b[0m\u001b[0;34m\u001b[0m\u001b[0m\n\u001b[0;32m----> 3\u001b[0;31m \u001b[0mdf\u001b[0m\u001b[0;34m[\u001b[0m\u001b[0;34m'callouts'\u001b[0m\u001b[0;34m]\u001b[0m\u001b[0;34m[\u001b[0m\u001b[0;36m0\u001b[0m\u001b[0;34m]\u001b[0m\u001b[0;34m[\u001b[0m\u001b[0;36m0\u001b[0m\u001b[0;34m]\u001b[0m\u001b[0;34m\u001b[0m\u001b[0;34m\u001b[0m\u001b[0m\n\u001b[0m",
      "\u001b[0;31mIndexError\u001b[0m: list index out of range"
     ]
    }
   ],
   "source": [
    "# extract all callouts\n",
    "df['callouts'] = df.text.apply(lambda x: re.findall(r'@[\\S]+', str(x)))\n",
    "df['callouts'][0][0]"
   ]
  },
  {
   "cell_type": "code",
   "execution_count": 194,
   "metadata": {},
   "outputs": [
    {
     "output_type": "execute_result",
     "data": {
      "text/plain": [
       "582"
      ]
     },
     "metadata": {},
     "execution_count": 194
    }
   ],
   "source": [
    "charref = [x for x in df.text.apply(lambda x: re.findall(r'&[\\S]+', str(x)))]\n",
    "charref\n",
    "flat_list = [item for sublist in charref for item in sublist]\n",
    "len(flat_list)"
   ]
  },
  {
   "cell_type": "code",
   "execution_count": 205,
   "metadata": {},
   "outputs": [
    {
     "output_type": "execute_result",
     "data": {
      "text/plain": [
       "0       Central problem for America’s economy. Stock m...\n",
       "1       If  is so sure  is a bubble, he should make a ...\n",
       "2                            Help us take back the House.\n",
       "3       RT  Next week, there will be a vote to impeach...\n",
       "4       Dear  Sessions: If you have agents  prosecutor...\n",
       "                              ...                        \n",
       "3089    RT  Republicans are on the verge of passing ta...\n",
       "3090    RT  Well there you have it: The  won’t even gi...\n",
       "3091    RT  Senate Republicans are trying to force a v...\n",
       "3092    RT  In my long career in politics, I have not ...\n",
       "3093    Nearly 16 million HIV infections have been ave...\n",
       "Name: text, Length: 3094, dtype: object"
      ]
     },
     "metadata": {},
     "execution_count": 205
    }
   ],
   "source": [
    "# replace all hashtags, ampersands, and callouts with no space\n",
    "df.text = df.text.apply(lambda x: re.sub(r'[#@&][\\S]+', '', str(x)))\n",
    "df.text"
   ]
  },
  {
   "cell_type": "code",
   "execution_count": 206,
   "metadata": {},
   "outputs": [
    {
     "output_type": "execute_result",
     "data": {
      "text/plain": [
       "0       Central problem for America’s economy. Stock m...\n",
       "1       If  is so sure  is a bubble, he should make a ...\n",
       "2                            Help us take back the House.\n",
       "3         Next week, there will be a vote to impeach t...\n",
       "4       Dear  Sessions: If you have agents  prosecutor...\n",
       "                              ...                        \n",
       "3089      Republicans are on the verge of passing tax ...\n",
       "3090      Well there you have it: The  won’t even give...\n",
       "3091      Senate Republicans are trying to force a vot...\n",
       "3092      In my long career in politics, I have not se...\n",
       "3093    Nearly 16 million HIV infections have been ave...\n",
       "Name: text, Length: 3094, dtype: object"
      ]
     },
     "metadata": {},
     "execution_count": 206
    }
   ],
   "source": [
    "# remove twitter RT and QT\n",
    "df.text = df.text.apply(lambda x: re.sub(r'(\\bRT\\b|\\bQT\\b)', '', str(x)))\n",
    "df.text"
   ]
  },
  {
   "cell_type": "code",
   "execution_count": 207,
   "metadata": {},
   "outputs": [
    {
     "output_type": "execute_result",
     "data": {
      "text/plain": [
       "0       Central problem for America’s economy. Stock m...\n",
       "1       If  is so sure  is a bubble, he should make a ...\n",
       "2                            Help us take back the House.\n",
       "3         Next week, there will be a vote to impeach t...\n",
       "4       Dear  Sessions: If you have agents  prosecutor...\n",
       "                              ...                        \n",
       "3089      Republicans are on the verge of passing tax ...\n",
       "3090      Well there you have it: The  won’t even give...\n",
       "3091      Senate Republicans are trying to force a vot...\n",
       "3092      In my long career in politics, I have not se...\n",
       "3093    Nearly 16 million HIV infections have been ave...\n",
       "Name: text, Length: 3094, dtype: object"
      ]
     },
     "metadata": {},
     "execution_count": 207
    }
   ],
   "source": [
    "# remove emoji\n",
    "df.text = df.text.apply(lambda x: re.sub(r'\\B[^\\w\\s]{2,}\\B', ' ', str(x)))\n",
    "df.text"
   ]
  },
  {
   "cell_type": "code",
   "execution_count": 210,
   "metadata": {},
   "outputs": [
    {
     "output_type": "execute_result",
     "data": {
      "text/plain": [
       "[('https',\n",
       "  'www.coindesk.com',\n",
       "  '/bitcoin-outlawed-economist-joseph-stiglitz-says/')]"
      ]
     },
     "metadata": {},
     "execution_count": 210
    }
   ],
   "source": [
    "# extract html links\n",
    "df['html'] = df.text.apply(lambda x: re.findall(r'(http|ftp|https)://([\\w_-]+(?:(?:\\.[\\w_-]+)+))([\\w.,@?^=%&:/~+#-]*[\\w@?^=%&/~+#-])?', str(x)))\n",
    "df.html[1]"
   ]
  },
  {
   "cell_type": "code",
   "execution_count": 211,
   "metadata": {},
   "outputs": [
    {
     "output_type": "execute_result",
     "data": {
      "text/plain": [
       "[('https', 'twitter.com', '/intelligencer/status/936347100501151744'),\n",
       " ('http', 'nym.ag', '/2BxCAtQ')]"
      ]
     },
     "metadata": {},
     "execution_count": 211
    }
   ],
   "source": [
    "df.html[4]"
   ]
  },
  {
   "cell_type": "code",
   "execution_count": 212,
   "metadata": {},
   "outputs": [
    {
     "output_type": "execute_result",
     "data": {
      "text/plain": [
       "0       Central problem for America’s economy. Stock m...\n",
       "1       If  is so sure  is a bubble, he should make a ...\n",
       "2                            Help us take back the House.\n",
       "3         Next week, there will be a vote to impeach t...\n",
       "4       Dear  Sessions: If you have agents  prosecutor...\n",
       "                              ...                        \n",
       "3089      Republicans are on the verge of passing tax ...\n",
       "3090      Well there you have it: The  won’t even give...\n",
       "3091      Senate Republicans are trying to force a vot...\n",
       "3092      In my long career in politics, I have not se...\n",
       "3093    Nearly 16 million HIV infections have been ave...\n",
       "Name: text, Length: 3094, dtype: object"
      ]
     },
     "metadata": {},
     "execution_count": 212
    }
   ],
   "source": [
    "# remove html links\n",
    "df.text = df.text.apply(lambda x:re.sub(r'(http|ftp|https)://([\\w_-]+(?:(?:\\.[\\w_-]+)+))([\\w.,@?^=%&:/~+#-]*[\\w@?^=%&/~+#-])?', '', str(x)))\n",
    "df.text"
   ]
  },
  {
   "cell_type": "code",
   "execution_count": 215,
   "metadata": {},
   "outputs": [
    {
     "output_type": "execute_result",
     "data": {
      "text/plain": [
       "0       Central problem for Americas economy Stock mar...\n",
       "1       If  is so sure  is a bubble he should make a f...\n",
       "2                             Help us take back the House\n",
       "3         Next week there will be a vote to impeach th...\n",
       "4       Dear  Sessions If you have agents  prosecutors...\n",
       "                              ...                        \n",
       "3089      Republicans are on the verge of passing tax ...\n",
       "3090      Well there you have it The  wont even give D...\n",
       "3091      Senate Republicans are trying to force a vot...\n",
       "3092      In my long career in politics I have not see...\n",
       "3093    Nearly 16 million HIV infections have been ave...\n",
       "Name: text, Length: 3094, dtype: object"
      ]
     },
     "metadata": {},
     "execution_count": 215
    }
   ],
   "source": [
    "# remove punctuation\n",
    "df.text = df.text.apply(lambda x: re.sub(r'[^\\w\\s]', r'', str(x)))\n",
    "df.text"
   ]
  },
  {
   "cell_type": "code",
   "execution_count": 216,
   "metadata": {},
   "outputs": [
    {
     "output_type": "execute_result",
     "data": {
      "text/plain": [
       "0       central problem for americas economy stock mar...\n",
       "1       if is so sure is a bubble he should make a for...\n",
       "2                             help us take back the house\n",
       "3       next week there will be a vote to impeach the ...\n",
       "4       dear sessions if you have agents prosecutors w...\n",
       "                              ...                        \n",
       "3089    republicans are on the verge of passing tax bi...\n",
       "3090    well there you have it the wont even give demo...\n",
       "3091    senate republicans are trying to force a vote ...\n",
       "3092    in my long career in politics i have not seen ...\n",
       "3093    nearly 16 million hiv infections have been ave...\n",
       "Name: text, Length: 3094, dtype: object"
      ]
     },
     "metadata": {},
     "execution_count": 216
    }
   ],
   "source": [
    "# lower casing\n",
    "df.text = df.text.apply(lambda x: \" \".join(x.lower() for x in x.split()))\n",
    "df.text"
   ]
  },
  {
   "cell_type": "code",
   "execution_count": 217,
   "metadata": {},
   "outputs": [
    {
     "output_type": "execute_result",
     "data": {
      "text/plain": [
       "0       central problem americas economy stock market ...\n",
       "1        sure bubble should make fortune shorting matt...\n",
       "2                                    help take back house\n",
       "3       next week there will vote impeach bigotinchief...\n",
       "4       dear sessions have agents prosecutors with not...\n",
       "                              ...                        \n",
       "3089    republicans verge passing bill with significan...\n",
       "3090    well there have wont even give democrats weeke...\n",
       "3091    senate republicans trying force vote next hour...\n",
       "3092     long career politics have seen more regressiv...\n",
       "3093    nearly million infections have been averted wo...\n",
       "Name: text, Length: 3094, dtype: object"
      ]
     },
     "metadata": {},
     "execution_count": 217
    }
   ],
   "source": [
    "# remove words less than 4 words long\n",
    "shortword = re.compile(r'\\W*\\b\\w{1,3}\\b')\n",
    "df.text = df.text.apply(lambda x: shortword.sub('', str(x)))\n",
    "df.text"
   ]
  },
  {
   "cell_type": "code",
   "execution_count": 218,
   "metadata": {},
   "outputs": [
    {
     "output_type": "execute_result",
     "data": {
      "text/plain": [
       "0       central problem americas economy stock market ...\n",
       "1        sure bubble should make fortune shorting matt...\n",
       "2                                    help take back house\n",
       "3       next week there will vote impeach bigotinchief...\n",
       "4       dear sessions have agents prosecutors with not...\n",
       "                              ...                        \n",
       "3089    republicans verge passing bill with significan...\n",
       "3090    well there have wont even give democrats weeke...\n",
       "3091    senate republicans trying force vote next hour...\n",
       "3092     long career politics have seen more regressiv...\n",
       "3093    nearly million infections have been averted wo...\n",
       "Name: text, Length: 3094, dtype: object"
      ]
     },
     "metadata": {},
     "execution_count": 218
    }
   ],
   "source": [
    "# remove any double or more whitespaces to single whitespaces\n",
    "df.text = df.text.apply(lambda x: re.sub(r'\\s\\s+', ' ', str(x)))\n",
    "df.text"
   ]
  },
  {
   "cell_type": "code",
   "execution_count": 220,
   "metadata": {},
   "outputs": [
    {
     "output_type": "execute_result",
     "data": {
      "text/plain": [
       "0       central problem americas economy stock market ...\n",
       "1       sure bubble should make fortune shorting matte...\n",
       "2                                    help take back house\n",
       "3       next week there will vote impeach bigotinchief...\n",
       "4       dear sessions have agents prosecutors with not...\n",
       "                              ...                        \n",
       "3089    republicans verge passing bill with significan...\n",
       "3090    well there have wont even give democrats weeke...\n",
       "3091    senate republicans trying force vote next hour...\n",
       "3092    long career politics have seen more regressive...\n",
       "3093    nearly million infections have been averted wo...\n",
       "Name: text, Length: 3094, dtype: object"
      ]
     },
     "metadata": {},
     "execution_count": 220
    }
   ],
   "source": [
    "# remove any leading and trailing whitespace\n",
    "df.text = df.text.apply(lambda x: re.sub(r'(\\A\\s+|\\s+\\Z)', '', str(x)))\n",
    "df.text"
   ]
  },
  {
   "cell_type": "code",
   "execution_count": 249,
   "metadata": {},
   "outputs": [
    {
     "output_type": "execute_result",
     "data": {
      "text/plain": [
       "0     central problem americas economy stock market ...\n",
       "1     sure bubble should make fortune shorting matte...\n",
       "2                                  help take back house\n",
       "3     next week there will vote impeach bigotinchief...\n",
       "4     dear sessions have agents prosecutors with not...\n",
       "5     honestly cattle smarter than this person hypot...\n",
       "6     nonhypothetical question insane hypothetical q...\n",
       "7     heard text scam 97779 enter your well connect ...\n",
       "8     this bill demonstratesonce again total collaps...\n",
       "9     from rebuilding communities impacted hurricane...\n",
       "10    truth that republicans marched past large numb...\n",
       "11    urge senate vote proposed legislation that wil...\n",
       "12    today senate begins debate light phones before...\n",
       "13    truth mattersso does math raising taxes millio...\n",
       "14    talk again about will explode senates official...\n",
       "15    alegra verlo gran señora siempre apoyando vene...\n",
       "16      trump pressed republicans senate russia inquiry\n",
       "17    just finished teletownhall over 4000 constitue...\n",
       "18       vote impeach trump will happen next week green\n",
       "19    snap poll feel about innout burger coming colo...\n",
       "20    next week there will vote impeach bigotinchief...\n",
       "21    while wait news read dispatch from northwest f...\n",
       "22    cops kidnap victim found woods group searching...\n",
       "23    momma called when momma calls just have come r...\n",
       "24                                remember kate steinle\n",
       "25    lawmakers have carte blanche secret harassment...\n",
       "26    cuts jobs made america america time senate pas...\n",
       "27    watch christopher plummer newly recut money wo...\n",
       "28    plan vote today bill announces support senate ...\n",
       "29                                                     \n",
       "Name: text, dtype: object"
      ]
     },
     "metadata": {},
     "execution_count": 249
    }
   ],
   "source": [
    "df.text.head(30)"
   ]
  },
  {
   "source": [
    "# Time Column"
   ],
   "cell_type": "markdown",
   "metadata": {}
  },
  {
   "cell_type": "code",
   "execution_count": 222,
   "metadata": {},
   "outputs": [
    {
     "output_type": "execute_result",
     "data": {
      "text/plain": [
       "0       2017-12-01T00:50:58-05:00\n",
       "1       2017-12-01T00:42:16-05:00\n",
       "2       2017-12-01T00:30:38-05:00\n",
       "3       2017-12-01T00:28:21-05:00\n",
       "4       2017-12-01T00:23:23-05:00\n",
       "                  ...            \n",
       "3089    2017-12-01T23:04:39-05:00\n",
       "3090    2017-12-01T23:04:32-05:00\n",
       "3091    2017-12-01T23:03:22-05:00\n",
       "3092    2017-12-01T23:02:32-05:00\n",
       "3093    2017-12-01T13:44:57-05:00\n",
       "Name: time, Length: 3094, dtype: object"
      ]
     },
     "metadata": {},
     "execution_count": 222
    }
   ],
   "source": [
    "df.time"
   ]
  },
  {
   "cell_type": "code",
   "execution_count": 235,
   "metadata": {},
   "outputs": [
    {
     "output_type": "execute_result",
     "data": {
      "text/plain": [
       "0       2017-12-01T00:50:58-05:00\n",
       "1       2017-12-01T00:42:16-05:00\n",
       "2       2017-12-01T00:30:38-05:00\n",
       "3       2017-12-01T00:28:21-05:00\n",
       "4       2017-12-01T00:23:23-05:00\n",
       "                  ...            \n",
       "3089    2017-12-01T23:04:39-05:00\n",
       "3090    2017-12-01T23:04:32-05:00\n",
       "3091    2017-12-01T23:03:22-05:00\n",
       "3092    2017-12-01T23:02:32-05:00\n",
       "3093    2017-12-01T13:44:57-05:00\n",
       "Name: time, Length: 3094, dtype: object"
      ]
     },
     "metadata": {},
     "execution_count": 235
    }
   ],
   "source": [
    "df.time"
   ]
  },
  {
   "cell_type": "code",
   "execution_count": 236,
   "metadata": {},
   "outputs": [
    {
     "output_type": "execute_result",
     "data": {
      "text/plain": [
       "'2017-12-01T00:50:58-05:00'"
      ]
     },
     "metadata": {},
     "execution_count": 236
    }
   ],
   "source": [
    "df.time[0]"
   ]
  },
  {
   "cell_type": "code",
   "execution_count": 246,
   "metadata": {},
   "outputs": [
    {
     "output_type": "execute_result",
     "data": {
      "text/plain": [
       "0       {'year': '2017', 'month': '12', 'day': '01', '...\n",
       "1       {'year': '2017', 'month': '12', 'day': '01', '...\n",
       "2       {'year': '2017', 'month': '12', 'day': '01', '...\n",
       "3       {'year': '2017', 'month': '12', 'day': '01', '...\n",
       "4       {'year': '2017', 'month': '12', 'day': '01', '...\n",
       "                              ...                        \n",
       "3089    {'year': '2017', 'month': '12', 'day': '01', '...\n",
       "3090    {'year': '2017', 'month': '12', 'day': '01', '...\n",
       "3091    {'year': '2017', 'month': '12', 'day': '01', '...\n",
       "3092    {'year': '2017', 'month': '12', 'day': '01', '...\n",
       "3093    {'year': '2017', 'month': '12', 'day': '01', '...\n",
       "Name: match, Length: 3094, dtype: object"
      ]
     },
     "metadata": {},
     "execution_count": 246
    }
   ],
   "source": [
    "import regex\n",
    "df['time'] = [x for x in df.time.apply(lambda x: regex.match(r'^(?P<year>\\d{4})-(?P<month>\\d{2})-(?P<day>\\d{2})T(?P<time>\\d{2}:\\d{2}:\\d{2})-\\d{2}:\\d{2}$', str(x)))]\n",
    "df.match = df.match.apply(lambda x: x.groupdict())\n",
    "df.match"
   ]
  },
  {
   "cell_type": "code",
   "execution_count": 247,
   "metadata": {},
   "outputs": [
    {
     "output_type": "execute_result",
     "data": {
      "text/plain": [
       "{'year': '2017', 'month': '12', 'day': '01', 'time': '00:50:58'}"
      ]
     },
     "metadata": {},
     "execution_count": 247
    }
   ],
   "source": [
    "df.match[0]"
   ]
  },
  {
   "cell_type": "code",
   "execution_count": 245,
   "metadata": {},
   "outputs": [
    {
     "output_type": "execute_result",
     "data": {
      "text/plain": [
       "0       {'year': '2017', 'month': '12', 'day': '01', '...\n",
       "1       {'year': '2017', 'month': '12', 'day': '01', '...\n",
       "2       {'year': '2017', 'month': '12', 'day': '01', '...\n",
       "3       {'year': '2017', 'month': '12', 'day': '01', '...\n",
       "4       {'year': '2017', 'month': '12', 'day': '01', '...\n",
       "                              ...                        \n",
       "3089    {'year': '2017', 'month': '12', 'day': '01', '...\n",
       "3090    {'year': '2017', 'month': '12', 'day': '01', '...\n",
       "3091    {'year': '2017', 'month': '12', 'day': '01', '...\n",
       "3092    {'year': '2017', 'month': '12', 'day': '01', '...\n",
       "3093    {'year': '2017', 'month': '12', 'day': '01', '...\n",
       "Name: match, Length: 3094, dtype: object"
      ]
     },
     "metadata": {},
     "execution_count": 245
    }
   ],
   "source": []
  },
  {
   "cell_type": "code",
   "execution_count": 223,
   "metadata": {},
   "outputs": [],
   "source": []
  },
  {
   "cell_type": "code",
   "execution_count": 228,
   "metadata": {},
   "outputs": [
    {
     "output_type": "execute_result",
     "data": {
      "text/plain": [
       "0      2017-12-01 00:50:58-05:00\n",
       "1      2017-12-01 00:42:16-05:00\n",
       "2      2017-12-01 00:30:38-05:00\n",
       "3      2017-12-01 00:28:21-05:00\n",
       "4      2017-12-01 00:23:23-05:00\n",
       "                  ...           \n",
       "3089   2017-12-01 23:04:39-05:00\n",
       "3090   2017-12-01 23:04:32-05:00\n",
       "3091   2017-12-01 23:03:22-05:00\n",
       "3092   2017-12-01 23:02:32-05:00\n",
       "3093   2017-12-01 13:44:57-05:00\n",
       "Name: datetime, Length: 3094, dtype: datetime64[ns, UTC-05:00]"
      ]
     },
     "metadata": {},
     "execution_count": 228
    }
   ],
   "source": [
    "format = \"%Y-%m-%dT%H:%M:%S%z\"\n",
    "df['datetime'] = df.time.apply(lambda x: datetime.strptime(x, format))\n",
    "df.datetime"
   ]
  },
  {
   "cell_type": "code",
   "execution_count": 227,
   "metadata": {},
   "outputs": [
    {
     "output_type": "execute_result",
     "data": {
      "text/plain": [
       "0      2017-12-01 00:50:58-05:00\n",
       "1      2017-12-01 00:42:16-05:00\n",
       "2      2017-12-01 00:30:38-05:00\n",
       "3      2017-12-01 00:28:21-05:00\n",
       "4      2017-12-01 00:23:23-05:00\n",
       "                  ...           \n",
       "3089   2017-12-01 23:04:39-05:00\n",
       "3090   2017-12-01 23:04:32-05:00\n",
       "3091   2017-12-01 23:03:22-05:00\n",
       "3092   2017-12-01 23:02:32-05:00\n",
       "3093   2017-12-01 13:44:57-05:00\n",
       "Name: datetime, Length: 3094, dtype: datetime64[ns, UTC-05:00]"
      ]
     },
     "metadata": {},
     "execution_count": 227
    }
   ],
   "source": [
    "df['datetime']"
   ]
  }
 ]
}
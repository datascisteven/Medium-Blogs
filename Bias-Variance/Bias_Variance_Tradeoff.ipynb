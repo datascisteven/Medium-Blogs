{
 "metadata": {
  "language_info": {
   "codemirror_mode": {
    "name": "ipython",
    "version": 3
   },
   "file_extension": ".py",
   "mimetype": "text/x-python",
   "name": "python",
   "nbconvert_exporter": "python",
   "pygments_lexer": "ipython3",
   "version": "3.9.4"
  },
  "orig_nbformat": 2,
  "kernelspec": {
   "name": "python3",
   "display_name": "Python 3.9.4 64-bit ('learn-env': conda)"
  },
  "interpreter": {
   "hash": "80773cdecc613a186b9eac051636553d2ff0f99c57590601666ed713bd5d0256"
  }
 },
 "nbformat": 4,
 "nbformat_minor": 2,
 "cells": [
  {
   "source": [
    "\n",
    "# Importing Packages and Dataset"
   ],
   "cell_type": "markdown",
   "metadata": {}
  },
  {
   "cell_type": "code",
   "execution_count": 1,
   "metadata": {},
   "outputs": [],
   "source": [
    "# import packages for data cleaning and processing  \n",
    "import pandas as pd\n",
    "import numpy as np\n",
    "from datetime import datetime\n",
    "import warnings\n",
    "warnings.filterwarnings('ignore')\n",
    "import matplotlib.pyplot as plt\n",
    "\n",
    "# import modules for preprocessing\n",
    "from sklearn.linear_model import LinearRegression, Lasso, Ridge\n",
    "from sklearn.model_selection import train_test_split\n",
    "from sklearn.preprocessing import PolynomialFeatures, StandardScaler\n",
    "from sklearn.metrics import r2_score, mean_squared_error\n",
    "from sklearn.tree import DecisionTreeRegressor\n",
    "from sklearn.ensemble import RandomForestRegressor\n",
    "from mlxtend.evaluate import bias_variance_decomp\n",
    "\n",
    "# pd.set_option('display.max_rows', 200)\n",
    "pd.set_option('display.max_columns', 200)"
   ]
  },
  {
   "cell_type": "code",
   "execution_count": 3,
   "metadata": {},
   "outputs": [],
   "source": [
    "df = pd.read_csv('data/kc_house_data.csv')"
   ]
  },
  {
   "cell_type": "code",
   "execution_count": 4,
   "metadata": {},
   "outputs": [
    {
     "output_type": "execute_result",
     "data": {
      "text/plain": [
       "           id             date     price  bedrooms  bathrooms  sqft_living  \\\n",
       "0  7129300520  20141013T000000  221900.0         3       1.00         1180   \n",
       "1  6414100192  20141209T000000  538000.0         3       2.25         2570   \n",
       "2  5631500400  20150225T000000  180000.0         2       1.00          770   \n",
       "3  2487200875  20141209T000000  604000.0         4       3.00         1960   \n",
       "4  1954400510  20150218T000000  510000.0         3       2.00         1680   \n",
       "\n",
       "   sqft_lot  floors  waterfront  view  ...  grade  sqft_above  sqft_basement  \\\n",
       "0      5650     1.0           0     0  ...      7        1180              0   \n",
       "1      7242     2.0           0     0  ...      7        2170            400   \n",
       "2     10000     1.0           0     0  ...      6         770              0   \n",
       "3      5000     1.0           0     0  ...      7        1050            910   \n",
       "4      8080     1.0           0     0  ...      8        1680              0   \n",
       "\n",
       "   yr_built  yr_renovated  zipcode      lat     long  sqft_living15  \\\n",
       "0      1955             0    98178  47.5112 -122.257           1340   \n",
       "1      1951          1991    98125  47.7210 -122.319           1690   \n",
       "2      1933             0    98028  47.7379 -122.233           2720   \n",
       "3      1965             0    98136  47.5208 -122.393           1360   \n",
       "4      1987             0    98074  47.6168 -122.045           1800   \n",
       "\n",
       "   sqft_lot15  \n",
       "0        5650  \n",
       "1        7639  \n",
       "2        8062  \n",
       "3        5000  \n",
       "4        7503  \n",
       "\n",
       "[5 rows x 21 columns]"
      ],
      "text/html": "<div>\n<style scoped>\n    .dataframe tbody tr th:only-of-type {\n        vertical-align: middle;\n    }\n\n    .dataframe tbody tr th {\n        vertical-align: top;\n    }\n\n    .dataframe thead th {\n        text-align: right;\n    }\n</style>\n<table border=\"1\" class=\"dataframe\">\n  <thead>\n    <tr style=\"text-align: right;\">\n      <th></th>\n      <th>id</th>\n      <th>date</th>\n      <th>price</th>\n      <th>bedrooms</th>\n      <th>bathrooms</th>\n      <th>sqft_living</th>\n      <th>sqft_lot</th>\n      <th>floors</th>\n      <th>waterfront</th>\n      <th>view</th>\n      <th>...</th>\n      <th>grade</th>\n      <th>sqft_above</th>\n      <th>sqft_basement</th>\n      <th>yr_built</th>\n      <th>yr_renovated</th>\n      <th>zipcode</th>\n      <th>lat</th>\n      <th>long</th>\n      <th>sqft_living15</th>\n      <th>sqft_lot15</th>\n    </tr>\n  </thead>\n  <tbody>\n    <tr>\n      <th>0</th>\n      <td>7129300520</td>\n      <td>20141013T000000</td>\n      <td>221900.0</td>\n      <td>3</td>\n      <td>1.00</td>\n      <td>1180</td>\n      <td>5650</td>\n      <td>1.0</td>\n      <td>0</td>\n      <td>0</td>\n      <td>...</td>\n      <td>7</td>\n      <td>1180</td>\n      <td>0</td>\n      <td>1955</td>\n      <td>0</td>\n      <td>98178</td>\n      <td>47.5112</td>\n      <td>-122.257</td>\n      <td>1340</td>\n      <td>5650</td>\n    </tr>\n    <tr>\n      <th>1</th>\n      <td>6414100192</td>\n      <td>20141209T000000</td>\n      <td>538000.0</td>\n      <td>3</td>\n      <td>2.25</td>\n      <td>2570</td>\n      <td>7242</td>\n      <td>2.0</td>\n      <td>0</td>\n      <td>0</td>\n      <td>...</td>\n      <td>7</td>\n      <td>2170</td>\n      <td>400</td>\n      <td>1951</td>\n      <td>1991</td>\n      <td>98125</td>\n      <td>47.7210</td>\n      <td>-122.319</td>\n      <td>1690</td>\n      <td>7639</td>\n    </tr>\n    <tr>\n      <th>2</th>\n      <td>5631500400</td>\n      <td>20150225T000000</td>\n      <td>180000.0</td>\n      <td>2</td>\n      <td>1.00</td>\n      <td>770</td>\n      <td>10000</td>\n      <td>1.0</td>\n      <td>0</td>\n      <td>0</td>\n      <td>...</td>\n      <td>6</td>\n      <td>770</td>\n      <td>0</td>\n      <td>1933</td>\n      <td>0</td>\n      <td>98028</td>\n      <td>47.7379</td>\n      <td>-122.233</td>\n      <td>2720</td>\n      <td>8062</td>\n    </tr>\n    <tr>\n      <th>3</th>\n      <td>2487200875</td>\n      <td>20141209T000000</td>\n      <td>604000.0</td>\n      <td>4</td>\n      <td>3.00</td>\n      <td>1960</td>\n      <td>5000</td>\n      <td>1.0</td>\n      <td>0</td>\n      <td>0</td>\n      <td>...</td>\n      <td>7</td>\n      <td>1050</td>\n      <td>910</td>\n      <td>1965</td>\n      <td>0</td>\n      <td>98136</td>\n      <td>47.5208</td>\n      <td>-122.393</td>\n      <td>1360</td>\n      <td>5000</td>\n    </tr>\n    <tr>\n      <th>4</th>\n      <td>1954400510</td>\n      <td>20150218T000000</td>\n      <td>510000.0</td>\n      <td>3</td>\n      <td>2.00</td>\n      <td>1680</td>\n      <td>8080</td>\n      <td>1.0</td>\n      <td>0</td>\n      <td>0</td>\n      <td>...</td>\n      <td>8</td>\n      <td>1680</td>\n      <td>0</td>\n      <td>1987</td>\n      <td>0</td>\n      <td>98074</td>\n      <td>47.6168</td>\n      <td>-122.045</td>\n      <td>1800</td>\n      <td>7503</td>\n    </tr>\n  </tbody>\n</table>\n<p>5 rows × 21 columns</p>\n</div>"
     },
     "metadata": {},
     "execution_count": 4
    }
   ],
   "source": [
    "df.head()"
   ]
  },
  {
   "cell_type": "code",
   "execution_count": 5,
   "metadata": {},
   "outputs": [
    {
     "output_type": "execute_result",
     "data": {
      "text/plain": [
       "                 id         price      bedrooms     bathrooms   sqft_living  \\\n",
       "count  2.161300e+04  2.161300e+04  21613.000000  21613.000000  21613.000000   \n",
       "mean   4.580302e+09  5.400881e+05      3.370842      2.114757   2079.899736   \n",
       "std    2.876566e+09  3.671272e+05      0.930062      0.770163    918.440897   \n",
       "min    1.000102e+06  7.500000e+04      0.000000      0.000000    290.000000   \n",
       "25%    2.123049e+09  3.219500e+05      3.000000      1.750000   1427.000000   \n",
       "50%    3.904930e+09  4.500000e+05      3.000000      2.250000   1910.000000   \n",
       "75%    7.308900e+09  6.450000e+05      4.000000      2.500000   2550.000000   \n",
       "max    9.900000e+09  7.700000e+06     33.000000      8.000000  13540.000000   \n",
       "\n",
       "           sqft_lot        floors    waterfront          view     condition  \\\n",
       "count  2.161300e+04  21613.000000  21613.000000  21613.000000  21613.000000   \n",
       "mean   1.510697e+04      1.494309      0.007542      0.234303      3.409430   \n",
       "std    4.142051e+04      0.539989      0.086517      0.766318      0.650743   \n",
       "min    5.200000e+02      1.000000      0.000000      0.000000      1.000000   \n",
       "25%    5.040000e+03      1.000000      0.000000      0.000000      3.000000   \n",
       "50%    7.618000e+03      1.500000      0.000000      0.000000      3.000000   \n",
       "75%    1.068800e+04      2.000000      0.000000      0.000000      4.000000   \n",
       "max    1.651359e+06      3.500000      1.000000      4.000000      5.000000   \n",
       "\n",
       "              grade    sqft_above  sqft_basement      yr_built  yr_renovated  \\\n",
       "count  21613.000000  21613.000000   21613.000000  21613.000000  21613.000000   \n",
       "mean       7.656873   1788.390691     291.509045   1971.005136     84.402258   \n",
       "std        1.175459    828.090978     442.575043     29.373411    401.679240   \n",
       "min        1.000000    290.000000       0.000000   1900.000000      0.000000   \n",
       "25%        7.000000   1190.000000       0.000000   1951.000000      0.000000   \n",
       "50%        7.000000   1560.000000       0.000000   1975.000000      0.000000   \n",
       "75%        8.000000   2210.000000     560.000000   1997.000000      0.000000   \n",
       "max       13.000000   9410.000000    4820.000000   2015.000000   2015.000000   \n",
       "\n",
       "            zipcode           lat          long  sqft_living15     sqft_lot15  \n",
       "count  21613.000000  21613.000000  21613.000000   21613.000000   21613.000000  \n",
       "mean   98077.939805     47.560053   -122.213896    1986.552492   12768.455652  \n",
       "std       53.505026      0.138564      0.140828     685.391304   27304.179631  \n",
       "min    98001.000000     47.155900   -122.519000     399.000000     651.000000  \n",
       "25%    98033.000000     47.471000   -122.328000    1490.000000    5100.000000  \n",
       "50%    98065.000000     47.571800   -122.230000    1840.000000    7620.000000  \n",
       "75%    98118.000000     47.678000   -122.125000    2360.000000   10083.000000  \n",
       "max    98199.000000     47.777600   -121.315000    6210.000000  871200.000000  "
      ],
      "text/html": "<div>\n<style scoped>\n    .dataframe tbody tr th:only-of-type {\n        vertical-align: middle;\n    }\n\n    .dataframe tbody tr th {\n        vertical-align: top;\n    }\n\n    .dataframe thead th {\n        text-align: right;\n    }\n</style>\n<table border=\"1\" class=\"dataframe\">\n  <thead>\n    <tr style=\"text-align: right;\">\n      <th></th>\n      <th>id</th>\n      <th>price</th>\n      <th>bedrooms</th>\n      <th>bathrooms</th>\n      <th>sqft_living</th>\n      <th>sqft_lot</th>\n      <th>floors</th>\n      <th>waterfront</th>\n      <th>view</th>\n      <th>condition</th>\n      <th>grade</th>\n      <th>sqft_above</th>\n      <th>sqft_basement</th>\n      <th>yr_built</th>\n      <th>yr_renovated</th>\n      <th>zipcode</th>\n      <th>lat</th>\n      <th>long</th>\n      <th>sqft_living15</th>\n      <th>sqft_lot15</th>\n    </tr>\n  </thead>\n  <tbody>\n    <tr>\n      <th>count</th>\n      <td>2.161300e+04</td>\n      <td>2.161300e+04</td>\n      <td>21613.000000</td>\n      <td>21613.000000</td>\n      <td>21613.000000</td>\n      <td>2.161300e+04</td>\n      <td>21613.000000</td>\n      <td>21613.000000</td>\n      <td>21613.000000</td>\n      <td>21613.000000</td>\n      <td>21613.000000</td>\n      <td>21613.000000</td>\n      <td>21613.000000</td>\n      <td>21613.000000</td>\n      <td>21613.000000</td>\n      <td>21613.000000</td>\n      <td>21613.000000</td>\n      <td>21613.000000</td>\n      <td>21613.000000</td>\n      <td>21613.000000</td>\n    </tr>\n    <tr>\n      <th>mean</th>\n      <td>4.580302e+09</td>\n      <td>5.400881e+05</td>\n      <td>3.370842</td>\n      <td>2.114757</td>\n      <td>2079.899736</td>\n      <td>1.510697e+04</td>\n      <td>1.494309</td>\n      <td>0.007542</td>\n      <td>0.234303</td>\n      <td>3.409430</td>\n      <td>7.656873</td>\n      <td>1788.390691</td>\n      <td>291.509045</td>\n      <td>1971.005136</td>\n      <td>84.402258</td>\n      <td>98077.939805</td>\n      <td>47.560053</td>\n      <td>-122.213896</td>\n      <td>1986.552492</td>\n      <td>12768.455652</td>\n    </tr>\n    <tr>\n      <th>std</th>\n      <td>2.876566e+09</td>\n      <td>3.671272e+05</td>\n      <td>0.930062</td>\n      <td>0.770163</td>\n      <td>918.440897</td>\n      <td>4.142051e+04</td>\n      <td>0.539989</td>\n      <td>0.086517</td>\n      <td>0.766318</td>\n      <td>0.650743</td>\n      <td>1.175459</td>\n      <td>828.090978</td>\n      <td>442.575043</td>\n      <td>29.373411</td>\n      <td>401.679240</td>\n      <td>53.505026</td>\n      <td>0.138564</td>\n      <td>0.140828</td>\n      <td>685.391304</td>\n      <td>27304.179631</td>\n    </tr>\n    <tr>\n      <th>min</th>\n      <td>1.000102e+06</td>\n      <td>7.500000e+04</td>\n      <td>0.000000</td>\n      <td>0.000000</td>\n      <td>290.000000</td>\n      <td>5.200000e+02</td>\n      <td>1.000000</td>\n      <td>0.000000</td>\n      <td>0.000000</td>\n      <td>1.000000</td>\n      <td>1.000000</td>\n      <td>290.000000</td>\n      <td>0.000000</td>\n      <td>1900.000000</td>\n      <td>0.000000</td>\n      <td>98001.000000</td>\n      <td>47.155900</td>\n      <td>-122.519000</td>\n      <td>399.000000</td>\n      <td>651.000000</td>\n    </tr>\n    <tr>\n      <th>25%</th>\n      <td>2.123049e+09</td>\n      <td>3.219500e+05</td>\n      <td>3.000000</td>\n      <td>1.750000</td>\n      <td>1427.000000</td>\n      <td>5.040000e+03</td>\n      <td>1.000000</td>\n      <td>0.000000</td>\n      <td>0.000000</td>\n      <td>3.000000</td>\n      <td>7.000000</td>\n      <td>1190.000000</td>\n      <td>0.000000</td>\n      <td>1951.000000</td>\n      <td>0.000000</td>\n      <td>98033.000000</td>\n      <td>47.471000</td>\n      <td>-122.328000</td>\n      <td>1490.000000</td>\n      <td>5100.000000</td>\n    </tr>\n    <tr>\n      <th>50%</th>\n      <td>3.904930e+09</td>\n      <td>4.500000e+05</td>\n      <td>3.000000</td>\n      <td>2.250000</td>\n      <td>1910.000000</td>\n      <td>7.618000e+03</td>\n      <td>1.500000</td>\n      <td>0.000000</td>\n      <td>0.000000</td>\n      <td>3.000000</td>\n      <td>7.000000</td>\n      <td>1560.000000</td>\n      <td>0.000000</td>\n      <td>1975.000000</td>\n      <td>0.000000</td>\n      <td>98065.000000</td>\n      <td>47.571800</td>\n      <td>-122.230000</td>\n      <td>1840.000000</td>\n      <td>7620.000000</td>\n    </tr>\n    <tr>\n      <th>75%</th>\n      <td>7.308900e+09</td>\n      <td>6.450000e+05</td>\n      <td>4.000000</td>\n      <td>2.500000</td>\n      <td>2550.000000</td>\n      <td>1.068800e+04</td>\n      <td>2.000000</td>\n      <td>0.000000</td>\n      <td>0.000000</td>\n      <td>4.000000</td>\n      <td>8.000000</td>\n      <td>2210.000000</td>\n      <td>560.000000</td>\n      <td>1997.000000</td>\n      <td>0.000000</td>\n      <td>98118.000000</td>\n      <td>47.678000</td>\n      <td>-122.125000</td>\n      <td>2360.000000</td>\n      <td>10083.000000</td>\n    </tr>\n    <tr>\n      <th>max</th>\n      <td>9.900000e+09</td>\n      <td>7.700000e+06</td>\n      <td>33.000000</td>\n      <td>8.000000</td>\n      <td>13540.000000</td>\n      <td>1.651359e+06</td>\n      <td>3.500000</td>\n      <td>1.000000</td>\n      <td>4.000000</td>\n      <td>5.000000</td>\n      <td>13.000000</td>\n      <td>9410.000000</td>\n      <td>4820.000000</td>\n      <td>2015.000000</td>\n      <td>2015.000000</td>\n      <td>98199.000000</td>\n      <td>47.777600</td>\n      <td>-121.315000</td>\n      <td>6210.000000</td>\n      <td>871200.000000</td>\n    </tr>\n  </tbody>\n</table>\n</div>"
     },
     "metadata": {},
     "execution_count": 5
    }
   ],
   "source": [
    "df.describe()"
   ]
  },
  {
   "cell_type": "code",
   "execution_count": 6,
   "metadata": {},
   "outputs": [
    {
     "output_type": "execute_result",
     "data": {
      "text/plain": [
       "id               0\n",
       "date             0\n",
       "price            0\n",
       "bedrooms         0\n",
       "bathrooms        0\n",
       "sqft_living      0\n",
       "sqft_lot         0\n",
       "floors           0\n",
       "waterfront       0\n",
       "view             0\n",
       "condition        0\n",
       "grade            0\n",
       "sqft_above       0\n",
       "sqft_basement    0\n",
       "yr_built         0\n",
       "yr_renovated     0\n",
       "zipcode          0\n",
       "lat              0\n",
       "long             0\n",
       "sqft_living15    0\n",
       "sqft_lot15       0\n",
       "dtype: int64"
      ]
     },
     "metadata": {},
     "execution_count": 6
    }
   ],
   "source": [
    "df.isna().sum()"
   ]
  },
  {
   "source": [
    "# Feature Selection"
   ],
   "cell_type": "markdown",
   "metadata": {}
  },
  {
   "cell_type": "code",
   "execution_count": 7,
   "metadata": {},
   "outputs": [],
   "source": [
    "# Extract sale date for later processing\n",
    "df['sale_date'] = [x[:8] for x in df.date]\n",
    "df.sale_date = df.sale_date.apply(lambda x: datetime.strptime(x, '%Y%m%d'))\n",
    "df.drop(columns='date', inplace=True)\n",
    "df.drop(['id'], inplace=True, axis=1)\n",
    "\n",
    "# Replace anomalous bedroom value and check values in column\n",
    "df.replace({'bedrooms': {33: 3}}, inplace=True)\n",
    "df.replace({'bathrooms': {0: 0.25}}, inplace=True)\n",
    "\n",
    "# Create new feature to incorporate age at the time of sale\n",
    "df['sale_age'] = df.sale_date.dt.year - df[['yr_built', 'yr_renovated']].max(axis=1)\n",
    "df.replace({'sale_age': {-1: 0}}, inplace=True)\n",
    "\n",
    "# Create new feature for age from year built\n",
    "df['age'] = df.sale_date.dt.year - df.yr_built\n",
    "df.replace({'age': {-1: 0}}, inplace=True)\n",
    "\n",
    "# Create binary variables for whether there has been a renovation, the property has a bathroom, and has been viewed\n",
    "df['renovated'] = df.yr_renovated.apply(lambda x: x if x==0 else 1)\n",
    "df['basement'] = df.sqft_basement.apply(lambda x: x if x==0 else 1)\n",
    "df['viewed'] = df.view.apply(lambda x: x if x==0 else 1)\n",
    "\n",
    "# Drop original columms as well as the sale_date columns since it is in datetime format\n",
    "df.drop(['yr_built', 'yr_renovated', 'sale_date', 'sqft_basement', 'view'], inplace=True, axis=1)\n",
    "\n",
    "# Drop latitude and longitude as zip code has stronger correlation\n",
    "df.drop(['lat', 'long'], inplace=True, axis=1)"
   ]
  },
  {
   "cell_type": "code",
   "execution_count": 8,
   "metadata": {},
   "outputs": [
    {
     "output_type": "execute_result",
     "data": {
      "text/plain": [
       "      price  bedrooms  bathrooms  sqft_living  sqft_lot  floors  waterfront  \\\n",
       "0  221900.0         3       1.00         1180      5650     1.0           0   \n",
       "1  538000.0         3       2.25         2570      7242     2.0           0   \n",
       "2  180000.0         2       1.00          770     10000     1.0           0   \n",
       "3  604000.0         4       3.00         1960      5000     1.0           0   \n",
       "4  510000.0         3       2.00         1680      8080     1.0           0   \n",
       "\n",
       "   condition  grade  sqft_above  zipcode  sqft_living15  sqft_lot15  sale_age  \\\n",
       "0          3      7        1180    98178           1340        5650        59   \n",
       "1          3      7        2170    98125           1690        7639        23   \n",
       "2          3      6         770    98028           2720        8062        82   \n",
       "3          5      7        1050    98136           1360        5000        49   \n",
       "4          3      8        1680    98074           1800        7503        28   \n",
       "\n",
       "   age  renovated  basement  viewed  \n",
       "0   59          0         0       0  \n",
       "1   63          1         1       0  \n",
       "2   82          0         0       0  \n",
       "3   49          0         1       0  \n",
       "4   28          0         0       0  "
      ],
      "text/html": "<div>\n<style scoped>\n    .dataframe tbody tr th:only-of-type {\n        vertical-align: middle;\n    }\n\n    .dataframe tbody tr th {\n        vertical-align: top;\n    }\n\n    .dataframe thead th {\n        text-align: right;\n    }\n</style>\n<table border=\"1\" class=\"dataframe\">\n  <thead>\n    <tr style=\"text-align: right;\">\n      <th></th>\n      <th>price</th>\n      <th>bedrooms</th>\n      <th>bathrooms</th>\n      <th>sqft_living</th>\n      <th>sqft_lot</th>\n      <th>floors</th>\n      <th>waterfront</th>\n      <th>condition</th>\n      <th>grade</th>\n      <th>sqft_above</th>\n      <th>zipcode</th>\n      <th>sqft_living15</th>\n      <th>sqft_lot15</th>\n      <th>sale_age</th>\n      <th>age</th>\n      <th>renovated</th>\n      <th>basement</th>\n      <th>viewed</th>\n    </tr>\n  </thead>\n  <tbody>\n    <tr>\n      <th>0</th>\n      <td>221900.0</td>\n      <td>3</td>\n      <td>1.00</td>\n      <td>1180</td>\n      <td>5650</td>\n      <td>1.0</td>\n      <td>0</td>\n      <td>3</td>\n      <td>7</td>\n      <td>1180</td>\n      <td>98178</td>\n      <td>1340</td>\n      <td>5650</td>\n      <td>59</td>\n      <td>59</td>\n      <td>0</td>\n      <td>0</td>\n      <td>0</td>\n    </tr>\n    <tr>\n      <th>1</th>\n      <td>538000.0</td>\n      <td>3</td>\n      <td>2.25</td>\n      <td>2570</td>\n      <td>7242</td>\n      <td>2.0</td>\n      <td>0</td>\n      <td>3</td>\n      <td>7</td>\n      <td>2170</td>\n      <td>98125</td>\n      <td>1690</td>\n      <td>7639</td>\n      <td>23</td>\n      <td>63</td>\n      <td>1</td>\n      <td>1</td>\n      <td>0</td>\n    </tr>\n    <tr>\n      <th>2</th>\n      <td>180000.0</td>\n      <td>2</td>\n      <td>1.00</td>\n      <td>770</td>\n      <td>10000</td>\n      <td>1.0</td>\n      <td>0</td>\n      <td>3</td>\n      <td>6</td>\n      <td>770</td>\n      <td>98028</td>\n      <td>2720</td>\n      <td>8062</td>\n      <td>82</td>\n      <td>82</td>\n      <td>0</td>\n      <td>0</td>\n      <td>0</td>\n    </tr>\n    <tr>\n      <th>3</th>\n      <td>604000.0</td>\n      <td>4</td>\n      <td>3.00</td>\n      <td>1960</td>\n      <td>5000</td>\n      <td>1.0</td>\n      <td>0</td>\n      <td>5</td>\n      <td>7</td>\n      <td>1050</td>\n      <td>98136</td>\n      <td>1360</td>\n      <td>5000</td>\n      <td>49</td>\n      <td>49</td>\n      <td>0</td>\n      <td>1</td>\n      <td>0</td>\n    </tr>\n    <tr>\n      <th>4</th>\n      <td>510000.0</td>\n      <td>3</td>\n      <td>2.00</td>\n      <td>1680</td>\n      <td>8080</td>\n      <td>1.0</td>\n      <td>0</td>\n      <td>3</td>\n      <td>8</td>\n      <td>1680</td>\n      <td>98074</td>\n      <td>1800</td>\n      <td>7503</td>\n      <td>28</td>\n      <td>28</td>\n      <td>0</td>\n      <td>0</td>\n      <td>0</td>\n    </tr>\n  </tbody>\n</table>\n</div>"
     },
     "metadata": {},
     "execution_count": 8
    }
   ],
   "source": [
    "df.head()"
   ]
  },
  {
   "source": [
    "# Dummy Variables and Polynomial/Interaction Features"
   ],
   "cell_type": "markdown",
   "metadata": {}
  },
  {
   "cell_type": "code",
   "execution_count": 9,
   "metadata": {},
   "outputs": [
    {
     "output_type": "execute_result",
     "data": {
      "text/plain": [
       "   bdr_1  bdr_2  bdr_3  bdr_4  bdr_5  bdr_6  bdr_7  bdr_8  bdr_9  bdr_10  ...  \\\n",
       "0      0      0      1      0      0      0      0      0      0       0  ...   \n",
       "1      0      0      1      0      0      0      0      0      0       0  ...   \n",
       "2      0      1      0      0      0      0      0      0      0       0  ...   \n",
       "3      0      0      0      1      0      0      0      0      0       0  ...   \n",
       "4      0      0      1      0      0      0      0      0      0       0  ...   \n",
       "\n",
       "   zip_98146  zip_98148  zip_98155  zip_98166  zip_98168  zip_98177  \\\n",
       "0          0          0          0          0          0          0   \n",
       "1          0          0          0          0          0          0   \n",
       "2          0          0          0          0          0          0   \n",
       "3          0          0          0          0          0          0   \n",
       "4          0          0          0          0          0          0   \n",
       "\n",
       "   zip_98178  zip_98188  zip_98198  zip_98199  \n",
       "0          1          0          0          0  \n",
       "1          0          0          0          0  \n",
       "2          0          0          0          0  \n",
       "3          0          0          0          0  \n",
       "4          0          0          0          0  \n",
       "\n",
       "[5 rows x 129 columns]"
      ],
      "text/html": "<div>\n<style scoped>\n    .dataframe tbody tr th:only-of-type {\n        vertical-align: middle;\n    }\n\n    .dataframe tbody tr th {\n        vertical-align: top;\n    }\n\n    .dataframe thead th {\n        text-align: right;\n    }\n</style>\n<table border=\"1\" class=\"dataframe\">\n  <thead>\n    <tr style=\"text-align: right;\">\n      <th></th>\n      <th>bdr_1</th>\n      <th>bdr_2</th>\n      <th>bdr_3</th>\n      <th>bdr_4</th>\n      <th>bdr_5</th>\n      <th>bdr_6</th>\n      <th>bdr_7</th>\n      <th>bdr_8</th>\n      <th>bdr_9</th>\n      <th>bdr_10</th>\n      <th>...</th>\n      <th>zip_98146</th>\n      <th>zip_98148</th>\n      <th>zip_98155</th>\n      <th>zip_98166</th>\n      <th>zip_98168</th>\n      <th>zip_98177</th>\n      <th>zip_98178</th>\n      <th>zip_98188</th>\n      <th>zip_98198</th>\n      <th>zip_98199</th>\n    </tr>\n  </thead>\n  <tbody>\n    <tr>\n      <th>0</th>\n      <td>0</td>\n      <td>0</td>\n      <td>1</td>\n      <td>0</td>\n      <td>0</td>\n      <td>0</td>\n      <td>0</td>\n      <td>0</td>\n      <td>0</td>\n      <td>0</td>\n      <td>...</td>\n      <td>0</td>\n      <td>0</td>\n      <td>0</td>\n      <td>0</td>\n      <td>0</td>\n      <td>0</td>\n      <td>1</td>\n      <td>0</td>\n      <td>0</td>\n      <td>0</td>\n    </tr>\n    <tr>\n      <th>1</th>\n      <td>0</td>\n      <td>0</td>\n      <td>1</td>\n      <td>0</td>\n      <td>0</td>\n      <td>0</td>\n      <td>0</td>\n      <td>0</td>\n      <td>0</td>\n      <td>0</td>\n      <td>...</td>\n      <td>0</td>\n      <td>0</td>\n      <td>0</td>\n      <td>0</td>\n      <td>0</td>\n      <td>0</td>\n      <td>0</td>\n      <td>0</td>\n      <td>0</td>\n      <td>0</td>\n    </tr>\n    <tr>\n      <th>2</th>\n      <td>0</td>\n      <td>1</td>\n      <td>0</td>\n      <td>0</td>\n      <td>0</td>\n      <td>0</td>\n      <td>0</td>\n      <td>0</td>\n      <td>0</td>\n      <td>0</td>\n      <td>...</td>\n      <td>0</td>\n      <td>0</td>\n      <td>0</td>\n      <td>0</td>\n      <td>0</td>\n      <td>0</td>\n      <td>0</td>\n      <td>0</td>\n      <td>0</td>\n      <td>0</td>\n    </tr>\n    <tr>\n      <th>3</th>\n      <td>0</td>\n      <td>0</td>\n      <td>0</td>\n      <td>1</td>\n      <td>0</td>\n      <td>0</td>\n      <td>0</td>\n      <td>0</td>\n      <td>0</td>\n      <td>0</td>\n      <td>...</td>\n      <td>0</td>\n      <td>0</td>\n      <td>0</td>\n      <td>0</td>\n      <td>0</td>\n      <td>0</td>\n      <td>0</td>\n      <td>0</td>\n      <td>0</td>\n      <td>0</td>\n    </tr>\n    <tr>\n      <th>4</th>\n      <td>0</td>\n      <td>0</td>\n      <td>1</td>\n      <td>0</td>\n      <td>0</td>\n      <td>0</td>\n      <td>0</td>\n      <td>0</td>\n      <td>0</td>\n      <td>0</td>\n      <td>...</td>\n      <td>0</td>\n      <td>0</td>\n      <td>0</td>\n      <td>0</td>\n      <td>0</td>\n      <td>0</td>\n      <td>0</td>\n      <td>0</td>\n      <td>0</td>\n      <td>0</td>\n    </tr>\n  </tbody>\n</table>\n<p>5 rows × 129 columns</p>\n</div>"
     },
     "metadata": {},
     "execution_count": 9
    }
   ],
   "source": [
    "# Grab indices of columns for creating dummy variables and create dataframe with dummy variables\n",
    "dum_feat = df[['bedrooms', 'bathrooms', 'floors', 'condition', 'grade', 'zipcode']]\n",
    "dum_index = dum_feat.columns\n",
    "\n",
    "# Create dummy variables then drop one of the dummy variables, as well as original categorical variable used in creating the dummy variables\n",
    "df_dum = pd.get_dummies(data=dum_feat, columns=dum_index, drop_first=True, prefix=['bdr', 'bth', 'flr', 'cnd', 'grd', 'zip'])\n",
    "df_dum.head()"
   ]
  },
  {
   "cell_type": "code",
   "execution_count": 24,
   "metadata": {},
   "outputs": [],
   "source": [
    "# Set target variable\n",
    "y = df['price']"
   ]
  },
  {
   "source": [
    "# Baseline Model"
   ],
   "cell_type": "markdown",
   "metadata": {}
  },
  {
   "cell_type": "code",
   "execution_count": 25,
   "metadata": {},
   "outputs": [
    {
     "output_type": "execute_result",
     "data": {
      "text/plain": [
       "   sqft_living  sqft_lot  waterfront  sqft_above  sqft_living15  sqft_lot15  \\\n",
       "0         1180      5650           0        1180           1340        5650   \n",
       "1         2570      7242           0        2170           1690        7639   \n",
       "2          770     10000           0         770           2720        8062   \n",
       "3         1960      5000           0        1050           1360        5000   \n",
       "4         1680      8080           0        1680           1800        7503   \n",
       "\n",
       "   sale_age  age  renovated  basement  ...  zip_98146  zip_98148  zip_98155  \\\n",
       "0        59   59          0         0  ...          0          0          0   \n",
       "1        23   63          1         1  ...          0          0          0   \n",
       "2        82   82          0         0  ...          0          0          0   \n",
       "3        49   49          0         1  ...          0          0          0   \n",
       "4        28   28          0         0  ...          0          0          0   \n",
       "\n",
       "   zip_98166  zip_98168  zip_98177  zip_98178  zip_98188  zip_98198  zip_98199  \n",
       "0          0          0          0          1          0          0          0  \n",
       "1          0          0          0          0          0          0          0  \n",
       "2          0          0          0          0          0          0          0  \n",
       "3          0          0          0          0          0          0          0  \n",
       "4          0          0          0          0          0          0          0  \n",
       "\n",
       "[5 rows x 124 columns]"
      ],
      "text/html": "<div>\n<style scoped>\n    .dataframe tbody tr th:only-of-type {\n        vertical-align: middle;\n    }\n\n    .dataframe tbody tr th {\n        vertical-align: top;\n    }\n\n    .dataframe thead th {\n        text-align: right;\n    }\n</style>\n<table border=\"1\" class=\"dataframe\">\n  <thead>\n    <tr style=\"text-align: right;\">\n      <th></th>\n      <th>sqft_living</th>\n      <th>sqft_lot</th>\n      <th>waterfront</th>\n      <th>sqft_above</th>\n      <th>sqft_living15</th>\n      <th>sqft_lot15</th>\n      <th>sale_age</th>\n      <th>age</th>\n      <th>renovated</th>\n      <th>basement</th>\n      <th>...</th>\n      <th>zip_98146</th>\n      <th>zip_98148</th>\n      <th>zip_98155</th>\n      <th>zip_98166</th>\n      <th>zip_98168</th>\n      <th>zip_98177</th>\n      <th>zip_98178</th>\n      <th>zip_98188</th>\n      <th>zip_98198</th>\n      <th>zip_98199</th>\n    </tr>\n  </thead>\n  <tbody>\n    <tr>\n      <th>0</th>\n      <td>1180</td>\n      <td>5650</td>\n      <td>0</td>\n      <td>1180</td>\n      <td>1340</td>\n      <td>5650</td>\n      <td>59</td>\n      <td>59</td>\n      <td>0</td>\n      <td>0</td>\n      <td>...</td>\n      <td>0</td>\n      <td>0</td>\n      <td>0</td>\n      <td>0</td>\n      <td>0</td>\n      <td>0</td>\n      <td>1</td>\n      <td>0</td>\n      <td>0</td>\n      <td>0</td>\n    </tr>\n    <tr>\n      <th>1</th>\n      <td>2570</td>\n      <td>7242</td>\n      <td>0</td>\n      <td>2170</td>\n      <td>1690</td>\n      <td>7639</td>\n      <td>23</td>\n      <td>63</td>\n      <td>1</td>\n      <td>1</td>\n      <td>...</td>\n      <td>0</td>\n      <td>0</td>\n      <td>0</td>\n      <td>0</td>\n      <td>0</td>\n      <td>0</td>\n      <td>0</td>\n      <td>0</td>\n      <td>0</td>\n      <td>0</td>\n    </tr>\n    <tr>\n      <th>2</th>\n      <td>770</td>\n      <td>10000</td>\n      <td>0</td>\n      <td>770</td>\n      <td>2720</td>\n      <td>8062</td>\n      <td>82</td>\n      <td>82</td>\n      <td>0</td>\n      <td>0</td>\n      <td>...</td>\n      <td>0</td>\n      <td>0</td>\n      <td>0</td>\n      <td>0</td>\n      <td>0</td>\n      <td>0</td>\n      <td>0</td>\n      <td>0</td>\n      <td>0</td>\n      <td>0</td>\n    </tr>\n    <tr>\n      <th>3</th>\n      <td>1960</td>\n      <td>5000</td>\n      <td>0</td>\n      <td>1050</td>\n      <td>1360</td>\n      <td>5000</td>\n      <td>49</td>\n      <td>49</td>\n      <td>0</td>\n      <td>1</td>\n      <td>...</td>\n      <td>0</td>\n      <td>0</td>\n      <td>0</td>\n      <td>0</td>\n      <td>0</td>\n      <td>0</td>\n      <td>0</td>\n      <td>0</td>\n      <td>0</td>\n      <td>0</td>\n    </tr>\n    <tr>\n      <th>4</th>\n      <td>1680</td>\n      <td>8080</td>\n      <td>0</td>\n      <td>1680</td>\n      <td>1800</td>\n      <td>7503</td>\n      <td>28</td>\n      <td>28</td>\n      <td>0</td>\n      <td>0</td>\n      <td>...</td>\n      <td>0</td>\n      <td>0</td>\n      <td>0</td>\n      <td>0</td>\n      <td>0</td>\n      <td>0</td>\n      <td>0</td>\n      <td>0</td>\n      <td>0</td>\n      <td>0</td>\n    </tr>\n  </tbody>\n</table>\n<p>5 rows × 124 columns</p>\n</div>"
     },
     "metadata": {},
     "execution_count": 25
    }
   ],
   "source": [
    "poly_feat_1 = df.drop(['price', 'bedrooms', 'bathrooms', 'floors', 'condition', 'grade', 'zipcode'], axis=1)\n",
    "X = pd.concat([poly_feat_1, df_dum], axis=1)\n",
    "X.head()"
   ]
  },
  {
   "cell_type": "code",
   "execution_count": 26,
   "metadata": {},
   "outputs": [],
   "source": [
    "X_train, X_test, y_train, y_test = train_test_split(X, y, random_state=42, test_size=0.2, shuffle=True)"
   ]
  },
  {
   "cell_type": "code",
   "execution_count": 34,
   "metadata": {},
   "outputs": [
    {
     "output_type": "stream",
     "name": "stdout",
     "text": [
      "Average expected loss: 3.245e+10\nAverage bias: 3.078e+10\nAverage variance: 1.676e+09\nTraining R^2 Score:  0.8328\nTraining RMSE: 147801\nTesting R^2 Score:  0.8147\nTesting RMSE: 167382\n"
     ]
    }
   ],
   "source": [
    "lr = LinearRegression().fit(X_train, y_train)\n",
    "loss, bias, var = bias_variance_decomp(lr, X_train.values, y_train.values, X_test.values, y_test.values, loss='mse', random_seed=42)\n",
    "print('Average expected loss: %.3e' % loss)\n",
    "print('Average bias: %.3e' % bias)\n",
    "print('Average variance: %.3e' % var)\n",
    "y_pred_train_lr = lr.predict(X_train)\n",
    "y_pred_test_lr = lr.predict(X_test)\n",
    "train_test_metrics(y_train, y_test, y_pred_train_lr, y_pred_test_lr)\n"
   ]
  },
  {
   "source": [
    "# Degree-2 Polynomial Features Model"
   ],
   "cell_type": "markdown",
   "metadata": {}
  },
  {
   "cell_type": "code",
   "execution_count": 39,
   "metadata": {},
   "outputs": [
    {
     "output_type": "execute_result",
     "data": {
      "text/plain": [
       "   sqft_living  sqft_lot  waterfront  sqft_above  sqft_living15  sqft_lot15  \\\n",
       "0       1180.0    5650.0         0.0      1180.0         1340.0      5650.0   \n",
       "1       2570.0    7242.0         0.0      2170.0         1690.0      7639.0   \n",
       "2        770.0   10000.0         0.0       770.0         2720.0      8062.0   \n",
       "3       1960.0    5000.0         0.0      1050.0         1360.0      5000.0   \n",
       "4       1680.0    8080.0         0.0      1680.0         1800.0      7503.0   \n",
       "\n",
       "   sale_age   age  renovated  basement  ...  zip_98146  zip_98148  zip_98155  \\\n",
       "0      59.0  59.0        0.0       0.0  ...          0          0          0   \n",
       "1      23.0  63.0        1.0       1.0  ...          0          0          0   \n",
       "2      82.0  82.0        0.0       0.0  ...          0          0          0   \n",
       "3      49.0  49.0        0.0       1.0  ...          0          0          0   \n",
       "4      28.0  28.0        0.0       0.0  ...          0          0          0   \n",
       "\n",
       "   zip_98166  zip_98168  zip_98177  zip_98178  zip_98188  zip_98198  zip_98199  \n",
       "0          0          0          0          1          0          0          0  \n",
       "1          0          0          0          0          0          0          0  \n",
       "2          0          0          0          0          0          0          0  \n",
       "3          0          0          0          0          0          0          0  \n",
       "4          0          0          0          0          0          0          0  \n",
       "\n",
       "[5 rows x 190 columns]"
      ],
      "text/html": "<div>\n<style scoped>\n    .dataframe tbody tr th:only-of-type {\n        vertical-align: middle;\n    }\n\n    .dataframe tbody tr th {\n        vertical-align: top;\n    }\n\n    .dataframe thead th {\n        text-align: right;\n    }\n</style>\n<table border=\"1\" class=\"dataframe\">\n  <thead>\n    <tr style=\"text-align: right;\">\n      <th></th>\n      <th>sqft_living</th>\n      <th>sqft_lot</th>\n      <th>waterfront</th>\n      <th>sqft_above</th>\n      <th>sqft_living15</th>\n      <th>sqft_lot15</th>\n      <th>sale_age</th>\n      <th>age</th>\n      <th>renovated</th>\n      <th>basement</th>\n      <th>...</th>\n      <th>zip_98146</th>\n      <th>zip_98148</th>\n      <th>zip_98155</th>\n      <th>zip_98166</th>\n      <th>zip_98168</th>\n      <th>zip_98177</th>\n      <th>zip_98178</th>\n      <th>zip_98188</th>\n      <th>zip_98198</th>\n      <th>zip_98199</th>\n    </tr>\n  </thead>\n  <tbody>\n    <tr>\n      <th>0</th>\n      <td>1180.0</td>\n      <td>5650.0</td>\n      <td>0.0</td>\n      <td>1180.0</td>\n      <td>1340.0</td>\n      <td>5650.0</td>\n      <td>59.0</td>\n      <td>59.0</td>\n      <td>0.0</td>\n      <td>0.0</td>\n      <td>...</td>\n      <td>0</td>\n      <td>0</td>\n      <td>0</td>\n      <td>0</td>\n      <td>0</td>\n      <td>0</td>\n      <td>1</td>\n      <td>0</td>\n      <td>0</td>\n      <td>0</td>\n    </tr>\n    <tr>\n      <th>1</th>\n      <td>2570.0</td>\n      <td>7242.0</td>\n      <td>0.0</td>\n      <td>2170.0</td>\n      <td>1690.0</td>\n      <td>7639.0</td>\n      <td>23.0</td>\n      <td>63.0</td>\n      <td>1.0</td>\n      <td>1.0</td>\n      <td>...</td>\n      <td>0</td>\n      <td>0</td>\n      <td>0</td>\n      <td>0</td>\n      <td>0</td>\n      <td>0</td>\n      <td>0</td>\n      <td>0</td>\n      <td>0</td>\n      <td>0</td>\n    </tr>\n    <tr>\n      <th>2</th>\n      <td>770.0</td>\n      <td>10000.0</td>\n      <td>0.0</td>\n      <td>770.0</td>\n      <td>2720.0</td>\n      <td>8062.0</td>\n      <td>82.0</td>\n      <td>82.0</td>\n      <td>0.0</td>\n      <td>0.0</td>\n      <td>...</td>\n      <td>0</td>\n      <td>0</td>\n      <td>0</td>\n      <td>0</td>\n      <td>0</td>\n      <td>0</td>\n      <td>0</td>\n      <td>0</td>\n      <td>0</td>\n      <td>0</td>\n    </tr>\n    <tr>\n      <th>3</th>\n      <td>1960.0</td>\n      <td>5000.0</td>\n      <td>0.0</td>\n      <td>1050.0</td>\n      <td>1360.0</td>\n      <td>5000.0</td>\n      <td>49.0</td>\n      <td>49.0</td>\n      <td>0.0</td>\n      <td>1.0</td>\n      <td>...</td>\n      <td>0</td>\n      <td>0</td>\n      <td>0</td>\n      <td>0</td>\n      <td>0</td>\n      <td>0</td>\n      <td>0</td>\n      <td>0</td>\n      <td>0</td>\n      <td>0</td>\n    </tr>\n    <tr>\n      <th>4</th>\n      <td>1680.0</td>\n      <td>8080.0</td>\n      <td>0.0</td>\n      <td>1680.0</td>\n      <td>1800.0</td>\n      <td>7503.0</td>\n      <td>28.0</td>\n      <td>28.0</td>\n      <td>0.0</td>\n      <td>0.0</td>\n      <td>...</td>\n      <td>0</td>\n      <td>0</td>\n      <td>0</td>\n      <td>0</td>\n      <td>0</td>\n      <td>0</td>\n      <td>0</td>\n      <td>0</td>\n      <td>0</td>\n      <td>0</td>\n    </tr>\n  </tbody>\n</table>\n<p>5 rows × 190 columns</p>\n</div>"
     },
     "metadata": {},
     "execution_count": 39
    }
   ],
   "source": [
    "# Grab columns for polynominal and interaction features from the original dataframe without dummy variables\n",
    "poly_feat_2 = df.drop(['price', 'bedrooms', 'bathrooms', 'floors', 'condition', 'grade', 'zipcode'], axis=1)\n",
    "# Use PolynomialFeatures to create binomial and interaction features\n",
    "poly_2 = PolynomialFeatures(degree=2, include_bias=False)\n",
    "poly_data_2 = poly_2.fit_transform(poly_feat_2)\n",
    "poly_columns_2 = poly_2.get_feature_names(poly_feat_2.columns)\n",
    "df_poly_2 = pd.DataFrame(poly_data_2, columns=poly_columns_2)\n",
    "# Concatenating two dataframes together for input into linear regression model\n",
    "X_poly_2 = pd.concat([df_poly_2, df_dum], axis=1)\n",
    "X_poly_2.head()"
   ]
  },
  {
   "cell_type": "code",
   "execution_count": 42,
   "metadata": {},
   "outputs": [
    {
     "output_type": "stream",
     "name": "stdout",
     "text": [
      "Average expected loss: 2.639e+10\nAverage bias: 2.501e+10\nAverage variance: 1.376e+09\nTraining R^2 Score:  0.8643\nTraining RMSE: 133171\nTesting R^2 Score:  0.8341\nTesting RMSE: 158347\n"
     ]
    }
   ],
   "source": [
    "X_train_2, X_test_2, y_train_2, y_test_2 = train_test_split(X_poly_2, y, random_state=42, test_size=0.2, shuffle=True)\n",
    "lr_2 = LinearRegression().fit(X_train_2, y_train_2)\n",
    "loss_2, bias_2, var_2 = bias_variance_decomp(lr_2, X_train_2.values, y_train_2.values, X_test_2.values, y_test_2.values, loss='mse', random_seed=42)\n",
    "print('Average expected loss: %.3e' % loss_2)\n",
    "print('Average bias: %.3e' % bias_2)\n",
    "print('Average variance: %.3e' % var_2)\n",
    "y_pred_train_lr_2 = lr_2.predict(X_train_2)\n",
    "y_pred_test_lr_2 = lr_2.predict(X_test_2)\n",
    "train_test_metrics(y_train_2, y_test_2, y_pred_train_lr_2, y_pred_test_lr_2)"
   ]
  },
  {
   "source": [
    "# Degree-3 Polynomial Features Model"
   ],
   "cell_type": "markdown",
   "metadata": {}
  },
  {
   "cell_type": "code",
   "execution_count": 43,
   "metadata": {},
   "outputs": [
    {
     "output_type": "execute_result",
     "data": {
      "text/plain": [
       "   sqft_living  sqft_lot  waterfront  sqft_above  sqft_living15  sqft_lot15  \\\n",
       "0       1180.0    5650.0         0.0      1180.0         1340.0      5650.0   \n",
       "1       2570.0    7242.0         0.0      2170.0         1690.0      7639.0   \n",
       "2        770.0   10000.0         0.0       770.0         2720.0      8062.0   \n",
       "3       1960.0    5000.0         0.0      1050.0         1360.0      5000.0   \n",
       "4       1680.0    8080.0         0.0      1680.0         1800.0      7503.0   \n",
       "\n",
       "   sale_age   age  renovated  basement  ...  zip_98146  zip_98148  zip_98155  \\\n",
       "0      59.0  59.0        0.0       0.0  ...          0          0          0   \n",
       "1      23.0  63.0        1.0       1.0  ...          0          0          0   \n",
       "2      82.0  82.0        0.0       0.0  ...          0          0          0   \n",
       "3      49.0  49.0        0.0       1.0  ...          0          0          0   \n",
       "4      28.0  28.0        0.0       0.0  ...          0          0          0   \n",
       "\n",
       "   zip_98166  zip_98168  zip_98177  zip_98178  zip_98188  zip_98198  zip_98199  \n",
       "0          0          0          0          1          0          0          0  \n",
       "1          0          0          0          0          0          0          0  \n",
       "2          0          0          0          0          0          0          0  \n",
       "3          0          0          0          0          0          0          0  \n",
       "4          0          0          0          0          0          0          0  \n",
       "\n",
       "[5 rows x 476 columns]"
      ],
      "text/html": "<div>\n<style scoped>\n    .dataframe tbody tr th:only-of-type {\n        vertical-align: middle;\n    }\n\n    .dataframe tbody tr th {\n        vertical-align: top;\n    }\n\n    .dataframe thead th {\n        text-align: right;\n    }\n</style>\n<table border=\"1\" class=\"dataframe\">\n  <thead>\n    <tr style=\"text-align: right;\">\n      <th></th>\n      <th>sqft_living</th>\n      <th>sqft_lot</th>\n      <th>waterfront</th>\n      <th>sqft_above</th>\n      <th>sqft_living15</th>\n      <th>sqft_lot15</th>\n      <th>sale_age</th>\n      <th>age</th>\n      <th>renovated</th>\n      <th>basement</th>\n      <th>...</th>\n      <th>zip_98146</th>\n      <th>zip_98148</th>\n      <th>zip_98155</th>\n      <th>zip_98166</th>\n      <th>zip_98168</th>\n      <th>zip_98177</th>\n      <th>zip_98178</th>\n      <th>zip_98188</th>\n      <th>zip_98198</th>\n      <th>zip_98199</th>\n    </tr>\n  </thead>\n  <tbody>\n    <tr>\n      <th>0</th>\n      <td>1180.0</td>\n      <td>5650.0</td>\n      <td>0.0</td>\n      <td>1180.0</td>\n      <td>1340.0</td>\n      <td>5650.0</td>\n      <td>59.0</td>\n      <td>59.0</td>\n      <td>0.0</td>\n      <td>0.0</td>\n      <td>...</td>\n      <td>0</td>\n      <td>0</td>\n      <td>0</td>\n      <td>0</td>\n      <td>0</td>\n      <td>0</td>\n      <td>1</td>\n      <td>0</td>\n      <td>0</td>\n      <td>0</td>\n    </tr>\n    <tr>\n      <th>1</th>\n      <td>2570.0</td>\n      <td>7242.0</td>\n      <td>0.0</td>\n      <td>2170.0</td>\n      <td>1690.0</td>\n      <td>7639.0</td>\n      <td>23.0</td>\n      <td>63.0</td>\n      <td>1.0</td>\n      <td>1.0</td>\n      <td>...</td>\n      <td>0</td>\n      <td>0</td>\n      <td>0</td>\n      <td>0</td>\n      <td>0</td>\n      <td>0</td>\n      <td>0</td>\n      <td>0</td>\n      <td>0</td>\n      <td>0</td>\n    </tr>\n    <tr>\n      <th>2</th>\n      <td>770.0</td>\n      <td>10000.0</td>\n      <td>0.0</td>\n      <td>770.0</td>\n      <td>2720.0</td>\n      <td>8062.0</td>\n      <td>82.0</td>\n      <td>82.0</td>\n      <td>0.0</td>\n      <td>0.0</td>\n      <td>...</td>\n      <td>0</td>\n      <td>0</td>\n      <td>0</td>\n      <td>0</td>\n      <td>0</td>\n      <td>0</td>\n      <td>0</td>\n      <td>0</td>\n      <td>0</td>\n      <td>0</td>\n    </tr>\n    <tr>\n      <th>3</th>\n      <td>1960.0</td>\n      <td>5000.0</td>\n      <td>0.0</td>\n      <td>1050.0</td>\n      <td>1360.0</td>\n      <td>5000.0</td>\n      <td>49.0</td>\n      <td>49.0</td>\n      <td>0.0</td>\n      <td>1.0</td>\n      <td>...</td>\n      <td>0</td>\n      <td>0</td>\n      <td>0</td>\n      <td>0</td>\n      <td>0</td>\n      <td>0</td>\n      <td>0</td>\n      <td>0</td>\n      <td>0</td>\n      <td>0</td>\n    </tr>\n    <tr>\n      <th>4</th>\n      <td>1680.0</td>\n      <td>8080.0</td>\n      <td>0.0</td>\n      <td>1680.0</td>\n      <td>1800.0</td>\n      <td>7503.0</td>\n      <td>28.0</td>\n      <td>28.0</td>\n      <td>0.0</td>\n      <td>0.0</td>\n      <td>...</td>\n      <td>0</td>\n      <td>0</td>\n      <td>0</td>\n      <td>0</td>\n      <td>0</td>\n      <td>0</td>\n      <td>0</td>\n      <td>0</td>\n      <td>0</td>\n      <td>0</td>\n    </tr>\n  </tbody>\n</table>\n<p>5 rows × 476 columns</p>\n</div>"
     },
     "metadata": {},
     "execution_count": 43
    }
   ],
   "source": [
    "poly_feat_3 = df.drop(['price', 'bedrooms', 'bathrooms', 'floors', 'condition', 'grade', 'zipcode'], axis=1)\n",
    "poly_3 = PolynomialFeatures(degree=3, include_bias=False)\n",
    "poly_data_3 = poly_3.fit_transform(poly_feat_3)\n",
    "poly_columns_3 = poly_3.get_feature_names(poly_feat_3.columns)\n",
    "df_poly_3 = pd.DataFrame(poly_data_3, columns=poly_columns_3)\n",
    "X_poly_3 = pd.concat([df_poly_3, df_dum], axis=1)\n",
    "X_poly_3.head()"
   ]
  },
  {
   "cell_type": "code",
   "execution_count": 44,
   "metadata": {},
   "outputs": [
    {
     "output_type": "stream",
     "name": "stdout",
     "text": [
      "Average expected loss: 1.853e+11\nAverage bias: 5.834e+10\nAverage variance: 1.270e+11\nTraining R^2 Score:  0.1103\nTraining RMSE: 340933\nTesting R^2 Score:  0.5358\nTesting RMSE: 264897\n"
     ]
    }
   ],
   "source": [
    "X_train_3, X_test_3, y_train_3, y_test_3 = train_test_split(X_poly_3, y, random_state=42, test_size=0.2, shuffle=True)\n",
    "lr_3 = LinearRegression().fit(X_train_3, y_train_3)\n",
    "loss_3, bias_3, var_3 = bias_variance_decomp(lr_3, X_train_3.values, y_train_3.values, X_test_3.values, y_test_3.values, loss='mse', random_seed=42)\n",
    "print('Average expected loss: %.3e' % loss_3)\n",
    "print('Average bias: %.3e' % bias_3)\n",
    "print('Average variance: %.3e' % var_3)\n",
    "y_pred_train_lr_3 = lr_3.predict(X_train_3)\n",
    "y_pred_test_lr_3 = lr_3.predict(X_test_3)\n",
    "train_test_metrics(y_train_3, y_test_3, y_pred_train_lr_3, y_pred_test_lr_3)"
   ]
  },
  {
   "source": [
    "# Degree-4 Polynomal Features Model"
   ],
   "cell_type": "markdown",
   "metadata": {}
  },
  {
   "cell_type": "code",
   "execution_count": 45,
   "metadata": {},
   "outputs": [
    {
     "output_type": "execute_result",
     "data": {
      "text/plain": [
       "   sqft_living  sqft_lot  waterfront  sqft_above  sqft_living15  sqft_lot15  \\\n",
       "0       1180.0    5650.0         0.0      1180.0         1340.0      5650.0   \n",
       "1       2570.0    7242.0         0.0      2170.0         1690.0      7639.0   \n",
       "2        770.0   10000.0         0.0       770.0         2720.0      8062.0   \n",
       "3       1960.0    5000.0         0.0      1050.0         1360.0      5000.0   \n",
       "4       1680.0    8080.0         0.0      1680.0         1800.0      7503.0   \n",
       "\n",
       "   sale_age   age  renovated  basement  ...  zip_98146  zip_98148  zip_98155  \\\n",
       "0      59.0  59.0        0.0       0.0  ...          0          0          0   \n",
       "1      23.0  63.0        1.0       1.0  ...          0          0          0   \n",
       "2      82.0  82.0        0.0       0.0  ...          0          0          0   \n",
       "3      49.0  49.0        0.0       1.0  ...          0          0          0   \n",
       "4      28.0  28.0        0.0       0.0  ...          0          0          0   \n",
       "\n",
       "   zip_98166  zip_98168  zip_98177  zip_98178  zip_98188  zip_98198  zip_98199  \n",
       "0          0          0          0          1          0          0          0  \n",
       "1          0          0          0          0          0          0          0  \n",
       "2          0          0          0          0          0          0          0  \n",
       "3          0          0          0          0          0          0          0  \n",
       "4          0          0          0          0          0          0          0  \n",
       "\n",
       "[5 rows x 1477 columns]"
      ],
      "text/html": "<div>\n<style scoped>\n    .dataframe tbody tr th:only-of-type {\n        vertical-align: middle;\n    }\n\n    .dataframe tbody tr th {\n        vertical-align: top;\n    }\n\n    .dataframe thead th {\n        text-align: right;\n    }\n</style>\n<table border=\"1\" class=\"dataframe\">\n  <thead>\n    <tr style=\"text-align: right;\">\n      <th></th>\n      <th>sqft_living</th>\n      <th>sqft_lot</th>\n      <th>waterfront</th>\n      <th>sqft_above</th>\n      <th>sqft_living15</th>\n      <th>sqft_lot15</th>\n      <th>sale_age</th>\n      <th>age</th>\n      <th>renovated</th>\n      <th>basement</th>\n      <th>...</th>\n      <th>zip_98146</th>\n      <th>zip_98148</th>\n      <th>zip_98155</th>\n      <th>zip_98166</th>\n      <th>zip_98168</th>\n      <th>zip_98177</th>\n      <th>zip_98178</th>\n      <th>zip_98188</th>\n      <th>zip_98198</th>\n      <th>zip_98199</th>\n    </tr>\n  </thead>\n  <tbody>\n    <tr>\n      <th>0</th>\n      <td>1180.0</td>\n      <td>5650.0</td>\n      <td>0.0</td>\n      <td>1180.0</td>\n      <td>1340.0</td>\n      <td>5650.0</td>\n      <td>59.0</td>\n      <td>59.0</td>\n      <td>0.0</td>\n      <td>0.0</td>\n      <td>...</td>\n      <td>0</td>\n      <td>0</td>\n      <td>0</td>\n      <td>0</td>\n      <td>0</td>\n      <td>0</td>\n      <td>1</td>\n      <td>0</td>\n      <td>0</td>\n      <td>0</td>\n    </tr>\n    <tr>\n      <th>1</th>\n      <td>2570.0</td>\n      <td>7242.0</td>\n      <td>0.0</td>\n      <td>2170.0</td>\n      <td>1690.0</td>\n      <td>7639.0</td>\n      <td>23.0</td>\n      <td>63.0</td>\n      <td>1.0</td>\n      <td>1.0</td>\n      <td>...</td>\n      <td>0</td>\n      <td>0</td>\n      <td>0</td>\n      <td>0</td>\n      <td>0</td>\n      <td>0</td>\n      <td>0</td>\n      <td>0</td>\n      <td>0</td>\n      <td>0</td>\n    </tr>\n    <tr>\n      <th>2</th>\n      <td>770.0</td>\n      <td>10000.0</td>\n      <td>0.0</td>\n      <td>770.0</td>\n      <td>2720.0</td>\n      <td>8062.0</td>\n      <td>82.0</td>\n      <td>82.0</td>\n      <td>0.0</td>\n      <td>0.0</td>\n      <td>...</td>\n      <td>0</td>\n      <td>0</td>\n      <td>0</td>\n      <td>0</td>\n      <td>0</td>\n      <td>0</td>\n      <td>0</td>\n      <td>0</td>\n      <td>0</td>\n      <td>0</td>\n    </tr>\n    <tr>\n      <th>3</th>\n      <td>1960.0</td>\n      <td>5000.0</td>\n      <td>0.0</td>\n      <td>1050.0</td>\n      <td>1360.0</td>\n      <td>5000.0</td>\n      <td>49.0</td>\n      <td>49.0</td>\n      <td>0.0</td>\n      <td>1.0</td>\n      <td>...</td>\n      <td>0</td>\n      <td>0</td>\n      <td>0</td>\n      <td>0</td>\n      <td>0</td>\n      <td>0</td>\n      <td>0</td>\n      <td>0</td>\n      <td>0</td>\n      <td>0</td>\n    </tr>\n    <tr>\n      <th>4</th>\n      <td>1680.0</td>\n      <td>8080.0</td>\n      <td>0.0</td>\n      <td>1680.0</td>\n      <td>1800.0</td>\n      <td>7503.0</td>\n      <td>28.0</td>\n      <td>28.0</td>\n      <td>0.0</td>\n      <td>0.0</td>\n      <td>...</td>\n      <td>0</td>\n      <td>0</td>\n      <td>0</td>\n      <td>0</td>\n      <td>0</td>\n      <td>0</td>\n      <td>0</td>\n      <td>0</td>\n      <td>0</td>\n      <td>0</td>\n    </tr>\n  </tbody>\n</table>\n<p>5 rows × 1477 columns</p>\n</div>"
     },
     "metadata": {},
     "execution_count": 45
    }
   ],
   "source": [
    "poly_feat_4 = df.drop(['price', 'bedrooms', 'bathrooms', 'floors', 'condition', 'grade', 'zipcode'], axis=1)\n",
    "poly_4 = PolynomialFeatures(degree=4, include_bias=False)\n",
    "poly_data_4 = poly_4.fit_transform(poly_feat_4)\n",
    "poly_columns_4 = poly_4.get_feature_names(poly_feat_4.columns)\n",
    "df_poly_4 = pd.DataFrame(poly_data_4, columns=poly_columns_4)\n",
    "X_poly_4 = pd.concat([df_poly_4, df_dum], axis=1)\n",
    "X_poly_4.head()"
   ]
  },
  {
   "cell_type": "code",
   "execution_count": 46,
   "metadata": {},
   "outputs": [
    {
     "output_type": "stream",
     "name": "stdout",
     "text": [
      "Average expected loss: 3.484e+14\n",
      "Average bias: 1.672e+13\n",
      "Average variance: 3.317e+14\n",
      "Training R^2 Score:  -237.9606\n",
      "Training RMSE: 5587474\n",
      "Testing R^2 Score:  -8555.4643\n",
      "Testing RMSE: 35965791\n"
     ]
    }
   ],
   "source": [
    "X_train_4, X_test_4, y_train_4, y_test_4 = train_test_split(X_poly_4, y, random_state=42, test_size=0.2, shuffle=True)\n",
    "lr_4 = LinearRegression().fit(X_train_4, y_train_4)\n",
    "loss_4, bias_4, var_4 = bias_variance_decomp(lr_4, X_train_4.values, y_train_4.values, X_test_4.values, y_test_4.values, loss='mse', random_seed=42)\n",
    "print('Average expected loss: %.3e' % loss_4)\n",
    "print('Average bias: %.3e' % bias_4)\n",
    "print('Average variance: %.3e' % var_4)\n",
    "y_pred_train_lr_4 = lr_4.predict(X_train_4)\n",
    "y_pred_test_lr_4 = lr_4.predict(X_test_4)\n",
    "train_test_metrics(y_train_4, y_test_4, y_pred_train_lr_4, y_pred_test_lr_4)"
   ]
  },
  {
   "source": [
    "# Metrics Dataframe"
   ],
   "cell_type": "markdown",
   "metadata": {}
  },
  {
   "cell_type": "code",
   "execution_count": 47,
   "metadata": {},
   "outputs": [
    {
     "output_type": "execute_result",
     "data": {
      "text/plain": [
       "         Average Bias Average Variance  Training R^2 Score  Testing R^2 Score  \\\n",
       "Baseline    3.078e+10        1.676e+09              0.8328             0.8147   \n",
       "Poly-2      2.501e+10        1.376e+09              0.8643             0.8341   \n",
       "Poly-3      5.834e+10        1.270e+11              0.1103             0.5358   \n",
       "Poly-4      1.672e+13        3.317e+14           -237.9606         -8555.4643   \n",
       "\n",
       "          Training RMSE  Testing RMSE  \n",
       "Baseline         147801        167382  \n",
       "Poly-2           133171        158347  \n",
       "Poly-3           340933        264897  \n",
       "Poly-4          5587474      35965791  "
      ],
      "text/html": "<div>\n<style scoped>\n    .dataframe tbody tr th:only-of-type {\n        vertical-align: middle;\n    }\n\n    .dataframe tbody tr th {\n        vertical-align: top;\n    }\n\n    .dataframe thead th {\n        text-align: right;\n    }\n</style>\n<table border=\"1\" class=\"dataframe\">\n  <thead>\n    <tr style=\"text-align: right;\">\n      <th></th>\n      <th>Average Bias</th>\n      <th>Average Variance</th>\n      <th>Training R^2 Score</th>\n      <th>Testing R^2 Score</th>\n      <th>Training RMSE</th>\n      <th>Testing RMSE</th>\n    </tr>\n  </thead>\n  <tbody>\n    <tr>\n      <th>Baseline</th>\n      <td>3.078e+10</td>\n      <td>1.676e+09</td>\n      <td>0.8328</td>\n      <td>0.8147</td>\n      <td>147801</td>\n      <td>167382</td>\n    </tr>\n    <tr>\n      <th>Poly-2</th>\n      <td>2.501e+10</td>\n      <td>1.376e+09</td>\n      <td>0.8643</td>\n      <td>0.8341</td>\n      <td>133171</td>\n      <td>158347</td>\n    </tr>\n    <tr>\n      <th>Poly-3</th>\n      <td>5.834e+10</td>\n      <td>1.270e+11</td>\n      <td>0.1103</td>\n      <td>0.5358</td>\n      <td>340933</td>\n      <td>264897</td>\n    </tr>\n    <tr>\n      <th>Poly-4</th>\n      <td>1.672e+13</td>\n      <td>3.317e+14</td>\n      <td>-237.9606</td>\n      <td>-8555.4643</td>\n      <td>5587474</td>\n      <td>35965791</td>\n    </tr>\n  </tbody>\n</table>\n</div>"
     },
     "metadata": {},
     "execution_count": 47
    }
   ],
   "source": [
    "data = [['%.3e' % bias, '%.3e' % var, round(r2_score(y_train, y_pred_train_lr), 4), round(r2_score(y_test, y_pred_test_lr), 4), int(rmse(y_train, y_pred_train_lr)), int(rmse(y_test, y_pred_test_lr))],\n",
    "        ['%.3e' % bias_2, '%.3e' % var_2, round(r2_score(y_train_2, y_pred_train_lr_2), 4), round(r2_score(y_test_2, y_pred_test_lr_2), 4), int(rmse(y_train_2, y_pred_train_lr_2)), int(rmse(y_test_2, y_pred_test_lr_2))],\n",
    "        ['%.3e' % bias_3, '%.3e' % var_3, round(r2_score(y_train_3, y_pred_train_lr_3), 4), round(r2_score(y_test_3, y_pred_test_lr_3), 4), int(rmse(y_train_3, y_pred_train_lr_3)), int(rmse(y_test_3, y_pred_test_lr_3))],\n",
    "        ['%.3e' % bias_4, '%.3e' % var_4, round(r2_score(y_train_4, y_pred_train_lr_4), 4), round(r2_score(y_test_4, y_pred_test_lr_4), 4), int(rmse(y_train_4, y_pred_train_lr_4)), int(rmse(y_test_4, y_pred_test_lr_4))]]\n",
    "\n",
    "index = [\"Baseline\", \"Poly-2\", \"Poly-3\", \"Poly-4\"]\n",
    "columns = [\"Average Bias\", \"Average Variance\", \"Training R^2 Score\", \"Testing R^2 Score\", \"Training RMSE\", \"Testing RMSE\"]\n",
    "\n",
    "poly_feat_df = pd.DataFrame(data=data, index=index, columns=columns)\n",
    "poly_feat_df"
   ]
  },
  {
   "cell_type": "code",
   "execution_count": 49,
   "metadata": {},
   "outputs": [],
   "source": [
    "poly_feat_df.to_csv(\"data/poly_feat_df.csv\")"
   ]
  },
  {
   "source": [
    "# Ridge Regression Model"
   ],
   "cell_type": "markdown",
   "metadata": {}
  },
  {
   "cell_type": "code",
   "execution_count": 27,
   "metadata": {},
   "outputs": [],
   "source": [
    "ss = StandardScaler()\n",
    "X_train_scaled = ss.fit_transform(X_train)\n",
    "X_test_scaled = ss.transform(X_test)\n",
    "X_train_sc = pd.DataFrame(X_train_scaled, columns=X_train.columns)\n",
    "X_test_sc = pd.DataFrame(X_test_scaled, columns=X_test.columns)"
   ]
  },
  {
   "cell_type": "code",
   "execution_count": 28,
   "metadata": {},
   "outputs": [
    {
     "output_type": "stream",
     "name": "stdout",
     "text": [
      "Average expected loss: 3.245e+10\nAverage bias: 3.079e+10\nAverage variance: 1.653e+09\nTraining R^2 Score:  0.8464\nTraining RMSE: 141645\nTesting R^2 Score:  0.7729\nTesting RMSE: 185283\n"
     ]
    }
   ],
   "source": [
    "ridge = Ridge(alpha=1).fit(X_train_sc, y_train)\n",
    "y_pred_train_ridge = ridge.predict(X_train_sc)\n",
    "y_pred_test_ridge = ridge.predict(X_test_sc)\n",
    "loss_5, bias_5, var_5 = bias_variance_decomp(ridge, X_train_sc.values, y_train.values, X_test_sc.values, y_test.values, loss='mse', random_seed=42)\n",
    "print('Average expected loss: %.3e' % loss_5)\n",
    "print('Average bias: %.3e' % bias_5)\n",
    "print('Average variance: %.3e' % var_5)\n",
    "train_test_metrics(y_train, y_test, y_pred_train_ridge, y_pred_test_ridge)"
   ]
  },
  {
   "source": [
    "# Lasso Regression Model"
   ],
   "cell_type": "markdown",
   "metadata": {}
  },
  {
   "cell_type": "code",
   "execution_count": 29,
   "metadata": {},
   "outputs": [
    {
     "output_type": "stream",
     "name": "stdout",
     "text": [
      "Average expected loss: 3.245e+10\nAverage bias: 3.083e+10\nAverage variance: 1.620e+09\nTraining R^2 Score:  0.8464\nTraining RMSE: 141647\nTesting R^2 Score:  0.7729\nTesting RMSE: 185285\n"
     ]
    }
   ],
   "source": [
    "lasso = Lasso(alpha=1).fit(X_train_sc, y_train)\n",
    "y_pred_train_lasso = lasso.predict(X_train_sc)\n",
    "y_pred_test_lasso = lasso.predict(X_test_sc)\n",
    "loss_6, bias_6, var_6 = bias_variance_decomp(lasso, X_train_sc.values, y_train.values, X_test_sc.values, y_test.values, loss='mse', random_seed=42)\n",
    "print('Average expected loss: %.3e' % loss_6)\n",
    "print('Average bias: %.3e' % bias_6)\n",
    "print('Average variance: %.3e' % var_6)\n",
    "train_test_metrics(y_train, y_test, y_pred_train_lasso, y_pred_test_lasso)"
   ]
  },
  {
   "source": [
    "# Decision Tree Regressor"
   ],
   "cell_type": "markdown",
   "metadata": {}
  },
  {
   "cell_type": "code",
   "execution_count": 30,
   "metadata": {},
   "outputs": [
    {
     "output_type": "stream",
     "name": "stdout",
     "text": [
      "Average expected loss: 5.770e+10\nAverage bias: 2.922e+10\nAverage variance: 2.848e+10\nTraining R^2 Score:  0.9999\nTraining RMSE: 3466\nTesting R^2 Score:  0.6293\nTesting RMSE: 236718\n"
     ]
    }
   ],
   "source": [
    "dtr = DecisionTreeRegressor(random_state=42).fit(X_train, y_train)\n",
    "y_pred_train_dtr = dtr.predict(X_train) \n",
    "y_pred_test_dtr = dtr.predict(X_test)\n",
    "loss_7, bias_7, var_7 = bias_variance_decomp(dtr, X_train.values, y_train.values, X_test.values, y_test.values, loss='mse', random_seed=42)\n",
    "print('Average expected loss: %.3e' % loss_7)\n",
    "print('Average bias: %.3e' % bias_7)\n",
    "print('Average variance: %.3e' % var_7)\n",
    "train_test_metrics(y_train, y_test, y_pred_train_dtr, y_pred_test_dtr)\n"
   ]
  },
  {
   "source": [
    "# Random Forest Regressor"
   ],
   "cell_type": "markdown",
   "metadata": {}
  },
  {
   "cell_type": "code",
   "execution_count": 31,
   "metadata": {},
   "outputs": [
    {
     "output_type": "stream",
     "name": "stdout",
     "text": [
      "Average expected loss: 3.257e+10\nAverage bias: 2.927e+10\nAverage variance: 3.297e+09\nTraining R^2 Score:  0.9157\nTraining RMSE: 104960\nTesting R^2 Score:  0.8044\nTesting RMSE: 171969\n"
     ]
    }
   ],
   "source": [
    "rf = RandomForestRegressor(n_estimators=100, \n",
    "                           max_features=\"auto\", \n",
    "                           max_depth=100, \n",
    "                           min_samples_leaf=4, \n",
    "                           min_samples_split=10, \n",
    "                           random_state=1).fit(X_train, y_train)\n",
    "y_pred_train_rf = rf.predict(X_train)\n",
    "y_pred_test_rf= rf.predict(X_test)\n",
    "loss_8, bias_8, var_8 = bias_variance_decomp(rf, X_train.values, y_train.values, X_test.values, y_test.values, loss='mse', random_seed=42)\n",
    "print('Average expected loss: %.3e' % loss_8)\n",
    "print('Average bias: %.3e' % bias_8)\n",
    "print('Average variance: %.3e' % var_8)\n",
    "train_test_metrics(y_train, y_test, y_pred_train_rf, y_pred_test_rf)"
   ]
  },
  {
   "source": [
    "# DataFrame of Metrics"
   ],
   "cell_type": "markdown",
   "metadata": {}
  },
  {
   "cell_type": "code",
   "execution_count": 36,
   "metadata": {},
   "outputs": [],
   "source": [
    "data_2 = [['%.3e' % bias, '%.3e' % var, round(r2_score(y_train, y_pred_train_lr), 4), round(r2_score(y_test, y_pred_test_lr), 4), int(rmse(y_train, y_pred_train_lr)), int(rmse(y_test, y_pred_test_lr))],\n",
    "        ['%.3e' % bias_5, '%.3e' % var_5, round(r2_score(y_train, y_pred_train_ridge), 4), round(r2_score(y_test, y_pred_test_ridge), 4), int(rmse(y_train, y_pred_train_ridge)), int(rmse(y_test, y_pred_test_ridge))],\n",
    "        ['%.3e' % bias_6, '%.3e' % var_6, round(r2_score(y_train, y_pred_train_lasso), 4), round(r2_score(y_test, y_pred_test_lasso), 4), int(rmse(y_train, y_pred_train_lasso)), int(rmse(y_test, y_pred_test_lasso))],\n",
    "        ['%.3e' % bias_7, '%.3e' % var_7, round(r2_score(y_train, y_pred_train_dtr), 4), round(r2_score(y_test, y_pred_test_dtr), 4), int(rmse(y_train, y_pred_train_dtr)), int(rmse(y_test, y_pred_test_dtr))],\n",
    "        ['%.3e' % bias_8, '%.3e' % var_8, round(r2_score(y_train, y_pred_train_rf), 4), round(r2_score(y_test, y_pred_test_rf), 4), int(rmse(y_train, y_pred_train_rf)), int(rmse(y_test, y_pred_test_rf))]]\n",
    "\n",
    "index_2 = [\"Baseline\", \"Baseline w/Ridge\", \"Baseline w/Lasso\", \"Decision Tree Regressor\", \"Random Forest Regressor\"]\n",
    "columns = [\"Average Bias\", \"Average Variance\", \"Training R^2 Score\", \"Testing R^2 Score\", \"Training RMSE\", \"Testing RMSE\"]\n",
    "\n",
    "models_df = pd.DataFrame(data=data_2, index=index_2, columns=columns)"
   ]
  },
  {
   "cell_type": "code",
   "execution_count": 37,
   "metadata": {},
   "outputs": [
    {
     "output_type": "execute_result",
     "data": {
      "text/plain": [
       "                        Average Bias Average Variance  Training R^2 Score  \\\n",
       "Baseline                   3.078e+10        1.676e+09              0.8328   \n",
       "Baseline w/Ridge           3.079e+10        1.653e+09              0.8464   \n",
       "Baseline w/Lasso           3.083e+10        1.620e+09              0.8464   \n",
       "Decision Tree Regressor    2.922e+10        2.848e+10              0.9999   \n",
       "Random Forest Regressor    2.927e+10        3.297e+09              0.9157   \n",
       "\n",
       "                         Testing R^2 Score  Training RMSE  Testing RMSE  \n",
       "Baseline                            0.8147         147801        167382  \n",
       "Baseline w/Ridge                    0.7729         141645        185283  \n",
       "Baseline w/Lasso                    0.7729         141647        185285  \n",
       "Decision Tree Regressor             0.6293           3466        236718  \n",
       "Random Forest Regressor             0.8044         104960        171969  "
      ],
      "text/html": "<div>\n<style scoped>\n    .dataframe tbody tr th:only-of-type {\n        vertical-align: middle;\n    }\n\n    .dataframe tbody tr th {\n        vertical-align: top;\n    }\n\n    .dataframe thead th {\n        text-align: right;\n    }\n</style>\n<table border=\"1\" class=\"dataframe\">\n  <thead>\n    <tr style=\"text-align: right;\">\n      <th></th>\n      <th>Average Bias</th>\n      <th>Average Variance</th>\n      <th>Training R^2 Score</th>\n      <th>Testing R^2 Score</th>\n      <th>Training RMSE</th>\n      <th>Testing RMSE</th>\n    </tr>\n  </thead>\n  <tbody>\n    <tr>\n      <th>Baseline</th>\n      <td>3.078e+10</td>\n      <td>1.676e+09</td>\n      <td>0.8328</td>\n      <td>0.8147</td>\n      <td>147801</td>\n      <td>167382</td>\n    </tr>\n    <tr>\n      <th>Baseline w/Ridge</th>\n      <td>3.079e+10</td>\n      <td>1.653e+09</td>\n      <td>0.8464</td>\n      <td>0.7729</td>\n      <td>141645</td>\n      <td>185283</td>\n    </tr>\n    <tr>\n      <th>Baseline w/Lasso</th>\n      <td>3.083e+10</td>\n      <td>1.620e+09</td>\n      <td>0.8464</td>\n      <td>0.7729</td>\n      <td>141647</td>\n      <td>185285</td>\n    </tr>\n    <tr>\n      <th>Decision Tree Regressor</th>\n      <td>2.922e+10</td>\n      <td>2.848e+10</td>\n      <td>0.9999</td>\n      <td>0.6293</td>\n      <td>3466</td>\n      <td>236718</td>\n    </tr>\n    <tr>\n      <th>Random Forest Regressor</th>\n      <td>2.927e+10</td>\n      <td>3.297e+09</td>\n      <td>0.9157</td>\n      <td>0.8044</td>\n      <td>104960</td>\n      <td>171969</td>\n    </tr>\n  </tbody>\n</table>\n</div>"
     },
     "metadata": {},
     "execution_count": 37
    }
   ],
   "source": [
    "models_df"
   ]
  },
  {
   "cell_type": "code",
   "execution_count": 38,
   "metadata": {},
   "outputs": [],
   "source": [
    "models_df.to_csv(\"data/models_df.csv\")"
   ]
  },
  {
   "cell_type": "code",
   "execution_count": null,
   "metadata": {},
   "outputs": [],
   "source": []
  },
  {
   "cell_type": "code",
   "execution_count": 50,
   "metadata": {},
   "outputs": [],
   "source": [
    "ss = StandardScaler()\n",
    "X_train_2_scaled = ss.fit_transform(X_train_2)\n",
    "X_test_2_scaled = ss.transform(X_test_2)\n",
    "X_train_2_sc = pd.DataFrame(X_train_2_scaled, columns=X_train_2.columns)\n",
    "X_test_2_sc = pd.DataFrame(X_test_2_scaled, columns=X_test_2.columns)"
   ]
  },
  {
   "cell_type": "code",
   "execution_count": 51,
   "metadata": {},
   "outputs": [
    {
     "output_type": "stream",
     "name": "stdout",
     "text": [
      "Average expected loss: 2.625e+10\nAverage bias: 2.489e+10\nAverage variance: 1.366e+09\nTraining R^2 Score:  0.8717\nTraining RMSE: 129447\nTesting R^2 Score:  0.826\nTesting RMSE: 162168\n"
     ]
    }
   ],
   "source": [
    "ridge_2 = Ridge(alpha=1).fit(X_train_2_sc, y_train_2)\n",
    "y_pred_train_2_ridge = ridge_2.predict(X_train_2_sc)\n",
    "y_pred_test_2_ridge = ridge_2.predict(X_test_2_sc)\n",
    "loss_9, bias_9, var_9 = bias_variance_decomp(ridge_2, X_train_2_sc.values, y_train_2.values, X_test_2_sc.values, y_test_2.values, loss='mse', random_seed=42)\n",
    "print('Average expected loss: %.3e' % loss_9)\n",
    "print('Average bias: %.3e' % bias_9)\n",
    "print('Average variance: %.3e' % var_9)\n",
    "train_test_metrics(y_train_2, y_test_2, y_pred_train_2_ridge, y_pred_test_2_ridge)"
   ]
  },
  {
   "cell_type": "code",
   "execution_count": null,
   "metadata": {},
   "outputs": [],
   "source": []
  },
  {
   "cell_type": "code",
   "execution_count": 52,
   "metadata": {},
   "outputs": [
    {
     "output_type": "stream",
     "name": "stdout",
     "text": [
      "Average expected loss: 2.619e+10\nAverage bias: 2.484e+10\nAverage variance: 1.351e+09\nTraining R^2 Score:  0.8715\nTraining RMSE: 129558\nTesting R^2 Score:  0.8266\nTesting RMSE: 161891\n"
     ]
    }
   ],
   "source": [
    "lasso = Lasso(alpha=1).fit(X_train_2_sc, y_train_2)\n",
    "y_pred_train_2_lasso = lasso.predict(X_train_2_sc)\n",
    "y_pred_test_2_lasso = lasso.predict(X_test_2_sc)\n",
    "loss_10, bias_10, var_10 = bias_variance_decomp(lasso, X_train_2_sc.values, y_train_2.values, X_test_2_sc.values, y_test_2.values, loss='mse', random_seed=42)\n",
    "print('Average expected loss: %.3e' % loss_10)\n",
    "print('Average bias: %.3e' % bias_10)\n",
    "print('Average variance: %.3e' % var_10)\n",
    "train_test_metrics(y_train_2, y_test_2, y_pred_train_2_lasso, y_pred_test_2_lasso)"
   ]
  },
  {
   "cell_type": "code",
   "execution_count": null,
   "metadata": {},
   "outputs": [],
   "source": []
  }
 ]
}